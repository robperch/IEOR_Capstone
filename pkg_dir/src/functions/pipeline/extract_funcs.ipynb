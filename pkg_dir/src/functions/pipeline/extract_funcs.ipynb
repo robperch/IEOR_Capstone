{
 "cells": [
  {
   "cell_type": "code",
   "execution_count": 1,
   "metadata": {},
   "outputs": [
    {
     "ename": "NameError",
     "evalue": "name 'utc_tz' is not defined",
     "output_type": "error",
     "traceback": [
      "\u001b[0;31m---------------------------------------------------------------------------\u001b[0m",
      "\u001b[0;31mNameError\u001b[0m                                 Traceback (most recent call last)",
      "Cell \u001b[0;32mIn[1], line 12\u001b[0m\n\u001b[1;32m      8\u001b[0m \u001b[38;5;28;01mimport\u001b[39;00m \u001b[38;5;21;01mpandas\u001b[39;00m \u001b[38;5;28;01mas\u001b[39;00m \u001b[38;5;21;01mpd\u001b[39;00m\n\u001b[1;32m     11\u001b[0m \u001b[38;5;124m\"\u001b[39m\u001b[38;5;124m--- Local application imports ---\u001b[39m\u001b[38;5;124m\"\u001b[39m\n\u001b[0;32m---> 12\u001b[0m \u001b[38;5;28;01mfrom\u001b[39;00m \u001b[38;5;21;01mpkg_dir\u001b[39;00m\u001b[38;5;21;01m.\u001b[39;00m\u001b[38;5;21;01msrc\u001b[39;00m\u001b[38;5;21;01m.\u001b[39;00m\u001b[38;5;21;01mutils\u001b[39;00m \u001b[38;5;28;01mimport\u001b[39;00m \u001b[38;5;241m*\u001b[39m\n",
      "File \u001b[0;32m~/Desktop/Spring 2024/Patient_Clinic/IEOR_Capstone/pkg_dir/src/functions/pipeline/../../../../pkg_dir/src/utils/__init__.py:13\u001b[0m\n\u001b[1;32m      9\u001b[0m \u001b[38;5;124m\"\u001b[39m\u001b[38;5;124m----------------------------------------------------------------------------------------------------------------------\u001b[39m\u001b[38;5;124m\"\u001b[39m\n\u001b[1;32m     12\u001b[0m \u001b[38;5;66;03m## General utils\u001b[39;00m\n\u001b[0;32m---> 13\u001b[0m \u001b[38;5;28;01mfrom\u001b[39;00m \u001b[38;5;21;01m.\u001b[39;00m\u001b[38;5;21;01mgeneral_utils\u001b[39;00m \u001b[38;5;28;01mimport\u001b[39;00m (\n\u001b[1;32m     14\u001b[0m \n\u001b[1;32m     15\u001b[0m     \u001b[38;5;66;03m### Generic utils\u001b[39;00m\n\u001b[1;32m     16\u001b[0m     read_yaml,\n\u001b[1;32m     17\u001b[0m     format_json,\n\u001b[1;32m     18\u001b[0m     generate_data_dictionary,\n\u001b[1;32m     19\u001b[0m     read_json,\n\u001b[1;32m     20\u001b[0m     create_directory_if_nonexistent,\n\u001b[1;32m     21\u001b[0m     create_date_string,\n\u001b[1;32m     22\u001b[0m     generate_month_based_date_string,\n\u001b[1;32m     23\u001b[0m     generate_year_based_date_string,\n\u001b[1;32m     24\u001b[0m \n\u001b[1;32m     25\u001b[0m     \u001b[38;5;66;03m### Data wrangling utils\u001b[39;00m\n\u001b[1;32m     26\u001b[0m     rename_columns_with_data_schema,\n\u001b[1;32m     27\u001b[0m     drop_irrelevant_columns_with_data_schema,\n\u001b[1;32m     28\u001b[0m     format_data_types_with_data_schema,\n\u001b[1;32m     29\u001b[0m     map_row_values_with_data_schema,\n\u001b[1;32m     30\u001b[0m \n\u001b[1;32m     31\u001b[0m     data_wrangling_schema_functions,\n\u001b[1;32m     32\u001b[0m \n\u001b[1;32m     33\u001b[0m     add_quincena_column,\n\u001b[1;32m     34\u001b[0m \n\u001b[1;32m     35\u001b[0m )\n\u001b[1;32m     38\u001b[0m \u001b[38;5;66;03m## Database utils\u001b[39;00m\n\u001b[1;32m     39\u001b[0m \u001b[38;5;28;01mfrom\u001b[39;00m \u001b[38;5;21;01m.\u001b[39;00m\u001b[38;5;21;01msql_utils\u001b[39;00m \u001b[38;5;28;01mimport\u001b[39;00m (\n\u001b[1;32m     40\u001b[0m     datestring_to_sql_parameter,\n\u001b[1;32m     41\u001b[0m     get_db_crds,\n\u001b[0;32m   (...)\u001b[0m\n\u001b[1;32m     44\u001b[0m     sql_to_df,\n\u001b[1;32m     45\u001b[0m )\n",
      "File \u001b[0;32m~/Desktop/Spring 2024/Patient_Clinic/IEOR_Capstone/pkg_dir/src/functions/pipeline/../../../../pkg_dir/src/utils/general_utils.py:185\u001b[0m\n\u001b[1;32m    180\u001b[0m     \u001b[38;5;28;01mreturn\u001b[39;00m date_string\n\u001b[1;32m    184\u001b[0m \u001b[38;5;66;03m## Generate date string (format: %Y-%m-%d) for a time period based on an initial month and a month delta\u001b[39;00m\n\u001b[0;32m--> 185\u001b[0m \u001b[38;5;28;01mdef\u001b[39;00m \u001b[38;5;21mgenerate_month_based_date_string\u001b[39m(delta_months, current_month\u001b[38;5;241m=\u001b[39m\u001b[43mutc_tz\u001b[49m\u001b[38;5;241m.\u001b[39mlocalize(datetime\u001b[38;5;241m.\u001b[39mutcnow())\u001b[38;5;241m.\u001b[39mastimezone(mexico_tz)\u001b[38;5;241m.\u001b[39mstrftime(\u001b[38;5;124m'\u001b[39m\u001b[38;5;124m%\u001b[39m\u001b[38;5;124mY-\u001b[39m\u001b[38;5;124m%\u001b[39m\u001b[38;5;124mm\u001b[39m\u001b[38;5;124m'\u001b[39m)):\n\u001b[1;32m    186\u001b[0m \u001b[38;5;250m    \u001b[39m\u001b[38;5;124;03m\"\"\"\u001b[39;00m\n\u001b[1;32m    187\u001b[0m \u001b[38;5;124;03m    Generate date string (format: %Y-%m-%d) for a time period based on an initial month and a month delta\u001b[39;00m\n\u001b[1;32m    188\u001b[0m \n\u001b[0;32m   (...)\u001b[0m\n\u001b[1;32m    191\u001b[0m \u001b[38;5;124;03m    :return date_string: (str) date string covering time period in the format %Y-%m-%d_to_%Y-%m-%d\u001b[39;00m\n\u001b[1;32m    192\u001b[0m \u001b[38;5;124;03m    \"\"\"\u001b[39;00m\n\u001b[1;32m    195\u001b[0m     \u001b[38;5;66;03m## Base time considered for the time delta\u001b[39;00m\n",
      "\u001b[0;31mNameError\u001b[0m: name 'utc_tz' is not defined"
     ]
    }
   ],
   "source": [
    "import zipfile\n",
    "import pickle\n",
    "import os\n",
    "import sys\n",
    "sys.path.append(\"../../../../\")\n",
    "\n",
    "\"--- Third party imports ---\"\n",
    "import pandas as pd\n",
    "\n",
    "\n",
    "\"--- Local application imports ---\"\n",
    "from pkg_dir.src.utils import *"
   ]
  },
  {
   "cell_type": "code",
   "execution_count": 10,
   "metadata": {},
   "outputs": [],
   "source": [
    "from pkg_dir.config import *\n",
    "#from pkg_dir.src.utils import *\n",
    "#from pkg_dir.src.functions import *\n",
    "from pkg_dir.src.parameters import *"
   ]
  },
  {
   "cell_type": "code",
   "execution_count": 11,
   "metadata": {},
   "outputs": [],
   "source": [
    "## Function parameters\n",
    "db_crds = 'pc_db_prod'\n",
    "sql_files_path = '../../pkg_dir/sql/'\n",
    "sql_script = 'appointments.sql'\n",
    "sql_params = sql_params_appointments"
   ]
  },
  {
   "cell_type": "code",
   "execution_count": 12,
   "metadata": {},
   "outputs": [
    {
     "ename": "NameError",
     "evalue": "name 'sql_to_df' is not defined",
     "output_type": "error",
     "traceback": [
      "\u001b[0;31m---------------------------------------------------------------------------\u001b[0m",
      "\u001b[0;31mNameError\u001b[0m                                 Traceback (most recent call last)",
      "Cell \u001b[0;32mIn[12], line 1\u001b[0m\n\u001b[0;32m----> 1\u001b[0m dfx \u001b[38;5;241m=\u001b[39m \u001b[43msql_to_df\u001b[49m(db_crds, sql_files_path, sql_script, sql_params)\n",
      "\u001b[0;31mNameError\u001b[0m: name 'sql_to_df' is not defined"
     ]
    }
   ],
   "source": [
    "dfx = sql_to_df(db_crds, sql_files_path, sql_script, sql_params)"
   ]
  },
  {
   "cell_type": "code",
   "execution_count": null,
   "metadata": {},
   "outputs": [],
   "source": []
  }
 ],
 "metadata": {
  "kernelspec": {
   "display_name": "Python 3",
   "language": "python",
   "name": "python3"
  },
  "language_info": {
   "codemirror_mode": {
    "name": "ipython",
    "version": 3
   },
   "file_extension": ".py",
   "mimetype": "text/x-python",
   "name": "python",
   "nbconvert_exporter": "python",
   "pygments_lexer": "ipython3",
   "version": "3.11.6"
  }
 },
 "nbformat": 4,
 "nbformat_minor": 2
}
