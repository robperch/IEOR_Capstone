{
 "cells": [
  {
   "cell_type": "markdown",
   "id": "35c497e2-af13-42ed-8b2c-7d8a49219b01",
   "metadata": {},
   "source": [
    "# ML Models"
   ]
  },
  {
   "cell_type": "markdown",
   "id": "da37d8e3-73c3-4a1c-b7f1-dceb9c530a83",
   "metadata": {},
   "source": [
    "# Imports"
   ]
  },
  {
   "cell_type": "markdown",
   "id": "8d37d7ea-b706-4f9d-b319-1bd1ed069d58",
   "metadata": {},
   "source": [
    "#### Standard library imports"
   ]
  },
  {
   "cell_type": "code",
   "execution_count": 3,
   "id": "84e8892a-724d-4120-9271-2e6cfa8efff5",
   "metadata": {},
   "outputs": [],
   "source": [
    "import sys\n",
    "import os\n",
    "sys.path.append(\"../..\")"
   ]
  },
  {
   "cell_type": "markdown",
   "id": "7348864b-bb50-4ca4-8e00-126e062729a0",
   "metadata": {},
   "source": [
    "#### Third party imports"
   ]
  },
  {
   "cell_type": "code",
   "execution_count": 4,
   "id": "8779b474-7192-447e-949e-abc2ff159ba2",
   "metadata": {},
   "outputs": [],
   "source": [
    "import pandas as pd\n",
    "import pickle\n",
    "import numpy as np\n",
    "import statsmodels.api as sm\n",
    "from sklearn.model_selection import train_test_split\n",
    "from sklearn.linear_model import LogisticRegression\n",
    "from sklearn.tree import DecisionTreeClassifier\n",
    "from sklearn.ensemble import RandomForestClassifier\n",
    "from sklearn.discriminant_analysis import LinearDiscriminantAnalysis\n",
    "from sklearn.model_selection import GridSearchCV\n",
    "import matplotlib.pyplot as plt\n",
    "from sklearn.metrics import confusion_matrix\n",
    "from sklearn.metrics import accuracy_score\n",
    "from sklearn.ensemble import GradientBoostingClassifier\n",
    "from sklearn.preprocessing import LabelEncoder\n",
    "from sklearn.preprocessing import OneHotEncoder\n",
    "from sklearn.metrics import roc_auc_score\n",
    "from sklearn.neighbors import KNeighborsClassifier\n",
    "from sklearn.metrics import classification_report\n",
    "from sklearn.svm import SVC"
   ]
  },
  {
   "cell_type": "markdown",
   "id": "83b0c51b-8dc2-44d4-a3e9-a9f699cc4f3d",
   "metadata": {},
   "source": [
    "#### Local application imports"
   ]
  },
  {
   "cell_type": "code",
   "execution_count": 5,
   "id": "bee67dd7-757f-446b-8e4f-8b1099edf963",
   "metadata": {},
   "outputs": [],
   "source": [
    "%load_ext autoreload\n",
    "%autoreload 2\n",
    "\n",
    "from pkg_dir.config import *\n",
    "from pkg_dir.src.utils import *\n",
    "from pkg_dir.src.functions import *\n",
    "from pkg_dir.src.parameters import *"
   ]
  },
  {
   "cell_type": "markdown",
   "id": "7df69c91",
   "metadata": {},
   "source": [
    "# Pickle Extraction"
   ]
  },
  {
   "cell_type": "code",
   "execution_count": 3,
   "id": "980bda25",
   "metadata": {},
   "outputs": [],
   "source": [
    "path = '../../pkg_dir/data/pickles'\n",
    "name = 'dataset_v1.pkl'\n",
    "\n",
    "## Reading extract object saved as pickle locally\n",
    "pkl_obj = path + \"/\" + name\n",
    "\n",
    "with open(pkl_obj, 'rb') as obj_content:\n",
    "    df = pickle.load(obj_content)"
   ]
  },
  {
   "cell_type": "code",
   "execution_count": 4,
   "id": "4a5500bd",
   "metadata": {},
   "outputs": [
    {
     "data": {
      "text/html": [
       "<div>\n",
       "<style scoped>\n",
       "    .dataframe tbody tr th:only-of-type {\n",
       "        vertical-align: middle;\n",
       "    }\n",
       "\n",
       "    .dataframe tbody tr th {\n",
       "        vertical-align: top;\n",
       "    }\n",
       "\n",
       "    .dataframe thead th {\n",
       "        text-align: right;\n",
       "    }\n",
       "</style>\n",
       "<table border=\"1\" class=\"dataframe\">\n",
       "  <thead>\n",
       "    <tr style=\"text-align: right;\">\n",
       "      <th></th>\n",
       "      <th>appointment_id</th>\n",
       "      <th>appointment_weekday</th>\n",
       "      <th>appointment_start</th>\n",
       "      <th>appointment_dur_min</th>\n",
       "      <th>recurring_patient</th>\n",
       "      <th>creation_to_start_hrs</th>\n",
       "      <th>confirm_request_msg</th>\n",
       "      <th>patient_confirm</th>\n",
       "      <th>confirm_to_start_hrs</th>\n",
       "      <th>clinic</th>\n",
       "      <th>appointment_source</th>\n",
       "      <th>appointment_date_update</th>\n",
       "      <th>patient_age</th>\n",
       "      <th>patient_sex</th>\n",
       "      <th>doctor</th>\n",
       "      <th>medical_specialty</th>\n",
       "      <th>appointment_status_simplified</th>\n",
       "    </tr>\n",
       "  </thead>\n",
       "  <tbody>\n",
       "    <tr>\n",
       "      <th>2</th>\n",
       "      <td>2021923564</td>\n",
       "      <td>5</td>\n",
       "      <td>2022-01-22 12:30:00</td>\n",
       "      <td>30.0</td>\n",
       "      <td>first</td>\n",
       "      <td>20.52</td>\n",
       "      <td>0</td>\n",
       "      <td>0</td>\n",
       "      <td>NaN</td>\n",
       "      <td>MARINA NACIONAL</td>\n",
       "      <td>phone</td>\n",
       "      <td>no_update</td>\n",
       "      <td>32.0</td>\n",
       "      <td>F</td>\n",
       "      <td>DR. ORLANDO JOSE HERNANDEZ MARTINEZ</td>\n",
       "      <td>UROLOGIA</td>\n",
       "      <td>cancel</td>\n",
       "    </tr>\n",
       "    <tr>\n",
       "      <th>3</th>\n",
       "      <td>2021853399</td>\n",
       "      <td>0</td>\n",
       "      <td>2022-01-24 12:00:00</td>\n",
       "      <td>30.0</td>\n",
       "      <td>first</td>\n",
       "      <td>52.19</td>\n",
       "      <td>0</td>\n",
       "      <td>0</td>\n",
       "      <td>NaN</td>\n",
       "      <td>MARINA NACIONAL</td>\n",
       "      <td>phone</td>\n",
       "      <td>no_update</td>\n",
       "      <td>32.0</td>\n",
       "      <td>F</td>\n",
       "      <td>DRA JUANA GUADALUPE CABALLERO MARTINEZ</td>\n",
       "      <td>GINECOLOGIA</td>\n",
       "      <td>cancel</td>\n",
       "    </tr>\n",
       "    <tr>\n",
       "      <th>4</th>\n",
       "      <td>2021845947</td>\n",
       "      <td>0</td>\n",
       "      <td>2022-01-31 13:00:00</td>\n",
       "      <td>30.0</td>\n",
       "      <td>first</td>\n",
       "      <td>221.78</td>\n",
       "      <td>0</td>\n",
       "      <td>0</td>\n",
       "      <td>NaN</td>\n",
       "      <td>TLALPAN</td>\n",
       "      <td>phone</td>\n",
       "      <td>no_update</td>\n",
       "      <td>32.0</td>\n",
       "      <td>F</td>\n",
       "      <td>Mariana  Sarao Pineda</td>\n",
       "      <td>DERMATOLOGIA</td>\n",
       "      <td>cancel</td>\n",
       "    </tr>\n",
       "    <tr>\n",
       "      <th>5</th>\n",
       "      <td>2021924951</td>\n",
       "      <td>1</td>\n",
       "      <td>2022-01-25 13:30:00</td>\n",
       "      <td>30.0</td>\n",
       "      <td>first</td>\n",
       "      <td>78.35</td>\n",
       "      <td>0</td>\n",
       "      <td>0</td>\n",
       "      <td>NaN</td>\n",
       "      <td>BASILICA</td>\n",
       "      <td>phone</td>\n",
       "      <td>no_update</td>\n",
       "      <td>32.0</td>\n",
       "      <td>F</td>\n",
       "      <td>DRA ANA MARIA ESCOBEDO HERNANDEZ</td>\n",
       "      <td>DERMATOLOGIA</td>\n",
       "      <td>cancel</td>\n",
       "    </tr>\n",
       "    <tr>\n",
       "      <th>6</th>\n",
       "      <td>2021889374</td>\n",
       "      <td>5</td>\n",
       "      <td>2022-01-22 08:00:00</td>\n",
       "      <td>30.0</td>\n",
       "      <td>first</td>\n",
       "      <td>24.22</td>\n",
       "      <td>0</td>\n",
       "      <td>1</td>\n",
       "      <td>21.75</td>\n",
       "      <td>BASILICA</td>\n",
       "      <td>phone</td>\n",
       "      <td>no_update</td>\n",
       "      <td>40.0</td>\n",
       "      <td>F</td>\n",
       "      <td>DRA MONICA MARCELA MACIAS ORTEGA</td>\n",
       "      <td>ENDOCRINOLOGIA</td>\n",
       "      <td>completed</td>\n",
       "    </tr>\n",
       "    <tr>\n",
       "      <th>...</th>\n",
       "      <td>...</td>\n",
       "      <td>...</td>\n",
       "      <td>...</td>\n",
       "      <td>...</td>\n",
       "      <td>...</td>\n",
       "      <td>...</td>\n",
       "      <td>...</td>\n",
       "      <td>...</td>\n",
       "      <td>...</td>\n",
       "      <td>...</td>\n",
       "      <td>...</td>\n",
       "      <td>...</td>\n",
       "      <td>...</td>\n",
       "      <td>...</td>\n",
       "      <td>...</td>\n",
       "      <td>...</td>\n",
       "      <td>...</td>\n",
       "    </tr>\n",
       "    <tr>\n",
       "      <th>544083</th>\n",
       "      <td>2022136584</td>\n",
       "      <td>3</td>\n",
       "      <td>2022-12-29 10:00:00</td>\n",
       "      <td>30.0</td>\n",
       "      <td>recurrent</td>\n",
       "      <td>2181.63</td>\n",
       "      <td>1</td>\n",
       "      <td>1</td>\n",
       "      <td>49.28</td>\n",
       "      <td>COAPA</td>\n",
       "      <td>phone</td>\n",
       "      <td>no_update</td>\n",
       "      <td>60.0</td>\n",
       "      <td>M</td>\n",
       "      <td>DRA LAURA FABIOLA PORTILLO GARCIA</td>\n",
       "      <td>NEFROLOGIA</td>\n",
       "      <td>no_show</td>\n",
       "    </tr>\n",
       "    <tr>\n",
       "      <th>544084</th>\n",
       "      <td>2022141229</td>\n",
       "      <td>2</td>\n",
       "      <td>2022-11-30 08:30:00</td>\n",
       "      <td>30.0</td>\n",
       "      <td>recurrent</td>\n",
       "      <td>14.12</td>\n",
       "      <td>0</td>\n",
       "      <td>1</td>\n",
       "      <td>14.05</td>\n",
       "      <td>COAPA</td>\n",
       "      <td>phone</td>\n",
       "      <td>no_update</td>\n",
       "      <td>33.0</td>\n",
       "      <td>M</td>\n",
       "      <td>DR. MIGUEL ANGEL MONTERO MARQUEZ</td>\n",
       "      <td>OTORRINOLARINGOLOGIA</td>\n",
       "      <td>completed</td>\n",
       "    </tr>\n",
       "    <tr>\n",
       "      <th>544085</th>\n",
       "      <td>2022506277</td>\n",
       "      <td>5</td>\n",
       "      <td>2022-06-25 10:00:00</td>\n",
       "      <td>30.0</td>\n",
       "      <td>first</td>\n",
       "      <td>25.08</td>\n",
       "      <td>0</td>\n",
       "      <td>1</td>\n",
       "      <td>19.02</td>\n",
       "      <td>COAPA</td>\n",
       "      <td>phone</td>\n",
       "      <td>no_update</td>\n",
       "      <td>33.0</td>\n",
       "      <td>M</td>\n",
       "      <td>DRA SANDRA XOCHIQUETZAL  CRUZ ORDOÑEZ</td>\n",
       "      <td>UROLOGIA</td>\n",
       "      <td>completed</td>\n",
       "    </tr>\n",
       "    <tr>\n",
       "      <th>544086</th>\n",
       "      <td>2023228381</td>\n",
       "      <td>3</td>\n",
       "      <td>2023-01-05 08:30:00</td>\n",
       "      <td>30.0</td>\n",
       "      <td>recurrent</td>\n",
       "      <td>39.87</td>\n",
       "      <td>0</td>\n",
       "      <td>1</td>\n",
       "      <td>15.32</td>\n",
       "      <td>COAPA</td>\n",
       "      <td>phone</td>\n",
       "      <td>no_update</td>\n",
       "      <td>33.0</td>\n",
       "      <td>M</td>\n",
       "      <td>DRA SANDRA XOCHIQUETZAL  CRUZ ORDOÑEZ</td>\n",
       "      <td>UROLOGIA</td>\n",
       "      <td>no_show</td>\n",
       "    </tr>\n",
       "    <tr>\n",
       "      <th>544087</th>\n",
       "      <td>2023000312555</td>\n",
       "      <td>1</td>\n",
       "      <td>2023-01-31 13:30:00</td>\n",
       "      <td>30.0</td>\n",
       "      <td>NaN</td>\n",
       "      <td>-8345.70</td>\n",
       "      <td>0</td>\n",
       "      <td>0</td>\n",
       "      <td>NaN</td>\n",
       "      <td>MARINA NACIONAL</td>\n",
       "      <td>online</td>\n",
       "      <td>no_update</td>\n",
       "      <td>25.0</td>\n",
       "      <td>F</td>\n",
       "      <td>Mariana  Sarao Pineda</td>\n",
       "      <td>DERMATOLOGIA</td>\n",
       "      <td>no_show</td>\n",
       "    </tr>\n",
       "  </tbody>\n",
       "</table>\n",
       "<p>386750 rows × 17 columns</p>\n",
       "</div>"
      ],
      "text/plain": [
       "         appointment_id  appointment_weekday   appointment_start  \\\n",
       "2       2021923564                         5 2022-01-22 12:30:00   \n",
       "3       2021853399                         0 2022-01-24 12:00:00   \n",
       "4       2021845947                         0 2022-01-31 13:00:00   \n",
       "5       2021924951                         1 2022-01-25 13:30:00   \n",
       "6       2021889374                         5 2022-01-22 08:00:00   \n",
       "...                 ...                  ...                 ...   \n",
       "544083  2022136584                         3 2022-12-29 10:00:00   \n",
       "544084  2022141229                         2 2022-11-30 08:30:00   \n",
       "544085  2022506277                         5 2022-06-25 10:00:00   \n",
       "544086  2023228381                         3 2023-01-05 08:30:00   \n",
       "544087  2023000312555                      1 2023-01-31 13:30:00   \n",
       "\n",
       "        appointment_dur_min recurring_patient  creation_to_start_hrs  \\\n",
       "2                      30.0             first                  20.52   \n",
       "3                      30.0             first                  52.19   \n",
       "4                      30.0             first                 221.78   \n",
       "5                      30.0             first                  78.35   \n",
       "6                      30.0             first                  24.22   \n",
       "...                     ...               ...                    ...   \n",
       "544083                 30.0         recurrent                2181.63   \n",
       "544084                 30.0         recurrent                  14.12   \n",
       "544085                 30.0             first                  25.08   \n",
       "544086                 30.0         recurrent                  39.87   \n",
       "544087                 30.0               NaN               -8345.70   \n",
       "\n",
       "        confirm_request_msg  patient_confirm  confirm_to_start_hrs  \\\n",
       "2                         0                0                   NaN   \n",
       "3                         0                0                   NaN   \n",
       "4                         0                0                   NaN   \n",
       "5                         0                0                   NaN   \n",
       "6                         0                1                 21.75   \n",
       "...                     ...              ...                   ...   \n",
       "544083                    1                1                 49.28   \n",
       "544084                    0                1                 14.05   \n",
       "544085                    0                1                 19.02   \n",
       "544086                    0                1                 15.32   \n",
       "544087                    0                0                   NaN   \n",
       "\n",
       "                 clinic appointment_source appointment_date_update  \\\n",
       "2       MARINA NACIONAL              phone               no_update   \n",
       "3       MARINA NACIONAL              phone               no_update   \n",
       "4               TLALPAN              phone               no_update   \n",
       "5              BASILICA              phone               no_update   \n",
       "6              BASILICA              phone               no_update   \n",
       "...                 ...                ...                     ...   \n",
       "544083            COAPA              phone               no_update   \n",
       "544084            COAPA              phone               no_update   \n",
       "544085            COAPA              phone               no_update   \n",
       "544086            COAPA              phone               no_update   \n",
       "544087  MARINA NACIONAL             online               no_update   \n",
       "\n",
       "        patient_age patient_sex                                  doctor  \\\n",
       "2              32.0           F     DR. ORLANDO JOSE HERNANDEZ MARTINEZ   \n",
       "3              32.0           F  DRA JUANA GUADALUPE CABALLERO MARTINEZ   \n",
       "4              32.0           F                   Mariana  Sarao Pineda   \n",
       "5              32.0           F        DRA ANA MARIA ESCOBEDO HERNANDEZ   \n",
       "6              40.0           F        DRA MONICA MARCELA MACIAS ORTEGA   \n",
       "...             ...         ...                                     ...   \n",
       "544083         60.0           M       DRA LAURA FABIOLA PORTILLO GARCIA   \n",
       "544084         33.0           M        DR. MIGUEL ANGEL MONTERO MARQUEZ   \n",
       "544085         33.0           M   DRA SANDRA XOCHIQUETZAL  CRUZ ORDOÑEZ   \n",
       "544086         33.0           M   DRA SANDRA XOCHIQUETZAL  CRUZ ORDOÑEZ   \n",
       "544087         25.0           F                   Mariana  Sarao Pineda   \n",
       "\n",
       "           medical_specialty appointment_status_simplified  \n",
       "2                   UROLOGIA                        cancel  \n",
       "3                GINECOLOGIA                        cancel  \n",
       "4               DERMATOLOGIA                        cancel  \n",
       "5               DERMATOLOGIA                        cancel  \n",
       "6             ENDOCRINOLOGIA                     completed  \n",
       "...                      ...                           ...  \n",
       "544083            NEFROLOGIA                       no_show  \n",
       "544084  OTORRINOLARINGOLOGIA                     completed  \n",
       "544085              UROLOGIA                     completed  \n",
       "544086              UROLOGIA                       no_show  \n",
       "544087          DERMATOLOGIA                       no_show  \n",
       "\n",
       "[386750 rows x 17 columns]"
      ]
     },
     "execution_count": 4,
     "metadata": {},
     "output_type": "execute_result"
    }
   ],
   "source": [
    "df"
   ]
  },
  {
   "cell_type": "code",
   "execution_count": 5,
   "id": "e1f72cc7",
   "metadata": {},
   "outputs": [
    {
     "data": {
      "text/plain": [
       "Index(['appointment_id', 'appointment_weekday', 'appointment_start',\n",
       "       'appointment_dur_min', 'recurring_patient', 'creation_to_start_hrs',\n",
       "       'confirm_request_msg', 'patient_confirm', 'confirm_to_start_hrs',\n",
       "       'clinic', 'appointment_source', 'appointment_date_update',\n",
       "       'patient_age', 'patient_sex', 'doctor', 'medical_specialty',\n",
       "       'appointment_status_simplified'],\n",
       "      dtype='object')"
      ]
     },
     "execution_count": 5,
     "metadata": {},
     "output_type": "execute_result"
    }
   ],
   "source": [
    "df.columns\n",
    "#relevant columns: appointment_weekday, appointment_dur_min, recurring_patient, creation_to_start_hrs, confirm_request_msg, \n",
    "#confirm_to_start_hrs, clinic, appointment_source, appointment_date_update, rounded_start_times\n",
    "\n",
    "#missing data: recurring_patient, creation_to_start_hrs, confirm_to_start_hrs, patient_age, patient_sex "
   ]
  },
  {
   "cell_type": "code",
   "execution_count": 6,
   "id": "37c4b669",
   "metadata": {},
   "outputs": [
    {
     "data": {
      "text/plain": [
       "0.0"
      ]
     },
     "execution_count": 6,
     "metadata": {},
     "output_type": "execute_result"
    }
   ],
   "source": [
    "df['appointment_weekday'].isna().mean()"
   ]
  },
  {
   "cell_type": "code",
   "execution_count": 7,
   "id": "850899d9",
   "metadata": {},
   "outputs": [],
   "source": [
    "rounded_times = pd.to_datetime(df['appointment_start']).dt.round('30min')\n",
    "df['rounded_start_times'] = rounded_times.dt.strftime('%H:%M:%S')"
   ]
  },
  {
   "cell_type": "code",
   "execution_count": 8,
   "id": "41ee69ee",
   "metadata": {},
   "outputs": [
    {
     "data": {
      "text/plain": [
       "31.54249449537882"
      ]
     },
     "execution_count": 8,
     "metadata": {},
     "output_type": "execute_result"
    }
   ],
   "source": [
    "df['confirm_to_start_hrs'].mean() #replace na"
   ]
  },
  {
   "cell_type": "code",
   "execution_count": 9,
   "id": "dd520798",
   "metadata": {},
   "outputs": [
    {
     "data": {
      "text/plain": [
       "appointment_id                   0.000000\n",
       "appointment_weekday              0.000000\n",
       "appointment_start                0.000000\n",
       "appointment_dur_min              0.000000\n",
       "recurring_patient                0.002816\n",
       "creation_to_start_hrs            0.019948\n",
       "confirm_request_msg              0.000000\n",
       "patient_confirm                  0.000000\n",
       "confirm_to_start_hrs             0.233176\n",
       "clinic                           0.000000\n",
       "appointment_source               0.000000\n",
       "appointment_date_update          0.000000\n",
       "patient_age                      0.003889\n",
       "patient_sex                      0.015100\n",
       "doctor                           0.000000\n",
       "medical_specialty                0.000000\n",
       "appointment_status_simplified    0.000000\n",
       "rounded_start_times              0.000000\n",
       "dtype: float64"
      ]
     },
     "execution_count": 9,
     "metadata": {},
     "output_type": "execute_result"
    }
   ],
   "source": [
    "df.isna().mean()"
   ]
  },
  {
   "cell_type": "code",
   "execution_count": 10,
   "id": "3b3af169",
   "metadata": {},
   "outputs": [],
   "source": [
    "df['medical_specialty'].replace({'Ultrasonido': 'ULTRASONIDO'}, inplace = True)"
   ]
  },
  {
   "cell_type": "code",
   "execution_count": 11,
   "id": "e454f71d",
   "metadata": {},
   "outputs": [],
   "source": [
    "df['confirm_to_start_hrs'].fillna(df['confirm_to_start_hrs'].mean(), inplace = True)"
   ]
  },
  {
   "cell_type": "code",
   "execution_count": 12,
   "id": "5a7c876e",
   "metadata": {},
   "outputs": [],
   "source": [
    "df.dropna(subset= ['recurring_patient', 'creation_to_start_hrs', 'patient_age', 'patient_sex'], inplace = True)"
   ]
  },
  {
   "cell_type": "code",
   "execution_count": 13,
   "id": "db08c4e1",
   "metadata": {},
   "outputs": [],
   "source": [
    "df.drop(columns = ['appointment_id', 'appointment_start'], inplace = True)"
   ]
  },
  {
   "cell_type": "code",
   "execution_count": 14,
   "id": "362033f8",
   "metadata": {},
   "outputs": [],
   "source": [
    "X = df.drop(columns = ['appointment_status_simplified'])\n",
    "y = df['appointment_status_simplified']"
   ]
  },
  {
   "cell_type": "code",
   "execution_count": 19,
   "id": "b4fa3c6f",
   "metadata": {},
   "outputs": [
    {
     "data": {
      "text/html": [
       "<div>\n",
       "<style scoped>\n",
       "    .dataframe tbody tr th:only-of-type {\n",
       "        vertical-align: middle;\n",
       "    }\n",
       "\n",
       "    .dataframe tbody tr th {\n",
       "        vertical-align: top;\n",
       "    }\n",
       "\n",
       "    .dataframe thead th {\n",
       "        text-align: right;\n",
       "    }\n",
       "</style>\n",
       "<table border=\"1\" class=\"dataframe\">\n",
       "  <thead>\n",
       "    <tr style=\"text-align: right;\">\n",
       "      <th></th>\n",
       "      <th>appointment_weekday</th>\n",
       "      <th>appointment_dur_min</th>\n",
       "      <th>recurring_patient</th>\n",
       "      <th>creation_to_start_hrs</th>\n",
       "      <th>confirm_request_msg</th>\n",
       "      <th>patient_confirm</th>\n",
       "      <th>confirm_to_start_hrs</th>\n",
       "      <th>clinic</th>\n",
       "      <th>appointment_source</th>\n",
       "      <th>appointment_date_update</th>\n",
       "      <th>patient_age</th>\n",
       "      <th>patient_sex</th>\n",
       "      <th>doctor</th>\n",
       "      <th>medical_specialty</th>\n",
       "      <th>rounded_start_times</th>\n",
       "    </tr>\n",
       "  </thead>\n",
       "  <tbody>\n",
       "    <tr>\n",
       "      <th>2</th>\n",
       "      <td>5</td>\n",
       "      <td>30.0</td>\n",
       "      <td>first</td>\n",
       "      <td>20.52</td>\n",
       "      <td>0</td>\n",
       "      <td>0</td>\n",
       "      <td>31.542494</td>\n",
       "      <td>MARINA NACIONAL</td>\n",
       "      <td>phone</td>\n",
       "      <td>no_update</td>\n",
       "      <td>32.0</td>\n",
       "      <td>F</td>\n",
       "      <td>DR. ORLANDO JOSE HERNANDEZ MARTINEZ</td>\n",
       "      <td>UROLOGIA</td>\n",
       "      <td>12:30:00</td>\n",
       "    </tr>\n",
       "    <tr>\n",
       "      <th>3</th>\n",
       "      <td>0</td>\n",
       "      <td>30.0</td>\n",
       "      <td>first</td>\n",
       "      <td>52.19</td>\n",
       "      <td>0</td>\n",
       "      <td>0</td>\n",
       "      <td>31.542494</td>\n",
       "      <td>MARINA NACIONAL</td>\n",
       "      <td>phone</td>\n",
       "      <td>no_update</td>\n",
       "      <td>32.0</td>\n",
       "      <td>F</td>\n",
       "      <td>DRA JUANA GUADALUPE CABALLERO MARTINEZ</td>\n",
       "      <td>GINECOLOGIA</td>\n",
       "      <td>12:00:00</td>\n",
       "    </tr>\n",
       "    <tr>\n",
       "      <th>4</th>\n",
       "      <td>0</td>\n",
       "      <td>30.0</td>\n",
       "      <td>first</td>\n",
       "      <td>221.78</td>\n",
       "      <td>0</td>\n",
       "      <td>0</td>\n",
       "      <td>31.542494</td>\n",
       "      <td>TLALPAN</td>\n",
       "      <td>phone</td>\n",
       "      <td>no_update</td>\n",
       "      <td>32.0</td>\n",
       "      <td>F</td>\n",
       "      <td>Mariana  Sarao Pineda</td>\n",
       "      <td>DERMATOLOGIA</td>\n",
       "      <td>13:00:00</td>\n",
       "    </tr>\n",
       "    <tr>\n",
       "      <th>5</th>\n",
       "      <td>1</td>\n",
       "      <td>30.0</td>\n",
       "      <td>first</td>\n",
       "      <td>78.35</td>\n",
       "      <td>0</td>\n",
       "      <td>0</td>\n",
       "      <td>31.542494</td>\n",
       "      <td>BASILICA</td>\n",
       "      <td>phone</td>\n",
       "      <td>no_update</td>\n",
       "      <td>32.0</td>\n",
       "      <td>F</td>\n",
       "      <td>DRA ANA MARIA ESCOBEDO HERNANDEZ</td>\n",
       "      <td>DERMATOLOGIA</td>\n",
       "      <td>13:30:00</td>\n",
       "    </tr>\n",
       "    <tr>\n",
       "      <th>6</th>\n",
       "      <td>5</td>\n",
       "      <td>30.0</td>\n",
       "      <td>first</td>\n",
       "      <td>24.22</td>\n",
       "      <td>0</td>\n",
       "      <td>1</td>\n",
       "      <td>21.750000</td>\n",
       "      <td>BASILICA</td>\n",
       "      <td>phone</td>\n",
       "      <td>no_update</td>\n",
       "      <td>40.0</td>\n",
       "      <td>F</td>\n",
       "      <td>DRA MONICA MARCELA MACIAS ORTEGA</td>\n",
       "      <td>ENDOCRINOLOGIA</td>\n",
       "      <td>08:00:00</td>\n",
       "    </tr>\n",
       "    <tr>\n",
       "      <th>...</th>\n",
       "      <td>...</td>\n",
       "      <td>...</td>\n",
       "      <td>...</td>\n",
       "      <td>...</td>\n",
       "      <td>...</td>\n",
       "      <td>...</td>\n",
       "      <td>...</td>\n",
       "      <td>...</td>\n",
       "      <td>...</td>\n",
       "      <td>...</td>\n",
       "      <td>...</td>\n",
       "      <td>...</td>\n",
       "      <td>...</td>\n",
       "      <td>...</td>\n",
       "      <td>...</td>\n",
       "    </tr>\n",
       "    <tr>\n",
       "      <th>544082</th>\n",
       "      <td>3</td>\n",
       "      <td>30.0</td>\n",
       "      <td>recurrent</td>\n",
       "      <td>1510.57</td>\n",
       "      <td>0</td>\n",
       "      <td>1</td>\n",
       "      <td>26.570000</td>\n",
       "      <td>COAPA</td>\n",
       "      <td>phone</td>\n",
       "      <td>no_update</td>\n",
       "      <td>60.0</td>\n",
       "      <td>M</td>\n",
       "      <td>DRA LAURA FABIOLA PORTILLO GARCIA</td>\n",
       "      <td>NEFROLOGIA</td>\n",
       "      <td>11:00:00</td>\n",
       "    </tr>\n",
       "    <tr>\n",
       "      <th>544083</th>\n",
       "      <td>3</td>\n",
       "      <td>30.0</td>\n",
       "      <td>recurrent</td>\n",
       "      <td>2181.63</td>\n",
       "      <td>1</td>\n",
       "      <td>1</td>\n",
       "      <td>49.280000</td>\n",
       "      <td>COAPA</td>\n",
       "      <td>phone</td>\n",
       "      <td>no_update</td>\n",
       "      <td>60.0</td>\n",
       "      <td>M</td>\n",
       "      <td>DRA LAURA FABIOLA PORTILLO GARCIA</td>\n",
       "      <td>NEFROLOGIA</td>\n",
       "      <td>10:00:00</td>\n",
       "    </tr>\n",
       "    <tr>\n",
       "      <th>544084</th>\n",
       "      <td>2</td>\n",
       "      <td>30.0</td>\n",
       "      <td>recurrent</td>\n",
       "      <td>14.12</td>\n",
       "      <td>0</td>\n",
       "      <td>1</td>\n",
       "      <td>14.050000</td>\n",
       "      <td>COAPA</td>\n",
       "      <td>phone</td>\n",
       "      <td>no_update</td>\n",
       "      <td>33.0</td>\n",
       "      <td>M</td>\n",
       "      <td>DR. MIGUEL ANGEL MONTERO MARQUEZ</td>\n",
       "      <td>OTORRINOLARINGOLOGIA</td>\n",
       "      <td>08:30:00</td>\n",
       "    </tr>\n",
       "    <tr>\n",
       "      <th>544085</th>\n",
       "      <td>5</td>\n",
       "      <td>30.0</td>\n",
       "      <td>first</td>\n",
       "      <td>25.08</td>\n",
       "      <td>0</td>\n",
       "      <td>1</td>\n",
       "      <td>19.020000</td>\n",
       "      <td>COAPA</td>\n",
       "      <td>phone</td>\n",
       "      <td>no_update</td>\n",
       "      <td>33.0</td>\n",
       "      <td>M</td>\n",
       "      <td>DRA SANDRA XOCHIQUETZAL  CRUZ ORDOÑEZ</td>\n",
       "      <td>UROLOGIA</td>\n",
       "      <td>10:00:00</td>\n",
       "    </tr>\n",
       "    <tr>\n",
       "      <th>544086</th>\n",
       "      <td>3</td>\n",
       "      <td>30.0</td>\n",
       "      <td>recurrent</td>\n",
       "      <td>39.87</td>\n",
       "      <td>0</td>\n",
       "      <td>1</td>\n",
       "      <td>15.320000</td>\n",
       "      <td>COAPA</td>\n",
       "      <td>phone</td>\n",
       "      <td>no_update</td>\n",
       "      <td>33.0</td>\n",
       "      <td>M</td>\n",
       "      <td>DRA SANDRA XOCHIQUETZAL  CRUZ ORDOÑEZ</td>\n",
       "      <td>UROLOGIA</td>\n",
       "      <td>08:30:00</td>\n",
       "    </tr>\n",
       "  </tbody>\n",
       "</table>\n",
       "<p>370747 rows × 15 columns</p>\n",
       "</div>"
      ],
      "text/plain": [
       "        appointment_weekday  appointment_dur_min recurring_patient  \\\n",
       "2                         5                 30.0             first   \n",
       "3                         0                 30.0             first   \n",
       "4                         0                 30.0             first   \n",
       "5                         1                 30.0             first   \n",
       "6                         5                 30.0             first   \n",
       "...                     ...                  ...               ...   \n",
       "544082                    3                 30.0         recurrent   \n",
       "544083                    3                 30.0         recurrent   \n",
       "544084                    2                 30.0         recurrent   \n",
       "544085                    5                 30.0             first   \n",
       "544086                    3                 30.0         recurrent   \n",
       "\n",
       "        creation_to_start_hrs  confirm_request_msg  patient_confirm  \\\n",
       "2                       20.52                    0                0   \n",
       "3                       52.19                    0                0   \n",
       "4                      221.78                    0                0   \n",
       "5                       78.35                    0                0   \n",
       "6                       24.22                    0                1   \n",
       "...                       ...                  ...              ...   \n",
       "544082                1510.57                    0                1   \n",
       "544083                2181.63                    1                1   \n",
       "544084                  14.12                    0                1   \n",
       "544085                  25.08                    0                1   \n",
       "544086                  39.87                    0                1   \n",
       "\n",
       "        confirm_to_start_hrs           clinic appointment_source  \\\n",
       "2                  31.542494  MARINA NACIONAL              phone   \n",
       "3                  31.542494  MARINA NACIONAL              phone   \n",
       "4                  31.542494          TLALPAN              phone   \n",
       "5                  31.542494         BASILICA              phone   \n",
       "6                  21.750000         BASILICA              phone   \n",
       "...                      ...              ...                ...   \n",
       "544082             26.570000            COAPA              phone   \n",
       "544083             49.280000            COAPA              phone   \n",
       "544084             14.050000            COAPA              phone   \n",
       "544085             19.020000            COAPA              phone   \n",
       "544086             15.320000            COAPA              phone   \n",
       "\n",
       "       appointment_date_update  patient_age patient_sex  \\\n",
       "2                    no_update         32.0           F   \n",
       "3                    no_update         32.0           F   \n",
       "4                    no_update         32.0           F   \n",
       "5                    no_update         32.0           F   \n",
       "6                    no_update         40.0           F   \n",
       "...                        ...          ...         ...   \n",
       "544082               no_update         60.0           M   \n",
       "544083               no_update         60.0           M   \n",
       "544084               no_update         33.0           M   \n",
       "544085               no_update         33.0           M   \n",
       "544086               no_update         33.0           M   \n",
       "\n",
       "                                        doctor     medical_specialty  \\\n",
       "2          DR. ORLANDO JOSE HERNANDEZ MARTINEZ              UROLOGIA   \n",
       "3       DRA JUANA GUADALUPE CABALLERO MARTINEZ           GINECOLOGIA   \n",
       "4                        Mariana  Sarao Pineda          DERMATOLOGIA   \n",
       "5             DRA ANA MARIA ESCOBEDO HERNANDEZ          DERMATOLOGIA   \n",
       "6             DRA MONICA MARCELA MACIAS ORTEGA        ENDOCRINOLOGIA   \n",
       "...                                        ...                   ...   \n",
       "544082       DRA LAURA FABIOLA PORTILLO GARCIA            NEFROLOGIA   \n",
       "544083       DRA LAURA FABIOLA PORTILLO GARCIA            NEFROLOGIA   \n",
       "544084        DR. MIGUEL ANGEL MONTERO MARQUEZ  OTORRINOLARINGOLOGIA   \n",
       "544085   DRA SANDRA XOCHIQUETZAL  CRUZ ORDOÑEZ              UROLOGIA   \n",
       "544086   DRA SANDRA XOCHIQUETZAL  CRUZ ORDOÑEZ              UROLOGIA   \n",
       "\n",
       "       rounded_start_times  \n",
       "2                 12:30:00  \n",
       "3                 12:00:00  \n",
       "4                 13:00:00  \n",
       "5                 13:30:00  \n",
       "6                 08:00:00  \n",
       "...                    ...  \n",
       "544082            11:00:00  \n",
       "544083            10:00:00  \n",
       "544084            08:30:00  \n",
       "544085            10:00:00  \n",
       "544086            08:30:00  \n",
       "\n",
       "[370747 rows x 15 columns]"
      ]
     },
     "execution_count": 19,
     "metadata": {},
     "output_type": "execute_result"
    }
   ],
   "source": [
    "X"
   ]
  },
  {
   "cell_type": "code",
   "execution_count": 15,
   "id": "92543806",
   "metadata": {},
   "outputs": [],
   "source": [
    "X_train, X_test, y_train_old, y_test_old = train_test_split(X, y, test_size=0.25, random_state=42)"
   ]
  },
  {
   "cell_type": "code",
   "execution_count": 16,
   "id": "4386050f",
   "metadata": {},
   "outputs": [],
   "source": [
    "le = LabelEncoder()\n",
    "y_train = le.fit_transform(y_train_old)\n",
    "y_test = le.fit_transform(y_test_old)"
   ]
  },
  {
   "cell_type": "code",
   "execution_count": 19,
   "id": "46fed230",
   "metadata": {},
   "outputs": [
    {
     "data": {
      "text/plain": [
       "(array([1, 2, 1, ..., 2, 1, 1]), array([1, 1, 1, ..., 1, 2, 0]))"
      ]
     },
     "execution_count": 19,
     "metadata": {},
     "output_type": "execute_result"
    }
   ],
   "source": [
    "y_train, y_test"
   ]
  },
  {
   "cell_type": "code",
   "execution_count": 20,
   "id": "42306de0",
   "metadata": {},
   "outputs": [
    {
     "data": {
      "text/plain": [
       "0.6401005534756762"
      ]
     },
     "execution_count": 20,
     "metadata": {},
     "output_type": "execute_result"
    }
   ],
   "source": [
    "most_common_label = np.argmax(np.bincount(y_train))\n",
    "baseline_1_acc = (y_test == most_common_label).mean()\n",
    "baseline_1_acc"
   ]
  },
  {
   "cell_type": "code",
   "execution_count": 21,
   "id": "5549b372",
   "metadata": {},
   "outputs": [],
   "source": [
    "encoder = OneHotEncoder(handle_unknown=\"ignore\")\n",
    "encoder.fit(X_train)\n",
    "X_train = encoder.transform(X_train)\n",
    "X_test = encoder.transform(X_test)"
   ]
  },
  {
   "cell_type": "code",
   "execution_count": 22,
   "id": "0287bf36",
   "metadata": {},
   "outputs": [],
   "source": [
    "model = LogisticRegression(multi_class='multinomial', solver='lbfgs')"
   ]
  },
  {
   "cell_type": "code",
   "execution_count": 23,
   "id": "4ad072ea",
   "metadata": {},
   "outputs": [
    {
     "name": "stderr",
     "output_type": "stream",
     "text": [
      "/usr/local/lib/python3.11/site-packages/sklearn/linear_model/_logistic.py:460: ConvergenceWarning: lbfgs failed to converge (status=1):\n",
      "STOP: TOTAL NO. of ITERATIONS REACHED LIMIT.\n",
      "\n",
      "Increase the number of iterations (max_iter) or scale the data as shown in:\n",
      "    https://scikit-learn.org/stable/modules/preprocessing.html\n",
      "Please also refer to the documentation for alternative solver options:\n",
      "    https://scikit-learn.org/stable/modules/linear_model.html#logistic-regression\n",
      "  n_iter_i = _check_optimize_result(\n"
     ]
    },
    {
     "data": {
      "text/html": [
       "<style>#sk-container-id-1 {color: black;}#sk-container-id-1 pre{padding: 0;}#sk-container-id-1 div.sk-toggleable {background-color: white;}#sk-container-id-1 label.sk-toggleable__label {cursor: pointer;display: block;width: 100%;margin-bottom: 0;padding: 0.3em;box-sizing: border-box;text-align: center;}#sk-container-id-1 label.sk-toggleable__label-arrow:before {content: \"▸\";float: left;margin-right: 0.25em;color: #696969;}#sk-container-id-1 label.sk-toggleable__label-arrow:hover:before {color: black;}#sk-container-id-1 div.sk-estimator:hover label.sk-toggleable__label-arrow:before {color: black;}#sk-container-id-1 div.sk-toggleable__content {max-height: 0;max-width: 0;overflow: hidden;text-align: left;background-color: #f0f8ff;}#sk-container-id-1 div.sk-toggleable__content pre {margin: 0.2em;color: black;border-radius: 0.25em;background-color: #f0f8ff;}#sk-container-id-1 input.sk-toggleable__control:checked~div.sk-toggleable__content {max-height: 200px;max-width: 100%;overflow: auto;}#sk-container-id-1 input.sk-toggleable__control:checked~label.sk-toggleable__label-arrow:before {content: \"▾\";}#sk-container-id-1 div.sk-estimator input.sk-toggleable__control:checked~label.sk-toggleable__label {background-color: #d4ebff;}#sk-container-id-1 div.sk-label input.sk-toggleable__control:checked~label.sk-toggleable__label {background-color: #d4ebff;}#sk-container-id-1 input.sk-hidden--visually {border: 0;clip: rect(1px 1px 1px 1px);clip: rect(1px, 1px, 1px, 1px);height: 1px;margin: -1px;overflow: hidden;padding: 0;position: absolute;width: 1px;}#sk-container-id-1 div.sk-estimator {font-family: monospace;background-color: #f0f8ff;border: 1px dotted black;border-radius: 0.25em;box-sizing: border-box;margin-bottom: 0.5em;}#sk-container-id-1 div.sk-estimator:hover {background-color: #d4ebff;}#sk-container-id-1 div.sk-parallel-item::after {content: \"\";width: 100%;border-bottom: 1px solid gray;flex-grow: 1;}#sk-container-id-1 div.sk-label:hover label.sk-toggleable__label {background-color: #d4ebff;}#sk-container-id-1 div.sk-serial::before {content: \"\";position: absolute;border-left: 1px solid gray;box-sizing: border-box;top: 0;bottom: 0;left: 50%;z-index: 0;}#sk-container-id-1 div.sk-serial {display: flex;flex-direction: column;align-items: center;background-color: white;padding-right: 0.2em;padding-left: 0.2em;position: relative;}#sk-container-id-1 div.sk-item {position: relative;z-index: 1;}#sk-container-id-1 div.sk-parallel {display: flex;align-items: stretch;justify-content: center;background-color: white;position: relative;}#sk-container-id-1 div.sk-item::before, #sk-container-id-1 div.sk-parallel-item::before {content: \"\";position: absolute;border-left: 1px solid gray;box-sizing: border-box;top: 0;bottom: 0;left: 50%;z-index: -1;}#sk-container-id-1 div.sk-parallel-item {display: flex;flex-direction: column;z-index: 1;position: relative;background-color: white;}#sk-container-id-1 div.sk-parallel-item:first-child::after {align-self: flex-end;width: 50%;}#sk-container-id-1 div.sk-parallel-item:last-child::after {align-self: flex-start;width: 50%;}#sk-container-id-1 div.sk-parallel-item:only-child::after {width: 0;}#sk-container-id-1 div.sk-dashed-wrapped {border: 1px dashed gray;margin: 0 0.4em 0.5em 0.4em;box-sizing: border-box;padding-bottom: 0.4em;background-color: white;}#sk-container-id-1 div.sk-label label {font-family: monospace;font-weight: bold;display: inline-block;line-height: 1.2em;}#sk-container-id-1 div.sk-label-container {text-align: center;}#sk-container-id-1 div.sk-container {/* jupyter's `normalize.less` sets `[hidden] { display: none; }` but bootstrap.min.css set `[hidden] { display: none !important; }` so we also need the `!important` here to be able to override the default hidden behavior on the sphinx rendered scikit-learn.org. See: https://github.com/scikit-learn/scikit-learn/issues/21755 */display: inline-block !important;position: relative;}#sk-container-id-1 div.sk-text-repr-fallback {display: none;}</style><div id=\"sk-container-id-1\" class=\"sk-top-container\"><div class=\"sk-text-repr-fallback\"><pre>LogisticRegression(multi_class=&#x27;multinomial&#x27;)</pre><b>In a Jupyter environment, please rerun this cell to show the HTML representation or trust the notebook. <br />On GitHub, the HTML representation is unable to render, please try loading this page with nbviewer.org.</b></div><div class=\"sk-container\" hidden><div class=\"sk-item\"><div class=\"sk-estimator sk-toggleable\"><input class=\"sk-toggleable__control sk-hidden--visually\" id=\"sk-estimator-id-1\" type=\"checkbox\" checked><label for=\"sk-estimator-id-1\" class=\"sk-toggleable__label sk-toggleable__label-arrow\">LogisticRegression</label><div class=\"sk-toggleable__content\"><pre>LogisticRegression(multi_class=&#x27;multinomial&#x27;)</pre></div></div></div></div></div>"
      ],
      "text/plain": [
       "LogisticRegression(multi_class='multinomial')"
      ]
     },
     "execution_count": 23,
     "metadata": {},
     "output_type": "execute_result"
    }
   ],
   "source": [
    "model.fit(X_train, y_train)"
   ]
  },
  {
   "cell_type": "code",
   "execution_count": 24,
   "id": "0a000401",
   "metadata": {},
   "outputs": [],
   "source": [
    "y_pred = model.predict(X_test)\n",
    "y_pred_proba = model.predict_proba(X_test)"
   ]
  },
  {
   "cell_type": "code",
   "execution_count": 25,
   "id": "c41fd614",
   "metadata": {},
   "outputs": [],
   "source": [
    "model_acc = accuracy_score(y_test, y_pred)"
   ]
  },
  {
   "cell_type": "code",
   "execution_count": 26,
   "id": "dc80c6fd",
   "metadata": {},
   "outputs": [
    {
     "data": {
      "text/plain": [
       "0.7915781069621414"
      ]
     },
     "execution_count": 26,
     "metadata": {},
     "output_type": "execute_result"
    }
   ],
   "source": [
    "model_acc"
   ]
  },
  {
   "cell_type": "code",
   "execution_count": 27,
   "id": "fc6857a8",
   "metadata": {},
   "outputs": [],
   "source": [
    "coefficients = model.coef_[0]"
   ]
  },
  {
   "cell_type": "code",
   "execution_count": 28,
   "id": "55602bbf",
   "metadata": {},
   "outputs": [
    {
     "name": "stdout",
     "output_type": "stream",
     "text": [
      "appointment_weekday: -0.08053486387505376\n",
      "appointment_dur_min: 0.060244979370688616\n",
      "recurring_patient: 0.04577819009295222\n",
      "creation_to_start_hrs: 0.08550159874942155\n",
      "confirm_request_msg: 0.09098373318722333\n",
      "patient_confirm: 0.05308090131474075\n",
      "confirm_to_start_hrs: -0.3913676469438612\n",
      "clinic: 0.004925207343934351\n",
      "appointment_source: -0.11894096685114629\n",
      "appointment_date_update: -0.6644510098856173\n",
      "patient_age: 1.078243512136026\n",
      "patient_sex: -0.2871608489375163\n",
      "doctor: 0.26998263472340134\n",
      "medical_specialty: 0.3464975853450315\n",
      "rounded_start_times: 0.18992254670121425\n"
     ]
    }
   ],
   "source": [
    "for feature, coef in zip(X.columns, coefficients):\n",
    "    print(f\"{feature}: {coef}\")"
   ]
  },
  {
   "cell_type": "code",
   "execution_count": 29,
   "id": "c2708c28",
   "metadata": {},
   "outputs": [
    {
     "name": "stdout",
     "output_type": "stream",
     "text": [
      "Most significant features: ['confirm_to_start_hrs', 'appointment_source', 'appointment_date_update', 'patient_age', 'patient_sex', 'doctor', 'medical_specialty', 'rounded_start_times']\n"
     ]
    }
   ],
   "source": [
    "most_significant_features = [feature for feature, coef in zip(X.columns, coefficients) if abs(coef) > 0.1]\n",
    "print(\"Most significant features:\", most_significant_features)"
   ]
  },
  {
   "cell_type": "code",
   "execution_count": 33,
   "id": "6044354c",
   "metadata": {},
   "outputs": [
    {
     "name": "stdout",
     "output_type": "stream",
     "text": [
      "Logistic Regression Test AUC: 0.8820\n",
      "Confusion Matrix : \n",
      " [[15524  4370   294]\n",
      " [ 1457 57494   378]\n",
      " [ 2282 10537   351]]\n",
      "\n",
      "Accuracy: 0.7915781069621414\n"
     ]
    }
   ],
   "source": [
    "roc_auc_micro = roc_auc_score(y_test, y_pred_proba, multi_class='ovr', average='micro')\n",
    "print(f'Logistic Regression Test AUC: {roc_auc_micro:.4f}')\n",
    "cm_logistic = confusion_matrix(y_test, y_pred)\n",
    "print (\"Confusion Matrix : \\n\", cm_logistic)\n",
    "print (\"\\nAccuracy:\", accuracy_score(y_test, y_pred))"
   ]
  },
  {
   "cell_type": "code",
   "execution_count": 37,
   "id": "14c8c7b3",
   "metadata": {},
   "outputs": [
    {
     "name": "stdout",
     "output_type": "stream",
     "text": [
      "False Positive Rate (FPR): [0.05157313 0.44687931 0.00845102]\n",
      "False Negative Rate (FNR): [0.23102833 0.03092923 0.97334852]\n",
      "True Positive Rate (TPR): [0.76897167 0.96907077 0.02665148]\n"
     ]
    }
   ],
   "source": [
    "true_positives = np.diag(cm_logistic)\n",
    "false_positives = np.sum(cm_logistic, axis=0) - true_positives\n",
    "false_negatives = np.sum(cm_logistic, axis=1) - true_positives\n",
    "true_negatives = np.sum(cm_logistic) - (true_positives + false_positives + false_negatives)\n",
    "\n",
    "\n",
    "# Calculate False Positive Rate (FPR), False Negative Rate (FNR), and True Positive Rate (TPR)\n",
    "fpr = false_positives / (false_positives + true_negatives)\n",
    "fnr = false_negatives / (false_negatives + true_positives)\n",
    "tpr = true_positives / (true_positives + false_negatives)\n",
    "\n",
    "#0 cancel, #1 completed, #2 no_show\n",
    "print(\"False Positive Rate (FPR):\", fpr)\n",
    "print(\"False Negative Rate (FNR):\", fnr)\n",
    "print(\"True Positive Rate (TPR):\", tpr)\n"
   ]
  },
  {
   "cell_type": "code",
   "execution_count": 35,
   "id": "564268fa",
   "metadata": {},
   "outputs": [],
   "source": [
    "dtc = DecisionTreeClassifier(random_state = 10)\n",
    "dtc = dtc.fit(X_train, y_train)"
   ]
  },
  {
   "cell_type": "code",
   "execution_count": 174,
   "id": "89ecea79",
   "metadata": {},
   "outputs": [
    {
     "name": "stdout",
     "output_type": "stream",
     "text": [
      "Confusion Matrix : \n",
      " [[14123  3815  2250]\n",
      " [ 3803 47157  8369]\n",
      " [ 2188  8293  2689]]\n",
      "\n",
      "Accuracy: 0.690161511323055\n"
     ]
    }
   ],
   "source": [
    "y_pred_dtc = dtc.predict(X_test)\n",
    "cm_dtc = confusion_matrix(y_test, y_pred_dtc)\n",
    "print (\"Confusion Matrix : \\n\", cm_dtc)\n",
    "print (\"\\nAccuracy:\", accuracy_score(y_test, y_pred_dtc))"
   ]
  },
  {
   "cell_type": "code",
   "execution_count": 176,
   "id": "142b6d54",
   "metadata": {},
   "outputs": [
    {
     "data": {
      "text/html": [
       "<style>#sk-container-id-5 {color: black;}#sk-container-id-5 pre{padding: 0;}#sk-container-id-5 div.sk-toggleable {background-color: white;}#sk-container-id-5 label.sk-toggleable__label {cursor: pointer;display: block;width: 100%;margin-bottom: 0;padding: 0.3em;box-sizing: border-box;text-align: center;}#sk-container-id-5 label.sk-toggleable__label-arrow:before {content: \"▸\";float: left;margin-right: 0.25em;color: #696969;}#sk-container-id-5 label.sk-toggleable__label-arrow:hover:before {color: black;}#sk-container-id-5 div.sk-estimator:hover label.sk-toggleable__label-arrow:before {color: black;}#sk-container-id-5 div.sk-toggleable__content {max-height: 0;max-width: 0;overflow: hidden;text-align: left;background-color: #f0f8ff;}#sk-container-id-5 div.sk-toggleable__content pre {margin: 0.2em;color: black;border-radius: 0.25em;background-color: #f0f8ff;}#sk-container-id-5 input.sk-toggleable__control:checked~div.sk-toggleable__content {max-height: 200px;max-width: 100%;overflow: auto;}#sk-container-id-5 input.sk-toggleable__control:checked~label.sk-toggleable__label-arrow:before {content: \"▾\";}#sk-container-id-5 div.sk-estimator input.sk-toggleable__control:checked~label.sk-toggleable__label {background-color: #d4ebff;}#sk-container-id-5 div.sk-label input.sk-toggleable__control:checked~label.sk-toggleable__label {background-color: #d4ebff;}#sk-container-id-5 input.sk-hidden--visually {border: 0;clip: rect(1px 1px 1px 1px);clip: rect(1px, 1px, 1px, 1px);height: 1px;margin: -1px;overflow: hidden;padding: 0;position: absolute;width: 1px;}#sk-container-id-5 div.sk-estimator {font-family: monospace;background-color: #f0f8ff;border: 1px dotted black;border-radius: 0.25em;box-sizing: border-box;margin-bottom: 0.5em;}#sk-container-id-5 div.sk-estimator:hover {background-color: #d4ebff;}#sk-container-id-5 div.sk-parallel-item::after {content: \"\";width: 100%;border-bottom: 1px solid gray;flex-grow: 1;}#sk-container-id-5 div.sk-label:hover label.sk-toggleable__label {background-color: #d4ebff;}#sk-container-id-5 div.sk-serial::before {content: \"\";position: absolute;border-left: 1px solid gray;box-sizing: border-box;top: 0;bottom: 0;left: 50%;z-index: 0;}#sk-container-id-5 div.sk-serial {display: flex;flex-direction: column;align-items: center;background-color: white;padding-right: 0.2em;padding-left: 0.2em;position: relative;}#sk-container-id-5 div.sk-item {position: relative;z-index: 1;}#sk-container-id-5 div.sk-parallel {display: flex;align-items: stretch;justify-content: center;background-color: white;position: relative;}#sk-container-id-5 div.sk-item::before, #sk-container-id-5 div.sk-parallel-item::before {content: \"\";position: absolute;border-left: 1px solid gray;box-sizing: border-box;top: 0;bottom: 0;left: 50%;z-index: -1;}#sk-container-id-5 div.sk-parallel-item {display: flex;flex-direction: column;z-index: 1;position: relative;background-color: white;}#sk-container-id-5 div.sk-parallel-item:first-child::after {align-self: flex-end;width: 50%;}#sk-container-id-5 div.sk-parallel-item:last-child::after {align-self: flex-start;width: 50%;}#sk-container-id-5 div.sk-parallel-item:only-child::after {width: 0;}#sk-container-id-5 div.sk-dashed-wrapped {border: 1px dashed gray;margin: 0 0.4em 0.5em 0.4em;box-sizing: border-box;padding-bottom: 0.4em;background-color: white;}#sk-container-id-5 div.sk-label label {font-family: monospace;font-weight: bold;display: inline-block;line-height: 1.2em;}#sk-container-id-5 div.sk-label-container {text-align: center;}#sk-container-id-5 div.sk-container {/* jupyter's `normalize.less` sets `[hidden] { display: none; }` but bootstrap.min.css set `[hidden] { display: none !important; }` so we also need the `!important` here to be able to override the default hidden behavior on the sphinx rendered scikit-learn.org. See: https://github.com/scikit-learn/scikit-learn/issues/21755 */display: inline-block !important;position: relative;}#sk-container-id-5 div.sk-text-repr-fallback {display: none;}</style><div id=\"sk-container-id-5\" class=\"sk-top-container\"><div class=\"sk-text-repr-fallback\"><pre>RandomForestClassifier(max_depth=5)</pre><b>In a Jupyter environment, please rerun this cell to show the HTML representation or trust the notebook. <br />On GitHub, the HTML representation is unable to render, please try loading this page with nbviewer.org.</b></div><div class=\"sk-container\" hidden><div class=\"sk-item\"><div class=\"sk-estimator sk-toggleable\"><input class=\"sk-toggleable__control sk-hidden--visually\" id=\"sk-estimator-id-5\" type=\"checkbox\" checked><label for=\"sk-estimator-id-5\" class=\"sk-toggleable__label sk-toggleable__label-arrow\">RandomForestClassifier</label><div class=\"sk-toggleable__content\"><pre>RandomForestClassifier(max_depth=5)</pre></div></div></div></div></div>"
      ],
      "text/plain": [
       "RandomForestClassifier(max_depth=5)"
      ]
     },
     "execution_count": 176,
     "metadata": {},
     "output_type": "execute_result"
    }
   ],
   "source": [
    "rf = RandomForestClassifier(max_depth=5)\n",
    "rf.fit(X_train, y_train)"
   ]
  },
  {
   "cell_type": "code",
   "execution_count": 177,
   "id": "7f349c63",
   "metadata": {},
   "outputs": [
    {
     "name": "stdout",
     "output_type": "stream",
     "text": [
      "Confusion Matrix: \n",
      " [[ 4213 15975     0]\n",
      " [  121 59208     0]\n",
      " [ 1026 12144     0]]\n",
      "\n",
      "Accuracy: 0.684249139577287\n"
     ]
    }
   ],
   "source": [
    "y_pred_rf = rf.predict(X_test)\n",
    "cm_rf = confusion_matrix(y_test, y_pred_rf)\n",
    "print (\"Confusion Matrix: \\n\", cm_rf)\n",
    "print (\"\\nAccuracy:\", accuracy_score(y_test, y_pred_rf))"
   ]
  },
  {
   "cell_type": "code",
   "execution_count": 28,
   "id": "b5c5a845",
   "metadata": {},
   "outputs": [
    {
     "ename": "",
     "evalue": "",
     "output_type": "error",
     "traceback": [
      "\u001b[1;31mThe Kernel crashed while executing code in the current cell or a previous cell. \n",
      "\u001b[1;31mPlease review the code in the cell(s) to identify a possible cause of the failure. \n",
      "\u001b[1;31mClick <a href='https://aka.ms/vscodeJupyterKernelCrash'>here</a> for more info. \n",
      "\u001b[1;31mView Jupyter <a href='command:jupyter.viewOutput'>log</a> for further details."
     ]
    }
   ],
   "source": [
    "lda = LinearDiscriminantAnalysis()\n",
    "lda.fit(X_train,y_train)"
   ]
  },
  {
   "cell_type": "code",
   "execution_count": 179,
   "id": "f9314d73",
   "metadata": {},
   "outputs": [
    {
     "name": "stdout",
     "output_type": "stream",
     "text": [
      "LDA Test Accuracy: 0.7927\n",
      "Confusion Matrix: \n",
      " [[15786  4352    50]\n",
      " [ 1697 57606    26]\n",
      " [ 2531 10556    83]]\n"
     ]
    }
   ],
   "source": [
    "y_pred_lda = lda.predict(X_test)\n",
    "lda_acc = accuracy_score(y_test, y_pred_lda)\n",
    "print(f'LDA Test Accuracy: {lda_acc:.4f}')\n",
    "cm_lda = confusion_matrix(y_test, y_pred_lda)\n",
    "print (\"Confusion Matrix: \\n\", cm_lda)"
   ]
  },
  {
   "cell_type": "code",
   "execution_count": 22,
   "id": "90c04673",
   "metadata": {},
   "outputs": [],
   "source": [
    "path = '../../pkg_dir/data/pickles'\n",
    "name = 'dataset_v2.pkl'\n",
    "\n",
    "## Reading extract object saved as pickle locally\n",
    "pkl_obj = path + \"/\" + name\n",
    "\n",
    "with open(pkl_obj, 'rb') as obj_content:\n",
    "    df2 = pickle.load(obj_content)"
   ]
  },
  {
   "cell_type": "code",
   "execution_count": 23,
   "id": "ca948768",
   "metadata": {},
   "outputs": [],
   "source": [
    "path = '../../pkg_dir/data/pickles'\n",
    "name = 'dataset_v3.pkl'\n",
    "\n",
    "## Reading extract object saved as pickle locally\n",
    "pkl_obj = path + \"/\" + name\n",
    "\n",
    "with open(pkl_obj, 'rb') as obj_content:\n",
    "    df3 = pickle.load(obj_content)"
   ]
  },
  {
   "cell_type": "code",
   "execution_count": 43,
   "id": "1eaea471",
   "metadata": {},
   "outputs": [],
   "source": [
    "path = '../../pkg_dir/data/pickles'\n",
    "name = 'dataset_v4.pkl'\n",
    "\n",
    "## Reading extract object saved as pickle locally\n",
    "pkl_obj = path + \"/\" + name\n",
    "\n",
    "with open(pkl_obj, 'rb') as obj_content:\n",
    "    df4 = pickle.load(obj_content)"
   ]
  },
  {
   "cell_type": "code",
   "execution_count": 44,
   "id": "8cf98f17",
   "metadata": {},
   "outputs": [],
   "source": [
    "df4.drop(columns = ['clinic','doctor'], inplace = True)"
   ]
  },
  {
   "cell_type": "code",
   "execution_count": 55,
   "id": "7ac330bd",
   "metadata": {},
   "outputs": [],
   "source": [
    "rounded_times = pd.to_datetime(df4['appointment_start']).dt.round('60min')\n",
    "df4['rounded_times'] = rounded_times.dt.strftime('%H:%M:%S')"
   ]
  },
  {
   "cell_type": "code",
   "execution_count": 56,
   "id": "c0fd9451",
   "metadata": {},
   "outputs": [],
   "source": [
    "months = [m.strftime('%B') for m in df4['appointment_start']]"
   ]
  },
  {
   "cell_type": "code",
   "execution_count": 57,
   "id": "3bcbba60",
   "metadata": {},
   "outputs": [],
   "source": [
    "df4['month'] = months\n",
    "df4.drop(columns = ['appointment_start', 'appointment_id', 'appointment_dur_min'], inplace = True)"
   ]
  },
  {
   "cell_type": "code",
   "execution_count": 58,
   "id": "800f79a0",
   "metadata": {},
   "outputs": [],
   "source": [
    "df4.dropna(inplace = True)"
   ]
  },
  {
   "cell_type": "code",
   "execution_count": null,
   "id": "46563fa4",
   "metadata": {},
   "outputs": [],
   "source": [
    "df4.drop(columns = ['time', 'month'], inplace = True)"
   ]
  },
  {
   "cell_type": "code",
   "execution_count": 59,
   "id": "740f435b",
   "metadata": {},
   "outputs": [
    {
     "data": {
      "text/html": [
       "<div>\n",
       "<style scoped>\n",
       "    .dataframe tbody tr th:only-of-type {\n",
       "        vertical-align: middle;\n",
       "    }\n",
       "\n",
       "    .dataframe tbody tr th {\n",
       "        vertical-align: top;\n",
       "    }\n",
       "\n",
       "    .dataframe thead th {\n",
       "        text-align: right;\n",
       "    }\n",
       "</style>\n",
       "<table border=\"1\" class=\"dataframe\">\n",
       "  <thead>\n",
       "    <tr style=\"text-align: right;\">\n",
       "      <th></th>\n",
       "      <th>appointment_weekday</th>\n",
       "      <th>recurring_patient</th>\n",
       "      <th>creation_to_start_hrs</th>\n",
       "      <th>confirm_request_msg</th>\n",
       "      <th>patient_confirm</th>\n",
       "      <th>confirm_to_start_hrs</th>\n",
       "      <th>appointment_source</th>\n",
       "      <th>appointment_date_update</th>\n",
       "      <th>patient_age</th>\n",
       "      <th>patient_sex</th>\n",
       "      <th>medical_specialty</th>\n",
       "      <th>appointment_status_simplified</th>\n",
       "      <th>rounded_times</th>\n",
       "      <th>month</th>\n",
       "    </tr>\n",
       "  </thead>\n",
       "  <tbody>\n",
       "    <tr>\n",
       "      <th>21</th>\n",
       "      <td>2</td>\n",
       "      <td>first</td>\n",
       "      <td>776.55</td>\n",
       "      <td>0</td>\n",
       "      <td>1</td>\n",
       "      <td>34.18</td>\n",
       "      <td>phone</td>\n",
       "      <td>no_update</td>\n",
       "      <td>18.0</td>\n",
       "      <td>F</td>\n",
       "      <td>DERMATOLOGIA</td>\n",
       "      <td>completed</td>\n",
       "      <td>20:00:00</td>\n",
       "      <td>February</td>\n",
       "    </tr>\n",
       "    <tr>\n",
       "      <th>23</th>\n",
       "      <td>5</td>\n",
       "      <td>first</td>\n",
       "      <td>1415.13</td>\n",
       "      <td>0</td>\n",
       "      <td>1</td>\n",
       "      <td>23.58</td>\n",
       "      <td>phone</td>\n",
       "      <td>no_update</td>\n",
       "      <td>44.0</td>\n",
       "      <td>F</td>\n",
       "      <td>DERMATOLOGIA</td>\n",
       "      <td>completed</td>\n",
       "      <td>08:00:00</td>\n",
       "      <td>January</td>\n",
       "    </tr>\n",
       "    <tr>\n",
       "      <th>49</th>\n",
       "      <td>4</td>\n",
       "      <td>first</td>\n",
       "      <td>154.24</td>\n",
       "      <td>0</td>\n",
       "      <td>1</td>\n",
       "      <td>33.55</td>\n",
       "      <td>phone</td>\n",
       "      <td>no_update</td>\n",
       "      <td>44.0</td>\n",
       "      <td>F</td>\n",
       "      <td>DERMATOLOGIA</td>\n",
       "      <td>completed</td>\n",
       "      <td>19:00:00</td>\n",
       "      <td>January</td>\n",
       "    </tr>\n",
       "    <tr>\n",
       "      <th>64</th>\n",
       "      <td>0</td>\n",
       "      <td>first</td>\n",
       "      <td>97.30</td>\n",
       "      <td>0</td>\n",
       "      <td>1</td>\n",
       "      <td>46.28</td>\n",
       "      <td>phone</td>\n",
       "      <td>no_update</td>\n",
       "      <td>22.0</td>\n",
       "      <td>F</td>\n",
       "      <td>GINECOLOGIA</td>\n",
       "      <td>no_show</td>\n",
       "      <td>10:00:00</td>\n",
       "      <td>January</td>\n",
       "    </tr>\n",
       "    <tr>\n",
       "      <th>92</th>\n",
       "      <td>5</td>\n",
       "      <td>recurrent</td>\n",
       "      <td>332.75</td>\n",
       "      <td>0</td>\n",
       "      <td>1</td>\n",
       "      <td>23.68</td>\n",
       "      <td>phone</td>\n",
       "      <td>no_update</td>\n",
       "      <td>21.0</td>\n",
       "      <td>M</td>\n",
       "      <td>DERMATOLOGIA</td>\n",
       "      <td>completed</td>\n",
       "      <td>09:00:00</td>\n",
       "      <td>January</td>\n",
       "    </tr>\n",
       "    <tr>\n",
       "      <th>...</th>\n",
       "      <td>...</td>\n",
       "      <td>...</td>\n",
       "      <td>...</td>\n",
       "      <td>...</td>\n",
       "      <td>...</td>\n",
       "      <td>...</td>\n",
       "      <td>...</td>\n",
       "      <td>...</td>\n",
       "      <td>...</td>\n",
       "      <td>...</td>\n",
       "      <td>...</td>\n",
       "      <td>...</td>\n",
       "      <td>...</td>\n",
       "      <td>...</td>\n",
       "    </tr>\n",
       "    <tr>\n",
       "      <th>544022</th>\n",
       "      <td>1</td>\n",
       "      <td>first</td>\n",
       "      <td>78.32</td>\n",
       "      <td>0</td>\n",
       "      <td>1</td>\n",
       "      <td>78.27</td>\n",
       "      <td>phone</td>\n",
       "      <td>no_update</td>\n",
       "      <td>50.0</td>\n",
       "      <td>F</td>\n",
       "      <td>DERMATOLOGIA</td>\n",
       "      <td>completed</td>\n",
       "      <td>18:00:00</td>\n",
       "      <td>December</td>\n",
       "    </tr>\n",
       "    <tr>\n",
       "      <th>544045</th>\n",
       "      <td>3</td>\n",
       "      <td>first</td>\n",
       "      <td>19.37</td>\n",
       "      <td>0</td>\n",
       "      <td>1</td>\n",
       "      <td>19.37</td>\n",
       "      <td>phone</td>\n",
       "      <td>no_update</td>\n",
       "      <td>22.0</td>\n",
       "      <td>F</td>\n",
       "      <td>OTORRINOLARINGOLOGIA</td>\n",
       "      <td>completed</td>\n",
       "      <td>08:00:00</td>\n",
       "      <td>December</td>\n",
       "    </tr>\n",
       "    <tr>\n",
       "      <th>544052</th>\n",
       "      <td>4</td>\n",
       "      <td>first</td>\n",
       "      <td>30.73</td>\n",
       "      <td>0</td>\n",
       "      <td>1</td>\n",
       "      <td>-0.13</td>\n",
       "      <td>phone</td>\n",
       "      <td>no_update</td>\n",
       "      <td>32.0</td>\n",
       "      <td>F</td>\n",
       "      <td>GINECOLOGIA</td>\n",
       "      <td>completed</td>\n",
       "      <td>16:00:00</td>\n",
       "      <td>December</td>\n",
       "    </tr>\n",
       "    <tr>\n",
       "      <th>544058</th>\n",
       "      <td>4</td>\n",
       "      <td>first</td>\n",
       "      <td>26.68</td>\n",
       "      <td>0</td>\n",
       "      <td>1</td>\n",
       "      <td>26.68</td>\n",
       "      <td>phone</td>\n",
       "      <td>no_update</td>\n",
       "      <td>58.0</td>\n",
       "      <td>F</td>\n",
       "      <td>DERMATOLOGIA</td>\n",
       "      <td>completed</td>\n",
       "      <td>13:00:00</td>\n",
       "      <td>December</td>\n",
       "    </tr>\n",
       "    <tr>\n",
       "      <th>544060</th>\n",
       "      <td>4</td>\n",
       "      <td>first</td>\n",
       "      <td>20.48</td>\n",
       "      <td>0</td>\n",
       "      <td>1</td>\n",
       "      <td>20.48</td>\n",
       "      <td>phone</td>\n",
       "      <td>no_update</td>\n",
       "      <td>44.0</td>\n",
       "      <td>M</td>\n",
       "      <td>DERMATOLOGIA</td>\n",
       "      <td>no_show</td>\n",
       "      <td>08:00:00</td>\n",
       "      <td>December</td>\n",
       "    </tr>\n",
       "  </tbody>\n",
       "</table>\n",
       "<p>48052 rows × 14 columns</p>\n",
       "</div>"
      ],
      "text/plain": [
       "        appointment_weekday recurring_patient  creation_to_start_hrs  \\\n",
       "21                        2             first                 776.55   \n",
       "23                        5             first                1415.13   \n",
       "49                        4             first                 154.24   \n",
       "64                        0             first                  97.30   \n",
       "92                        5         recurrent                 332.75   \n",
       "...                     ...               ...                    ...   \n",
       "544022                    1             first                  78.32   \n",
       "544045                    3             first                  19.37   \n",
       "544052                    4             first                  30.73   \n",
       "544058                    4             first                  26.68   \n",
       "544060                    4             first                  20.48   \n",
       "\n",
       "        confirm_request_msg  patient_confirm  confirm_to_start_hrs  \\\n",
       "21                        0                1                 34.18   \n",
       "23                        0                1                 23.58   \n",
       "49                        0                1                 33.55   \n",
       "64                        0                1                 46.28   \n",
       "92                        0                1                 23.68   \n",
       "...                     ...              ...                   ...   \n",
       "544022                    0                1                 78.27   \n",
       "544045                    0                1                 19.37   \n",
       "544052                    0                1                 -0.13   \n",
       "544058                    0                1                 26.68   \n",
       "544060                    0                1                 20.48   \n",
       "\n",
       "       appointment_source appointment_date_update  patient_age patient_sex  \\\n",
       "21                  phone               no_update         18.0           F   \n",
       "23                  phone               no_update         44.0           F   \n",
       "49                  phone               no_update         44.0           F   \n",
       "64                  phone               no_update         22.0           F   \n",
       "92                  phone               no_update         21.0           M   \n",
       "...                   ...                     ...          ...         ...   \n",
       "544022              phone               no_update         50.0           F   \n",
       "544045              phone               no_update         22.0           F   \n",
       "544052              phone               no_update         32.0           F   \n",
       "544058              phone               no_update         58.0           F   \n",
       "544060              phone               no_update         44.0           M   \n",
       "\n",
       "           medical_specialty appointment_status_simplified rounded_times  \\\n",
       "21              DERMATOLOGIA                     completed      20:00:00   \n",
       "23              DERMATOLOGIA                     completed      08:00:00   \n",
       "49              DERMATOLOGIA                     completed      19:00:00   \n",
       "64               GINECOLOGIA                       no_show      10:00:00   \n",
       "92              DERMATOLOGIA                     completed      09:00:00   \n",
       "...                      ...                           ...           ...   \n",
       "544022          DERMATOLOGIA                     completed      18:00:00   \n",
       "544045  OTORRINOLARINGOLOGIA                     completed      08:00:00   \n",
       "544052           GINECOLOGIA                     completed      16:00:00   \n",
       "544058          DERMATOLOGIA                     completed      13:00:00   \n",
       "544060          DERMATOLOGIA                       no_show      08:00:00   \n",
       "\n",
       "           month  \n",
       "21      February  \n",
       "23       January  \n",
       "49       January  \n",
       "64       January  \n",
       "92       January  \n",
       "...          ...  \n",
       "544022  December  \n",
       "544045  December  \n",
       "544052  December  \n",
       "544058  December  \n",
       "544060  December  \n",
       "\n",
       "[48052 rows x 14 columns]"
      ]
     },
     "execution_count": 59,
     "metadata": {},
     "output_type": "execute_result"
    }
   ],
   "source": [
    "df4"
   ]
  },
  {
   "cell_type": "code",
   "execution_count": 60,
   "id": "0e61f5ae",
   "metadata": {},
   "outputs": [],
   "source": [
    "X = pd.get_dummies(df4.drop(columns = ['appointment_status_simplified']))\n",
    "y = df4['appointment_status_simplified']"
   ]
  },
  {
   "cell_type": "code",
   "execution_count": 61,
   "id": "b958f690",
   "metadata": {},
   "outputs": [],
   "source": [
    "X_train, X_test, y_train_old, y_test_old = train_test_split(X, y, test_size=0.25, random_state=42)"
   ]
  },
  {
   "cell_type": "code",
   "execution_count": 62,
   "id": "72c30454",
   "metadata": {},
   "outputs": [],
   "source": [
    "le = LabelEncoder()\n",
    "y_train = le.fit_transform(y_train_old)\n",
    "y_test = le.fit_transform(y_test_old)"
   ]
  },
  {
   "cell_type": "code",
   "execution_count": 71,
   "id": "25097d23",
   "metadata": {},
   "outputs": [
    {
     "data": {
      "text/plain": [
       "0.7718305169399817"
      ]
     },
     "execution_count": 71,
     "metadata": {},
     "output_type": "execute_result"
    }
   ],
   "source": [
    "most_common_label = np.argmax(np.bincount(y_train))\n",
    "baseline_1_acc = (y_test == most_common_label).mean()\n",
    "baseline_1_acc"
   ]
  },
  {
   "cell_type": "code",
   "execution_count": 101,
   "id": "79b09db6",
   "metadata": {},
   "outputs": [],
   "source": [
    "logreg = LogisticRegression(multi_class='multinomial', solver='lbfgs')"
   ]
  },
  {
   "cell_type": "code",
   "execution_count": 102,
   "id": "b055690f",
   "metadata": {},
   "outputs": [
    {
     "name": "stderr",
     "output_type": "stream",
     "text": [
      "/usr/local/lib/python3.11/site-packages/sklearn/linear_model/_logistic.py:460: ConvergenceWarning: lbfgs failed to converge (status=1):\n",
      "STOP: TOTAL NO. of ITERATIONS REACHED LIMIT.\n",
      "\n",
      "Increase the number of iterations (max_iter) or scale the data as shown in:\n",
      "    https://scikit-learn.org/stable/modules/preprocessing.html\n",
      "Please also refer to the documentation for alternative solver options:\n",
      "    https://scikit-learn.org/stable/modules/linear_model.html#logistic-regression\n",
      "  n_iter_i = _check_optimize_result(\n"
     ]
    },
    {
     "data": {
      "text/html": [
       "<style>#sk-container-id-2 {color: black;}#sk-container-id-2 pre{padding: 0;}#sk-container-id-2 div.sk-toggleable {background-color: white;}#sk-container-id-2 label.sk-toggleable__label {cursor: pointer;display: block;width: 100%;margin-bottom: 0;padding: 0.3em;box-sizing: border-box;text-align: center;}#sk-container-id-2 label.sk-toggleable__label-arrow:before {content: \"▸\";float: left;margin-right: 0.25em;color: #696969;}#sk-container-id-2 label.sk-toggleable__label-arrow:hover:before {color: black;}#sk-container-id-2 div.sk-estimator:hover label.sk-toggleable__label-arrow:before {color: black;}#sk-container-id-2 div.sk-toggleable__content {max-height: 0;max-width: 0;overflow: hidden;text-align: left;background-color: #f0f8ff;}#sk-container-id-2 div.sk-toggleable__content pre {margin: 0.2em;color: black;border-radius: 0.25em;background-color: #f0f8ff;}#sk-container-id-2 input.sk-toggleable__control:checked~div.sk-toggleable__content {max-height: 200px;max-width: 100%;overflow: auto;}#sk-container-id-2 input.sk-toggleable__control:checked~label.sk-toggleable__label-arrow:before {content: \"▾\";}#sk-container-id-2 div.sk-estimator input.sk-toggleable__control:checked~label.sk-toggleable__label {background-color: #d4ebff;}#sk-container-id-2 div.sk-label input.sk-toggleable__control:checked~label.sk-toggleable__label {background-color: #d4ebff;}#sk-container-id-2 input.sk-hidden--visually {border: 0;clip: rect(1px 1px 1px 1px);clip: rect(1px, 1px, 1px, 1px);height: 1px;margin: -1px;overflow: hidden;padding: 0;position: absolute;width: 1px;}#sk-container-id-2 div.sk-estimator {font-family: monospace;background-color: #f0f8ff;border: 1px dotted black;border-radius: 0.25em;box-sizing: border-box;margin-bottom: 0.5em;}#sk-container-id-2 div.sk-estimator:hover {background-color: #d4ebff;}#sk-container-id-2 div.sk-parallel-item::after {content: \"\";width: 100%;border-bottom: 1px solid gray;flex-grow: 1;}#sk-container-id-2 div.sk-label:hover label.sk-toggleable__label {background-color: #d4ebff;}#sk-container-id-2 div.sk-serial::before {content: \"\";position: absolute;border-left: 1px solid gray;box-sizing: border-box;top: 0;bottom: 0;left: 50%;z-index: 0;}#sk-container-id-2 div.sk-serial {display: flex;flex-direction: column;align-items: center;background-color: white;padding-right: 0.2em;padding-left: 0.2em;position: relative;}#sk-container-id-2 div.sk-item {position: relative;z-index: 1;}#sk-container-id-2 div.sk-parallel {display: flex;align-items: stretch;justify-content: center;background-color: white;position: relative;}#sk-container-id-2 div.sk-item::before, #sk-container-id-2 div.sk-parallel-item::before {content: \"\";position: absolute;border-left: 1px solid gray;box-sizing: border-box;top: 0;bottom: 0;left: 50%;z-index: -1;}#sk-container-id-2 div.sk-parallel-item {display: flex;flex-direction: column;z-index: 1;position: relative;background-color: white;}#sk-container-id-2 div.sk-parallel-item:first-child::after {align-self: flex-end;width: 50%;}#sk-container-id-2 div.sk-parallel-item:last-child::after {align-self: flex-start;width: 50%;}#sk-container-id-2 div.sk-parallel-item:only-child::after {width: 0;}#sk-container-id-2 div.sk-dashed-wrapped {border: 1px dashed gray;margin: 0 0.4em 0.5em 0.4em;box-sizing: border-box;padding-bottom: 0.4em;background-color: white;}#sk-container-id-2 div.sk-label label {font-family: monospace;font-weight: bold;display: inline-block;line-height: 1.2em;}#sk-container-id-2 div.sk-label-container {text-align: center;}#sk-container-id-2 div.sk-container {/* jupyter's `normalize.less` sets `[hidden] { display: none; }` but bootstrap.min.css set `[hidden] { display: none !important; }` so we also need the `!important` here to be able to override the default hidden behavior on the sphinx rendered scikit-learn.org. See: https://github.com/scikit-learn/scikit-learn/issues/21755 */display: inline-block !important;position: relative;}#sk-container-id-2 div.sk-text-repr-fallback {display: none;}</style><div id=\"sk-container-id-2\" class=\"sk-top-container\"><div class=\"sk-text-repr-fallback\"><pre>LogisticRegression(multi_class=&#x27;multinomial&#x27;)</pre><b>In a Jupyter environment, please rerun this cell to show the HTML representation or trust the notebook. <br />On GitHub, the HTML representation is unable to render, please try loading this page with nbviewer.org.</b></div><div class=\"sk-container\" hidden><div class=\"sk-item\"><div class=\"sk-estimator sk-toggleable\"><input class=\"sk-toggleable__control sk-hidden--visually\" id=\"sk-estimator-id-2\" type=\"checkbox\" checked><label for=\"sk-estimator-id-2\" class=\"sk-toggleable__label sk-toggleable__label-arrow\">LogisticRegression</label><div class=\"sk-toggleable__content\"><pre>LogisticRegression(multi_class=&#x27;multinomial&#x27;)</pre></div></div></div></div></div>"
      ],
      "text/plain": [
       "LogisticRegression(multi_class='multinomial')"
      ]
     },
     "execution_count": 102,
     "metadata": {},
     "output_type": "execute_result"
    }
   ],
   "source": [
    "logreg.fit(X_train, y_train)"
   ]
  },
  {
   "cell_type": "code",
   "execution_count": 104,
   "id": "f14e6233",
   "metadata": {},
   "outputs": [],
   "source": [
    "y_pred_log = model.predict(X_test)"
   ]
  },
  {
   "cell_type": "code",
   "execution_count": 105,
   "id": "7ab709a5",
   "metadata": {},
   "outputs": [
    {
     "name": "stdout",
     "output_type": "stream",
     "text": [
      "              precision    recall  f1-score   support\n",
      "\n",
      "           0       0.51      0.03      0.06       652\n",
      "           1       0.77      1.00      0.87      9272\n",
      "           2       0.14      0.00      0.00      2089\n",
      "\n",
      "    accuracy                           0.77     12013\n",
      "   macro avg       0.48      0.34      0.31     12013\n",
      "weighted avg       0.65      0.77      0.68     12013\n",
      "\n"
     ]
    }
   ],
   "source": [
    "print(classification_report(y_test, y_pred_log))"
   ]
  },
  {
   "cell_type": "code",
   "execution_count": 106,
   "id": "f8b14ca6",
   "metadata": {},
   "outputs": [
    {
     "name": "stdout",
     "output_type": "stream",
     "text": [
      "appointment_weekday: -0.15537605457894074\n",
      "creation_to_start_hrs: -0.0002788558711754355\n",
      "confirm_request_msg: 0.01148890997880348\n",
      "patient_confirm: -0.1407591505287899\n",
      "confirm_to_start_hrs: 0.004056874919843806\n",
      "patient_age: -0.004699666557646977\n",
      "recurring_patient_first: -0.1055299233730342\n",
      "recurring_patient_recurrent: -0.035229227155738334\n",
      "appointment_source_online: -0.0014442059018435797\n",
      "appointment_source_phone: -0.13931494462695684\n",
      "appointment_date_update_no_update: -0.14735034979455533\n",
      "appointment_date_update_update: 0.006591199265771638\n",
      "patient_sex_F: -0.07819211076855033\n",
      "patient_sex_M: -0.06256703976023759\n",
      "medical_specialty_DERMATOLOGIA: -0.08998786319463495\n",
      "medical_specialty_GINECOLOGIA: -0.03508402784959304\n",
      "medical_specialty_OTORRINOLARINGOLOGIA: -0.006972589065830168\n",
      "medical_specialty_UROLOGIA: -0.008714670418740182\n",
      "rounded_times_07:00:00: -0.0020495951478421365\n",
      "rounded_times_08:00:00: -0.017849415824627658\n",
      "rounded_times_09:00:00: -0.007172600981775316\n",
      "rounded_times_10:00:00: -0.023930691957788835\n",
      "rounded_times_11:00:00: -0.008534363116736315\n",
      "rounded_times_12:00:00: -0.02252985472443817\n",
      "rounded_times_13:00:00: -0.0006999839849443122\n",
      "rounded_times_14:00:00: -0.0064449630603031615\n",
      "rounded_times_15:00:00: -0.0048403970681223304\n",
      "rounded_times_16:00:00: -0.020181466563277385\n",
      "rounded_times_17:00:00: -0.005361961991727095\n",
      "rounded_times_18:00:00: -0.013557784903315167\n",
      "rounded_times_19:00:00: -0.004184963714876312\n",
      "rounded_times_20:00:00: -0.0034211074890200584\n",
      "month_April: -0.017869100852939687\n",
      "month_August: -0.010947109321141358\n",
      "month_December: -0.006785936834851737\n",
      "month_February: -0.010264848628870638\n",
      "month_January: -0.011277362496053692\n",
      "month_July: -0.01681831576651569\n",
      "month_June: -0.017017528123647596\n",
      "month_March: -0.006542380565957618\n",
      "month_May: -0.013524014882509443\n",
      "month_November: -0.007324764026614174\n",
      "month_October: -0.01464530408710165\n",
      "month_September: -0.007742484942589438\n"
     ]
    }
   ],
   "source": [
    "coefficients = logreg.coef_[0]\n",
    "for feature, coef in zip(X.columns, coefficients):\n",
    "    print(f\"{feature}: {coef}\")"
   ]
  },
  {
   "cell_type": "code",
   "execution_count": 74,
   "id": "1e6b39a5",
   "metadata": {},
   "outputs": [
    {
     "data": {
      "text/plain": [
       "0.774827270457005"
      ]
     },
     "execution_count": 74,
     "metadata": {},
     "output_type": "execute_result"
    }
   ],
   "source": [
    "params = {'max_features': np.arange(1, len(X_train.columns) + 1)}\n",
    "rfc = RandomForestClassifier(random_state = 88, max_depth=5)\n",
    "rfc_cv = GridSearchCV(rfc, params, cv = 5, scoring = 'accuracy',verbose = False)\n",
    "rfc_cv.fit(X_train, y_train)\n",
    "y_pred_rfc = rfc_cv.best_estimator_.predict(X_test)"
   ]
  },
  {
   "cell_type": "code",
   "execution_count": 99,
   "id": "518c235d",
   "metadata": {},
   "outputs": [
    {
     "name": "stdout",
     "output_type": "stream",
     "text": [
      "              precision    recall  f1-score   support\n",
      "\n",
      "           0       0.58      0.07      0.13       652\n",
      "           1       0.78      1.00      0.87      9272\n",
      "           2       0.89      0.00      0.01      2089\n",
      "\n",
      "    accuracy                           0.77     12013\n",
      "   macro avg       0.75      0.36      0.34     12013\n",
      "weighted avg       0.79      0.77      0.68     12013\n",
      "\n"
     ]
    }
   ],
   "source": [
    "print(classification_report(y_test, y_pred_rfc))"
   ]
  },
  {
   "cell_type": "code",
   "execution_count": 109,
   "id": "91d76d75",
   "metadata": {},
   "outputs": [
    {
     "name": "stdout",
     "output_type": "stream",
     "text": [
      "appointment_weekday: 0.020530756097385423\n",
      "creation_to_start_hrs: 0.1769076133807584\n",
      "confirm_request_msg: 0.0510704793670824\n",
      "patient_confirm: 0.0\n",
      "confirm_to_start_hrs: 0.4920649880925885\n",
      "patient_age: 0.17350866221729996\n",
      "recurring_patient_first: 0.005162449016152291\n",
      "recurring_patient_recurrent: 0.004471230450894838\n",
      "appointment_source_online: 0.0008323740731131491\n",
      "appointment_source_phone: 0.0008823664143405849\n",
      "appointment_date_update_no_update: 0.0030651101115215765\n",
      "appointment_date_update_update: 0.0034959291704376246\n",
      "patient_sex_F: 0.002252729681802592\n",
      "patient_sex_M: 0.0008685566871489292\n",
      "medical_specialty_DERMATOLOGIA: 0.014451741963892374\n",
      "medical_specialty_GINECOLOGIA: 0.002741358239288189\n",
      "medical_specialty_OTORRINOLARINGOLOGIA: 0.001794743461238444\n",
      "medical_specialty_UROLOGIA: 0.008034734788390977\n",
      "rounded_times_07:00:00: 0.0020171857207059453\n",
      "rounded_times_08:00:00: 0.0012703757716167215\n",
      "rounded_times_09:00:00: 0.0002825403196572334\n",
      "rounded_times_10:00:00: 0.0009757866121490271\n",
      "rounded_times_11:00:00: 0.00031270588911368153\n",
      "rounded_times_12:00:00: 0.002198391934763754\n",
      "rounded_times_13:00:00: 0.00011287276016381013\n",
      "rounded_times_14:00:00: 0.0013754795138089329\n",
      "rounded_times_15:00:00: 0.0017248628815351081\n",
      "rounded_times_16:00:00: 0.0008814766302483451\n",
      "rounded_times_17:00:00: 0.0011750133624274376\n",
      "rounded_times_18:00:00: 0.0013801155488804518\n",
      "rounded_times_19:00:00: 0.0019194836567899966\n",
      "rounded_times_20:00:00: 0.0011355008338657696\n",
      "month_April: 0.0007971596180474749\n",
      "month_August: 0.0015091570679862639\n",
      "month_December: 0.0036271161640113133\n",
      "month_February: 0.001467147149758602\n",
      "month_January: 0.0014269047418463544\n",
      "month_July: 0.0013738561177766989\n",
      "month_June: 0.0011281215838540445\n",
      "month_March: 0.0019250597562727651\n",
      "month_May: 0.0024709595677180896\n",
      "month_November: 0.0019645239952620465\n",
      "month_October: 0.001413306920462043\n",
      "month_September: 0.0019990726679416006\n"
     ]
    }
   ],
   "source": [
    "feature_importances = rfc_cv.best_estimator_.feature_importances_\n",
    "# Display feature importances\n",
    "for feature, importance in zip(X.columns, feature_importances):\n",
    "    print(f'{feature}: {importance}')"
   ]
  },
  {
   "cell_type": "code",
   "execution_count": 75,
   "metadata": {},
   "outputs": [
    {
     "data": {
      "text/plain": [
       "0.7619245817031549"
      ]
     },
     "execution_count": 75,
     "metadata": {},
     "output_type": "execute_result"
    }
   ],
   "source": [
    "gbc = GradientBoostingClassifier(n_estimators = 3300, max_leaf_nodes = 10, random_state = 88)\n",
    "gbc.fit(X_train, y_train) \n",
    "y_pred_gbc = gbc.predict(X_test)"
   ]
  },
  {
   "cell_type": "code",
   "execution_count": 97,
   "id": "4ee79811",
   "metadata": {},
   "outputs": [
    {
     "name": "stdout",
     "output_type": "stream",
     "text": [
      "              precision    recall  f1-score   support\n",
      "\n",
      "           0       0.48      0.12      0.19       652\n",
      "           1       0.78      0.97      0.86      9272\n",
      "           2       0.28      0.05      0.09      2089\n",
      "\n",
      "    accuracy                           0.76     12013\n",
      "   macro avg       0.51      0.38      0.38     12013\n",
      "weighted avg       0.68      0.76      0.69     12013\n",
      "\n"
     ]
    }
   ],
   "source": [
    "print(classification_report(y_test, y_pred_gbc))"
   ]
  },
  {
   "cell_type": "code",
   "execution_count": 114,
   "id": "92b561b0",
   "metadata": {},
   "outputs": [
    {
     "name": "stdout",
     "output_type": "stream",
     "text": [
      "appointment_weekday: 0.03338784509483776\n",
      "creation_to_start_hrs: 0.3385837317272868\n",
      "confirm_request_msg: 0.0204737966000304\n",
      "patient_confirm: 0.0\n",
      "confirm_to_start_hrs: 0.283955203104199\n",
      "patient_age: 0.10784976983883166\n",
      "recurring_patient_first: 0.005242498365300948\n",
      "recurring_patient_recurrent: 0.004610612480363044\n",
      "appointment_source_online: 0.00112337874717397\n",
      "appointment_source_phone: 0.0011444677151788193\n",
      "appointment_date_update_no_update: 0.0043375309275258496\n",
      "appointment_date_update_update: 0.004085086070962494\n",
      "patient_sex_F: 0.0041326961653400255\n",
      "patient_sex_M: 0.004080394243453123\n",
      "medical_specialty_DERMATOLOGIA: 0.010897008200580824\n",
      "medical_specialty_GINECOLOGIA: 0.010169562211390577\n",
      "medical_specialty_OTORRINOLARINGOLOGIA: 0.008183755422039533\n",
      "medical_specialty_UROLOGIA: 0.00662312074128278\n",
      "rounded_times_07:00:00: 0.00323321013503676\n",
      "rounded_times_08:00:00: 0.00645005422204147\n",
      "rounded_times_09:00:00: 0.005019517793892648\n",
      "rounded_times_10:00:00: 0.005439617033446911\n",
      "rounded_times_11:00:00: 0.003670512163429532\n",
      "rounded_times_12:00:00: 0.004628262324007523\n",
      "rounded_times_13:00:00: 0.005787283078589585\n",
      "rounded_times_14:00:00: 0.005710502365894093\n",
      "rounded_times_15:00:00: 0.005141797080745691\n",
      "rounded_times_16:00:00: 0.0066500806747725565\n",
      "rounded_times_17:00:00: 0.005765847528250879\n",
      "rounded_times_18:00:00: 0.006418709947663005\n",
      "rounded_times_19:00:00: 0.004923162507330508\n",
      "rounded_times_20:00:00: 0.0034050004399834408\n",
      "month_April: 0.005400686768343219\n",
      "month_August: 0.006813167789929425\n",
      "month_December: 0.006666351752771189\n",
      "month_February: 0.006320653328515533\n",
      "month_January: 0.005986872492884834\n",
      "month_July: 0.0046929454885559\n",
      "month_June: 0.006271833541015118\n",
      "month_March: 0.005928077411379964\n",
      "month_May: 0.007725910871598067\n",
      "month_November: 0.006870792706497536\n",
      "month_October: 0.008471772777467582\n",
      "month_September: 0.007726920120179399\n"
     ]
    }
   ],
   "source": [
    "feature_importances = gbc.feature_importances_\n",
    "# Display feature importances\n",
    "for feature, importance in zip(X.columns, feature_importances):\n",
    "    print(f'{feature}: {importance}')"
   ]
  },
  {
   "cell_type": "code",
   "execution_count": 76,
   "id": "d7532325",
   "metadata": {},
   "outputs": [
    {
     "data": {
      "text/plain": [
       "0.6357279613751768"
      ]
     },
     "execution_count": 76,
     "metadata": {},
     "output_type": "execute_result"
    }
   ],
   "source": [
    "dtc = DecisionTreeClassifier(random_state = 10)\n",
    "dtc = dtc.fit(X_train, y_train)\n",
    "y_pred_dtc = dtc.predict(X_test)"
   ]
  },
  {
   "cell_type": "code",
   "execution_count": 95,
   "id": "90141084",
   "metadata": {},
   "outputs": [
    {
     "name": "stdout",
     "output_type": "stream",
     "text": [
      "              precision    recall  f1-score   support\n",
      "\n",
      "           0       0.12      0.15      0.13       652\n",
      "           1       0.79      0.77      0.78      9272\n",
      "           2       0.20      0.21      0.20      2089\n",
      "\n",
      "    accuracy                           0.64     12013\n",
      "   macro avg       0.37      0.37      0.37     12013\n",
      "weighted avg       0.65      0.64      0.64     12013\n",
      "\n"
     ]
    }
   ],
   "source": [
    "print(classification_report(y_test, y_pred_dtc))"
   ]
  },
  {
   "cell_type": "code",
   "execution_count": 115,
   "id": "9d4d9d12",
   "metadata": {},
   "outputs": [
    {
     "name": "stdout",
     "output_type": "stream",
     "text": [
      "appointment_weekday: 0.058431905097469\n",
      "creation_to_start_hrs: 0.20013785430367784\n",
      "confirm_request_msg: 0.008422619790795945\n",
      "patient_confirm: 0.0\n",
      "confirm_to_start_hrs: 0.2013447851830968\n",
      "patient_age: 0.1432398030779084\n",
      "recurring_patient_first: 0.005984059001295175\n",
      "recurring_patient_recurrent: 0.004933375087491277\n",
      "appointment_source_online: 0.0008841458618540233\n",
      "appointment_source_phone: 0.0008541134511232579\n",
      "appointment_date_update_no_update: 0.00428987393115933\n",
      "appointment_date_update_update: 0.0046355354469496705\n",
      "patient_sex_F: 0.014331108331245894\n",
      "patient_sex_M: 0.013678479721569657\n",
      "medical_specialty_DERMATOLOGIA: 0.008661647049783262\n",
      "medical_specialty_GINECOLOGIA: 0.012620342795349841\n",
      "medical_specialty_OTORRINOLARINGOLOGIA: 0.010695985135775677\n",
      "medical_specialty_UROLOGIA: 0.009170314519615783\n",
      "rounded_times_07:00:00: 0.0037412906518573996\n",
      "rounded_times_08:00:00: 0.011331425917505992\n",
      "rounded_times_09:00:00: 0.007954531288129571\n",
      "rounded_times_10:00:00: 0.015124688549951876\n",
      "rounded_times_11:00:00: 0.007705413626894448\n",
      "rounded_times_12:00:00: 0.016248761097775132\n",
      "rounded_times_13:00:00: 0.009337797515512544\n",
      "rounded_times_14:00:00: 0.014166675514119757\n",
      "rounded_times_15:00:00: 0.009473068888003144\n",
      "rounded_times_16:00:00: 0.011662728665704458\n",
      "rounded_times_17:00:00: 0.007792229538456012\n",
      "rounded_times_18:00:00: 0.014123929610987974\n",
      "rounded_times_19:00:00: 0.008861483185565587\n",
      "rounded_times_20:00:00: 0.006285270001071839\n",
      "month_April: 0.012200360853794893\n",
      "month_August: 0.013250901264860615\n",
      "month_December: 0.014132825871170873\n",
      "month_February: 0.011495910567032528\n",
      "month_January: 0.0097079431284391\n",
      "month_July: 0.013301168093825198\n",
      "month_June: 0.01236216792820444\n",
      "month_March: 0.013551743680897739\n",
      "month_May: 0.01216036990666578\n",
      "month_November: 0.01334561399320924\n",
      "month_October: 0.015271276561825116\n",
      "month_September: 0.013094476312377841\n"
     ]
    }
   ],
   "source": [
    "feature_importances = dtc.feature_importances_\n",
    "# Display feature importances\n",
    "for feature, importance in zip(X.columns, feature_importances):\n",
    "    print(f'{feature}: {importance}')"
   ]
  },
  {
   "cell_type": "code",
   "execution_count": 77,
   "id": "f5464865",
   "metadata": {},
   "outputs": [
    {
     "data": {
      "text/plain": [
       "0.7723299758594856"
      ]
     },
     "execution_count": 77,
     "metadata": {},
     "output_type": "execute_result"
    }
   ],
   "source": [
    "lda = LinearDiscriminantAnalysis()\n",
    "lda.fit(X_train,y_train)\n",
    "y_pred_lda = lda.predict(X_test)"
   ]
  },
  {
   "cell_type": "code",
   "execution_count": 94,
   "id": "65e9537c",
   "metadata": {},
   "outputs": [
    {
     "name": "stdout",
     "output_type": "stream",
     "text": [
      "              precision    recall  f1-score   support\n",
      "\n",
      "           0       0.67      0.02      0.03       652\n",
      "           1       0.77      1.00      0.87      9272\n",
      "           2       0.00      0.00      0.00      2089\n",
      "\n",
      "    accuracy                           0.77     12013\n",
      "   macro avg       0.48      0.34      0.30     12013\n",
      "weighted avg       0.63      0.77      0.67     12013\n",
      "\n"
     ]
    }
   ],
   "source": [
    "print(classification_report(y_test, y_pred_lda))"
   ]
  },
  {
   "cell_type": "code",
   "execution_count": 79,
   "id": "fe30211d",
   "metadata": {},
   "outputs": [
    {
     "name": "stdout",
     "output_type": "stream",
     "text": [
      "appointment_weekday: -0.15537605457894074\n",
      "creation_to_start_hrs: -0.0002788558711754355\n",
      "confirm_request_msg: 0.01148890997880348\n",
      "patient_confirm: -0.1407591505287899\n",
      "confirm_to_start_hrs: 0.004056874919843806\n",
      "patient_age: -0.004699666557646977\n",
      "recurring_patient_first: -0.1055299233730342\n",
      "recurring_patient_recurrent: -0.035229227155738334\n",
      "appointment_source_online: -0.0014442059018435797\n",
      "appointment_source_phone: -0.13931494462695684\n",
      "appointment_date_update_no_update: -0.14735034979455533\n",
      "appointment_date_update_update: 0.006591199265771638\n",
      "patient_sex_F: -0.07819211076855033\n",
      "patient_sex_M: -0.06256703976023759\n",
      "medical_specialty_DERMATOLOGIA: -0.08998786319463495\n",
      "medical_specialty_GINECOLOGIA: -0.03508402784959304\n",
      "medical_specialty_OTORRINOLARINGOLOGIA: -0.006972589065830168\n",
      "medical_specialty_UROLOGIA: -0.008714670418740182\n",
      "rounded_times_07:00:00: -0.0020495951478421365\n",
      "rounded_times_08:00:00: -0.017849415824627658\n",
      "rounded_times_09:00:00: -0.007172600981775316\n",
      "rounded_times_10:00:00: -0.023930691957788835\n",
      "rounded_times_11:00:00: -0.008534363116736315\n",
      "rounded_times_12:00:00: -0.02252985472443817\n",
      "rounded_times_13:00:00: -0.0006999839849443122\n",
      "rounded_times_14:00:00: -0.0064449630603031615\n",
      "rounded_times_15:00:00: -0.0048403970681223304\n",
      "rounded_times_16:00:00: -0.020181466563277385\n",
      "rounded_times_17:00:00: -0.005361961991727095\n",
      "rounded_times_18:00:00: -0.013557784903315167\n",
      "rounded_times_19:00:00: -0.004184963714876312\n",
      "rounded_times_20:00:00: -0.0034211074890200584\n",
      "month_April: -0.017869100852939687\n",
      "month_August: -0.010947109321141358\n",
      "month_December: -0.006785936834851737\n",
      "month_February: -0.010264848628870638\n",
      "month_January: -0.011277362496053692\n",
      "month_July: -0.01681831576651569\n",
      "month_June: -0.017017528123647596\n",
      "month_March: -0.006542380565957618\n",
      "month_May: -0.013524014882509443\n",
      "month_November: -0.007324764026614174\n",
      "month_October: -0.01464530408710165\n",
      "month_September: -0.007742484942589438\n"
     ]
    }
   ],
   "source": [
    "lda.coef_[0]\n",
    "for feature, coef in zip(X.columns, coefficients):\n",
    "    print(f\"{feature}: {coef}\")"
   ]
  },
  {
   "cell_type": "code",
   "execution_count": 92,
   "id": "119cc736",
   "metadata": {},
   "outputs": [
    {
     "name": "stdout",
     "output_type": "stream",
     "text": [
      "Accuracy: 0.7732456505452426\n",
      "Classification Report:\n",
      "              precision    recall  f1-score   support\n",
      "\n",
      "           0       0.49      0.08      0.13       652\n",
      "           1       0.78      1.00      0.87      9272\n",
      "           2       0.25      0.00      0.00      2089\n",
      "\n",
      "    accuracy                           0.77     12013\n",
      "   macro avg       0.51      0.36      0.34     12013\n",
      "weighted avg       0.67      0.77      0.68     12013\n",
      "\n"
     ]
    }
   ],
   "source": [
    "knn_classifier = KNeighborsClassifier(n_neighbors=30)\n",
    "\n",
    "# Train the classifier\n",
    "knn_classifier.fit(X_train, y_train)\n",
    "\n",
    "# Make predictions on the test set\n",
    "y_pred = knn_classifier.predict(X_test)\n",
    "\n",
    "# Evaluate the classifier\n",
    "accuracy = accuracy_score(y_test, y_pred)\n",
    "print(f'Accuracy: {accuracy}')\n",
    "\n",
    "# Display classification report\n",
    "print('Classification Report:')\n",
    "print(classification_report(y_test, y_pred))"
   ]
  },
  {
   "cell_type": "code",
   "execution_count": 12,
   "id": "7d8175f6",
   "metadata": {},
   "outputs": [],
   "source": [
    "path = '../../pkg_dir/data/pickles'\n",
    "name = 'dataset_v6.pkl'\n",
    "\n",
    "## Reading extract object saved as pickle locally\n",
    "pkl_obj = path + \"/\" + name\n",
    "\n",
    "with open(pkl_obj, 'rb') as obj_content:\n",
    "    df6 = pickle.load(obj_content)"
   ]
  },
  {
   "cell_type": "code",
   "execution_count": 13,
   "id": "d1700f4a",
   "metadata": {},
   "outputs": [],
   "source": [
    "df6['medical_specialty'].replace({'Ultrasonido': 'ULTRASONIDO'}, inplace = True)\n",
    "rounded_times = pd.to_datetime(df6['appointment_start']).dt.round('60min')\n",
    "df6['rounded_start_times'] = rounded_times.dt.strftime('%H:%M:%S')\n",
    "df6['confirm_to_start_hrs'].fillna(df6['confirm_to_start_hrs'].mean(), inplace = True)\n",
    "df6.dropna(subset= ['recurring_patient', 'creation_to_start_hrs', 'patient_age', 'patient_sex'], inplace = True)\n",
    "months = [m.strftime('%B') for m in df6['appointment_start']]\n",
    "df6['month'] = months\n",
    "# Mapping for days of the week\n",
    "days_mapping = {0: 'Monday', 1: 'Tuesday', 2: 'Wednesday', 3: 'Thursday', 4: 'Friday', 5: 'Saturday', 6: 'Sunday'}\n",
    "\n",
    "# Mapping for 01 to 'no' and 'yes'\n",
    "binary_mapping = {0: 'no', 1: 'yes'}\n",
    "\n",
    "# Replace values in the DataFrame\n",
    "df6['appointment_weekday'] = df6['appointment_weekday'].replace(days_mapping)\n",
    "df6['confirm_request_msg'] = df6['confirm_request_msg'].replace(binary_mapping)\n",
    "df6['patient_confirm'] = df6['patient_confirm'].replace(binary_mapping)"
   ]
  },
  {
   "cell_type": "code",
   "execution_count": 14,
   "id": "57359bd5",
   "metadata": {},
   "outputs": [
    {
     "data": {
      "text/html": [
       "<div>\n",
       "<style scoped>\n",
       "    .dataframe tbody tr th:only-of-type {\n",
       "        vertical-align: middle;\n",
       "    }\n",
       "\n",
       "    .dataframe tbody tr th {\n",
       "        vertical-align: top;\n",
       "    }\n",
       "\n",
       "    .dataframe thead th {\n",
       "        text-align: right;\n",
       "    }\n",
       "</style>\n",
       "<table border=\"1\" class=\"dataframe\">\n",
       "  <thead>\n",
       "    <tr style=\"text-align: right;\">\n",
       "      <th></th>\n",
       "      <th>appointment_id</th>\n",
       "      <th>appointment_weekday</th>\n",
       "      <th>appointment_start</th>\n",
       "      <th>appointment_dur_min</th>\n",
       "      <th>recurring_patient</th>\n",
       "      <th>creation_to_start_hrs</th>\n",
       "      <th>confirm_request_msg</th>\n",
       "      <th>patient_confirm</th>\n",
       "      <th>confirm_to_start_hrs</th>\n",
       "      <th>clinic</th>\n",
       "      <th>appointment_source</th>\n",
       "      <th>appointment_date_update</th>\n",
       "      <th>patient_age</th>\n",
       "      <th>patient_sex</th>\n",
       "      <th>doctor</th>\n",
       "      <th>medical_specialty</th>\n",
       "      <th>appointment_status_simplified</th>\n",
       "      <th>rounded_start_times</th>\n",
       "      <th>month</th>\n",
       "    </tr>\n",
       "  </thead>\n",
       "  <tbody>\n",
       "    <tr>\n",
       "      <th>2</th>\n",
       "      <td>2021923564</td>\n",
       "      <td>Saturday</td>\n",
       "      <td>2022-01-22 12:30:00</td>\n",
       "      <td>30.0</td>\n",
       "      <td>first</td>\n",
       "      <td>20.52</td>\n",
       "      <td>no</td>\n",
       "      <td>no</td>\n",
       "      <td>30.535624</td>\n",
       "      <td>MARINA NACIONAL</td>\n",
       "      <td>phone</td>\n",
       "      <td>no_update</td>\n",
       "      <td>32.0</td>\n",
       "      <td>F</td>\n",
       "      <td>DR. ORLANDO JOSE HERNANDEZ MARTINEZ</td>\n",
       "      <td>UROLOGIA</td>\n",
       "      <td>fail</td>\n",
       "      <td>12:00:00</td>\n",
       "      <td>January</td>\n",
       "    </tr>\n",
       "    <tr>\n",
       "      <th>3</th>\n",
       "      <td>2021853399</td>\n",
       "      <td>Monday</td>\n",
       "      <td>2022-01-24 12:00:00</td>\n",
       "      <td>30.0</td>\n",
       "      <td>first</td>\n",
       "      <td>52.19</td>\n",
       "      <td>no</td>\n",
       "      <td>no</td>\n",
       "      <td>30.535624</td>\n",
       "      <td>MARINA NACIONAL</td>\n",
       "      <td>phone</td>\n",
       "      <td>no_update</td>\n",
       "      <td>32.0</td>\n",
       "      <td>F</td>\n",
       "      <td>DRA JUANA GUADALUPE CABALLERO MARTINEZ</td>\n",
       "      <td>GINECOLOGIA</td>\n",
       "      <td>fail</td>\n",
       "      <td>12:00:00</td>\n",
       "      <td>January</td>\n",
       "    </tr>\n",
       "    <tr>\n",
       "      <th>6</th>\n",
       "      <td>2021889374</td>\n",
       "      <td>Saturday</td>\n",
       "      <td>2022-01-22 08:00:00</td>\n",
       "      <td>30.0</td>\n",
       "      <td>first</td>\n",
       "      <td>24.22</td>\n",
       "      <td>no</td>\n",
       "      <td>yes</td>\n",
       "      <td>21.750000</td>\n",
       "      <td>BASILICA</td>\n",
       "      <td>phone</td>\n",
       "      <td>no_update</td>\n",
       "      <td>40.0</td>\n",
       "      <td>F</td>\n",
       "      <td>DRA MONICA MARCELA MACIAS ORTEGA</td>\n",
       "      <td>ENDOCRINOLOGIA</td>\n",
       "      <td>completed</td>\n",
       "      <td>08:00:00</td>\n",
       "      <td>January</td>\n",
       "    </tr>\n",
       "    <tr>\n",
       "      <th>8</th>\n",
       "      <td>2021757372</td>\n",
       "      <td>Saturday</td>\n",
       "      <td>2022-01-22 09:30:00</td>\n",
       "      <td>30.0</td>\n",
       "      <td>recurrent</td>\n",
       "      <td>1792.41</td>\n",
       "      <td>no</td>\n",
       "      <td>yes</td>\n",
       "      <td>23.170000</td>\n",
       "      <td>MARINA NACIONAL</td>\n",
       "      <td>phone</td>\n",
       "      <td>no_update</td>\n",
       "      <td>41.0</td>\n",
       "      <td>M</td>\n",
       "      <td>DR. SAID CHAYA SALGADO</td>\n",
       "      <td>DERMATOLOGIA</td>\n",
       "      <td>completed</td>\n",
       "      <td>10:00:00</td>\n",
       "      <td>January</td>\n",
       "    </tr>\n",
       "    <tr>\n",
       "      <th>13</th>\n",
       "      <td>2021991250</td>\n",
       "      <td>Monday</td>\n",
       "      <td>2022-10-03 11:00:00</td>\n",
       "      <td>30.0</td>\n",
       "      <td>recurrent</td>\n",
       "      <td>92.60</td>\n",
       "      <td>no</td>\n",
       "      <td>yes</td>\n",
       "      <td>50.210000</td>\n",
       "      <td>TLALPAN</td>\n",
       "      <td>phone</td>\n",
       "      <td>no_update</td>\n",
       "      <td>39.0</td>\n",
       "      <td>F</td>\n",
       "      <td>DRA VANESSA ELIZABETH PICHARDO SOSA</td>\n",
       "      <td>GINECOLOGIA</td>\n",
       "      <td>completed</td>\n",
       "      <td>11:00:00</td>\n",
       "      <td>October</td>\n",
       "    </tr>\n",
       "    <tr>\n",
       "      <th>...</th>\n",
       "      <td>...</td>\n",
       "      <td>...</td>\n",
       "      <td>...</td>\n",
       "      <td>...</td>\n",
       "      <td>...</td>\n",
       "      <td>...</td>\n",
       "      <td>...</td>\n",
       "      <td>...</td>\n",
       "      <td>...</td>\n",
       "      <td>...</td>\n",
       "      <td>...</td>\n",
       "      <td>...</td>\n",
       "      <td>...</td>\n",
       "      <td>...</td>\n",
       "      <td>...</td>\n",
       "      <td>...</td>\n",
       "      <td>...</td>\n",
       "      <td>...</td>\n",
       "      <td>...</td>\n",
       "    </tr>\n",
       "    <tr>\n",
       "      <th>544074</th>\n",
       "      <td>2022133177</td>\n",
       "      <td>Friday</td>\n",
       "      <td>2022-12-02 18:00:00</td>\n",
       "      <td>60.0</td>\n",
       "      <td>first</td>\n",
       "      <td>73.80</td>\n",
       "      <td>no</td>\n",
       "      <td>yes</td>\n",
       "      <td>55.520000</td>\n",
       "      <td>COAPA</td>\n",
       "      <td>phone</td>\n",
       "      <td>no_update</td>\n",
       "      <td>68.0</td>\n",
       "      <td>F</td>\n",
       "      <td>DRA EDITH GOMEZ CONTRERAS</td>\n",
       "      <td>GINECOLOGIA</td>\n",
       "      <td>completed</td>\n",
       "      <td>18:00:00</td>\n",
       "      <td>December</td>\n",
       "    </tr>\n",
       "    <tr>\n",
       "      <th>544075</th>\n",
       "      <td>2022133269</td>\n",
       "      <td>Friday</td>\n",
       "      <td>2022-12-16 14:30:00</td>\n",
       "      <td>30.0</td>\n",
       "      <td>recurrent</td>\n",
       "      <td>331.84</td>\n",
       "      <td>no</td>\n",
       "      <td>yes</td>\n",
       "      <td>23.320000</td>\n",
       "      <td>COAPA</td>\n",
       "      <td>phone</td>\n",
       "      <td>no_update</td>\n",
       "      <td>68.0</td>\n",
       "      <td>F</td>\n",
       "      <td>DRA EDITH GOMEZ CONTRERAS</td>\n",
       "      <td>GINECOLOGIA</td>\n",
       "      <td>completed</td>\n",
       "      <td>14:00:00</td>\n",
       "      <td>December</td>\n",
       "    </tr>\n",
       "    <tr>\n",
       "      <th>544084</th>\n",
       "      <td>2022141229</td>\n",
       "      <td>Wednesday</td>\n",
       "      <td>2022-11-30 08:30:00</td>\n",
       "      <td>30.0</td>\n",
       "      <td>recurrent</td>\n",
       "      <td>14.12</td>\n",
       "      <td>no</td>\n",
       "      <td>yes</td>\n",
       "      <td>14.050000</td>\n",
       "      <td>COAPA</td>\n",
       "      <td>phone</td>\n",
       "      <td>no_update</td>\n",
       "      <td>33.0</td>\n",
       "      <td>M</td>\n",
       "      <td>DR. MIGUEL ANGEL MONTERO MARQUEZ</td>\n",
       "      <td>OTORRINOLARINGOLOGIA</td>\n",
       "      <td>completed</td>\n",
       "      <td>08:00:00</td>\n",
       "      <td>November</td>\n",
       "    </tr>\n",
       "    <tr>\n",
       "      <th>544085</th>\n",
       "      <td>2022506277</td>\n",
       "      <td>Saturday</td>\n",
       "      <td>2022-06-25 10:00:00</td>\n",
       "      <td>30.0</td>\n",
       "      <td>first</td>\n",
       "      <td>25.08</td>\n",
       "      <td>no</td>\n",
       "      <td>yes</td>\n",
       "      <td>19.020000</td>\n",
       "      <td>COAPA</td>\n",
       "      <td>phone</td>\n",
       "      <td>no_update</td>\n",
       "      <td>33.0</td>\n",
       "      <td>M</td>\n",
       "      <td>DRA SANDRA XOCHIQUETZAL  CRUZ ORDOÑEZ</td>\n",
       "      <td>UROLOGIA</td>\n",
       "      <td>completed</td>\n",
       "      <td>10:00:00</td>\n",
       "      <td>June</td>\n",
       "    </tr>\n",
       "    <tr>\n",
       "      <th>544086</th>\n",
       "      <td>2023228381</td>\n",
       "      <td>Thursday</td>\n",
       "      <td>2023-01-05 08:30:00</td>\n",
       "      <td>30.0</td>\n",
       "      <td>recurrent</td>\n",
       "      <td>39.87</td>\n",
       "      <td>no</td>\n",
       "      <td>yes</td>\n",
       "      <td>15.320000</td>\n",
       "      <td>COAPA</td>\n",
       "      <td>phone</td>\n",
       "      <td>no_update</td>\n",
       "      <td>33.0</td>\n",
       "      <td>M</td>\n",
       "      <td>DRA SANDRA XOCHIQUETZAL  CRUZ ORDOÑEZ</td>\n",
       "      <td>UROLOGIA</td>\n",
       "      <td>fail</td>\n",
       "      <td>08:00:00</td>\n",
       "      <td>January</td>\n",
       "    </tr>\n",
       "  </tbody>\n",
       "</table>\n",
       "<p>227995 rows × 19 columns</p>\n",
       "</div>"
      ],
      "text/plain": [
       "         appointment_id appointment_weekday   appointment_start  \\\n",
       "2       2021923564                 Saturday 2022-01-22 12:30:00   \n",
       "3       2021853399                   Monday 2022-01-24 12:00:00   \n",
       "6       2021889374                 Saturday 2022-01-22 08:00:00   \n",
       "8       2021757372                 Saturday 2022-01-22 09:30:00   \n",
       "13      2021991250                   Monday 2022-10-03 11:00:00   \n",
       "...                 ...                 ...                 ...   \n",
       "544074  2022133177                   Friday 2022-12-02 18:00:00   \n",
       "544075  2022133269                   Friday 2022-12-16 14:30:00   \n",
       "544084  2022141229                Wednesday 2022-11-30 08:30:00   \n",
       "544085  2022506277                 Saturday 2022-06-25 10:00:00   \n",
       "544086  2023228381                 Thursday 2023-01-05 08:30:00   \n",
       "\n",
       "        appointment_dur_min recurring_patient  creation_to_start_hrs  \\\n",
       "2                      30.0             first                  20.52   \n",
       "3                      30.0             first                  52.19   \n",
       "6                      30.0             first                  24.22   \n",
       "8                      30.0         recurrent                1792.41   \n",
       "13                     30.0         recurrent                  92.60   \n",
       "...                     ...               ...                    ...   \n",
       "544074                 60.0             first                  73.80   \n",
       "544075                 30.0         recurrent                 331.84   \n",
       "544084                 30.0         recurrent                  14.12   \n",
       "544085                 30.0             first                  25.08   \n",
       "544086                 30.0         recurrent                  39.87   \n",
       "\n",
       "       confirm_request_msg patient_confirm  confirm_to_start_hrs  \\\n",
       "2                       no              no             30.535624   \n",
       "3                       no              no             30.535624   \n",
       "6                       no             yes             21.750000   \n",
       "8                       no             yes             23.170000   \n",
       "13                      no             yes             50.210000   \n",
       "...                    ...             ...                   ...   \n",
       "544074                  no             yes             55.520000   \n",
       "544075                  no             yes             23.320000   \n",
       "544084                  no             yes             14.050000   \n",
       "544085                  no             yes             19.020000   \n",
       "544086                  no             yes             15.320000   \n",
       "\n",
       "                 clinic appointment_source appointment_date_update  \\\n",
       "2       MARINA NACIONAL              phone               no_update   \n",
       "3       MARINA NACIONAL              phone               no_update   \n",
       "6              BASILICA              phone               no_update   \n",
       "8       MARINA NACIONAL              phone               no_update   \n",
       "13              TLALPAN              phone               no_update   \n",
       "...                 ...                ...                     ...   \n",
       "544074            COAPA              phone               no_update   \n",
       "544075            COAPA              phone               no_update   \n",
       "544084            COAPA              phone               no_update   \n",
       "544085            COAPA              phone               no_update   \n",
       "544086            COAPA              phone               no_update   \n",
       "\n",
       "        patient_age patient_sex                                  doctor  \\\n",
       "2              32.0           F     DR. ORLANDO JOSE HERNANDEZ MARTINEZ   \n",
       "3              32.0           F  DRA JUANA GUADALUPE CABALLERO MARTINEZ   \n",
       "6              40.0           F        DRA MONICA MARCELA MACIAS ORTEGA   \n",
       "8              41.0           M                  DR. SAID CHAYA SALGADO   \n",
       "13             39.0           F     DRA VANESSA ELIZABETH PICHARDO SOSA   \n",
       "...             ...         ...                                     ...   \n",
       "544074         68.0           F               DRA EDITH GOMEZ CONTRERAS   \n",
       "544075         68.0           F               DRA EDITH GOMEZ CONTRERAS   \n",
       "544084         33.0           M        DR. MIGUEL ANGEL MONTERO MARQUEZ   \n",
       "544085         33.0           M   DRA SANDRA XOCHIQUETZAL  CRUZ ORDOÑEZ   \n",
       "544086         33.0           M   DRA SANDRA XOCHIQUETZAL  CRUZ ORDOÑEZ   \n",
       "\n",
       "           medical_specialty appointment_status_simplified  \\\n",
       "2                   UROLOGIA                          fail   \n",
       "3                GINECOLOGIA                          fail   \n",
       "6             ENDOCRINOLOGIA                     completed   \n",
       "8               DERMATOLOGIA                     completed   \n",
       "13               GINECOLOGIA                     completed   \n",
       "...                      ...                           ...   \n",
       "544074           GINECOLOGIA                     completed   \n",
       "544075           GINECOLOGIA                     completed   \n",
       "544084  OTORRINOLARINGOLOGIA                     completed   \n",
       "544085              UROLOGIA                     completed   \n",
       "544086              UROLOGIA                          fail   \n",
       "\n",
       "       rounded_start_times     month  \n",
       "2                 12:00:00   January  \n",
       "3                 12:00:00   January  \n",
       "6                 08:00:00   January  \n",
       "8                 10:00:00   January  \n",
       "13                11:00:00   October  \n",
       "...                    ...       ...  \n",
       "544074            18:00:00  December  \n",
       "544075            14:00:00  December  \n",
       "544084            08:00:00  November  \n",
       "544085            10:00:00      June  \n",
       "544086            08:00:00   January  \n",
       "\n",
       "[227995 rows x 19 columns]"
      ]
     },
     "execution_count": 14,
     "metadata": {},
     "output_type": "execute_result"
    }
   ],
   "source": [
    "df6"
   ]
  },
  {
   "cell_type": "code",
   "execution_count": 15,
   "id": "13cf1a9c",
   "metadata": {},
   "outputs": [],
   "source": [
    "df6.drop(columns = ['appointment_id', 'appointment_start', 'doctor'], inplace = True)"
   ]
  },
  {
   "cell_type": "code",
   "execution_count": 16,
   "id": "4c5cc18b",
   "metadata": {},
   "outputs": [],
   "source": [
    "X = pd.get_dummies(df6.drop(columns = ['appointment_status_simplified']))\n",
    "y = df6['appointment_status_simplified']"
   ]
  },
  {
   "cell_type": "code",
   "execution_count": 18,
   "id": "86dd02a2",
   "metadata": {},
   "outputs": [],
   "source": [
    "X_train, X_test, y_train_old, y_test_old = train_test_split(X, y, test_size=0.25, random_state=42)"
   ]
  },
  {
   "cell_type": "code",
   "execution_count": 19,
   "id": "cbf986cc",
   "metadata": {},
   "outputs": [],
   "source": [
    "le = LabelEncoder()\n",
    "y_train = le.fit_transform(y_train_old)\n",
    "y_test = le.fit_transform(y_test_old)"
   ]
  },
  {
   "cell_type": "code",
   "execution_count": 20,
   "id": "0bced457",
   "metadata": {},
   "outputs": [
    {
     "data": {
      "text/plain": [
       "0.7108896647309602"
      ]
     },
     "execution_count": 20,
     "metadata": {},
     "output_type": "execute_result"
    }
   ],
   "source": [
    "most_common_label = np.argmax(np.bincount(y_train))\n",
    "baseline_1_acc = (y_test == most_common_label).mean()\n",
    "baseline_1_acc"
   ]
  },
  {
   "cell_type": "code",
   "execution_count": 58,
   "id": "7f38d895",
   "metadata": {},
   "outputs": [],
   "source": [
    "logreg = LogisticRegression(class_weight = 'balanced')"
   ]
  },
  {
   "cell_type": "code",
   "execution_count": 59,
   "id": "4e91983f",
   "metadata": {},
   "outputs": [
    {
     "name": "stderr",
     "output_type": "stream",
     "text": [
      "/usr/local/lib/python3.11/site-packages/sklearn/linear_model/_logistic.py:460: ConvergenceWarning: lbfgs failed to converge (status=1):\n",
      "STOP: TOTAL NO. of ITERATIONS REACHED LIMIT.\n",
      "\n",
      "Increase the number of iterations (max_iter) or scale the data as shown in:\n",
      "    https://scikit-learn.org/stable/modules/preprocessing.html\n",
      "Please also refer to the documentation for alternative solver options:\n",
      "    https://scikit-learn.org/stable/modules/linear_model.html#logistic-regression\n",
      "  n_iter_i = _check_optimize_result(\n"
     ]
    },
    {
     "data": {
      "text/html": [
       "<style>#sk-container-id-4 {color: black;}#sk-container-id-4 pre{padding: 0;}#sk-container-id-4 div.sk-toggleable {background-color: white;}#sk-container-id-4 label.sk-toggleable__label {cursor: pointer;display: block;width: 100%;margin-bottom: 0;padding: 0.3em;box-sizing: border-box;text-align: center;}#sk-container-id-4 label.sk-toggleable__label-arrow:before {content: \"▸\";float: left;margin-right: 0.25em;color: #696969;}#sk-container-id-4 label.sk-toggleable__label-arrow:hover:before {color: black;}#sk-container-id-4 div.sk-estimator:hover label.sk-toggleable__label-arrow:before {color: black;}#sk-container-id-4 div.sk-toggleable__content {max-height: 0;max-width: 0;overflow: hidden;text-align: left;background-color: #f0f8ff;}#sk-container-id-4 div.sk-toggleable__content pre {margin: 0.2em;color: black;border-radius: 0.25em;background-color: #f0f8ff;}#sk-container-id-4 input.sk-toggleable__control:checked~div.sk-toggleable__content {max-height: 200px;max-width: 100%;overflow: auto;}#sk-container-id-4 input.sk-toggleable__control:checked~label.sk-toggleable__label-arrow:before {content: \"▾\";}#sk-container-id-4 div.sk-estimator input.sk-toggleable__control:checked~label.sk-toggleable__label {background-color: #d4ebff;}#sk-container-id-4 div.sk-label input.sk-toggleable__control:checked~label.sk-toggleable__label {background-color: #d4ebff;}#sk-container-id-4 input.sk-hidden--visually {border: 0;clip: rect(1px 1px 1px 1px);clip: rect(1px, 1px, 1px, 1px);height: 1px;margin: -1px;overflow: hidden;padding: 0;position: absolute;width: 1px;}#sk-container-id-4 div.sk-estimator {font-family: monospace;background-color: #f0f8ff;border: 1px dotted black;border-radius: 0.25em;box-sizing: border-box;margin-bottom: 0.5em;}#sk-container-id-4 div.sk-estimator:hover {background-color: #d4ebff;}#sk-container-id-4 div.sk-parallel-item::after {content: \"\";width: 100%;border-bottom: 1px solid gray;flex-grow: 1;}#sk-container-id-4 div.sk-label:hover label.sk-toggleable__label {background-color: #d4ebff;}#sk-container-id-4 div.sk-serial::before {content: \"\";position: absolute;border-left: 1px solid gray;box-sizing: border-box;top: 0;bottom: 0;left: 50%;z-index: 0;}#sk-container-id-4 div.sk-serial {display: flex;flex-direction: column;align-items: center;background-color: white;padding-right: 0.2em;padding-left: 0.2em;position: relative;}#sk-container-id-4 div.sk-item {position: relative;z-index: 1;}#sk-container-id-4 div.sk-parallel {display: flex;align-items: stretch;justify-content: center;background-color: white;position: relative;}#sk-container-id-4 div.sk-item::before, #sk-container-id-4 div.sk-parallel-item::before {content: \"\";position: absolute;border-left: 1px solid gray;box-sizing: border-box;top: 0;bottom: 0;left: 50%;z-index: -1;}#sk-container-id-4 div.sk-parallel-item {display: flex;flex-direction: column;z-index: 1;position: relative;background-color: white;}#sk-container-id-4 div.sk-parallel-item:first-child::after {align-self: flex-end;width: 50%;}#sk-container-id-4 div.sk-parallel-item:last-child::after {align-self: flex-start;width: 50%;}#sk-container-id-4 div.sk-parallel-item:only-child::after {width: 0;}#sk-container-id-4 div.sk-dashed-wrapped {border: 1px dashed gray;margin: 0 0.4em 0.5em 0.4em;box-sizing: border-box;padding-bottom: 0.4em;background-color: white;}#sk-container-id-4 div.sk-label label {font-family: monospace;font-weight: bold;display: inline-block;line-height: 1.2em;}#sk-container-id-4 div.sk-label-container {text-align: center;}#sk-container-id-4 div.sk-container {/* jupyter's `normalize.less` sets `[hidden] { display: none; }` but bootstrap.min.css set `[hidden] { display: none !important; }` so we also need the `!important` here to be able to override the default hidden behavior on the sphinx rendered scikit-learn.org. See: https://github.com/scikit-learn/scikit-learn/issues/21755 */display: inline-block !important;position: relative;}#sk-container-id-4 div.sk-text-repr-fallback {display: none;}</style><div id=\"sk-container-id-4\" class=\"sk-top-container\"><div class=\"sk-text-repr-fallback\"><pre>LogisticRegression(class_weight=&#x27;balanced&#x27;)</pre><b>In a Jupyter environment, please rerun this cell to show the HTML representation or trust the notebook. <br />On GitHub, the HTML representation is unable to render, please try loading this page with nbviewer.org.</b></div><div class=\"sk-container\" hidden><div class=\"sk-item\"><div class=\"sk-estimator sk-toggleable\"><input class=\"sk-toggleable__control sk-hidden--visually\" id=\"sk-estimator-id-4\" type=\"checkbox\" checked><label for=\"sk-estimator-id-4\" class=\"sk-toggleable__label sk-toggleable__label-arrow\">LogisticRegression</label><div class=\"sk-toggleable__content\"><pre>LogisticRegression(class_weight=&#x27;balanced&#x27;)</pre></div></div></div></div></div>"
      ],
      "text/plain": [
       "LogisticRegression(class_weight='balanced')"
      ]
     },
     "execution_count": 59,
     "metadata": {},
     "output_type": "execute_result"
    }
   ],
   "source": [
    "logreg.fit(X_train, y_train)"
   ]
  },
  {
   "cell_type": "code",
   "execution_count": 60,
   "id": "467d74de",
   "metadata": {},
   "outputs": [],
   "source": [
    "y_pred = logreg.predict(X_test)\n",
    "y_pred_proba = logreg.predict_proba(X_test)"
   ]
  },
  {
   "cell_type": "code",
   "execution_count": 61,
   "id": "66e4b5e2",
   "metadata": {},
   "outputs": [
    {
     "data": {
      "text/plain": [
       "0.7904524640783172"
      ]
     },
     "execution_count": 61,
     "metadata": {},
     "output_type": "execute_result"
    }
   ],
   "source": [
    "# Evaluate the classifier\n",
    "accuracy = accuracy_score(y_test, y_pred)\n",
    "accuracy"
   ]
  },
  {
   "cell_type": "code",
   "execution_count": 62,
   "id": "904dd9e1",
   "metadata": {},
   "outputs": [
    {
     "name": "stdout",
     "output_type": "stream",
     "text": [
      "appointment_dur_min: 0.012324963932175107\n",
      "creation_to_start_hrs: 0.00037356016043653515\n",
      "confirm_to_start_hrs: 0.00582708457573722\n",
      "patient_age: -0.008770058525970945\n",
      "appointment_weekday_Friday: 0.0991148822586555\n",
      "appointment_weekday_Monday: -0.021674673825741616\n",
      "appointment_weekday_Saturday: 0.1010756298782563\n",
      "appointment_weekday_Sunday: -0.00756604110909659\n",
      "appointment_weekday_Thursday: 0.0008116503671154585\n",
      "appointment_weekday_Tuesday: 0.009760860048931105\n",
      "appointment_weekday_Wednesday: -0.03719914616645228\n",
      "recurring_patient_first: 0.21624508575144855\n",
      "recurring_patient_recurrent: -0.07192192429967867\n",
      "confirm_request_msg_no: -0.10313679259802659\n",
      "confirm_request_msg_yes: 0.24745995404997473\n",
      "patient_confirm_no: 1.6187525903171724\n",
      "patient_confirm_yes: -1.474429428865802\n",
      "clinic_BASILICA: 0.08692667372859403\n",
      "clinic_COAPA: -0.13469888747047382\n",
      "clinic_CUAJIMALPA: -0.1783561429220656\n",
      "clinic_DEL VALLE: 0.06564135025524359\n",
      "clinic_DOCTORES: 0.03309361825505298\n",
      "clinic_MARINA NACIONAL: 0.10464285905408023\n",
      "clinic_MONTEVIDEO: 0.011667868353298775\n",
      "clinic_TLALPAN: 0.15540582219776122\n",
      "appointment_source_online: -0.020435711672632393\n",
      "appointment_source_phone: 0.16475887312425858\n",
      "appointment_date_update_no_update: 0.1848809886838389\n",
      "appointment_date_update_update: -0.04055782723223651\n",
      "patient_sex_F: 0.022577581048107524\n",
      "patient_sex_M: 0.12174558040353739\n",
      "medical_specialty_DERMATOLOGIA: -0.015226527748155269\n",
      "medical_specialty_ENDOCRINOLOGIA: -0.11772539487245863\n",
      "medical_specialty_GASTROENTEROLOGIA: 0.14075821137841601\n",
      "medical_specialty_GINECOLOGIA: 0.07133538102514438\n",
      "medical_specialty_OTORRINOLARINGOLOGIA: 0.06563331439236157\n",
      "medical_specialty_UROLOGIA: -0.000451822723754978\n",
      "rounded_start_times_07:00:00: 0.025288387282565092\n",
      "rounded_start_times_08:00:00: 0.04221899171357324\n",
      "rounded_start_times_09:00:00: 0.024095879059332123\n",
      "rounded_start_times_10:00:00: -0.09125744661535666\n",
      "rounded_start_times_11:00:00: -0.06423577049328828\n",
      "rounded_start_times_12:00:00: -0.05990392874943406\n",
      "rounded_start_times_13:00:00: 0.04728369402754313\n",
      "rounded_start_times_14:00:00: 0.10357697045899567\n",
      "rounded_start_times_15:00:00: 0.016041029122655332\n",
      "rounded_start_times_16:00:00: -0.0013914053403925185\n",
      "rounded_start_times_17:00:00: -0.001151107679189412\n",
      "rounded_start_times_18:00:00: -0.022458205140478818\n",
      "rounded_start_times_19:00:00: 0.03432911811104005\n",
      "rounded_start_times_20:00:00: 0.09188695569406348\n",
      "month_April: -0.015136436601103705\n",
      "month_August: -0.004092404693523658\n",
      "month_December: 0.12968771552591257\n",
      "month_February: 0.009016279395654072\n",
      "month_January: -0.023218831958857995\n",
      "month_July: 0.0270123246511895\n",
      "month_June: -0.08726191786770683\n",
      "month_March: -0.014775627187445656\n",
      "month_May: -0.034274285219345585\n",
      "month_November: 0.07202903890784461\n",
      "month_October: 0.05315329487727548\n",
      "month_September: 0.03218401162177835\n"
     ]
    }
   ],
   "source": [
    "coefficients = logreg.coef_[0]\n",
    "for feature, coef in zip(X.columns, coefficients):\n",
    "    print(f\"{feature}: {coef}\")"
   ]
  },
  {
   "cell_type": "code",
   "execution_count": 55,
   "id": "ab989958",
   "metadata": {},
   "outputs": [
    {
     "name": "stdout",
     "output_type": "stream",
     "text": [
      "Logistic Regression Test AUC: 0.6890\n",
      "Confusion Matrix : \n",
      " [[37664  2856]\n",
      " [ 9088  7391]]\n",
      "\n",
      "Accuracy: 0.7904524640783172\n"
     ]
    }
   ],
   "source": [
    "roc_auc_micro = roc_auc_score(y_test, y_pred)\n",
    "print(f'Logistic Regression Test AUC: {roc_auc_micro:.4f}')\n",
    "cm_logistic = confusion_matrix(y_test, y_pred)\n",
    "print (\"Confusion Matrix : \\n\", cm_logistic)\n",
    "print (\"\\nAccuracy:\", accuracy_score(y_test, y_pred))"
   ]
  },
  {
   "cell_type": "code",
   "execution_count": 27,
   "id": "0b9ddc44",
   "metadata": {},
   "outputs": [
    {
     "name": "stdout",
     "output_type": "stream",
     "text": [
      "False Positive Rate (FPR): [0.55148977 0.07048371]\n",
      "False Negative Rate (FNR): [0.07048371 0.55148977]\n",
      "True Positive Rate (TPR): [0.92951629 0.44851023]\n"
     ]
    }
   ],
   "source": [
    "true_positives = np.diag(cm_logistic)\n",
    "false_positives = np.sum(cm_logistic, axis=0) - true_positives\n",
    "false_negatives = np.sum(cm_logistic, axis=1) - true_positives\n",
    "true_negatives = np.sum(cm_logistic) - (true_positives + false_positives + false_negatives)\n",
    "\n",
    "\n",
    "# Calculate False Positive Rate (FPR), False Negative Rate (FNR), and True Positive Rate (TPR)\n",
    "fpr = false_positives / (false_positives + true_negatives)\n",
    "fnr = false_negatives / (false_negatives + true_positives)\n",
    "tpr = true_positives / (true_positives + false_negatives)\n",
    "\n",
    "#0 completed, 1 no_show/fail\n",
    "print(\"False Positive Rate (FPR):\", fpr)\n",
    "print(\"False Negative Rate (FNR):\", fnr)\n",
    "print(\"True Positive Rate (TPR):\", tpr)"
   ]
  },
  {
   "cell_type": "code",
   "execution_count": 63,
   "id": "7bce8784",
   "metadata": {},
   "outputs": [],
   "source": [
    "logreg2 = LogisticRegression()"
   ]
  },
  {
   "cell_type": "code",
   "execution_count": 64,
   "id": "c0105d94",
   "metadata": {},
   "outputs": [
    {
     "name": "stderr",
     "output_type": "stream",
     "text": [
      "/usr/local/lib/python3.11/site-packages/sklearn/linear_model/_logistic.py:460: ConvergenceWarning: lbfgs failed to converge (status=1):\n",
      "STOP: TOTAL NO. of ITERATIONS REACHED LIMIT.\n",
      "\n",
      "Increase the number of iterations (max_iter) or scale the data as shown in:\n",
      "    https://scikit-learn.org/stable/modules/preprocessing.html\n",
      "Please also refer to the documentation for alternative solver options:\n",
      "    https://scikit-learn.org/stable/modules/linear_model.html#logistic-regression\n",
      "  n_iter_i = _check_optimize_result(\n"
     ]
    },
    {
     "data": {
      "text/html": [
       "<style>#sk-container-id-5 {color: black;}#sk-container-id-5 pre{padding: 0;}#sk-container-id-5 div.sk-toggleable {background-color: white;}#sk-container-id-5 label.sk-toggleable__label {cursor: pointer;display: block;width: 100%;margin-bottom: 0;padding: 0.3em;box-sizing: border-box;text-align: center;}#sk-container-id-5 label.sk-toggleable__label-arrow:before {content: \"▸\";float: left;margin-right: 0.25em;color: #696969;}#sk-container-id-5 label.sk-toggleable__label-arrow:hover:before {color: black;}#sk-container-id-5 div.sk-estimator:hover label.sk-toggleable__label-arrow:before {color: black;}#sk-container-id-5 div.sk-toggleable__content {max-height: 0;max-width: 0;overflow: hidden;text-align: left;background-color: #f0f8ff;}#sk-container-id-5 div.sk-toggleable__content pre {margin: 0.2em;color: black;border-radius: 0.25em;background-color: #f0f8ff;}#sk-container-id-5 input.sk-toggleable__control:checked~div.sk-toggleable__content {max-height: 200px;max-width: 100%;overflow: auto;}#sk-container-id-5 input.sk-toggleable__control:checked~label.sk-toggleable__label-arrow:before {content: \"▾\";}#sk-container-id-5 div.sk-estimator input.sk-toggleable__control:checked~label.sk-toggleable__label {background-color: #d4ebff;}#sk-container-id-5 div.sk-label input.sk-toggleable__control:checked~label.sk-toggleable__label {background-color: #d4ebff;}#sk-container-id-5 input.sk-hidden--visually {border: 0;clip: rect(1px 1px 1px 1px);clip: rect(1px, 1px, 1px, 1px);height: 1px;margin: -1px;overflow: hidden;padding: 0;position: absolute;width: 1px;}#sk-container-id-5 div.sk-estimator {font-family: monospace;background-color: #f0f8ff;border: 1px dotted black;border-radius: 0.25em;box-sizing: border-box;margin-bottom: 0.5em;}#sk-container-id-5 div.sk-estimator:hover {background-color: #d4ebff;}#sk-container-id-5 div.sk-parallel-item::after {content: \"\";width: 100%;border-bottom: 1px solid gray;flex-grow: 1;}#sk-container-id-5 div.sk-label:hover label.sk-toggleable__label {background-color: #d4ebff;}#sk-container-id-5 div.sk-serial::before {content: \"\";position: absolute;border-left: 1px solid gray;box-sizing: border-box;top: 0;bottom: 0;left: 50%;z-index: 0;}#sk-container-id-5 div.sk-serial {display: flex;flex-direction: column;align-items: center;background-color: white;padding-right: 0.2em;padding-left: 0.2em;position: relative;}#sk-container-id-5 div.sk-item {position: relative;z-index: 1;}#sk-container-id-5 div.sk-parallel {display: flex;align-items: stretch;justify-content: center;background-color: white;position: relative;}#sk-container-id-5 div.sk-item::before, #sk-container-id-5 div.sk-parallel-item::before {content: \"\";position: absolute;border-left: 1px solid gray;box-sizing: border-box;top: 0;bottom: 0;left: 50%;z-index: -1;}#sk-container-id-5 div.sk-parallel-item {display: flex;flex-direction: column;z-index: 1;position: relative;background-color: white;}#sk-container-id-5 div.sk-parallel-item:first-child::after {align-self: flex-end;width: 50%;}#sk-container-id-5 div.sk-parallel-item:last-child::after {align-self: flex-start;width: 50%;}#sk-container-id-5 div.sk-parallel-item:only-child::after {width: 0;}#sk-container-id-5 div.sk-dashed-wrapped {border: 1px dashed gray;margin: 0 0.4em 0.5em 0.4em;box-sizing: border-box;padding-bottom: 0.4em;background-color: white;}#sk-container-id-5 div.sk-label label {font-family: monospace;font-weight: bold;display: inline-block;line-height: 1.2em;}#sk-container-id-5 div.sk-label-container {text-align: center;}#sk-container-id-5 div.sk-container {/* jupyter's `normalize.less` sets `[hidden] { display: none; }` but bootstrap.min.css set `[hidden] { display: none !important; }` so we also need the `!important` here to be able to override the default hidden behavior on the sphinx rendered scikit-learn.org. See: https://github.com/scikit-learn/scikit-learn/issues/21755 */display: inline-block !important;position: relative;}#sk-container-id-5 div.sk-text-repr-fallback {display: none;}</style><div id=\"sk-container-id-5\" class=\"sk-top-container\"><div class=\"sk-text-repr-fallback\"><pre>LogisticRegression()</pre><b>In a Jupyter environment, please rerun this cell to show the HTML representation or trust the notebook. <br />On GitHub, the HTML representation is unable to render, please try loading this page with nbviewer.org.</b></div><div class=\"sk-container\" hidden><div class=\"sk-item\"><div class=\"sk-estimator sk-toggleable\"><input class=\"sk-toggleable__control sk-hidden--visually\" id=\"sk-estimator-id-5\" type=\"checkbox\" checked><label for=\"sk-estimator-id-5\" class=\"sk-toggleable__label sk-toggleable__label-arrow\">LogisticRegression</label><div class=\"sk-toggleable__content\"><pre>LogisticRegression()</pre></div></div></div></div></div>"
      ],
      "text/plain": [
       "LogisticRegression()"
      ]
     },
     "execution_count": 64,
     "metadata": {},
     "output_type": "execute_result"
    }
   ],
   "source": [
    "logreg2.fit(X_train, y_train)"
   ]
  },
  {
   "cell_type": "code",
   "execution_count": 65,
   "id": "a23a8ed0",
   "metadata": {},
   "outputs": [
    {
     "data": {
      "text/plain": [
       "0.8101019316128353"
      ]
     },
     "execution_count": 65,
     "metadata": {},
     "output_type": "execute_result"
    }
   ],
   "source": [
    "y_pred = logreg2.predict(X_test)\n",
    "y_pred_proba = logreg2.predict_proba(X_test)\n",
    "# Evaluate the classifier\n",
    "accuracy = accuracy_score(y_test, y_pred)\n",
    "accuracy"
   ]
  },
  {
   "cell_type": "code",
   "execution_count": 66,
   "id": "2d6bd03e",
   "metadata": {},
   "outputs": [
    {
     "name": "stdout",
     "output_type": "stream",
     "text": [
      "appointment_dur_min: 0.00681348890825324\n",
      "creation_to_start_hrs: 0.0003574628617685982\n",
      "confirm_to_start_hrs: 0.004970894306840192\n",
      "patient_age: -0.008921440572588146\n",
      "appointment_weekday_Friday: 0.06522309031561324\n",
      "appointment_weekday_Monday: -0.04099932410748946\n",
      "appointment_weekday_Saturday: 0.0888276596119326\n",
      "appointment_weekday_Sunday: -0.012135974570305854\n",
      "appointment_weekday_Thursday: -0.018414681386726986\n",
      "appointment_weekday_Tuesday: -0.00461274979525195\n",
      "appointment_weekday_Wednesday: -0.052279570802799026\n",
      "recurring_patient_first: 0.10942205343876048\n",
      "recurring_patient_recurrent: -0.08381360417363842\n",
      "confirm_request_msg_no: -0.20562361652914213\n",
      "confirm_request_msg_yes: 0.2312320657943797\n",
      "patient_confirm_no: 1.55954442802623\n",
      "patient_confirm_yes: -1.5339359787615003\n",
      "clinic_BASILICA: 0.021159926359416863\n",
      "clinic_COAPA: -0.12426576855148115\n",
      "clinic_CUAJIMALPA: -0.2013533984514467\n",
      "clinic_DEL VALLE: 0.06270128919992345\n",
      "clinic_DOCTORES: 0.03494934545512618\n",
      "clinic_MARINA NACIONAL: 0.10140184523002903\n",
      "clinic_MONTEVIDEO: 0.005682415238014021\n",
      "clinic_TLALPAN: 0.12533279478543521\n",
      "appointment_source_online: -0.028918964492876283\n",
      "appointment_source_phone: 0.05452741375806805\n",
      "appointment_date_update_no_update: 0.08118935454728529\n",
      "appointment_date_update_update: -0.05558090528211346\n",
      "patient_sex_F: -0.0006575167493056859\n",
      "patient_sex_M: 0.026265966014482008\n",
      "medical_specialty_DERMATOLOGIA: -0.03883589184599311\n",
      "medical_specialty_ENDOCRINOLOGIA: -0.11464384026224766\n",
      "medical_specialty_GASTROENTEROLOGIA: 0.12985241722720978\n",
      "medical_specialty_GINECOLOGIA: 0.0416173248119404\n",
      "medical_specialty_OTORRINOLARINGOLOGIA: 0.037070076824203636\n",
      "medical_specialty_UROLOGIA: -0.029451637489927813\n",
      "rounded_start_times_07:00:00: 0.025191749582115692\n",
      "rounded_start_times_08:00:00: 0.036218756424437545\n",
      "rounded_start_times_09:00:00: 0.0213837340803986\n",
      "rounded_start_times_10:00:00: -0.08198510347305286\n",
      "rounded_start_times_11:00:00: -0.06681391186363442\n",
      "rounded_start_times_12:00:00: -0.06439904396821128\n",
      "rounded_start_times_13:00:00: 0.03527783172042132\n",
      "rounded_start_times_14:00:00: 0.08836946679939679\n",
      "rounded_start_times_15:00:00: 0.009173461409385394\n",
      "rounded_start_times_16:00:00: -0.023224306467231032\n",
      "rounded_start_times_17:00:00: -0.015289955759112546\n",
      "rounded_start_times_18:00:00: -0.04930378065497679\n",
      "rounded_start_times_19:00:00: 0.025737874655029934\n",
      "rounded_start_times_20:00:00: 0.08527167678032324\n",
      "month_April: -0.02317477636932526\n",
      "month_August: -0.0010431085770960685\n",
      "month_December: 0.12352484005084409\n",
      "month_February: -0.009837674749019634\n",
      "month_January: -0.04174389696378049\n",
      "month_July: 0.029890319981527937\n",
      "month_June: -0.09685116920170492\n",
      "month_March: -0.033170307096366855\n",
      "month_May: -0.0701294308712646\n",
      "month_November: 0.0701318319805557\n",
      "month_October: 0.04913223907438302\n",
      "month_September: 0.028879582006437046\n"
     ]
    }
   ],
   "source": [
    "coefficients = logreg2.coef_[0]\n",
    "for feature, coef in zip(X.columns, coefficients):\n",
    "    print(f\"{feature}: {coef}\")"
   ]
  },
  {
   "cell_type": "code",
   "execution_count": 31,
   "id": "ebf64083",
   "metadata": {},
   "outputs": [
    {
     "name": "stdout",
     "output_type": "stream",
     "text": [
      "Logistic Regression Test AUC: 0.6896\n",
      "Confusion Matrix : \n",
      " [[39519  1001]\n",
      " [ 9823  6656]]\n",
      "\n",
      "Accuracy: 0.8101019316128353\n"
     ]
    }
   ],
   "source": [
    "roc_auc_micro = roc_auc_score(y_test, y_pred, multi_class='ovr', average='micro')\n",
    "print(f'Logistic Regression Test AUC: {roc_auc_micro:.4f}')\n",
    "cm_logistic = confusion_matrix(y_test, y_pred)\n",
    "print (\"Confusion Matrix : \\n\", cm_logistic)\n",
    "print (\"\\nAccuracy:\", accuracy_score(y_test, y_pred))"
   ]
  },
  {
   "cell_type": "code",
   "execution_count": 56,
   "id": "e7ab66ca",
   "metadata": {},
   "outputs": [],
   "source": [
    "cm = cm_logistic"
   ]
  },
  {
   "cell_type": "code",
   "execution_count": 57,
   "id": "872b8e35",
   "metadata": {},
   "outputs": [
    {
     "name": "stdout",
     "output_type": "stream",
     "text": [
      "accuracy:  0.7904524640783172\n",
      "TPR:  0.4485102251350203\n",
      "FPR:  0.0704837117472853\n"
     ]
    }
   ],
   "source": [
    "accuracy = (cm.ravel()[0] + cm.ravel()[3]) / sum(cm.ravel())\n",
    "TPR = cm.ravel()[3] / (cm.ravel()[2] + cm.ravel()[3])\n",
    "FPR = cm.ravel()[1] / (cm.ravel()[0] + cm.ravel()[1])\n",
    "print('accuracy: ', accuracy)\n",
    "print('TPR: ', TPR)\n",
    "print('FPR: ', FPR)"
   ]
  },
  {
   "cell_type": "code",
   "execution_count": 32,
   "id": "abd14b22",
   "metadata": {},
   "outputs": [
    {
     "name": "stdout",
     "output_type": "stream",
     "text": [
      "False Positive Rate (FPR): [0.596092   0.02470385]\n",
      "False Negative Rate (FNR): [0.02470385 0.596092  ]\n",
      "True Positive Rate (TPR): [0.97529615 0.403908  ]\n"
     ]
    }
   ],
   "source": [
    "true_positives = np.diag(cm_logistic)\n",
    "false_positives = np.sum(cm_logistic, axis=0) - true_positives\n",
    "false_negatives = np.sum(cm_logistic, axis=1) - true_positives\n",
    "true_negatives = np.sum(cm_logistic) - (true_positives + false_positives + false_negatives)\n",
    "\n",
    "\n",
    "# Calculate False Positive Rate (FPR), False Negative Rate (FNR), and True Positive Rate (TPR)\n",
    "fpr = false_positives / (false_positives + true_negatives)\n",
    "fnr = false_negatives / (false_negatives + true_positives)\n",
    "tpr = true_positives / (true_positives + false_negatives)\n",
    "\n",
    "#0 = completed, 1 = no_show/fail\n",
    "print(\"False Positive Rate (FPR):\", fpr)\n",
    "print(\"False Negative Rate (FNR):\", fnr)\n",
    "print(\"True Positive Rate (TPR):\", tpr)"
   ]
  },
  {
   "cell_type": "code",
   "execution_count": 43,
   "id": "ac0b3327",
   "metadata": {},
   "outputs": [
    {
     "data": {
      "text/plain": [
       "array([49342,  7657])"
      ]
     },
     "execution_count": 43,
     "metadata": {},
     "output_type": "execute_result"
    }
   ],
   "source": [
    "np.sum(cm_logistic, axis=0)"
   ]
  },
  {
   "cell_type": "code",
   "execution_count": 33,
   "id": "7d8e4d30",
   "metadata": {},
   "outputs": [
    {
     "name": "stdout",
     "output_type": "stream",
     "text": [
      "Classification Report:\n",
      "              precision    recall  f1-score   support\n",
      "\n",
      "           0       0.80      0.98      0.88     40520\n",
      "           1       0.87      0.40      0.55     16479\n",
      "\n",
      "    accuracy                           0.81     56999\n",
      "   macro avg       0.84      0.69      0.72     56999\n",
      "weighted avg       0.82      0.81      0.78     56999\n",
      "\n"
     ]
    }
   ],
   "source": [
    "# Display classification report\n",
    "print('Classification Report:')\n",
    "print(classification_report(y_test, y_pred))"
   ]
  },
  {
   "cell_type": "code",
   "execution_count": 34,
   "id": "dc4167dd",
   "metadata": {},
   "outputs": [
    {
     "data": {
      "text/plain": [
       "[0.5030812019790448,\n",
       " 0.5000933900390231,\n",
       " 0.5014567670219033,\n",
       " 0.49780749942130825,\n",
       " 0.5247584554556303,\n",
       " 0.49458154367062435,\n",
       " 0.5252474165659555,\n",
       " 0.49810849874596286,\n",
       " 0.5002029125806394,\n",
       " 0.5024401956382513,\n",
       " 0.4907012857121648,\n",
       " 0.5538515844390672,\n",
       " 0.4820272656488026,\n",
       " 0.47423863353267703,\n",
       " 0.5615512105891386,\n",
       " 0.8346230249161803,\n",
       " 0.18627029598334807,\n",
       " 0.5217179946105138,\n",
       " 0.4663761015124562,\n",
       " 0.45552879096355925,\n",
       " 0.5164044477143652,\n",
       " 0.5082726495689631,\n",
       " 0.5261368689434952,\n",
       " 0.5029169339959897,\n",
       " 0.5387734522361867,\n",
       " 0.4948912498729046,\n",
       " 0.5410967942752982,\n",
       " 0.5460890411823884,\n",
       " 0.4898619328609503,\n",
       " 0.5056441555063743,\n",
       " 0.5303988567531354,\n",
       " 0.49619344160765233,\n",
       " 0.4706025956521704,\n",
       " 0.5351315672131708,\n",
       " 0.5178262864576675,\n",
       " 0.5164024409108785,\n",
       " 0.49988704432098285,\n",
       " 0.5063217599257758,\n",
       " 0.5105531804378457,\n",
       " 0.5060236783163011,\n",
       " 0.4772014581895131,\n",
       " 0.4839465770123617,\n",
       " 0.4850284946247145,\n",
       " 0.511818721615606,\n",
       " 0.5258711175631033,\n",
       " 0.5040101712913924,\n",
       " 0.4996521487210221,\n",
       " 0.49971222311197916,\n",
       " 0.4943856846877055,\n",
       " 0.5085814367840394,\n",
       " 0.5229555896189021,\n",
       " 0.49621596309671295,\n",
       " 0.49897690025450586,\n",
       " 0.5323765634051218,\n",
       " 0.5022540545789741,\n",
       " 0.4941955527795818,\n",
       " 0.5067526705684587,\n",
       " 0.47819835308958514,\n",
       " 0.49630616040589015,\n",
       " 0.49143226740737717,\n",
       " 0.5179994783516544,\n",
       " 0.5132851960080645,\n",
       " 0.5080453084661144]"
      ]
     },
     "execution_count": 34,
     "metadata": {},
     "output_type": "execute_result"
    }
   ],
   "source": [
    "[np.exp(x)/(1 + np.exp(x)) for x in logreg.coef_[0]]"
   ]
  },
  {
   "cell_type": "code",
   "execution_count": 35,
   "id": "158ab489",
   "metadata": {},
   "outputs": [
    {
     "name": "stdout",
     "output_type": "stream",
     "text": [
      "Accuracy: 0.7662590571764417\n",
      "Classification Report:\n",
      "              precision    recall  f1-score   support\n",
      "\n",
      "           0       0.80      0.90      0.85     40520\n",
      "           1       0.64      0.43      0.52     16479\n",
      "\n",
      "    accuracy                           0.77     56999\n",
      "   macro avg       0.72      0.67      0.68     56999\n",
      "weighted avg       0.75      0.77      0.75     56999\n",
      "\n"
     ]
    }
   ],
   "source": [
    "knn_classifier = KNeighborsClassifier()\n",
    "\n",
    "# Train the classifier\n",
    "knn_classifier.fit(X_train, y_train)\n",
    "\n",
    "# Make predictions on the test set\n",
    "y_pred = knn_classifier.predict(X_test)\n",
    "\n",
    "# Evaluate the classifier\n",
    "accuracy = accuracy_score(y_test, y_pred)\n",
    "print(f'Accuracy: {accuracy}')\n",
    "\n",
    "# Display classification report\n",
    "print('Classification Report:')\n",
    "print(classification_report(y_test, y_pred))"
   ]
  },
  {
   "cell_type": "code",
   "execution_count": 67,
   "id": "b9f94790",
   "metadata": {},
   "outputs": [
    {
     "name": "stdout",
     "output_type": "stream",
     "text": [
      "Accuracy: 0.8097335040965631\n",
      "Classification Report:\n",
      "               precision    recall  f1-score   support\n",
      "\n",
      "           0       0.80      0.98      0.88     40520\n",
      "           1       0.87      0.40      0.55     16479\n",
      "\n",
      "    accuracy                           0.81     56999\n",
      "   macro avg       0.84      0.69      0.71     56999\n",
      "weighted avg       0.82      0.81      0.78     56999\n",
      "\n"
     ]
    }
   ],
   "source": [
    "lda = LinearDiscriminantAnalysis()\n",
    "lda.fit(X_train,y_train)\n",
    "y_pred_lda = lda.predict(X_test)\n",
    "accuracy = accuracy_score(y_test, y_pred_lda)\n",
    "classification_report_result = classification_report(y_test, y_pred_lda)\n",
    "\n",
    "print(\"Accuracy:\", accuracy)\n",
    "print(\"Classification Report:\\n\", classification_report_result)"
   ]
  },
  {
   "cell_type": "code",
   "execution_count": 68,
   "id": "6b72ea11",
   "metadata": {},
   "outputs": [
    {
     "name": "stdout",
     "output_type": "stream",
     "text": [
      "appointment_dur_min: 0.0027425178990566337\n",
      "creation_to_start_hrs: 0.00037410469683267267\n",
      "confirm_to_start_hrs: 0.003400788708960249\n",
      "patient_age: -0.009263016175394548\n",
      "appointment_weekday_Friday: 0.05080733493246024\n",
      "appointment_weekday_Monday: -0.015909304665684774\n",
      "appointment_weekday_Saturday: 0.10564572088182446\n",
      "appointment_weekday_Sunday: -0.07920959334754486\n",
      "appointment_weekday_Thursday: -0.026596830477782517\n",
      "appointment_weekday_Tuesday: -0.008360563918298071\n",
      "appointment_weekday_Wednesday: -0.057706150270571965\n",
      "recurring_patient_first: 0.10359808386210634\n",
      "recurring_patient_recurrent: -0.10359808386210619\n",
      "confirm_request_msg_no: -0.24664993013330766\n",
      "confirm_request_msg_yes: 0.2466499301333069\n",
      "patient_confirm_no: 2.058846008091765\n",
      "patient_confirm_yes: -2.0588460080917645\n",
      "clinic_BASILICA: 0.01868975331935496\n",
      "clinic_COAPA: -0.13173623824041178\n",
      "clinic_CUAJIMALPA: -0.2775462828632893\n",
      "clinic_DEL VALLE: 0.17125453131246926\n",
      "clinic_DOCTORES: 0.20672194424957152\n",
      "clinic_MARINA NACIONAL: 0.097785275334114\n",
      "clinic_MONTEVIDEO: 0.07852566348124354\n",
      "clinic_TLALPAN: 0.11052682721784292\n",
      "appointment_source_online: -0.16616021806073084\n",
      "appointment_source_phone: 0.1661602180607304\n",
      "appointment_date_update_no_update: 0.03991660310132502\n",
      "appointment_date_update_update: -0.039916603101325575\n",
      "patient_sex_F: -0.0173154956345935\n",
      "patient_sex_M: 0.017315495634593076\n",
      "medical_specialty_DERMATOLOGIA: -0.023473985389324412\n",
      "medical_specialty_ENDOCRINOLOGIA: -0.12601765409550014\n",
      "medical_specialty_GASTROENTEROLOGIA: 0.12486571383043951\n",
      "medical_specialty_GINECOLOGIA: 0.025417350898165856\n",
      "medical_specialty_OTORRINOLARINGOLOGIA: 0.04161516787465443\n",
      "medical_specialty_UROLOGIA: -0.0396674526677809\n",
      "rounded_start_times_07:00:00: 0.20858086521109404\n",
      "rounded_start_times_08:00:00: 0.026228987425566785\n",
      "rounded_start_times_09:00:00: 0.018461892416997853\n",
      "rounded_start_times_10:00:00: -0.0798463171984564\n",
      "rounded_start_times_11:00:00: -0.10707392927138969\n",
      "rounded_start_times_12:00:00: -0.06006473544359997\n",
      "rounded_start_times_13:00:00: 0.060029696152494205\n",
      "rounded_start_times_14:00:00: 0.11517290326996493\n",
      "rounded_start_times_15:00:00: 0.040134716126028494\n",
      "rounded_start_times_16:00:00: -0.011826365790710202\n",
      "rounded_start_times_17:00:00: -0.009001198018137396\n",
      "rounded_start_times_18:00:00: -0.03427393427934937\n",
      "rounded_start_times_19:00:00: 0.10424525521692324\n",
      "rounded_start_times_20:00:00: 0.2418456842295974\n",
      "month_April: -0.038257768244890064\n",
      "month_August: -0.0029923437409174114\n",
      "month_December: 0.1453348745697958\n",
      "month_February: -0.009051134739508223\n",
      "month_January: -0.05613387487525452\n",
      "month_July: 0.03137567097879235\n",
      "month_June: -0.11267727336560601\n",
      "month_March: -0.03781783689325804\n",
      "month_May: -0.09514365875817327\n",
      "month_November: 0.07845180360047792\n",
      "month_October: 0.05505362091264725\n",
      "month_September: 0.029097483067161038\n"
     ]
    }
   ],
   "source": [
    "coefficients = lda.coef_[0]\n",
    "for feature, coef in zip(X.columns, coefficients):\n",
    "    print(f\"{feature}: {coef}\")"
   ]
  },
  {
   "cell_type": "code",
   "execution_count": 49,
   "id": "ab587fa0",
   "metadata": {},
   "outputs": [
    {
     "name": "stdout",
     "output_type": "stream",
     "text": [
      "accuracy:  0.8097335040965631\n",
      "TPR:  0.4003276897870016\n",
      "FPR:  0.02376604146100691\n"
     ]
    }
   ],
   "source": [
    "cm_lda= confusion_matrix(y_test, y_pred_lda)\n",
    "accuracy = (cm_lda.ravel()[0] + cm_lda.ravel()[3]) / sum(cm_lda.ravel())\n",
    "TPR = cm_lda.ravel()[3] / (cm_lda.ravel()[2] + cm_lda.ravel()[3])\n",
    "FPR = cm_lda.ravel()[1] / (cm_lda.ravel()[0] + cm_lda.ravel()[1])\n",
    "print('accuracy: ', accuracy)\n",
    "print('TPR: ', TPR)\n",
    "print('FPR: ', FPR)"
   ]
  },
  {
   "cell_type": "code",
   "execution_count": 70,
   "id": "f0abd0d6",
   "metadata": {},
   "outputs": [
    {
     "data": {
      "text/plain": [
       "0.6882808241629974"
      ]
     },
     "execution_count": 70,
     "metadata": {},
     "output_type": "execute_result"
    }
   ],
   "source": [
    "roc_auc_score(y_test, y_pred_lda)"
   ]
  },
  {
   "cell_type": "code",
   "execution_count": 37,
   "id": "ec8bed9e",
   "metadata": {},
   "outputs": [
    {
     "name": "stdout",
     "output_type": "stream",
     "text": [
      "              precision    recall  f1-score   support\n",
      "\n",
      "           0       0.80      0.79      0.80     40520\n",
      "           1       0.50      0.51      0.50     16479\n",
      "\n",
      "    accuracy                           0.71     56999\n",
      "   macro avg       0.65      0.65      0.65     56999\n",
      "weighted avg       0.71      0.71      0.71     56999\n",
      "\n"
     ]
    }
   ],
   "source": [
    "dtc = DecisionTreeClassifier(class_weight = 'balanced', random_state = 10)\n",
    "dtc = dtc.fit(X_train, y_train)\n",
    "y_pred_dtc = dtc.predict(X_test)\n",
    "print(classification_report(y_test, y_pred_dtc))"
   ]
  },
  {
   "cell_type": "code",
   "execution_count": 39,
   "id": "50233247",
   "metadata": {},
   "outputs": [
    {
     "ename": "KeyboardInterrupt",
     "evalue": "",
     "output_type": "error",
     "traceback": [
      "\u001b[0;31m---------------------------------------------------------------------------\u001b[0m",
      "\u001b[0;31mKeyboardInterrupt\u001b[0m                         Traceback (most recent call last)",
      "Cell \u001b[0;32mIn[39], line 4\u001b[0m\n\u001b[1;32m      2\u001b[0m rfc \u001b[38;5;241m=\u001b[39m RandomForestClassifier(random_state \u001b[38;5;241m=\u001b[39m \u001b[38;5;241m88\u001b[39m, class_weight\u001b[38;5;241m=\u001b[39m\u001b[38;5;124m'\u001b[39m\u001b[38;5;124mbalanced\u001b[39m\u001b[38;5;124m'\u001b[39m, max_depth\u001b[38;5;241m=\u001b[39m\u001b[38;5;241m5\u001b[39m)\n\u001b[1;32m      3\u001b[0m rfc_cv \u001b[38;5;241m=\u001b[39m GridSearchCV(rfc, params, cv \u001b[38;5;241m=\u001b[39m \u001b[38;5;241m5\u001b[39m, scoring \u001b[38;5;241m=\u001b[39m \u001b[38;5;124m'\u001b[39m\u001b[38;5;124maccuracy\u001b[39m\u001b[38;5;124m'\u001b[39m,verbose \u001b[38;5;241m=\u001b[39m \u001b[38;5;28;01mFalse\u001b[39;00m)\n\u001b[0;32m----> 4\u001b[0m \u001b[43mrfc_cv\u001b[49m\u001b[38;5;241;43m.\u001b[39;49m\u001b[43mfit\u001b[49m\u001b[43m(\u001b[49m\u001b[43mX_train\u001b[49m\u001b[43m,\u001b[49m\u001b[43m \u001b[49m\u001b[43my_train\u001b[49m\u001b[43m)\u001b[49m\n\u001b[1;32m      5\u001b[0m y_pred_rfc \u001b[38;5;241m=\u001b[39m rfc_cv\u001b[38;5;241m.\u001b[39mbest_estimator_\u001b[38;5;241m.\u001b[39mpredict(X_test)\n\u001b[1;32m      6\u001b[0m \u001b[38;5;28mprint\u001b[39m(classification_report(y_test, y_pred_rfc))\n",
      "File \u001b[0;32m/usr/local/lib/python3.11/site-packages/sklearn/base.py:1152\u001b[0m, in \u001b[0;36m_fit_context.<locals>.decorator.<locals>.wrapper\u001b[0;34m(estimator, *args, **kwargs)\u001b[0m\n\u001b[1;32m   1145\u001b[0m     estimator\u001b[38;5;241m.\u001b[39m_validate_params()\n\u001b[1;32m   1147\u001b[0m \u001b[38;5;28;01mwith\u001b[39;00m config_context(\n\u001b[1;32m   1148\u001b[0m     skip_parameter_validation\u001b[38;5;241m=\u001b[39m(\n\u001b[1;32m   1149\u001b[0m         prefer_skip_nested_validation \u001b[38;5;129;01mor\u001b[39;00m global_skip_validation\n\u001b[1;32m   1150\u001b[0m     )\n\u001b[1;32m   1151\u001b[0m ):\n\u001b[0;32m-> 1152\u001b[0m     \u001b[38;5;28;01mreturn\u001b[39;00m \u001b[43mfit_method\u001b[49m\u001b[43m(\u001b[49m\u001b[43mestimator\u001b[49m\u001b[43m,\u001b[49m\u001b[43m \u001b[49m\u001b[38;5;241;43m*\u001b[39;49m\u001b[43margs\u001b[49m\u001b[43m,\u001b[49m\u001b[43m \u001b[49m\u001b[38;5;241;43m*\u001b[39;49m\u001b[38;5;241;43m*\u001b[39;49m\u001b[43mkwargs\u001b[49m\u001b[43m)\u001b[49m\n",
      "File \u001b[0;32m/usr/local/lib/python3.11/site-packages/sklearn/model_selection/_search.py:898\u001b[0m, in \u001b[0;36mBaseSearchCV.fit\u001b[0;34m(self, X, y, groups, **fit_params)\u001b[0m\n\u001b[1;32m    892\u001b[0m     results \u001b[38;5;241m=\u001b[39m \u001b[38;5;28mself\u001b[39m\u001b[38;5;241m.\u001b[39m_format_results(\n\u001b[1;32m    893\u001b[0m         all_candidate_params, n_splits, all_out, all_more_results\n\u001b[1;32m    894\u001b[0m     )\n\u001b[1;32m    896\u001b[0m     \u001b[38;5;28;01mreturn\u001b[39;00m results\n\u001b[0;32m--> 898\u001b[0m \u001b[38;5;28;43mself\u001b[39;49m\u001b[38;5;241;43m.\u001b[39;49m\u001b[43m_run_search\u001b[49m\u001b[43m(\u001b[49m\u001b[43mevaluate_candidates\u001b[49m\u001b[43m)\u001b[49m\n\u001b[1;32m    900\u001b[0m \u001b[38;5;66;03m# multimetric is determined here because in the case of a callable\u001b[39;00m\n\u001b[1;32m    901\u001b[0m \u001b[38;5;66;03m# self.scoring the return type is only known after calling\u001b[39;00m\n\u001b[1;32m    902\u001b[0m first_test_score \u001b[38;5;241m=\u001b[39m all_out[\u001b[38;5;241m0\u001b[39m][\u001b[38;5;124m\"\u001b[39m\u001b[38;5;124mtest_scores\u001b[39m\u001b[38;5;124m\"\u001b[39m]\n",
      "File \u001b[0;32m/usr/local/lib/python3.11/site-packages/sklearn/model_selection/_search.py:1422\u001b[0m, in \u001b[0;36mGridSearchCV._run_search\u001b[0;34m(self, evaluate_candidates)\u001b[0m\n\u001b[1;32m   1420\u001b[0m \u001b[38;5;28;01mdef\u001b[39;00m \u001b[38;5;21m_run_search\u001b[39m(\u001b[38;5;28mself\u001b[39m, evaluate_candidates):\n\u001b[1;32m   1421\u001b[0m \u001b[38;5;250m    \u001b[39m\u001b[38;5;124;03m\"\"\"Search all candidates in param_grid\"\"\"\u001b[39;00m\n\u001b[0;32m-> 1422\u001b[0m     \u001b[43mevaluate_candidates\u001b[49m\u001b[43m(\u001b[49m\u001b[43mParameterGrid\u001b[49m\u001b[43m(\u001b[49m\u001b[38;5;28;43mself\u001b[39;49m\u001b[38;5;241;43m.\u001b[39;49m\u001b[43mparam_grid\u001b[49m\u001b[43m)\u001b[49m\u001b[43m)\u001b[49m\n",
      "File \u001b[0;32m/usr/local/lib/python3.11/site-packages/sklearn/model_selection/_search.py:845\u001b[0m, in \u001b[0;36mBaseSearchCV.fit.<locals>.evaluate_candidates\u001b[0;34m(candidate_params, cv, more_results)\u001b[0m\n\u001b[1;32m    837\u001b[0m \u001b[38;5;28;01mif\u001b[39;00m \u001b[38;5;28mself\u001b[39m\u001b[38;5;241m.\u001b[39mverbose \u001b[38;5;241m>\u001b[39m \u001b[38;5;241m0\u001b[39m:\n\u001b[1;32m    838\u001b[0m     \u001b[38;5;28mprint\u001b[39m(\n\u001b[1;32m    839\u001b[0m         \u001b[38;5;124m\"\u001b[39m\u001b[38;5;124mFitting \u001b[39m\u001b[38;5;132;01m{0}\u001b[39;00m\u001b[38;5;124m folds for each of \u001b[39m\u001b[38;5;132;01m{1}\u001b[39;00m\u001b[38;5;124m candidates,\u001b[39m\u001b[38;5;124m\"\u001b[39m\n\u001b[1;32m    840\u001b[0m         \u001b[38;5;124m\"\u001b[39m\u001b[38;5;124m totalling \u001b[39m\u001b[38;5;132;01m{2}\u001b[39;00m\u001b[38;5;124m fits\u001b[39m\u001b[38;5;124m\"\u001b[39m\u001b[38;5;241m.\u001b[39mformat(\n\u001b[1;32m    841\u001b[0m             n_splits, n_candidates, n_candidates \u001b[38;5;241m*\u001b[39m n_splits\n\u001b[1;32m    842\u001b[0m         )\n\u001b[1;32m    843\u001b[0m     )\n\u001b[0;32m--> 845\u001b[0m out \u001b[38;5;241m=\u001b[39m \u001b[43mparallel\u001b[49m\u001b[43m(\u001b[49m\n\u001b[1;32m    846\u001b[0m \u001b[43m    \u001b[49m\u001b[43mdelayed\u001b[49m\u001b[43m(\u001b[49m\u001b[43m_fit_and_score\u001b[49m\u001b[43m)\u001b[49m\u001b[43m(\u001b[49m\n\u001b[1;32m    847\u001b[0m \u001b[43m        \u001b[49m\u001b[43mclone\u001b[49m\u001b[43m(\u001b[49m\u001b[43mbase_estimator\u001b[49m\u001b[43m)\u001b[49m\u001b[43m,\u001b[49m\n\u001b[1;32m    848\u001b[0m \u001b[43m        \u001b[49m\u001b[43mX\u001b[49m\u001b[43m,\u001b[49m\n\u001b[1;32m    849\u001b[0m \u001b[43m        \u001b[49m\u001b[43my\u001b[49m\u001b[43m,\u001b[49m\n\u001b[1;32m    850\u001b[0m \u001b[43m        \u001b[49m\u001b[43mtrain\u001b[49m\u001b[38;5;241;43m=\u001b[39;49m\u001b[43mtrain\u001b[49m\u001b[43m,\u001b[49m\n\u001b[1;32m    851\u001b[0m \u001b[43m        \u001b[49m\u001b[43mtest\u001b[49m\u001b[38;5;241;43m=\u001b[39;49m\u001b[43mtest\u001b[49m\u001b[43m,\u001b[49m\n\u001b[1;32m    852\u001b[0m \u001b[43m        \u001b[49m\u001b[43mparameters\u001b[49m\u001b[38;5;241;43m=\u001b[39;49m\u001b[43mparameters\u001b[49m\u001b[43m,\u001b[49m\n\u001b[1;32m    853\u001b[0m \u001b[43m        \u001b[49m\u001b[43msplit_progress\u001b[49m\u001b[38;5;241;43m=\u001b[39;49m\u001b[43m(\u001b[49m\u001b[43msplit_idx\u001b[49m\u001b[43m,\u001b[49m\u001b[43m \u001b[49m\u001b[43mn_splits\u001b[49m\u001b[43m)\u001b[49m\u001b[43m,\u001b[49m\n\u001b[1;32m    854\u001b[0m \u001b[43m        \u001b[49m\u001b[43mcandidate_progress\u001b[49m\u001b[38;5;241;43m=\u001b[39;49m\u001b[43m(\u001b[49m\u001b[43mcand_idx\u001b[49m\u001b[43m,\u001b[49m\u001b[43m \u001b[49m\u001b[43mn_candidates\u001b[49m\u001b[43m)\u001b[49m\u001b[43m,\u001b[49m\n\u001b[1;32m    855\u001b[0m \u001b[43m        \u001b[49m\u001b[38;5;241;43m*\u001b[39;49m\u001b[38;5;241;43m*\u001b[39;49m\u001b[43mfit_and_score_kwargs\u001b[49m\u001b[43m,\u001b[49m\n\u001b[1;32m    856\u001b[0m \u001b[43m    \u001b[49m\u001b[43m)\u001b[49m\n\u001b[1;32m    857\u001b[0m \u001b[43m    \u001b[49m\u001b[38;5;28;43;01mfor\u001b[39;49;00m\u001b[43m \u001b[49m\u001b[43m(\u001b[49m\u001b[43mcand_idx\u001b[49m\u001b[43m,\u001b[49m\u001b[43m \u001b[49m\u001b[43mparameters\u001b[49m\u001b[43m)\u001b[49m\u001b[43m,\u001b[49m\u001b[43m \u001b[49m\u001b[43m(\u001b[49m\u001b[43msplit_idx\u001b[49m\u001b[43m,\u001b[49m\u001b[43m \u001b[49m\u001b[43m(\u001b[49m\u001b[43mtrain\u001b[49m\u001b[43m,\u001b[49m\u001b[43m \u001b[49m\u001b[43mtest\u001b[49m\u001b[43m)\u001b[49m\u001b[43m)\u001b[49m\u001b[43m \u001b[49m\u001b[38;5;129;43;01min\u001b[39;49;00m\u001b[43m \u001b[49m\u001b[43mproduct\u001b[49m\u001b[43m(\u001b[49m\n\u001b[1;32m    858\u001b[0m \u001b[43m        \u001b[49m\u001b[38;5;28;43menumerate\u001b[39;49m\u001b[43m(\u001b[49m\u001b[43mcandidate_params\u001b[49m\u001b[43m)\u001b[49m\u001b[43m,\u001b[49m\u001b[43m \u001b[49m\u001b[38;5;28;43menumerate\u001b[39;49m\u001b[43m(\u001b[49m\u001b[43mcv\u001b[49m\u001b[38;5;241;43m.\u001b[39;49m\u001b[43msplit\u001b[49m\u001b[43m(\u001b[49m\u001b[43mX\u001b[49m\u001b[43m,\u001b[49m\u001b[43m \u001b[49m\u001b[43my\u001b[49m\u001b[43m,\u001b[49m\u001b[43m \u001b[49m\u001b[43mgroups\u001b[49m\u001b[43m)\u001b[49m\u001b[43m)\u001b[49m\n\u001b[1;32m    859\u001b[0m \u001b[43m    \u001b[49m\u001b[43m)\u001b[49m\n\u001b[1;32m    860\u001b[0m \u001b[43m\u001b[49m\u001b[43m)\u001b[49m\n\u001b[1;32m    862\u001b[0m \u001b[38;5;28;01mif\u001b[39;00m \u001b[38;5;28mlen\u001b[39m(out) \u001b[38;5;241m<\u001b[39m \u001b[38;5;241m1\u001b[39m:\n\u001b[1;32m    863\u001b[0m     \u001b[38;5;28;01mraise\u001b[39;00m \u001b[38;5;167;01mValueError\u001b[39;00m(\n\u001b[1;32m    864\u001b[0m         \u001b[38;5;124m\"\u001b[39m\u001b[38;5;124mNo fits were performed. \u001b[39m\u001b[38;5;124m\"\u001b[39m\n\u001b[1;32m    865\u001b[0m         \u001b[38;5;124m\"\u001b[39m\u001b[38;5;124mWas the CV iterator empty? \u001b[39m\u001b[38;5;124m\"\u001b[39m\n\u001b[1;32m    866\u001b[0m         \u001b[38;5;124m\"\u001b[39m\u001b[38;5;124mWere there no candidates?\u001b[39m\u001b[38;5;124m\"\u001b[39m\n\u001b[1;32m    867\u001b[0m     )\n",
      "File \u001b[0;32m/usr/local/lib/python3.11/site-packages/sklearn/utils/parallel.py:65\u001b[0m, in \u001b[0;36mParallel.__call__\u001b[0;34m(self, iterable)\u001b[0m\n\u001b[1;32m     60\u001b[0m config \u001b[38;5;241m=\u001b[39m get_config()\n\u001b[1;32m     61\u001b[0m iterable_with_config \u001b[38;5;241m=\u001b[39m (\n\u001b[1;32m     62\u001b[0m     (_with_config(delayed_func, config), args, kwargs)\n\u001b[1;32m     63\u001b[0m     \u001b[38;5;28;01mfor\u001b[39;00m delayed_func, args, kwargs \u001b[38;5;129;01min\u001b[39;00m iterable\n\u001b[1;32m     64\u001b[0m )\n\u001b[0;32m---> 65\u001b[0m \u001b[38;5;28;01mreturn\u001b[39;00m \u001b[38;5;28;43msuper\u001b[39;49m\u001b[43m(\u001b[49m\u001b[43m)\u001b[49m\u001b[38;5;241;43m.\u001b[39;49m\u001b[38;5;21;43m__call__\u001b[39;49m\u001b[43m(\u001b[49m\u001b[43miterable_with_config\u001b[49m\u001b[43m)\u001b[49m\n",
      "File \u001b[0;32m/usr/local/lib/python3.11/site-packages/joblib/parallel.py:1863\u001b[0m, in \u001b[0;36mParallel.__call__\u001b[0;34m(self, iterable)\u001b[0m\n\u001b[1;32m   1861\u001b[0m     output \u001b[38;5;241m=\u001b[39m \u001b[38;5;28mself\u001b[39m\u001b[38;5;241m.\u001b[39m_get_sequential_output(iterable)\n\u001b[1;32m   1862\u001b[0m     \u001b[38;5;28mnext\u001b[39m(output)\n\u001b[0;32m-> 1863\u001b[0m     \u001b[38;5;28;01mreturn\u001b[39;00m output \u001b[38;5;28;01mif\u001b[39;00m \u001b[38;5;28mself\u001b[39m\u001b[38;5;241m.\u001b[39mreturn_generator \u001b[38;5;28;01melse\u001b[39;00m \u001b[38;5;28mlist\u001b[39m(output)\n\u001b[1;32m   1865\u001b[0m \u001b[38;5;66;03m# Let's create an ID that uniquely identifies the current call. If the\u001b[39;00m\n\u001b[1;32m   1866\u001b[0m \u001b[38;5;66;03m# call is interrupted early and that the same instance is immediately\u001b[39;00m\n\u001b[1;32m   1867\u001b[0m \u001b[38;5;66;03m# re-used, this id will be used to prevent workers that were\u001b[39;00m\n\u001b[1;32m   1868\u001b[0m \u001b[38;5;66;03m# concurrently finalizing a task from the previous call to run the\u001b[39;00m\n\u001b[1;32m   1869\u001b[0m \u001b[38;5;66;03m# callback.\u001b[39;00m\n\u001b[1;32m   1870\u001b[0m \u001b[38;5;28;01mwith\u001b[39;00m \u001b[38;5;28mself\u001b[39m\u001b[38;5;241m.\u001b[39m_lock:\n",
      "File \u001b[0;32m/usr/local/lib/python3.11/site-packages/joblib/parallel.py:1792\u001b[0m, in \u001b[0;36mParallel._get_sequential_output\u001b[0;34m(self, iterable)\u001b[0m\n\u001b[1;32m   1790\u001b[0m \u001b[38;5;28mself\u001b[39m\u001b[38;5;241m.\u001b[39mn_dispatched_batches \u001b[38;5;241m+\u001b[39m\u001b[38;5;241m=\u001b[39m \u001b[38;5;241m1\u001b[39m\n\u001b[1;32m   1791\u001b[0m \u001b[38;5;28mself\u001b[39m\u001b[38;5;241m.\u001b[39mn_dispatched_tasks \u001b[38;5;241m+\u001b[39m\u001b[38;5;241m=\u001b[39m \u001b[38;5;241m1\u001b[39m\n\u001b[0;32m-> 1792\u001b[0m res \u001b[38;5;241m=\u001b[39m \u001b[43mfunc\u001b[49m\u001b[43m(\u001b[49m\u001b[38;5;241;43m*\u001b[39;49m\u001b[43margs\u001b[49m\u001b[43m,\u001b[49m\u001b[43m \u001b[49m\u001b[38;5;241;43m*\u001b[39;49m\u001b[38;5;241;43m*\u001b[39;49m\u001b[43mkwargs\u001b[49m\u001b[43m)\u001b[49m\n\u001b[1;32m   1793\u001b[0m \u001b[38;5;28mself\u001b[39m\u001b[38;5;241m.\u001b[39mn_completed_tasks \u001b[38;5;241m+\u001b[39m\u001b[38;5;241m=\u001b[39m \u001b[38;5;241m1\u001b[39m\n\u001b[1;32m   1794\u001b[0m \u001b[38;5;28mself\u001b[39m\u001b[38;5;241m.\u001b[39mprint_progress()\n",
      "File \u001b[0;32m/usr/local/lib/python3.11/site-packages/sklearn/utils/parallel.py:127\u001b[0m, in \u001b[0;36m_FuncWrapper.__call__\u001b[0;34m(self, *args, **kwargs)\u001b[0m\n\u001b[1;32m    125\u001b[0m     config \u001b[38;5;241m=\u001b[39m {}\n\u001b[1;32m    126\u001b[0m \u001b[38;5;28;01mwith\u001b[39;00m config_context(\u001b[38;5;241m*\u001b[39m\u001b[38;5;241m*\u001b[39mconfig):\n\u001b[0;32m--> 127\u001b[0m     \u001b[38;5;28;01mreturn\u001b[39;00m \u001b[38;5;28;43mself\u001b[39;49m\u001b[38;5;241;43m.\u001b[39;49m\u001b[43mfunction\u001b[49m\u001b[43m(\u001b[49m\u001b[38;5;241;43m*\u001b[39;49m\u001b[43margs\u001b[49m\u001b[43m,\u001b[49m\u001b[43m \u001b[49m\u001b[38;5;241;43m*\u001b[39;49m\u001b[38;5;241;43m*\u001b[39;49m\u001b[43mkwargs\u001b[49m\u001b[43m)\u001b[49m\n",
      "File \u001b[0;32m/usr/local/lib/python3.11/site-packages/sklearn/model_selection/_validation.py:729\u001b[0m, in \u001b[0;36m_fit_and_score\u001b[0;34m(estimator, X, y, scorer, train, test, verbose, parameters, fit_params, return_train_score, return_parameters, return_n_test_samples, return_times, return_estimator, split_progress, candidate_progress, error_score)\u001b[0m\n\u001b[1;32m    727\u001b[0m         estimator\u001b[38;5;241m.\u001b[39mfit(X_train, \u001b[38;5;241m*\u001b[39m\u001b[38;5;241m*\u001b[39mfit_params)\n\u001b[1;32m    728\u001b[0m     \u001b[38;5;28;01melse\u001b[39;00m:\n\u001b[0;32m--> 729\u001b[0m         \u001b[43mestimator\u001b[49m\u001b[38;5;241;43m.\u001b[39;49m\u001b[43mfit\u001b[49m\u001b[43m(\u001b[49m\u001b[43mX_train\u001b[49m\u001b[43m,\u001b[49m\u001b[43m \u001b[49m\u001b[43my_train\u001b[49m\u001b[43m,\u001b[49m\u001b[43m \u001b[49m\u001b[38;5;241;43m*\u001b[39;49m\u001b[38;5;241;43m*\u001b[39;49m\u001b[43mfit_params\u001b[49m\u001b[43m)\u001b[49m\n\u001b[1;32m    731\u001b[0m \u001b[38;5;28;01mexcept\u001b[39;00m \u001b[38;5;167;01mException\u001b[39;00m:\n\u001b[1;32m    732\u001b[0m     \u001b[38;5;66;03m# Note fit time as time until error\u001b[39;00m\n\u001b[1;32m    733\u001b[0m     fit_time \u001b[38;5;241m=\u001b[39m time\u001b[38;5;241m.\u001b[39mtime() \u001b[38;5;241m-\u001b[39m start_time\n",
      "File \u001b[0;32m/usr/local/lib/python3.11/site-packages/sklearn/base.py:1152\u001b[0m, in \u001b[0;36m_fit_context.<locals>.decorator.<locals>.wrapper\u001b[0;34m(estimator, *args, **kwargs)\u001b[0m\n\u001b[1;32m   1145\u001b[0m     estimator\u001b[38;5;241m.\u001b[39m_validate_params()\n\u001b[1;32m   1147\u001b[0m \u001b[38;5;28;01mwith\u001b[39;00m config_context(\n\u001b[1;32m   1148\u001b[0m     skip_parameter_validation\u001b[38;5;241m=\u001b[39m(\n\u001b[1;32m   1149\u001b[0m         prefer_skip_nested_validation \u001b[38;5;129;01mor\u001b[39;00m global_skip_validation\n\u001b[1;32m   1150\u001b[0m     )\n\u001b[1;32m   1151\u001b[0m ):\n\u001b[0;32m-> 1152\u001b[0m     \u001b[38;5;28;01mreturn\u001b[39;00m \u001b[43mfit_method\u001b[49m\u001b[43m(\u001b[49m\u001b[43mestimator\u001b[49m\u001b[43m,\u001b[49m\u001b[43m \u001b[49m\u001b[38;5;241;43m*\u001b[39;49m\u001b[43margs\u001b[49m\u001b[43m,\u001b[49m\u001b[43m \u001b[49m\u001b[38;5;241;43m*\u001b[39;49m\u001b[38;5;241;43m*\u001b[39;49m\u001b[43mkwargs\u001b[49m\u001b[43m)\u001b[49m\n",
      "File \u001b[0;32m/usr/local/lib/python3.11/site-packages/sklearn/ensemble/_forest.py:456\u001b[0m, in \u001b[0;36mBaseForest.fit\u001b[0;34m(self, X, y, sample_weight)\u001b[0m\n\u001b[1;32m    445\u001b[0m trees \u001b[38;5;241m=\u001b[39m [\n\u001b[1;32m    446\u001b[0m     \u001b[38;5;28mself\u001b[39m\u001b[38;5;241m.\u001b[39m_make_estimator(append\u001b[38;5;241m=\u001b[39m\u001b[38;5;28;01mFalse\u001b[39;00m, random_state\u001b[38;5;241m=\u001b[39mrandom_state)\n\u001b[1;32m    447\u001b[0m     \u001b[38;5;28;01mfor\u001b[39;00m i \u001b[38;5;129;01min\u001b[39;00m \u001b[38;5;28mrange\u001b[39m(n_more_estimators)\n\u001b[1;32m    448\u001b[0m ]\n\u001b[1;32m    450\u001b[0m \u001b[38;5;66;03m# Parallel loop: we prefer the threading backend as the Cython code\u001b[39;00m\n\u001b[1;32m    451\u001b[0m \u001b[38;5;66;03m# for fitting the trees is internally releasing the Python GIL\u001b[39;00m\n\u001b[1;32m    452\u001b[0m \u001b[38;5;66;03m# making threading more efficient than multiprocessing in\u001b[39;00m\n\u001b[1;32m    453\u001b[0m \u001b[38;5;66;03m# that case. However, for joblib 0.12+ we respect any\u001b[39;00m\n\u001b[1;32m    454\u001b[0m \u001b[38;5;66;03m# parallel_backend contexts set at a higher level,\u001b[39;00m\n\u001b[1;32m    455\u001b[0m \u001b[38;5;66;03m# since correctness does not rely on using threads.\u001b[39;00m\n\u001b[0;32m--> 456\u001b[0m trees \u001b[38;5;241m=\u001b[39m \u001b[43mParallel\u001b[49m\u001b[43m(\u001b[49m\n\u001b[1;32m    457\u001b[0m \u001b[43m    \u001b[49m\u001b[43mn_jobs\u001b[49m\u001b[38;5;241;43m=\u001b[39;49m\u001b[38;5;28;43mself\u001b[39;49m\u001b[38;5;241;43m.\u001b[39;49m\u001b[43mn_jobs\u001b[49m\u001b[43m,\u001b[49m\n\u001b[1;32m    458\u001b[0m \u001b[43m    \u001b[49m\u001b[43mverbose\u001b[49m\u001b[38;5;241;43m=\u001b[39;49m\u001b[38;5;28;43mself\u001b[39;49m\u001b[38;5;241;43m.\u001b[39;49m\u001b[43mverbose\u001b[49m\u001b[43m,\u001b[49m\n\u001b[1;32m    459\u001b[0m \u001b[43m    \u001b[49m\u001b[43mprefer\u001b[49m\u001b[38;5;241;43m=\u001b[39;49m\u001b[38;5;124;43m\"\u001b[39;49m\u001b[38;5;124;43mthreads\u001b[39;49m\u001b[38;5;124;43m\"\u001b[39;49m\u001b[43m,\u001b[49m\n\u001b[1;32m    460\u001b[0m \u001b[43m\u001b[49m\u001b[43m)\u001b[49m\u001b[43m(\u001b[49m\n\u001b[1;32m    461\u001b[0m \u001b[43m    \u001b[49m\u001b[43mdelayed\u001b[49m\u001b[43m(\u001b[49m\u001b[43m_parallel_build_trees\u001b[49m\u001b[43m)\u001b[49m\u001b[43m(\u001b[49m\n\u001b[1;32m    462\u001b[0m \u001b[43m        \u001b[49m\u001b[43mt\u001b[49m\u001b[43m,\u001b[49m\n\u001b[1;32m    463\u001b[0m \u001b[43m        \u001b[49m\u001b[38;5;28;43mself\u001b[39;49m\u001b[38;5;241;43m.\u001b[39;49m\u001b[43mbootstrap\u001b[49m\u001b[43m,\u001b[49m\n\u001b[1;32m    464\u001b[0m \u001b[43m        \u001b[49m\u001b[43mX\u001b[49m\u001b[43m,\u001b[49m\n\u001b[1;32m    465\u001b[0m \u001b[43m        \u001b[49m\u001b[43my\u001b[49m\u001b[43m,\u001b[49m\n\u001b[1;32m    466\u001b[0m \u001b[43m        \u001b[49m\u001b[43msample_weight\u001b[49m\u001b[43m,\u001b[49m\n\u001b[1;32m    467\u001b[0m \u001b[43m        \u001b[49m\u001b[43mi\u001b[49m\u001b[43m,\u001b[49m\n\u001b[1;32m    468\u001b[0m \u001b[43m        \u001b[49m\u001b[38;5;28;43mlen\u001b[39;49m\u001b[43m(\u001b[49m\u001b[43mtrees\u001b[49m\u001b[43m)\u001b[49m\u001b[43m,\u001b[49m\n\u001b[1;32m    469\u001b[0m \u001b[43m        \u001b[49m\u001b[43mverbose\u001b[49m\u001b[38;5;241;43m=\u001b[39;49m\u001b[38;5;28;43mself\u001b[39;49m\u001b[38;5;241;43m.\u001b[39;49m\u001b[43mverbose\u001b[49m\u001b[43m,\u001b[49m\n\u001b[1;32m    470\u001b[0m \u001b[43m        \u001b[49m\u001b[43mclass_weight\u001b[49m\u001b[38;5;241;43m=\u001b[39;49m\u001b[38;5;28;43mself\u001b[39;49m\u001b[38;5;241;43m.\u001b[39;49m\u001b[43mclass_weight\u001b[49m\u001b[43m,\u001b[49m\n\u001b[1;32m    471\u001b[0m \u001b[43m        \u001b[49m\u001b[43mn_samples_bootstrap\u001b[49m\u001b[38;5;241;43m=\u001b[39;49m\u001b[43mn_samples_bootstrap\u001b[49m\u001b[43m,\u001b[49m\n\u001b[1;32m    472\u001b[0m \u001b[43m    \u001b[49m\u001b[43m)\u001b[49m\n\u001b[1;32m    473\u001b[0m \u001b[43m    \u001b[49m\u001b[38;5;28;43;01mfor\u001b[39;49;00m\u001b[43m \u001b[49m\u001b[43mi\u001b[49m\u001b[43m,\u001b[49m\u001b[43m \u001b[49m\u001b[43mt\u001b[49m\u001b[43m \u001b[49m\u001b[38;5;129;43;01min\u001b[39;49;00m\u001b[43m \u001b[49m\u001b[38;5;28;43menumerate\u001b[39;49m\u001b[43m(\u001b[49m\u001b[43mtrees\u001b[49m\u001b[43m)\u001b[49m\n\u001b[1;32m    474\u001b[0m \u001b[43m\u001b[49m\u001b[43m)\u001b[49m\n\u001b[1;32m    476\u001b[0m \u001b[38;5;66;03m# Collect newly grown trees\u001b[39;00m\n\u001b[1;32m    477\u001b[0m \u001b[38;5;28mself\u001b[39m\u001b[38;5;241m.\u001b[39mestimators_\u001b[38;5;241m.\u001b[39mextend(trees)\n",
      "File \u001b[0;32m/usr/local/lib/python3.11/site-packages/sklearn/utils/parallel.py:65\u001b[0m, in \u001b[0;36mParallel.__call__\u001b[0;34m(self, iterable)\u001b[0m\n\u001b[1;32m     60\u001b[0m config \u001b[38;5;241m=\u001b[39m get_config()\n\u001b[1;32m     61\u001b[0m iterable_with_config \u001b[38;5;241m=\u001b[39m (\n\u001b[1;32m     62\u001b[0m     (_with_config(delayed_func, config), args, kwargs)\n\u001b[1;32m     63\u001b[0m     \u001b[38;5;28;01mfor\u001b[39;00m delayed_func, args, kwargs \u001b[38;5;129;01min\u001b[39;00m iterable\n\u001b[1;32m     64\u001b[0m )\n\u001b[0;32m---> 65\u001b[0m \u001b[38;5;28;01mreturn\u001b[39;00m \u001b[38;5;28;43msuper\u001b[39;49m\u001b[43m(\u001b[49m\u001b[43m)\u001b[49m\u001b[38;5;241;43m.\u001b[39;49m\u001b[38;5;21;43m__call__\u001b[39;49m\u001b[43m(\u001b[49m\u001b[43miterable_with_config\u001b[49m\u001b[43m)\u001b[49m\n",
      "File \u001b[0;32m/usr/local/lib/python3.11/site-packages/joblib/parallel.py:1863\u001b[0m, in \u001b[0;36mParallel.__call__\u001b[0;34m(self, iterable)\u001b[0m\n\u001b[1;32m   1861\u001b[0m     output \u001b[38;5;241m=\u001b[39m \u001b[38;5;28mself\u001b[39m\u001b[38;5;241m.\u001b[39m_get_sequential_output(iterable)\n\u001b[1;32m   1862\u001b[0m     \u001b[38;5;28mnext\u001b[39m(output)\n\u001b[0;32m-> 1863\u001b[0m     \u001b[38;5;28;01mreturn\u001b[39;00m output \u001b[38;5;28;01mif\u001b[39;00m \u001b[38;5;28mself\u001b[39m\u001b[38;5;241m.\u001b[39mreturn_generator \u001b[38;5;28;01melse\u001b[39;00m \u001b[38;5;28mlist\u001b[39m(output)\n\u001b[1;32m   1865\u001b[0m \u001b[38;5;66;03m# Let's create an ID that uniquely identifies the current call. If the\u001b[39;00m\n\u001b[1;32m   1866\u001b[0m \u001b[38;5;66;03m# call is interrupted early and that the same instance is immediately\u001b[39;00m\n\u001b[1;32m   1867\u001b[0m \u001b[38;5;66;03m# re-used, this id will be used to prevent workers that were\u001b[39;00m\n\u001b[1;32m   1868\u001b[0m \u001b[38;5;66;03m# concurrently finalizing a task from the previous call to run the\u001b[39;00m\n\u001b[1;32m   1869\u001b[0m \u001b[38;5;66;03m# callback.\u001b[39;00m\n\u001b[1;32m   1870\u001b[0m \u001b[38;5;28;01mwith\u001b[39;00m \u001b[38;5;28mself\u001b[39m\u001b[38;5;241m.\u001b[39m_lock:\n",
      "File \u001b[0;32m/usr/local/lib/python3.11/site-packages/joblib/parallel.py:1792\u001b[0m, in \u001b[0;36mParallel._get_sequential_output\u001b[0;34m(self, iterable)\u001b[0m\n\u001b[1;32m   1790\u001b[0m \u001b[38;5;28mself\u001b[39m\u001b[38;5;241m.\u001b[39mn_dispatched_batches \u001b[38;5;241m+\u001b[39m\u001b[38;5;241m=\u001b[39m \u001b[38;5;241m1\u001b[39m\n\u001b[1;32m   1791\u001b[0m \u001b[38;5;28mself\u001b[39m\u001b[38;5;241m.\u001b[39mn_dispatched_tasks \u001b[38;5;241m+\u001b[39m\u001b[38;5;241m=\u001b[39m \u001b[38;5;241m1\u001b[39m\n\u001b[0;32m-> 1792\u001b[0m res \u001b[38;5;241m=\u001b[39m \u001b[43mfunc\u001b[49m\u001b[43m(\u001b[49m\u001b[38;5;241;43m*\u001b[39;49m\u001b[43margs\u001b[49m\u001b[43m,\u001b[49m\u001b[43m \u001b[49m\u001b[38;5;241;43m*\u001b[39;49m\u001b[38;5;241;43m*\u001b[39;49m\u001b[43mkwargs\u001b[49m\u001b[43m)\u001b[49m\n\u001b[1;32m   1793\u001b[0m \u001b[38;5;28mself\u001b[39m\u001b[38;5;241m.\u001b[39mn_completed_tasks \u001b[38;5;241m+\u001b[39m\u001b[38;5;241m=\u001b[39m \u001b[38;5;241m1\u001b[39m\n\u001b[1;32m   1794\u001b[0m \u001b[38;5;28mself\u001b[39m\u001b[38;5;241m.\u001b[39mprint_progress()\n",
      "File \u001b[0;32m/usr/local/lib/python3.11/site-packages/sklearn/utils/parallel.py:127\u001b[0m, in \u001b[0;36m_FuncWrapper.__call__\u001b[0;34m(self, *args, **kwargs)\u001b[0m\n\u001b[1;32m    125\u001b[0m     config \u001b[38;5;241m=\u001b[39m {}\n\u001b[1;32m    126\u001b[0m \u001b[38;5;28;01mwith\u001b[39;00m config_context(\u001b[38;5;241m*\u001b[39m\u001b[38;5;241m*\u001b[39mconfig):\n\u001b[0;32m--> 127\u001b[0m     \u001b[38;5;28;01mreturn\u001b[39;00m \u001b[38;5;28;43mself\u001b[39;49m\u001b[38;5;241;43m.\u001b[39;49m\u001b[43mfunction\u001b[49m\u001b[43m(\u001b[49m\u001b[38;5;241;43m*\u001b[39;49m\u001b[43margs\u001b[49m\u001b[43m,\u001b[49m\u001b[43m \u001b[49m\u001b[38;5;241;43m*\u001b[39;49m\u001b[38;5;241;43m*\u001b[39;49m\u001b[43mkwargs\u001b[49m\u001b[43m)\u001b[49m\n",
      "File \u001b[0;32m/usr/local/lib/python3.11/site-packages/sklearn/ensemble/_forest.py:188\u001b[0m, in \u001b[0;36m_parallel_build_trees\u001b[0;34m(tree, bootstrap, X, y, sample_weight, tree_idx, n_trees, verbose, class_weight, n_samples_bootstrap)\u001b[0m\n\u001b[1;32m    185\u001b[0m     \u001b[38;5;28;01melif\u001b[39;00m class_weight \u001b[38;5;241m==\u001b[39m \u001b[38;5;124m\"\u001b[39m\u001b[38;5;124mbalanced_subsample\u001b[39m\u001b[38;5;124m\"\u001b[39m:\n\u001b[1;32m    186\u001b[0m         curr_sample_weight \u001b[38;5;241m*\u001b[39m\u001b[38;5;241m=\u001b[39m compute_sample_weight(\u001b[38;5;124m\"\u001b[39m\u001b[38;5;124mbalanced\u001b[39m\u001b[38;5;124m\"\u001b[39m, y, indices\u001b[38;5;241m=\u001b[39mindices)\n\u001b[0;32m--> 188\u001b[0m     \u001b[43mtree\u001b[49m\u001b[38;5;241;43m.\u001b[39;49m\u001b[43mfit\u001b[49m\u001b[43m(\u001b[49m\u001b[43mX\u001b[49m\u001b[43m,\u001b[49m\u001b[43m \u001b[49m\u001b[43my\u001b[49m\u001b[43m,\u001b[49m\u001b[43m \u001b[49m\u001b[43msample_weight\u001b[49m\u001b[38;5;241;43m=\u001b[39;49m\u001b[43mcurr_sample_weight\u001b[49m\u001b[43m,\u001b[49m\u001b[43m \u001b[49m\u001b[43mcheck_input\u001b[49m\u001b[38;5;241;43m=\u001b[39;49m\u001b[38;5;28;43;01mFalse\u001b[39;49;00m\u001b[43m)\u001b[49m\n\u001b[1;32m    189\u001b[0m \u001b[38;5;28;01melse\u001b[39;00m:\n\u001b[1;32m    190\u001b[0m     tree\u001b[38;5;241m.\u001b[39mfit(X, y, sample_weight\u001b[38;5;241m=\u001b[39msample_weight, check_input\u001b[38;5;241m=\u001b[39m\u001b[38;5;28;01mFalse\u001b[39;00m)\n",
      "File \u001b[0;32m/usr/local/lib/python3.11/site-packages/sklearn/base.py:1152\u001b[0m, in \u001b[0;36m_fit_context.<locals>.decorator.<locals>.wrapper\u001b[0;34m(estimator, *args, **kwargs)\u001b[0m\n\u001b[1;32m   1145\u001b[0m     estimator\u001b[38;5;241m.\u001b[39m_validate_params()\n\u001b[1;32m   1147\u001b[0m \u001b[38;5;28;01mwith\u001b[39;00m config_context(\n\u001b[1;32m   1148\u001b[0m     skip_parameter_validation\u001b[38;5;241m=\u001b[39m(\n\u001b[1;32m   1149\u001b[0m         prefer_skip_nested_validation \u001b[38;5;129;01mor\u001b[39;00m global_skip_validation\n\u001b[1;32m   1150\u001b[0m     )\n\u001b[1;32m   1151\u001b[0m ):\n\u001b[0;32m-> 1152\u001b[0m     \u001b[38;5;28;01mreturn\u001b[39;00m \u001b[43mfit_method\u001b[49m\u001b[43m(\u001b[49m\u001b[43mestimator\u001b[49m\u001b[43m,\u001b[49m\u001b[43m \u001b[49m\u001b[38;5;241;43m*\u001b[39;49m\u001b[43margs\u001b[49m\u001b[43m,\u001b[49m\u001b[43m \u001b[49m\u001b[38;5;241;43m*\u001b[39;49m\u001b[38;5;241;43m*\u001b[39;49m\u001b[43mkwargs\u001b[49m\u001b[43m)\u001b[49m\n",
      "File \u001b[0;32m/usr/local/lib/python3.11/site-packages/sklearn/tree/_classes.py:959\u001b[0m, in \u001b[0;36mDecisionTreeClassifier.fit\u001b[0;34m(self, X, y, sample_weight, check_input)\u001b[0m\n\u001b[1;32m    928\u001b[0m \u001b[38;5;129m@_fit_context\u001b[39m(prefer_skip_nested_validation\u001b[38;5;241m=\u001b[39m\u001b[38;5;28;01mTrue\u001b[39;00m)\n\u001b[1;32m    929\u001b[0m \u001b[38;5;28;01mdef\u001b[39;00m \u001b[38;5;21mfit\u001b[39m(\u001b[38;5;28mself\u001b[39m, X, y, sample_weight\u001b[38;5;241m=\u001b[39m\u001b[38;5;28;01mNone\u001b[39;00m, check_input\u001b[38;5;241m=\u001b[39m\u001b[38;5;28;01mTrue\u001b[39;00m):\n\u001b[1;32m    930\u001b[0m \u001b[38;5;250m    \u001b[39m\u001b[38;5;124;03m\"\"\"Build a decision tree classifier from the training set (X, y).\u001b[39;00m\n\u001b[1;32m    931\u001b[0m \n\u001b[1;32m    932\u001b[0m \u001b[38;5;124;03m    Parameters\u001b[39;00m\n\u001b[0;32m   (...)\u001b[0m\n\u001b[1;32m    956\u001b[0m \u001b[38;5;124;03m        Fitted estimator.\u001b[39;00m\n\u001b[1;32m    957\u001b[0m \u001b[38;5;124;03m    \"\"\"\u001b[39;00m\n\u001b[0;32m--> 959\u001b[0m     \u001b[38;5;28;43msuper\u001b[39;49m\u001b[43m(\u001b[49m\u001b[43m)\u001b[49m\u001b[38;5;241;43m.\u001b[39;49m\u001b[43m_fit\u001b[49m\u001b[43m(\u001b[49m\n\u001b[1;32m    960\u001b[0m \u001b[43m        \u001b[49m\u001b[43mX\u001b[49m\u001b[43m,\u001b[49m\n\u001b[1;32m    961\u001b[0m \u001b[43m        \u001b[49m\u001b[43my\u001b[49m\u001b[43m,\u001b[49m\n\u001b[1;32m    962\u001b[0m \u001b[43m        \u001b[49m\u001b[43msample_weight\u001b[49m\u001b[38;5;241;43m=\u001b[39;49m\u001b[43msample_weight\u001b[49m\u001b[43m,\u001b[49m\n\u001b[1;32m    963\u001b[0m \u001b[43m        \u001b[49m\u001b[43mcheck_input\u001b[49m\u001b[38;5;241;43m=\u001b[39;49m\u001b[43mcheck_input\u001b[49m\u001b[43m,\u001b[49m\n\u001b[1;32m    964\u001b[0m \u001b[43m    \u001b[49m\u001b[43m)\u001b[49m\n\u001b[1;32m    965\u001b[0m     \u001b[38;5;28;01mreturn\u001b[39;00m \u001b[38;5;28mself\u001b[39m\n",
      "File \u001b[0;32m/usr/local/lib/python3.11/site-packages/sklearn/tree/_classes.py:443\u001b[0m, in \u001b[0;36mBaseDecisionTree._fit\u001b[0;34m(self, X, y, sample_weight, check_input, missing_values_in_feature_mask)\u001b[0m\n\u001b[1;32m    432\u001b[0m \u001b[38;5;28;01melse\u001b[39;00m:\n\u001b[1;32m    433\u001b[0m     builder \u001b[38;5;241m=\u001b[39m BestFirstTreeBuilder(\n\u001b[1;32m    434\u001b[0m         splitter,\n\u001b[1;32m    435\u001b[0m         min_samples_split,\n\u001b[0;32m   (...)\u001b[0m\n\u001b[1;32m    440\u001b[0m         \u001b[38;5;28mself\u001b[39m\u001b[38;5;241m.\u001b[39mmin_impurity_decrease,\n\u001b[1;32m    441\u001b[0m     )\n\u001b[0;32m--> 443\u001b[0m \u001b[43mbuilder\u001b[49m\u001b[38;5;241;43m.\u001b[39;49m\u001b[43mbuild\u001b[49m\u001b[43m(\u001b[49m\u001b[38;5;28;43mself\u001b[39;49m\u001b[38;5;241;43m.\u001b[39;49m\u001b[43mtree_\u001b[49m\u001b[43m,\u001b[49m\u001b[43m \u001b[49m\u001b[43mX\u001b[49m\u001b[43m,\u001b[49m\u001b[43m \u001b[49m\u001b[43my\u001b[49m\u001b[43m,\u001b[49m\u001b[43m \u001b[49m\u001b[43msample_weight\u001b[49m\u001b[43m,\u001b[49m\u001b[43m \u001b[49m\u001b[43mmissing_values_in_feature_mask\u001b[49m\u001b[43m)\u001b[49m\n\u001b[1;32m    445\u001b[0m \u001b[38;5;28;01mif\u001b[39;00m \u001b[38;5;28mself\u001b[39m\u001b[38;5;241m.\u001b[39mn_outputs_ \u001b[38;5;241m==\u001b[39m \u001b[38;5;241m1\u001b[39m \u001b[38;5;129;01mand\u001b[39;00m is_classifier(\u001b[38;5;28mself\u001b[39m):\n\u001b[1;32m    446\u001b[0m     \u001b[38;5;28mself\u001b[39m\u001b[38;5;241m.\u001b[39mn_classes_ \u001b[38;5;241m=\u001b[39m \u001b[38;5;28mself\u001b[39m\u001b[38;5;241m.\u001b[39mn_classes_[\u001b[38;5;241m0\u001b[39m]\n",
      "\u001b[0;31mKeyboardInterrupt\u001b[0m: "
     ]
    }
   ],
   "source": [
    "params = {'max_features': np.arange(1, 10)}\n",
    "rfc = RandomForestClassifier(random_state = 88, class_weight='balanced', max_depth=5)\n",
    "rfc_cv = GridSearchCV(rfc, params, cv = 5, scoring = 'accuracy',verbose = False)\n",
    "rfc_cv.fit(X_train, y_train)\n",
    "y_pred_rfc = rfc_cv.best_estimator_.predict(X_test)\n",
    "print(classification_report(y_test, y_pred_rfc))"
   ]
  },
  {
   "cell_type": "code",
   "execution_count": 40,
   "id": "84e6b5ae",
   "metadata": {},
   "outputs": [
    {
     "ename": "KeyboardInterrupt",
     "evalue": "",
     "output_type": "error",
     "traceback": [
      "\u001b[0;31m---------------------------------------------------------------------------\u001b[0m",
      "\u001b[0;31mKeyboardInterrupt\u001b[0m                         Traceback (most recent call last)",
      "Cell \u001b[0;32mIn[40], line 2\u001b[0m\n\u001b[1;32m      1\u001b[0m gbc \u001b[38;5;241m=\u001b[39m GradientBoostingClassifier(n_estimators \u001b[38;5;241m=\u001b[39m \u001b[38;5;241m3300\u001b[39m, max_leaf_nodes \u001b[38;5;241m=\u001b[39m \u001b[38;5;241m10\u001b[39m, random_state \u001b[38;5;241m=\u001b[39m \u001b[38;5;241m88\u001b[39m)\n\u001b[0;32m----> 2\u001b[0m \u001b[43mgbc\u001b[49m\u001b[38;5;241;43m.\u001b[39;49m\u001b[43mfit\u001b[49m\u001b[43m(\u001b[49m\u001b[43mX_train\u001b[49m\u001b[43m,\u001b[49m\u001b[43m \u001b[49m\u001b[43my_train\u001b[49m\u001b[43m)\u001b[49m \n\u001b[1;32m      3\u001b[0m y_pred_gbc \u001b[38;5;241m=\u001b[39m gbc\u001b[38;5;241m.\u001b[39mpredict(X_test)\n\u001b[1;32m      4\u001b[0m \u001b[38;5;28mprint\u001b[39m(classification_report(y_test, y_pred_gbc))\n",
      "File \u001b[0;32m/usr/local/lib/python3.11/site-packages/sklearn/base.py:1152\u001b[0m, in \u001b[0;36m_fit_context.<locals>.decorator.<locals>.wrapper\u001b[0;34m(estimator, *args, **kwargs)\u001b[0m\n\u001b[1;32m   1145\u001b[0m     estimator\u001b[38;5;241m.\u001b[39m_validate_params()\n\u001b[1;32m   1147\u001b[0m \u001b[38;5;28;01mwith\u001b[39;00m config_context(\n\u001b[1;32m   1148\u001b[0m     skip_parameter_validation\u001b[38;5;241m=\u001b[39m(\n\u001b[1;32m   1149\u001b[0m         prefer_skip_nested_validation \u001b[38;5;129;01mor\u001b[39;00m global_skip_validation\n\u001b[1;32m   1150\u001b[0m     )\n\u001b[1;32m   1151\u001b[0m ):\n\u001b[0;32m-> 1152\u001b[0m     \u001b[38;5;28;01mreturn\u001b[39;00m \u001b[43mfit_method\u001b[49m\u001b[43m(\u001b[49m\u001b[43mestimator\u001b[49m\u001b[43m,\u001b[49m\u001b[43m \u001b[49m\u001b[38;5;241;43m*\u001b[39;49m\u001b[43margs\u001b[49m\u001b[43m,\u001b[49m\u001b[43m \u001b[49m\u001b[38;5;241;43m*\u001b[39;49m\u001b[38;5;241;43m*\u001b[39;49m\u001b[43mkwargs\u001b[49m\u001b[43m)\u001b[49m\n",
      "File \u001b[0;32m/usr/local/lib/python3.11/site-packages/sklearn/ensemble/_gb.py:532\u001b[0m, in \u001b[0;36mBaseGradientBoosting.fit\u001b[0;34m(self, X, y, sample_weight, monitor)\u001b[0m\n\u001b[1;32m    529\u001b[0m     \u001b[38;5;28mself\u001b[39m\u001b[38;5;241m.\u001b[39m_resize_state()\n\u001b[1;32m    531\u001b[0m \u001b[38;5;66;03m# fit the boosting stages\u001b[39;00m\n\u001b[0;32m--> 532\u001b[0m n_stages \u001b[38;5;241m=\u001b[39m \u001b[38;5;28;43mself\u001b[39;49m\u001b[38;5;241;43m.\u001b[39;49m\u001b[43m_fit_stages\u001b[49m\u001b[43m(\u001b[49m\n\u001b[1;32m    533\u001b[0m \u001b[43m    \u001b[49m\u001b[43mX_train\u001b[49m\u001b[43m,\u001b[49m\n\u001b[1;32m    534\u001b[0m \u001b[43m    \u001b[49m\u001b[43my_train\u001b[49m\u001b[43m,\u001b[49m\n\u001b[1;32m    535\u001b[0m \u001b[43m    \u001b[49m\u001b[43mraw_predictions\u001b[49m\u001b[43m,\u001b[49m\n\u001b[1;32m    536\u001b[0m \u001b[43m    \u001b[49m\u001b[43msample_weight_train\u001b[49m\u001b[43m,\u001b[49m\n\u001b[1;32m    537\u001b[0m \u001b[43m    \u001b[49m\u001b[38;5;28;43mself\u001b[39;49m\u001b[38;5;241;43m.\u001b[39;49m\u001b[43m_rng\u001b[49m\u001b[43m,\u001b[49m\n\u001b[1;32m    538\u001b[0m \u001b[43m    \u001b[49m\u001b[43mX_val\u001b[49m\u001b[43m,\u001b[49m\n\u001b[1;32m    539\u001b[0m \u001b[43m    \u001b[49m\u001b[43my_val\u001b[49m\u001b[43m,\u001b[49m\n\u001b[1;32m    540\u001b[0m \u001b[43m    \u001b[49m\u001b[43msample_weight_val\u001b[49m\u001b[43m,\u001b[49m\n\u001b[1;32m    541\u001b[0m \u001b[43m    \u001b[49m\u001b[43mbegin_at_stage\u001b[49m\u001b[43m,\u001b[49m\n\u001b[1;32m    542\u001b[0m \u001b[43m    \u001b[49m\u001b[43mmonitor\u001b[49m\u001b[43m,\u001b[49m\n\u001b[1;32m    543\u001b[0m \u001b[43m\u001b[49m\u001b[43m)\u001b[49m\n\u001b[1;32m    545\u001b[0m \u001b[38;5;66;03m# change shape of arrays after fit (early-stopping or additional ests)\u001b[39;00m\n\u001b[1;32m    546\u001b[0m \u001b[38;5;28;01mif\u001b[39;00m n_stages \u001b[38;5;241m!=\u001b[39m \u001b[38;5;28mself\u001b[39m\u001b[38;5;241m.\u001b[39mestimators_\u001b[38;5;241m.\u001b[39mshape[\u001b[38;5;241m0\u001b[39m]:\n",
      "File \u001b[0;32m/usr/local/lib/python3.11/site-packages/sklearn/ensemble/_gb.py:610\u001b[0m, in \u001b[0;36mBaseGradientBoosting._fit_stages\u001b[0;34m(self, X, y, raw_predictions, sample_weight, random_state, X_val, y_val, sample_weight_val, begin_at_stage, monitor)\u001b[0m\n\u001b[1;32m    603\u001b[0m         initial_loss \u001b[38;5;241m=\u001b[39m loss_(\n\u001b[1;32m    604\u001b[0m             y[\u001b[38;5;241m~\u001b[39msample_mask],\n\u001b[1;32m    605\u001b[0m             raw_predictions[\u001b[38;5;241m~\u001b[39msample_mask],\n\u001b[1;32m    606\u001b[0m             sample_weight[\u001b[38;5;241m~\u001b[39msample_mask],\n\u001b[1;32m    607\u001b[0m         )\n\u001b[1;32m    609\u001b[0m \u001b[38;5;66;03m# fit next stage of trees\u001b[39;00m\n\u001b[0;32m--> 610\u001b[0m raw_predictions \u001b[38;5;241m=\u001b[39m \u001b[38;5;28;43mself\u001b[39;49m\u001b[38;5;241;43m.\u001b[39;49m\u001b[43m_fit_stage\u001b[49m\u001b[43m(\u001b[49m\n\u001b[1;32m    611\u001b[0m \u001b[43m    \u001b[49m\u001b[43mi\u001b[49m\u001b[43m,\u001b[49m\n\u001b[1;32m    612\u001b[0m \u001b[43m    \u001b[49m\u001b[43mX\u001b[49m\u001b[43m,\u001b[49m\n\u001b[1;32m    613\u001b[0m \u001b[43m    \u001b[49m\u001b[43my\u001b[49m\u001b[43m,\u001b[49m\n\u001b[1;32m    614\u001b[0m \u001b[43m    \u001b[49m\u001b[43mraw_predictions\u001b[49m\u001b[43m,\u001b[49m\n\u001b[1;32m    615\u001b[0m \u001b[43m    \u001b[49m\u001b[43msample_weight\u001b[49m\u001b[43m,\u001b[49m\n\u001b[1;32m    616\u001b[0m \u001b[43m    \u001b[49m\u001b[43msample_mask\u001b[49m\u001b[43m,\u001b[49m\n\u001b[1;32m    617\u001b[0m \u001b[43m    \u001b[49m\u001b[43mrandom_state\u001b[49m\u001b[43m,\u001b[49m\n\u001b[1;32m    618\u001b[0m \u001b[43m    \u001b[49m\u001b[43mX_csc\u001b[49m\u001b[43m,\u001b[49m\n\u001b[1;32m    619\u001b[0m \u001b[43m    \u001b[49m\u001b[43mX_csr\u001b[49m\u001b[43m,\u001b[49m\n\u001b[1;32m    620\u001b[0m \u001b[43m\u001b[49m\u001b[43m)\u001b[49m\n\u001b[1;32m    622\u001b[0m \u001b[38;5;66;03m# track loss\u001b[39;00m\n\u001b[1;32m    623\u001b[0m \u001b[38;5;28;01mif\u001b[39;00m do_oob:\n",
      "File \u001b[0;32m/usr/local/lib/python3.11/site-packages/sklearn/ensemble/_gb.py:245\u001b[0m, in \u001b[0;36mBaseGradientBoosting._fit_stage\u001b[0;34m(self, i, X, y, raw_predictions, sample_weight, sample_mask, random_state, X_csc, X_csr)\u001b[0m\n\u001b[1;32m    242\u001b[0m     sample_weight \u001b[38;5;241m=\u001b[39m sample_weight \u001b[38;5;241m*\u001b[39m sample_mask\u001b[38;5;241m.\u001b[39mastype(np\u001b[38;5;241m.\u001b[39mfloat64)\n\u001b[1;32m    244\u001b[0m X \u001b[38;5;241m=\u001b[39m X_csr \u001b[38;5;28;01mif\u001b[39;00m X_csr \u001b[38;5;129;01mis\u001b[39;00m \u001b[38;5;129;01mnot\u001b[39;00m \u001b[38;5;28;01mNone\u001b[39;00m \u001b[38;5;28;01melse\u001b[39;00m X\n\u001b[0;32m--> 245\u001b[0m \u001b[43mtree\u001b[49m\u001b[38;5;241;43m.\u001b[39;49m\u001b[43mfit\u001b[49m\u001b[43m(\u001b[49m\u001b[43mX\u001b[49m\u001b[43m,\u001b[49m\u001b[43m \u001b[49m\u001b[43mresidual\u001b[49m\u001b[43m,\u001b[49m\u001b[43m \u001b[49m\u001b[43msample_weight\u001b[49m\u001b[38;5;241;43m=\u001b[39;49m\u001b[43msample_weight\u001b[49m\u001b[43m,\u001b[49m\u001b[43m \u001b[49m\u001b[43mcheck_input\u001b[49m\u001b[38;5;241;43m=\u001b[39;49m\u001b[38;5;28;43;01mFalse\u001b[39;49;00m\u001b[43m)\u001b[49m\n\u001b[1;32m    247\u001b[0m \u001b[38;5;66;03m# update tree leaves\u001b[39;00m\n\u001b[1;32m    248\u001b[0m loss\u001b[38;5;241m.\u001b[39mupdate_terminal_regions(\n\u001b[1;32m    249\u001b[0m     tree\u001b[38;5;241m.\u001b[39mtree_,\n\u001b[1;32m    250\u001b[0m     X,\n\u001b[0;32m   (...)\u001b[0m\n\u001b[1;32m    257\u001b[0m     k\u001b[38;5;241m=\u001b[39mk,\n\u001b[1;32m    258\u001b[0m )\n",
      "File \u001b[0;32m/usr/local/lib/python3.11/site-packages/sklearn/base.py:1152\u001b[0m, in \u001b[0;36m_fit_context.<locals>.decorator.<locals>.wrapper\u001b[0;34m(estimator, *args, **kwargs)\u001b[0m\n\u001b[1;32m   1145\u001b[0m     estimator\u001b[38;5;241m.\u001b[39m_validate_params()\n\u001b[1;32m   1147\u001b[0m \u001b[38;5;28;01mwith\u001b[39;00m config_context(\n\u001b[1;32m   1148\u001b[0m     skip_parameter_validation\u001b[38;5;241m=\u001b[39m(\n\u001b[1;32m   1149\u001b[0m         prefer_skip_nested_validation \u001b[38;5;129;01mor\u001b[39;00m global_skip_validation\n\u001b[1;32m   1150\u001b[0m     )\n\u001b[1;32m   1151\u001b[0m ):\n\u001b[0;32m-> 1152\u001b[0m     \u001b[38;5;28;01mreturn\u001b[39;00m \u001b[43mfit_method\u001b[49m\u001b[43m(\u001b[49m\u001b[43mestimator\u001b[49m\u001b[43m,\u001b[49m\u001b[43m \u001b[49m\u001b[38;5;241;43m*\u001b[39;49m\u001b[43margs\u001b[49m\u001b[43m,\u001b[49m\u001b[43m \u001b[49m\u001b[38;5;241;43m*\u001b[39;49m\u001b[38;5;241;43m*\u001b[39;49m\u001b[43mkwargs\u001b[49m\u001b[43m)\u001b[49m\n",
      "File \u001b[0;32m/usr/local/lib/python3.11/site-packages/sklearn/tree/_classes.py:1320\u001b[0m, in \u001b[0;36mDecisionTreeRegressor.fit\u001b[0;34m(self, X, y, sample_weight, check_input)\u001b[0m\n\u001b[1;32m   1290\u001b[0m \u001b[38;5;129m@_fit_context\u001b[39m(prefer_skip_nested_validation\u001b[38;5;241m=\u001b[39m\u001b[38;5;28;01mTrue\u001b[39;00m)\n\u001b[1;32m   1291\u001b[0m \u001b[38;5;28;01mdef\u001b[39;00m \u001b[38;5;21mfit\u001b[39m(\u001b[38;5;28mself\u001b[39m, X, y, sample_weight\u001b[38;5;241m=\u001b[39m\u001b[38;5;28;01mNone\u001b[39;00m, check_input\u001b[38;5;241m=\u001b[39m\u001b[38;5;28;01mTrue\u001b[39;00m):\n\u001b[1;32m   1292\u001b[0m \u001b[38;5;250m    \u001b[39m\u001b[38;5;124;03m\"\"\"Build a decision tree regressor from the training set (X, y).\u001b[39;00m\n\u001b[1;32m   1293\u001b[0m \n\u001b[1;32m   1294\u001b[0m \u001b[38;5;124;03m    Parameters\u001b[39;00m\n\u001b[0;32m   (...)\u001b[0m\n\u001b[1;32m   1317\u001b[0m \u001b[38;5;124;03m        Fitted estimator.\u001b[39;00m\n\u001b[1;32m   1318\u001b[0m \u001b[38;5;124;03m    \"\"\"\u001b[39;00m\n\u001b[0;32m-> 1320\u001b[0m     \u001b[38;5;28;43msuper\u001b[39;49m\u001b[43m(\u001b[49m\u001b[43m)\u001b[49m\u001b[38;5;241;43m.\u001b[39;49m\u001b[43m_fit\u001b[49m\u001b[43m(\u001b[49m\n\u001b[1;32m   1321\u001b[0m \u001b[43m        \u001b[49m\u001b[43mX\u001b[49m\u001b[43m,\u001b[49m\n\u001b[1;32m   1322\u001b[0m \u001b[43m        \u001b[49m\u001b[43my\u001b[49m\u001b[43m,\u001b[49m\n\u001b[1;32m   1323\u001b[0m \u001b[43m        \u001b[49m\u001b[43msample_weight\u001b[49m\u001b[38;5;241;43m=\u001b[39;49m\u001b[43msample_weight\u001b[49m\u001b[43m,\u001b[49m\n\u001b[1;32m   1324\u001b[0m \u001b[43m        \u001b[49m\u001b[43mcheck_input\u001b[49m\u001b[38;5;241;43m=\u001b[39;49m\u001b[43mcheck_input\u001b[49m\u001b[43m,\u001b[49m\n\u001b[1;32m   1325\u001b[0m \u001b[43m    \u001b[49m\u001b[43m)\u001b[49m\n\u001b[1;32m   1326\u001b[0m     \u001b[38;5;28;01mreturn\u001b[39;00m \u001b[38;5;28mself\u001b[39m\n",
      "File \u001b[0;32m/usr/local/lib/python3.11/site-packages/sklearn/tree/_classes.py:443\u001b[0m, in \u001b[0;36mBaseDecisionTree._fit\u001b[0;34m(self, X, y, sample_weight, check_input, missing_values_in_feature_mask)\u001b[0m\n\u001b[1;32m    432\u001b[0m \u001b[38;5;28;01melse\u001b[39;00m:\n\u001b[1;32m    433\u001b[0m     builder \u001b[38;5;241m=\u001b[39m BestFirstTreeBuilder(\n\u001b[1;32m    434\u001b[0m         splitter,\n\u001b[1;32m    435\u001b[0m         min_samples_split,\n\u001b[0;32m   (...)\u001b[0m\n\u001b[1;32m    440\u001b[0m         \u001b[38;5;28mself\u001b[39m\u001b[38;5;241m.\u001b[39mmin_impurity_decrease,\n\u001b[1;32m    441\u001b[0m     )\n\u001b[0;32m--> 443\u001b[0m \u001b[43mbuilder\u001b[49m\u001b[38;5;241;43m.\u001b[39;49m\u001b[43mbuild\u001b[49m\u001b[43m(\u001b[49m\u001b[38;5;28;43mself\u001b[39;49m\u001b[38;5;241;43m.\u001b[39;49m\u001b[43mtree_\u001b[49m\u001b[43m,\u001b[49m\u001b[43m \u001b[49m\u001b[43mX\u001b[49m\u001b[43m,\u001b[49m\u001b[43m \u001b[49m\u001b[43my\u001b[49m\u001b[43m,\u001b[49m\u001b[43m \u001b[49m\u001b[43msample_weight\u001b[49m\u001b[43m,\u001b[49m\u001b[43m \u001b[49m\u001b[43mmissing_values_in_feature_mask\u001b[49m\u001b[43m)\u001b[49m\n\u001b[1;32m    445\u001b[0m \u001b[38;5;28;01mif\u001b[39;00m \u001b[38;5;28mself\u001b[39m\u001b[38;5;241m.\u001b[39mn_outputs_ \u001b[38;5;241m==\u001b[39m \u001b[38;5;241m1\u001b[39m \u001b[38;5;129;01mand\u001b[39;00m is_classifier(\u001b[38;5;28mself\u001b[39m):\n\u001b[1;32m    446\u001b[0m     \u001b[38;5;28mself\u001b[39m\u001b[38;5;241m.\u001b[39mn_classes_ \u001b[38;5;241m=\u001b[39m \u001b[38;5;28mself\u001b[39m\u001b[38;5;241m.\u001b[39mn_classes_[\u001b[38;5;241m0\u001b[39m]\n",
      "\u001b[0;31mKeyboardInterrupt\u001b[0m: "
     ]
    }
   ],
   "source": [
    "gbc = GradientBoostingClassifier(n_estimators = 3300, max_leaf_nodes = 10, random_state = 88)\n",
    "gbc.fit(X_train, y_train) \n",
    "y_pred_gbc = gbc.predict(X_test)\n",
    "print(classification_report(y_test, y_pred_gbc))"
   ]
  }
 ],
 "metadata": {
  "kernelspec": {
   "display_name": "Python 3 (ipykernel)",
   "language": "python",
   "name": "python3"
  },
  "language_info": {
   "codemirror_mode": {
    "name": "ipython",
    "version": 3
   },
   "file_extension": ".py",
   "mimetype": "text/x-python",
   "name": "python",
   "nbconvert_exporter": "python",
   "pygments_lexer": "ipython3",
   "version": "3.11.7"
  }
 },
 "nbformat": 4,
 "nbformat_minor": 5
}
