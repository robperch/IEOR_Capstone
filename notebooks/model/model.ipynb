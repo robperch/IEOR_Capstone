{
 "cells": [
  {
   "cell_type": "markdown",
   "id": "35c497e2-af13-42ed-8b2c-7d8a49219b01",
   "metadata": {},
   "source": [
    "# ML Models"
   ]
  },
  {
   "cell_type": "markdown",
   "id": "da37d8e3-73c3-4a1c-b7f1-dceb9c530a83",
   "metadata": {},
   "source": [
    "# Imports"
   ]
  },
  {
   "cell_type": "markdown",
   "id": "8d37d7ea-b706-4f9d-b319-1bd1ed069d58",
   "metadata": {},
   "source": [
    "#### Standard library imports"
   ]
  },
  {
   "cell_type": "code",
   "execution_count": 1,
   "id": "84e8892a-724d-4120-9271-2e6cfa8efff5",
   "metadata": {},
   "outputs": [],
   "source": [
    "import sys\n",
    "import os\n",
    "sys.path.append(\"../..\")"
   ]
  },
  {
   "cell_type": "markdown",
   "id": "7348864b-bb50-4ca4-8e00-126e062729a0",
   "metadata": {},
   "source": [
    "#### Third party imports"
   ]
  },
  {
   "cell_type": "code",
   "execution_count": 2,
   "id": "8779b474-7192-447e-949e-abc2ff159ba2",
   "metadata": {},
   "outputs": [],
   "source": [
    "import pandas as pd\n",
    "import pickle\n",
    "import numpy as np\n",
    "from sklearn.model_selection import train_test_split\n",
    "from sklearn.linear_model import LogisticRegression\n",
    "from sklearn.tree import DecisionTreeClassifier\n",
    "from sklearn.ensemble import RandomForestClassifier\n",
    "from sklearn.discriminant_analysis import LinearDiscriminantAnalysis\n",
    "from sklearn import metrics\n",
    "from sklearn.model_selection import GridSearchCV\n",
    "from sklearn.model_selection import KFold\n",
    "import matplotlib.pyplot as plt\n",
    "from sklearn.datasets import make_classification\n",
    "from sklearn.model_selection import cross_val_score\n",
    "from sklearn.metrics import confusion_matrix\n",
    "from sklearn.metrics import precision_score\n",
    "from sklearn.metrics import recall_score\n",
    "from sklearn.metrics import accuracy_score\n",
    "from sklearn.model_selection import RepeatedStratifiedKFold\n",
    "from sklearn.ensemble import GradientBoostingClassifier\n",
    "from sklearn.preprocessing import LabelEncoder\n",
    "from sklearn.preprocessing import OneHotEncoder\n",
    "from sklearn.metrics import roc_auc_score"
   ]
  },
  {
   "cell_type": "markdown",
   "id": "83b0c51b-8dc2-44d4-a3e9-a9f699cc4f3d",
   "metadata": {},
   "source": [
    "#### Local application imports"
   ]
  },
  {
   "cell_type": "code",
   "execution_count": 3,
   "id": "bee67dd7-757f-446b-8e4f-8b1099edf963",
   "metadata": {},
   "outputs": [],
   "source": [
    "%load_ext autoreload\n",
    "%autoreload 2\n",
    "\n",
    "from pkg_dir.config import *\n",
    "from pkg_dir.src.utils import *\n",
    "from pkg_dir.src.functions import *\n",
    "from pkg_dir.src.parameters import *"
   ]
  },
  {
   "cell_type": "markdown",
   "id": "7df69c91",
   "metadata": {},
   "source": [
    "# Pickle Extraction"
   ]
  },
  {
   "cell_type": "code",
   "execution_count": 4,
   "id": "980bda25",
   "metadata": {},
   "outputs": [],
   "source": [
    "path = '../../pkg_dir/data/pickles'\n",
    "name = 'dataset_v1.pkl'\n",
    "\n",
    "## Reading extract object saved as pickle locally\n",
    "pkl_obj = path + \"/\" + name\n",
    "\n",
    "with open(pkl_obj, 'rb') as obj_content:\n",
    "    df = pickle.load(obj_content)"
   ]
  },
  {
   "cell_type": "code",
   "execution_count": 5,
   "id": "4a5500bd",
   "metadata": {},
   "outputs": [
    {
     "data": {
      "text/html": [
       "<div>\n",
       "<style scoped>\n",
       "    .dataframe tbody tr th:only-of-type {\n",
       "        vertical-align: middle;\n",
       "    }\n",
       "\n",
       "    .dataframe tbody tr th {\n",
       "        vertical-align: top;\n",
       "    }\n",
       "\n",
       "    .dataframe thead th {\n",
       "        text-align: right;\n",
       "    }\n",
       "</style>\n",
       "<table border=\"1\" class=\"dataframe\">\n",
       "  <thead>\n",
       "    <tr style=\"text-align: right;\">\n",
       "      <th></th>\n",
       "      <th>appointment_id</th>\n",
       "      <th>appointment_weekday</th>\n",
       "      <th>appointment_start</th>\n",
       "      <th>appointment_dur_min</th>\n",
       "      <th>recurring_patient</th>\n",
       "      <th>creation_to_start_hrs</th>\n",
       "      <th>confirm_request_msg</th>\n",
       "      <th>patient_confirm</th>\n",
       "      <th>confirm_to_start_hrs</th>\n",
       "      <th>clinic</th>\n",
       "      <th>appointment_source</th>\n",
       "      <th>appointment_date_update</th>\n",
       "      <th>patient_age</th>\n",
       "      <th>patient_sex</th>\n",
       "      <th>doctor</th>\n",
       "      <th>medical_specialty</th>\n",
       "      <th>appointment_status_simplified</th>\n",
       "    </tr>\n",
       "  </thead>\n",
       "  <tbody>\n",
       "    <tr>\n",
       "      <th>2</th>\n",
       "      <td>2021923564</td>\n",
       "      <td>5</td>\n",
       "      <td>2022-01-22 12:30:00</td>\n",
       "      <td>30.0</td>\n",
       "      <td>first</td>\n",
       "      <td>20.52</td>\n",
       "      <td>0</td>\n",
       "      <td>0</td>\n",
       "      <td>NaN</td>\n",
       "      <td>MARINA NACIONAL</td>\n",
       "      <td>phone</td>\n",
       "      <td>no_update</td>\n",
       "      <td>32.0</td>\n",
       "      <td>F</td>\n",
       "      <td>DR. ORLANDO JOSE HERNANDEZ MARTINEZ</td>\n",
       "      <td>UROLOGIA</td>\n",
       "      <td>cancel</td>\n",
       "    </tr>\n",
       "    <tr>\n",
       "      <th>3</th>\n",
       "      <td>2021853399</td>\n",
       "      <td>0</td>\n",
       "      <td>2022-01-24 12:00:00</td>\n",
       "      <td>30.0</td>\n",
       "      <td>first</td>\n",
       "      <td>52.19</td>\n",
       "      <td>0</td>\n",
       "      <td>0</td>\n",
       "      <td>NaN</td>\n",
       "      <td>MARINA NACIONAL</td>\n",
       "      <td>phone</td>\n",
       "      <td>no_update</td>\n",
       "      <td>32.0</td>\n",
       "      <td>F</td>\n",
       "      <td>DRA JUANA GUADALUPE CABALLERO MARTINEZ</td>\n",
       "      <td>GINECOLOGIA</td>\n",
       "      <td>cancel</td>\n",
       "    </tr>\n",
       "    <tr>\n",
       "      <th>4</th>\n",
       "      <td>2021845947</td>\n",
       "      <td>0</td>\n",
       "      <td>2022-01-31 13:00:00</td>\n",
       "      <td>30.0</td>\n",
       "      <td>first</td>\n",
       "      <td>221.78</td>\n",
       "      <td>0</td>\n",
       "      <td>0</td>\n",
       "      <td>NaN</td>\n",
       "      <td>TLALPAN</td>\n",
       "      <td>phone</td>\n",
       "      <td>no_update</td>\n",
       "      <td>32.0</td>\n",
       "      <td>F</td>\n",
       "      <td>Mariana  Sarao Pineda</td>\n",
       "      <td>DERMATOLOGIA</td>\n",
       "      <td>cancel</td>\n",
       "    </tr>\n",
       "    <tr>\n",
       "      <th>5</th>\n",
       "      <td>2021924951</td>\n",
       "      <td>1</td>\n",
       "      <td>2022-01-25 13:30:00</td>\n",
       "      <td>30.0</td>\n",
       "      <td>first</td>\n",
       "      <td>78.35</td>\n",
       "      <td>0</td>\n",
       "      <td>0</td>\n",
       "      <td>NaN</td>\n",
       "      <td>BASILICA</td>\n",
       "      <td>phone</td>\n",
       "      <td>no_update</td>\n",
       "      <td>32.0</td>\n",
       "      <td>F</td>\n",
       "      <td>DRA ANA MARIA ESCOBEDO HERNANDEZ</td>\n",
       "      <td>DERMATOLOGIA</td>\n",
       "      <td>cancel</td>\n",
       "    </tr>\n",
       "    <tr>\n",
       "      <th>6</th>\n",
       "      <td>2021889374</td>\n",
       "      <td>5</td>\n",
       "      <td>2022-01-22 08:00:00</td>\n",
       "      <td>30.0</td>\n",
       "      <td>first</td>\n",
       "      <td>24.22</td>\n",
       "      <td>0</td>\n",
       "      <td>1</td>\n",
       "      <td>21.75</td>\n",
       "      <td>BASILICA</td>\n",
       "      <td>phone</td>\n",
       "      <td>no_update</td>\n",
       "      <td>40.0</td>\n",
       "      <td>F</td>\n",
       "      <td>DRA MONICA MARCELA MACIAS ORTEGA</td>\n",
       "      <td>ENDOCRINOLOGIA</td>\n",
       "      <td>completed</td>\n",
       "    </tr>\n",
       "    <tr>\n",
       "      <th>...</th>\n",
       "      <td>...</td>\n",
       "      <td>...</td>\n",
       "      <td>...</td>\n",
       "      <td>...</td>\n",
       "      <td>...</td>\n",
       "      <td>...</td>\n",
       "      <td>...</td>\n",
       "      <td>...</td>\n",
       "      <td>...</td>\n",
       "      <td>...</td>\n",
       "      <td>...</td>\n",
       "      <td>...</td>\n",
       "      <td>...</td>\n",
       "      <td>...</td>\n",
       "      <td>...</td>\n",
       "      <td>...</td>\n",
       "      <td>...</td>\n",
       "    </tr>\n",
       "    <tr>\n",
       "      <th>544083</th>\n",
       "      <td>2022136584</td>\n",
       "      <td>3</td>\n",
       "      <td>2022-12-29 10:00:00</td>\n",
       "      <td>30.0</td>\n",
       "      <td>recurrent</td>\n",
       "      <td>2181.63</td>\n",
       "      <td>1</td>\n",
       "      <td>1</td>\n",
       "      <td>49.28</td>\n",
       "      <td>COAPA</td>\n",
       "      <td>phone</td>\n",
       "      <td>no_update</td>\n",
       "      <td>60.0</td>\n",
       "      <td>M</td>\n",
       "      <td>DRA LAURA FABIOLA PORTILLO GARCIA</td>\n",
       "      <td>NEFROLOGIA</td>\n",
       "      <td>no_show</td>\n",
       "    </tr>\n",
       "    <tr>\n",
       "      <th>544084</th>\n",
       "      <td>2022141229</td>\n",
       "      <td>2</td>\n",
       "      <td>2022-11-30 08:30:00</td>\n",
       "      <td>30.0</td>\n",
       "      <td>recurrent</td>\n",
       "      <td>14.12</td>\n",
       "      <td>0</td>\n",
       "      <td>1</td>\n",
       "      <td>14.05</td>\n",
       "      <td>COAPA</td>\n",
       "      <td>phone</td>\n",
       "      <td>no_update</td>\n",
       "      <td>33.0</td>\n",
       "      <td>M</td>\n",
       "      <td>DR. MIGUEL ANGEL MONTERO MARQUEZ</td>\n",
       "      <td>OTORRINOLARINGOLOGIA</td>\n",
       "      <td>completed</td>\n",
       "    </tr>\n",
       "    <tr>\n",
       "      <th>544085</th>\n",
       "      <td>2022506277</td>\n",
       "      <td>5</td>\n",
       "      <td>2022-06-25 10:00:00</td>\n",
       "      <td>30.0</td>\n",
       "      <td>first</td>\n",
       "      <td>25.08</td>\n",
       "      <td>0</td>\n",
       "      <td>1</td>\n",
       "      <td>19.02</td>\n",
       "      <td>COAPA</td>\n",
       "      <td>phone</td>\n",
       "      <td>no_update</td>\n",
       "      <td>33.0</td>\n",
       "      <td>M</td>\n",
       "      <td>DRA SANDRA XOCHIQUETZAL  CRUZ ORDOÑEZ</td>\n",
       "      <td>UROLOGIA</td>\n",
       "      <td>completed</td>\n",
       "    </tr>\n",
       "    <tr>\n",
       "      <th>544086</th>\n",
       "      <td>2023228381</td>\n",
       "      <td>3</td>\n",
       "      <td>2023-01-05 08:30:00</td>\n",
       "      <td>30.0</td>\n",
       "      <td>recurrent</td>\n",
       "      <td>39.87</td>\n",
       "      <td>0</td>\n",
       "      <td>1</td>\n",
       "      <td>15.32</td>\n",
       "      <td>COAPA</td>\n",
       "      <td>phone</td>\n",
       "      <td>no_update</td>\n",
       "      <td>33.0</td>\n",
       "      <td>M</td>\n",
       "      <td>DRA SANDRA XOCHIQUETZAL  CRUZ ORDOÑEZ</td>\n",
       "      <td>UROLOGIA</td>\n",
       "      <td>no_show</td>\n",
       "    </tr>\n",
       "    <tr>\n",
       "      <th>544087</th>\n",
       "      <td>2023000312555</td>\n",
       "      <td>1</td>\n",
       "      <td>2023-01-31 13:30:00</td>\n",
       "      <td>30.0</td>\n",
       "      <td>NaN</td>\n",
       "      <td>-8345.70</td>\n",
       "      <td>0</td>\n",
       "      <td>0</td>\n",
       "      <td>NaN</td>\n",
       "      <td>MARINA NACIONAL</td>\n",
       "      <td>online</td>\n",
       "      <td>no_update</td>\n",
       "      <td>25.0</td>\n",
       "      <td>F</td>\n",
       "      <td>Mariana  Sarao Pineda</td>\n",
       "      <td>DERMATOLOGIA</td>\n",
       "      <td>no_show</td>\n",
       "    </tr>\n",
       "  </tbody>\n",
       "</table>\n",
       "<p>386750 rows × 17 columns</p>\n",
       "</div>"
      ],
      "text/plain": [
       "         appointment_id  appointment_weekday   appointment_start  \\\n",
       "2       2021923564                         5 2022-01-22 12:30:00   \n",
       "3       2021853399                         0 2022-01-24 12:00:00   \n",
       "4       2021845947                         0 2022-01-31 13:00:00   \n",
       "5       2021924951                         1 2022-01-25 13:30:00   \n",
       "6       2021889374                         5 2022-01-22 08:00:00   \n",
       "...                 ...                  ...                 ...   \n",
       "544083  2022136584                         3 2022-12-29 10:00:00   \n",
       "544084  2022141229                         2 2022-11-30 08:30:00   \n",
       "544085  2022506277                         5 2022-06-25 10:00:00   \n",
       "544086  2023228381                         3 2023-01-05 08:30:00   \n",
       "544087  2023000312555                      1 2023-01-31 13:30:00   \n",
       "\n",
       "        appointment_dur_min recurring_patient  creation_to_start_hrs  \\\n",
       "2                      30.0             first                  20.52   \n",
       "3                      30.0             first                  52.19   \n",
       "4                      30.0             first                 221.78   \n",
       "5                      30.0             first                  78.35   \n",
       "6                      30.0             first                  24.22   \n",
       "...                     ...               ...                    ...   \n",
       "544083                 30.0         recurrent                2181.63   \n",
       "544084                 30.0         recurrent                  14.12   \n",
       "544085                 30.0             first                  25.08   \n",
       "544086                 30.0         recurrent                  39.87   \n",
       "544087                 30.0               NaN               -8345.70   \n",
       "\n",
       "        confirm_request_msg  patient_confirm  confirm_to_start_hrs  \\\n",
       "2                         0                0                   NaN   \n",
       "3                         0                0                   NaN   \n",
       "4                         0                0                   NaN   \n",
       "5                         0                0                   NaN   \n",
       "6                         0                1                 21.75   \n",
       "...                     ...              ...                   ...   \n",
       "544083                    1                1                 49.28   \n",
       "544084                    0                1                 14.05   \n",
       "544085                    0                1                 19.02   \n",
       "544086                    0                1                 15.32   \n",
       "544087                    0                0                   NaN   \n",
       "\n",
       "                 clinic appointment_source appointment_date_update  \\\n",
       "2       MARINA NACIONAL              phone               no_update   \n",
       "3       MARINA NACIONAL              phone               no_update   \n",
       "4               TLALPAN              phone               no_update   \n",
       "5              BASILICA              phone               no_update   \n",
       "6              BASILICA              phone               no_update   \n",
       "...                 ...                ...                     ...   \n",
       "544083            COAPA              phone               no_update   \n",
       "544084            COAPA              phone               no_update   \n",
       "544085            COAPA              phone               no_update   \n",
       "544086            COAPA              phone               no_update   \n",
       "544087  MARINA NACIONAL             online               no_update   \n",
       "\n",
       "        patient_age patient_sex                                  doctor  \\\n",
       "2              32.0           F     DR. ORLANDO JOSE HERNANDEZ MARTINEZ   \n",
       "3              32.0           F  DRA JUANA GUADALUPE CABALLERO MARTINEZ   \n",
       "4              32.0           F                   Mariana  Sarao Pineda   \n",
       "5              32.0           F        DRA ANA MARIA ESCOBEDO HERNANDEZ   \n",
       "6              40.0           F        DRA MONICA MARCELA MACIAS ORTEGA   \n",
       "...             ...         ...                                     ...   \n",
       "544083         60.0           M       DRA LAURA FABIOLA PORTILLO GARCIA   \n",
       "544084         33.0           M        DR. MIGUEL ANGEL MONTERO MARQUEZ   \n",
       "544085         33.0           M   DRA SANDRA XOCHIQUETZAL  CRUZ ORDOÑEZ   \n",
       "544086         33.0           M   DRA SANDRA XOCHIQUETZAL  CRUZ ORDOÑEZ   \n",
       "544087         25.0           F                   Mariana  Sarao Pineda   \n",
       "\n",
       "           medical_specialty appointment_status_simplified  \n",
       "2                   UROLOGIA                        cancel  \n",
       "3                GINECOLOGIA                        cancel  \n",
       "4               DERMATOLOGIA                        cancel  \n",
       "5               DERMATOLOGIA                        cancel  \n",
       "6             ENDOCRINOLOGIA                     completed  \n",
       "...                      ...                           ...  \n",
       "544083            NEFROLOGIA                       no_show  \n",
       "544084  OTORRINOLARINGOLOGIA                     completed  \n",
       "544085              UROLOGIA                     completed  \n",
       "544086              UROLOGIA                       no_show  \n",
       "544087          DERMATOLOGIA                       no_show  \n",
       "\n",
       "[386750 rows x 17 columns]"
      ]
     },
     "execution_count": 5,
     "metadata": {},
     "output_type": "execute_result"
    }
   ],
   "source": [
    "df"
   ]
  },
  {
   "cell_type": "code",
   "execution_count": 6,
   "id": "e1f72cc7",
   "metadata": {},
   "outputs": [
    {
     "data": {
      "text/plain": [
       "Index(['appointment_id', 'appointment_weekday', 'appointment_start',\n",
       "       'appointment_dur_min', 'recurring_patient', 'creation_to_start_hrs',\n",
       "       'confirm_request_msg', 'patient_confirm', 'confirm_to_start_hrs',\n",
       "       'clinic', 'appointment_source', 'appointment_date_update',\n",
       "       'patient_age', 'patient_sex', 'doctor', 'medical_specialty',\n",
       "       'appointment_status_simplified'],\n",
       "      dtype='object')"
      ]
     },
     "execution_count": 6,
     "metadata": {},
     "output_type": "execute_result"
    }
   ],
   "source": [
    "df.columns\n",
    "#relevant columns: appointment_weekday, appointment_dur_min, recurring_patient, creation_to_start_hrs, confirm_request_msg, \n",
    "#confirm_to_start_hrs, clinic, appointment_source, appointment_date_update, rounded_start_times\n",
    "\n",
    "#missing data: recurring_patient, creation_to_start_hrs, confirm_to_start_hrs, patient_age, patient_sex "
   ]
  },
  {
   "cell_type": "code",
   "execution_count": 7,
   "id": "37c4b669",
   "metadata": {},
   "outputs": [
    {
     "data": {
      "text/plain": [
       "0.0"
      ]
     },
     "execution_count": 7,
     "metadata": {},
     "output_type": "execute_result"
    }
   ],
   "source": [
    "df['appointment_weekday'].isna().mean()"
   ]
  },
  {
   "cell_type": "code",
   "execution_count": 8,
   "id": "850899d9",
   "metadata": {},
   "outputs": [],
   "source": [
    "rounded_times = pd.to_datetime(df['appointment_start']).dt.round('30min')\n",
    "df['rounded_start_times'] = rounded_times.dt.strftime('%H:%M:%S')"
   ]
  },
  {
   "cell_type": "code",
   "execution_count": 9,
   "id": "41ee69ee",
   "metadata": {},
   "outputs": [
    {
     "data": {
      "text/plain": [
       "31.54249449537882"
      ]
     },
     "execution_count": 9,
     "metadata": {},
     "output_type": "execute_result"
    }
   ],
   "source": [
    "df['confirm_to_start_hrs'].mean() #replace na"
   ]
  },
  {
   "cell_type": "code",
   "execution_count": 10,
   "id": "dd520798",
   "metadata": {},
   "outputs": [
    {
     "data": {
      "text/plain": [
       "appointment_id                   0.000000\n",
       "appointment_weekday              0.000000\n",
       "appointment_start                0.000000\n",
       "appointment_dur_min              0.000000\n",
       "recurring_patient                0.002816\n",
       "creation_to_start_hrs            0.019948\n",
       "confirm_request_msg              0.000000\n",
       "patient_confirm                  0.000000\n",
       "confirm_to_start_hrs             0.233176\n",
       "clinic                           0.000000\n",
       "appointment_source               0.000000\n",
       "appointment_date_update          0.000000\n",
       "patient_age                      0.003889\n",
       "patient_sex                      0.015100\n",
       "doctor                           0.000000\n",
       "medical_specialty                0.000000\n",
       "appointment_status_simplified    0.000000\n",
       "rounded_start_times              0.000000\n",
       "dtype: float64"
      ]
     },
     "execution_count": 10,
     "metadata": {},
     "output_type": "execute_result"
    }
   ],
   "source": [
    "df.isna().mean()"
   ]
  },
  {
   "cell_type": "code",
   "execution_count": 11,
   "id": "3b3af169",
   "metadata": {},
   "outputs": [],
   "source": [
    "df['medical_specialty'].replace({'Ultrasonido': 'ULTRASONIDO'}, inplace = True)"
   ]
  },
  {
   "cell_type": "code",
   "execution_count": 12,
   "id": "e454f71d",
   "metadata": {},
   "outputs": [],
   "source": [
    "df['confirm_to_start_hrs'].fillna(df['confirm_to_start_hrs'].mean(), inplace = True)"
   ]
  },
  {
   "cell_type": "code",
   "execution_count": 13,
   "id": "5a7c876e",
   "metadata": {},
   "outputs": [],
   "source": [
    "df.dropna(subset= ['recurring_patient', 'creation_to_start_hrs', 'patient_age', 'patient_sex'], inplace = True)"
   ]
  },
  {
   "cell_type": "code",
   "execution_count": 14,
   "id": "db08c4e1",
   "metadata": {},
   "outputs": [],
   "source": [
    "df.drop(columns = ['appointment_id', 'appointment_start'], inplace = True)"
   ]
  },
  {
   "cell_type": "code",
   "execution_count": 15,
   "id": "362033f8",
   "metadata": {},
   "outputs": [],
   "source": [
    "X = df.drop(columns = ['appointment_status_simplified'])\n",
    "y = df['appointment_status_simplified']"
   ]
  },
  {
   "cell_type": "code",
   "execution_count": 16,
   "id": "92543806",
   "metadata": {},
   "outputs": [],
   "source": [
    "X_train, X_test, y_train_old, y_test_old = train_test_split(X, y, test_size=0.25, random_state=42)"
   ]
  },
  {
   "cell_type": "code",
   "execution_count": 18,
   "id": "4386050f",
   "metadata": {},
   "outputs": [],
   "source": [
    "le = LabelEncoder()\n",
    "y_train = le.fit_transform(y_train_old)\n",
    "y_test = le.fit_transform(y_test_old)"
   ]
  },
  {
   "cell_type": "code",
   "execution_count": 19,
   "id": "46fed230",
   "metadata": {},
   "outputs": [
    {
     "data": {
      "text/plain": [
       "(array([1, 2, 1, ..., 2, 1, 1]), array([1, 1, 1, ..., 1, 2, 0]))"
      ]
     },
     "execution_count": 19,
     "metadata": {},
     "output_type": "execute_result"
    }
   ],
   "source": [
    "y_train, y_test"
   ]
  },
  {
   "cell_type": "code",
   "execution_count": 20,
   "id": "42306de0",
   "metadata": {},
   "outputs": [
    {
     "data": {
      "text/plain": [
       "0.6401005534756762"
      ]
     },
     "execution_count": 20,
     "metadata": {},
     "output_type": "execute_result"
    }
   ],
   "source": [
    "most_common_label = np.argmax(np.bincount(y_train))\n",
    "baseline_1_acc = (y_test == most_common_label).mean()\n",
    "baseline_1_acc"
   ]
  },
  {
   "cell_type": "code",
   "execution_count": 21,
   "id": "5549b372",
   "metadata": {},
   "outputs": [],
   "source": [
    "encoder = OneHotEncoder(handle_unknown=\"ignore\")\n",
    "encoder.fit(X_train)\n",
    "X_train = encoder.transform(X_train)\n",
    "X_test = encoder.transform(X_test)"
   ]
  },
  {
   "cell_type": "code",
   "execution_count": 22,
   "id": "0287bf36",
   "metadata": {},
   "outputs": [],
   "source": [
    "model = LogisticRegression(multi_class='multinomial', solver='lbfgs')"
   ]
  },
  {
   "cell_type": "code",
   "execution_count": 23,
   "id": "4ad072ea",
   "metadata": {},
   "outputs": [
    {
     "name": "stderr",
     "output_type": "stream",
     "text": [
      "/usr/local/lib/python3.11/site-packages/sklearn/linear_model/_logistic.py:460: ConvergenceWarning: lbfgs failed to converge (status=1):\n",
      "STOP: TOTAL NO. of ITERATIONS REACHED LIMIT.\n",
      "\n",
      "Increase the number of iterations (max_iter) or scale the data as shown in:\n",
      "    https://scikit-learn.org/stable/modules/preprocessing.html\n",
      "Please also refer to the documentation for alternative solver options:\n",
      "    https://scikit-learn.org/stable/modules/linear_model.html#logistic-regression\n",
      "  n_iter_i = _check_optimize_result(\n"
     ]
    },
    {
     "data": {
      "text/html": [
       "<style>#sk-container-id-1 {color: black;}#sk-container-id-1 pre{padding: 0;}#sk-container-id-1 div.sk-toggleable {background-color: white;}#sk-container-id-1 label.sk-toggleable__label {cursor: pointer;display: block;width: 100%;margin-bottom: 0;padding: 0.3em;box-sizing: border-box;text-align: center;}#sk-container-id-1 label.sk-toggleable__label-arrow:before {content: \"▸\";float: left;margin-right: 0.25em;color: #696969;}#sk-container-id-1 label.sk-toggleable__label-arrow:hover:before {color: black;}#sk-container-id-1 div.sk-estimator:hover label.sk-toggleable__label-arrow:before {color: black;}#sk-container-id-1 div.sk-toggleable__content {max-height: 0;max-width: 0;overflow: hidden;text-align: left;background-color: #f0f8ff;}#sk-container-id-1 div.sk-toggleable__content pre {margin: 0.2em;color: black;border-radius: 0.25em;background-color: #f0f8ff;}#sk-container-id-1 input.sk-toggleable__control:checked~div.sk-toggleable__content {max-height: 200px;max-width: 100%;overflow: auto;}#sk-container-id-1 input.sk-toggleable__control:checked~label.sk-toggleable__label-arrow:before {content: \"▾\";}#sk-container-id-1 div.sk-estimator input.sk-toggleable__control:checked~label.sk-toggleable__label {background-color: #d4ebff;}#sk-container-id-1 div.sk-label input.sk-toggleable__control:checked~label.sk-toggleable__label {background-color: #d4ebff;}#sk-container-id-1 input.sk-hidden--visually {border: 0;clip: rect(1px 1px 1px 1px);clip: rect(1px, 1px, 1px, 1px);height: 1px;margin: -1px;overflow: hidden;padding: 0;position: absolute;width: 1px;}#sk-container-id-1 div.sk-estimator {font-family: monospace;background-color: #f0f8ff;border: 1px dotted black;border-radius: 0.25em;box-sizing: border-box;margin-bottom: 0.5em;}#sk-container-id-1 div.sk-estimator:hover {background-color: #d4ebff;}#sk-container-id-1 div.sk-parallel-item::after {content: \"\";width: 100%;border-bottom: 1px solid gray;flex-grow: 1;}#sk-container-id-1 div.sk-label:hover label.sk-toggleable__label {background-color: #d4ebff;}#sk-container-id-1 div.sk-serial::before {content: \"\";position: absolute;border-left: 1px solid gray;box-sizing: border-box;top: 0;bottom: 0;left: 50%;z-index: 0;}#sk-container-id-1 div.sk-serial {display: flex;flex-direction: column;align-items: center;background-color: white;padding-right: 0.2em;padding-left: 0.2em;position: relative;}#sk-container-id-1 div.sk-item {position: relative;z-index: 1;}#sk-container-id-1 div.sk-parallel {display: flex;align-items: stretch;justify-content: center;background-color: white;position: relative;}#sk-container-id-1 div.sk-item::before, #sk-container-id-1 div.sk-parallel-item::before {content: \"\";position: absolute;border-left: 1px solid gray;box-sizing: border-box;top: 0;bottom: 0;left: 50%;z-index: -1;}#sk-container-id-1 div.sk-parallel-item {display: flex;flex-direction: column;z-index: 1;position: relative;background-color: white;}#sk-container-id-1 div.sk-parallel-item:first-child::after {align-self: flex-end;width: 50%;}#sk-container-id-1 div.sk-parallel-item:last-child::after {align-self: flex-start;width: 50%;}#sk-container-id-1 div.sk-parallel-item:only-child::after {width: 0;}#sk-container-id-1 div.sk-dashed-wrapped {border: 1px dashed gray;margin: 0 0.4em 0.5em 0.4em;box-sizing: border-box;padding-bottom: 0.4em;background-color: white;}#sk-container-id-1 div.sk-label label {font-family: monospace;font-weight: bold;display: inline-block;line-height: 1.2em;}#sk-container-id-1 div.sk-label-container {text-align: center;}#sk-container-id-1 div.sk-container {/* jupyter's `normalize.less` sets `[hidden] { display: none; }` but bootstrap.min.css set `[hidden] { display: none !important; }` so we also need the `!important` here to be able to override the default hidden behavior on the sphinx rendered scikit-learn.org. See: https://github.com/scikit-learn/scikit-learn/issues/21755 */display: inline-block !important;position: relative;}#sk-container-id-1 div.sk-text-repr-fallback {display: none;}</style><div id=\"sk-container-id-1\" class=\"sk-top-container\"><div class=\"sk-text-repr-fallback\"><pre>LogisticRegression(multi_class=&#x27;multinomial&#x27;)</pre><b>In a Jupyter environment, please rerun this cell to show the HTML representation or trust the notebook. <br />On GitHub, the HTML representation is unable to render, please try loading this page with nbviewer.org.</b></div><div class=\"sk-container\" hidden><div class=\"sk-item\"><div class=\"sk-estimator sk-toggleable\"><input class=\"sk-toggleable__control sk-hidden--visually\" id=\"sk-estimator-id-1\" type=\"checkbox\" checked><label for=\"sk-estimator-id-1\" class=\"sk-toggleable__label sk-toggleable__label-arrow\">LogisticRegression</label><div class=\"sk-toggleable__content\"><pre>LogisticRegression(multi_class=&#x27;multinomial&#x27;)</pre></div></div></div></div></div>"
      ],
      "text/plain": [
       "LogisticRegression(multi_class='multinomial')"
      ]
     },
     "execution_count": 23,
     "metadata": {},
     "output_type": "execute_result"
    }
   ],
   "source": [
    "model.fit(X_train, y_train)"
   ]
  },
  {
   "cell_type": "code",
   "execution_count": 24,
   "id": "0a000401",
   "metadata": {},
   "outputs": [],
   "source": [
    "y_pred = model.predict(X_test)\n",
    "y_pred_proba = model.predict_proba(X_test)"
   ]
  },
  {
   "cell_type": "code",
   "execution_count": 25,
   "id": "c41fd614",
   "metadata": {},
   "outputs": [],
   "source": [
    "model_acc = accuracy_score(y_test, y_pred)"
   ]
  },
  {
   "cell_type": "code",
   "execution_count": 26,
   "id": "dc80c6fd",
   "metadata": {},
   "outputs": [
    {
     "data": {
      "text/plain": [
       "0.7915781069621414"
      ]
     },
     "execution_count": 26,
     "metadata": {},
     "output_type": "execute_result"
    }
   ],
   "source": [
    "model_acc"
   ]
  },
  {
   "cell_type": "code",
   "execution_count": 27,
   "id": "fc6857a8",
   "metadata": {},
   "outputs": [],
   "source": [
    "coefficients = model.coef_[0]"
   ]
  },
  {
   "cell_type": "code",
   "execution_count": 28,
   "id": "55602bbf",
   "metadata": {},
   "outputs": [
    {
     "name": "stdout",
     "output_type": "stream",
     "text": [
      "appointment_weekday: -0.08053486387505376\n",
      "appointment_dur_min: 0.060244979370688616\n",
      "recurring_patient: 0.04577819009295222\n",
      "creation_to_start_hrs: 0.08550159874942155\n",
      "confirm_request_msg: 0.09098373318722333\n",
      "patient_confirm: 0.05308090131474075\n",
      "confirm_to_start_hrs: -0.3913676469438612\n",
      "clinic: 0.004925207343934351\n",
      "appointment_source: -0.11894096685114629\n",
      "appointment_date_update: -0.6644510098856173\n",
      "patient_age: 1.078243512136026\n",
      "patient_sex: -0.2871608489375163\n",
      "doctor: 0.26998263472340134\n",
      "medical_specialty: 0.3464975853450315\n",
      "rounded_start_times: 0.18992254670121425\n"
     ]
    }
   ],
   "source": [
    "for feature, coef in zip(X.columns, coefficients):\n",
    "    print(f\"{feature}: {coef}\")"
   ]
  },
  {
   "cell_type": "code",
   "execution_count": 29,
   "id": "c2708c28",
   "metadata": {},
   "outputs": [
    {
     "name": "stdout",
     "output_type": "stream",
     "text": [
      "Most significant features: ['confirm_to_start_hrs', 'appointment_source', 'appointment_date_update', 'patient_age', 'patient_sex', 'doctor', 'medical_specialty', 'rounded_start_times']\n"
     ]
    }
   ],
   "source": [
    "most_significant_features = [feature for feature, coef in zip(X.columns, coefficients) if abs(coef) > 0.1]\n",
    "print(\"Most significant features:\", most_significant_features)"
   ]
  },
  {
   "cell_type": "code",
   "execution_count": 33,
   "id": "6044354c",
   "metadata": {},
   "outputs": [
    {
     "name": "stdout",
     "output_type": "stream",
     "text": [
      "Logistic Regression Test AUC: 0.8820\n",
      "Confusion Matrix : \n",
      " [[15524  4370   294]\n",
      " [ 1457 57494   378]\n",
      " [ 2282 10537   351]]\n",
      "\n",
      "Accuracy: 0.7915781069621414\n"
     ]
    }
   ],
   "source": [
    "roc_auc_micro = roc_auc_score(y_test, y_pred_proba, multi_class='ovr', average='micro')\n",
    "print(f'Logistic Regression Test AUC: {roc_auc_micro:.4f}')\n",
    "cm_logistic = confusion_matrix(y_test, y_pred)\n",
    "print (\"Confusion Matrix : \\n\", cm_logistic)\n",
    "print (\"\\nAccuracy:\", accuracy_score(y_test, y_pred))"
   ]
  },
  {
   "cell_type": "code",
   "execution_count": 37,
   "id": "14c8c7b3",
   "metadata": {},
   "outputs": [
    {
     "name": "stdout",
     "output_type": "stream",
     "text": [
      "False Positive Rate (FPR): [0.05157313 0.44687931 0.00845102]\n",
      "False Negative Rate (FNR): [0.23102833 0.03092923 0.97334852]\n",
      "True Positive Rate (TPR): [0.76897167 0.96907077 0.02665148]\n"
     ]
    }
   ],
   "source": [
    "true_positives = np.diag(cm_logistic)\n",
    "false_positives = np.sum(cm_logistic, axis=0) - true_positives\n",
    "false_negatives = np.sum(cm_logistic, axis=1) - true_positives\n",
    "true_negatives = np.sum(cm_logistic) - (true_positives + false_positives + false_negatives)\n",
    "\n",
    "\n",
    "# Calculate False Positive Rate (FPR), False Negative Rate (FNR), and True Positive Rate (TPR)\n",
    "fpr = false_positives / (false_positives + true_negatives)\n",
    "fnr = false_negatives / (false_negatives + true_positives)\n",
    "tpr = true_positives / (true_positives + false_negatives)\n",
    "\n",
    "#0 cancel, #1 completed, #2 no_show\n",
    "print(\"False Positive Rate (FPR):\", fpr)\n",
    "print(\"False Negative Rate (FNR):\", fnr)\n",
    "print(\"True Positive Rate (TPR):\", tpr)\n"
   ]
  },
  {
   "cell_type": "code",
   "execution_count": 35,
   "id": "564268fa",
   "metadata": {},
   "outputs": [],
   "source": [
    "dtc = DecisionTreeClassifier(random_state = 10)\n",
    "dtc = dtc.fit(X_train, y_train)"
   ]
  },
  {
   "cell_type": "code",
   "execution_count": 174,
   "id": "89ecea79",
   "metadata": {},
   "outputs": [
    {
     "name": "stdout",
     "output_type": "stream",
     "text": [
      "Confusion Matrix : \n",
      " [[14123  3815  2250]\n",
      " [ 3803 47157  8369]\n",
      " [ 2188  8293  2689]]\n",
      "\n",
      "Accuracy: 0.690161511323055\n"
     ]
    }
   ],
   "source": [
    "y_pred_dtc = dtc.predict(X_test)\n",
    "cm_dtc = confusion_matrix(y_test, y_pred_dtc)\n",
    "print (\"Confusion Matrix : \\n\", cm_dtc)\n",
    "print (\"\\nAccuracy:\", accuracy_score(y_test, y_pred_dtc))"
   ]
  },
  {
   "cell_type": "code",
   "execution_count": 176,
   "id": "142b6d54",
   "metadata": {},
   "outputs": [
    {
     "data": {
      "text/html": [
       "<style>#sk-container-id-5 {color: black;}#sk-container-id-5 pre{padding: 0;}#sk-container-id-5 div.sk-toggleable {background-color: white;}#sk-container-id-5 label.sk-toggleable__label {cursor: pointer;display: block;width: 100%;margin-bottom: 0;padding: 0.3em;box-sizing: border-box;text-align: center;}#sk-container-id-5 label.sk-toggleable__label-arrow:before {content: \"▸\";float: left;margin-right: 0.25em;color: #696969;}#sk-container-id-5 label.sk-toggleable__label-arrow:hover:before {color: black;}#sk-container-id-5 div.sk-estimator:hover label.sk-toggleable__label-arrow:before {color: black;}#sk-container-id-5 div.sk-toggleable__content {max-height: 0;max-width: 0;overflow: hidden;text-align: left;background-color: #f0f8ff;}#sk-container-id-5 div.sk-toggleable__content pre {margin: 0.2em;color: black;border-radius: 0.25em;background-color: #f0f8ff;}#sk-container-id-5 input.sk-toggleable__control:checked~div.sk-toggleable__content {max-height: 200px;max-width: 100%;overflow: auto;}#sk-container-id-5 input.sk-toggleable__control:checked~label.sk-toggleable__label-arrow:before {content: \"▾\";}#sk-container-id-5 div.sk-estimator input.sk-toggleable__control:checked~label.sk-toggleable__label {background-color: #d4ebff;}#sk-container-id-5 div.sk-label input.sk-toggleable__control:checked~label.sk-toggleable__label {background-color: #d4ebff;}#sk-container-id-5 input.sk-hidden--visually {border: 0;clip: rect(1px 1px 1px 1px);clip: rect(1px, 1px, 1px, 1px);height: 1px;margin: -1px;overflow: hidden;padding: 0;position: absolute;width: 1px;}#sk-container-id-5 div.sk-estimator {font-family: monospace;background-color: #f0f8ff;border: 1px dotted black;border-radius: 0.25em;box-sizing: border-box;margin-bottom: 0.5em;}#sk-container-id-5 div.sk-estimator:hover {background-color: #d4ebff;}#sk-container-id-5 div.sk-parallel-item::after {content: \"\";width: 100%;border-bottom: 1px solid gray;flex-grow: 1;}#sk-container-id-5 div.sk-label:hover label.sk-toggleable__label {background-color: #d4ebff;}#sk-container-id-5 div.sk-serial::before {content: \"\";position: absolute;border-left: 1px solid gray;box-sizing: border-box;top: 0;bottom: 0;left: 50%;z-index: 0;}#sk-container-id-5 div.sk-serial {display: flex;flex-direction: column;align-items: center;background-color: white;padding-right: 0.2em;padding-left: 0.2em;position: relative;}#sk-container-id-5 div.sk-item {position: relative;z-index: 1;}#sk-container-id-5 div.sk-parallel {display: flex;align-items: stretch;justify-content: center;background-color: white;position: relative;}#sk-container-id-5 div.sk-item::before, #sk-container-id-5 div.sk-parallel-item::before {content: \"\";position: absolute;border-left: 1px solid gray;box-sizing: border-box;top: 0;bottom: 0;left: 50%;z-index: -1;}#sk-container-id-5 div.sk-parallel-item {display: flex;flex-direction: column;z-index: 1;position: relative;background-color: white;}#sk-container-id-5 div.sk-parallel-item:first-child::after {align-self: flex-end;width: 50%;}#sk-container-id-5 div.sk-parallel-item:last-child::after {align-self: flex-start;width: 50%;}#sk-container-id-5 div.sk-parallel-item:only-child::after {width: 0;}#sk-container-id-5 div.sk-dashed-wrapped {border: 1px dashed gray;margin: 0 0.4em 0.5em 0.4em;box-sizing: border-box;padding-bottom: 0.4em;background-color: white;}#sk-container-id-5 div.sk-label label {font-family: monospace;font-weight: bold;display: inline-block;line-height: 1.2em;}#sk-container-id-5 div.sk-label-container {text-align: center;}#sk-container-id-5 div.sk-container {/* jupyter's `normalize.less` sets `[hidden] { display: none; }` but bootstrap.min.css set `[hidden] { display: none !important; }` so we also need the `!important` here to be able to override the default hidden behavior on the sphinx rendered scikit-learn.org. See: https://github.com/scikit-learn/scikit-learn/issues/21755 */display: inline-block !important;position: relative;}#sk-container-id-5 div.sk-text-repr-fallback {display: none;}</style><div id=\"sk-container-id-5\" class=\"sk-top-container\"><div class=\"sk-text-repr-fallback\"><pre>RandomForestClassifier(max_depth=5)</pre><b>In a Jupyter environment, please rerun this cell to show the HTML representation or trust the notebook. <br />On GitHub, the HTML representation is unable to render, please try loading this page with nbviewer.org.</b></div><div class=\"sk-container\" hidden><div class=\"sk-item\"><div class=\"sk-estimator sk-toggleable\"><input class=\"sk-toggleable__control sk-hidden--visually\" id=\"sk-estimator-id-5\" type=\"checkbox\" checked><label for=\"sk-estimator-id-5\" class=\"sk-toggleable__label sk-toggleable__label-arrow\">RandomForestClassifier</label><div class=\"sk-toggleable__content\"><pre>RandomForestClassifier(max_depth=5)</pre></div></div></div></div></div>"
      ],
      "text/plain": [
       "RandomForestClassifier(max_depth=5)"
      ]
     },
     "execution_count": 176,
     "metadata": {},
     "output_type": "execute_result"
    }
   ],
   "source": [
    "rf = RandomForestClassifier(max_depth=5)\n",
    "rf.fit(X_train, y_train)"
   ]
  },
  {
   "cell_type": "code",
   "execution_count": 177,
   "id": "7f349c63",
   "metadata": {},
   "outputs": [
    {
     "name": "stdout",
     "output_type": "stream",
     "text": [
      "Confusion Matrix: \n",
      " [[ 4213 15975     0]\n",
      " [  121 59208     0]\n",
      " [ 1026 12144     0]]\n",
      "\n",
      "Accuracy: 0.684249139577287\n"
     ]
    }
   ],
   "source": [
    "y_pred_rf = rf.predict(X_test)\n",
    "cm_rf = confusion_matrix(y_test, y_pred_rf)\n",
    "print (\"Confusion Matrix: \\n\", cm_rf)\n",
    "print (\"\\nAccuracy:\", accuracy_score(y_test, y_pred_rf))"
   ]
  },
  {
   "cell_type": "code",
   "execution_count": 28,
   "id": "b5c5a845",
   "metadata": {},
   "outputs": [
    {
     "ename": "",
     "evalue": "",
     "output_type": "error",
     "traceback": [
      "\u001b[1;31mThe Kernel crashed while executing code in the current cell or a previous cell. \n",
      "\u001b[1;31mPlease review the code in the cell(s) to identify a possible cause of the failure. \n",
      "\u001b[1;31mClick <a href='https://aka.ms/vscodeJupyterKernelCrash'>here</a> for more info. \n",
      "\u001b[1;31mView Jupyter <a href='command:jupyter.viewOutput'>log</a> for further details."
     ]
    }
   ],
   "source": [
    "lda = LinearDiscriminantAnalysis()\n",
    "lda.fit(X_train,y_train)"
   ]
  },
  {
   "cell_type": "code",
   "execution_count": 179,
   "id": "f9314d73",
   "metadata": {},
   "outputs": [
    {
     "name": "stdout",
     "output_type": "stream",
     "text": [
      "LDA Test Accuracy: 0.7927\n",
      "Confusion Matrix: \n",
      " [[15786  4352    50]\n",
      " [ 1697 57606    26]\n",
      " [ 2531 10556    83]]\n"
     ]
    }
   ],
   "source": [
    "y_pred_lda = lda.predict(X_test)\n",
    "lda_acc = accuracy_score(y_test, y_pred_lda)\n",
    "print(f'LDA Test Accuracy: {lda_acc:.4f}')\n",
    "cm_lda = confusion_matrix(y_test, y_pred_lda)\n",
    "print (\"Confusion Matrix: \\n\", cm_lda)"
   ]
  }
 ],
 "metadata": {
  "kernelspec": {
   "display_name": "Python 3 (ipykernel)",
   "language": "python",
   "name": "python3"
  },
  "language_info": {
   "codemirror_mode": {
    "name": "ipython",
    "version": 3
   },
   "file_extension": ".py",
   "mimetype": "text/x-python",
   "name": "python",
   "nbconvert_exporter": "python",
   "pygments_lexer": "ipython3",
   "version": "3.11.7"
  }
 },
 "nbformat": 4,
 "nbformat_minor": 5
}
