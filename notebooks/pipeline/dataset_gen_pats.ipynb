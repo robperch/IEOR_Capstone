{
 "cells": [
  {
   "cell_type": "markdown",
   "id": "b362e6fb-bbbb-4fe3-8093-ce5cb7011d38",
   "metadata": {},
   "source": [
    "# Generating dataset\n",
    "---\n",
    "---"
   ]
  },
  {
   "cell_type": "markdown",
   "id": "271b4d9f-7fb1-4277-869c-7e1f224c0214",
   "metadata": {},
   "source": [
    "# Imports"
   ]
  },
  {
   "cell_type": "markdown",
   "id": "64661518-3244-423d-9d0a-169f8cd5881a",
   "metadata": {},
   "source": [
    "#### Standard library imports"
   ]
  },
  {
   "cell_type": "code",
   "execution_count": 1,
   "id": "84e8892a-724d-4120-9271-2e6cfa8efff5",
   "metadata": {},
   "outputs": [],
   "source": [
    "import sys\n",
    "import pickle\n",
    "import os\n",
    "\n",
    "sys.path.append(\"../../\")"
   ]
  },
  {
   "cell_type": "markdown",
   "id": "eb79d938-3938-4b57-a6dd-67218b812f55",
   "metadata": {},
   "source": [
    "#### Third party imports"
   ]
  },
  {
   "cell_type": "code",
   "execution_count": 2,
   "id": "8779b474-7192-447e-949e-abc2ff159ba2",
   "metadata": {},
   "outputs": [],
   "source": [
    "import pandas as pd\n",
    "pd.set_option('display.max_columns', 500)\n",
    "\n",
    "import numpy as np"
   ]
  },
  {
   "cell_type": "markdown",
   "id": "cacb339f-23dc-48ee-a599-b436d6dc7072",
   "metadata": {},
   "source": [
    "#### Local application imports"
   ]
  },
  {
   "cell_type": "code",
   "execution_count": 3,
   "id": "bee67dd7-757f-446b-8e4f-8b1099edf963",
   "metadata": {},
   "outputs": [],
   "source": [
    "%load_ext autoreload\n",
    "%autoreload 2\n",
    "\n",
    "from pkg_dir.config import *\n",
    "from pkg_dir.src.utils import *\n",
    "from pkg_dir.src.functions import *\n",
    "from pkg_dir.src.parameters import *"
   ]
  },
  {
   "cell_type": "markdown",
   "id": "63d31c53-a3b9-42c8-9b40-1c4b544071f4",
   "metadata": {
    "jp-MarkdownHeadingCollapsed": true
   },
   "source": [
    "# Base dataset with no metadata"
   ]
  },
  {
   "cell_type": "markdown",
   "id": "cff1da62-4491-45ff-a48b-d8c303d95cbf",
   "metadata": {
    "jp-MarkdownHeadingCollapsed": true
   },
   "source": [
    "### Query on database"
   ]
  },
  {
   "cell_type": "code",
   "execution_count": null,
   "id": "5e5af53e-4cb3-4e34-93f3-7023e4f842e5",
   "metadata": {},
   "outputs": [],
   "source": [
    "## Function parameters\n",
    "db_crds = 'pc_db_prod'\n",
    "query = '''\n",
    "SELECT cita.citaid as appointment_id,\n",
    "       citafecha as appointment_date,\n",
    "       citahorad as appointment_start_time,\n",
    "       citahorah as appointment_end_time,\n",
    "       citaestado as appointment_status,\n",
    "       citasubsecuente as recurring_patient,\n",
    "       u.usuarionomfull as doctor,\n",
    "       e.especialidadnom as medical_specialty,\n",
    "       su.sucursalnom as clinic,\n",
    "       se.servicionom as service,\n",
    "       p.pacienteid as patient_id,\n",
    "       p.pacientesexo as patient_sex,\n",
    "       p.pacientefnac as patient_birth_date\n",
    "\n",
    "FROM cita\n",
    "\n",
    " INNER JOIN usuario u ON cita.citadoctorid = u.usuarioid\n",
    " INNER JOIN servicio se ON cita.servicioid = se.servicioid\n",
    " INNER JOIN especialidad e ON u.usuarioespecialidadid = e.especialidadid\n",
    " INNER JOIN sucursal su ON cita.citasucursalid = su.sucursalid\n",
    " LEFT JOIN paciente p ON cita.pacienteid = p.pacienteid\n",
    "\n",
    "WHERE citafecha >= '2020-01-01'\n",
    "  AND citafecha <= '2023-12-31'\n",
    "\n",
    ";\n",
    "'''\n"
   ]
  },
  {
   "cell_type": "code",
   "execution_count": null,
   "id": "2bac9108-9e5b-425a-8bb4-b8337806525a",
   "metadata": {},
   "outputs": [],
   "source": [
    "dfx = sql_string_to_df(db_crds, query)\n",
    "dfx.columns = [\n",
    "    'appointment_id', \n",
    "    'appointment_date', \n",
    "    'appointment_start_time', \n",
    "    'appointment_end_time', \n",
    "    'appointment_status', \n",
    "    'recurring_patient', \n",
    "    'doctor', \n",
    "    'medical_specialty', \n",
    "    'clinic', \n",
    "    'service', \n",
    "    'patient_id', \n",
    "    'patient_sex', \n",
    "    'patient_birth_date'\n",
    "]"
   ]
  },
  {
   "cell_type": "markdown",
   "id": "c873fb45-d46c-4d15-90c1-159787aa259c",
   "metadata": {
    "jp-MarkdownHeadingCollapsed": true
   },
   "source": [
    "### Formatting date columns"
   ]
  },
  {
   "cell_type": "code",
   "execution_count": null,
   "id": "194e921a-73f0-45d6-8d67-1458960254c6",
   "metadata": {
    "scrolled": true
   },
   "outputs": [],
   "source": [
    "## Formatting appointment dates\n",
    "dfx['appointment_start'] = dfx['appointment_date'].astype('str') + ' ' + dfx['appointment_start_time']\n",
    "dfx['appointment_start'] = pd.to_datetime(dfx['appointment_start'], format='%Y-%m-%d %H:%M')\n",
    "\n",
    "dfx['appointment_end'] = dfx['appointment_date'].astype('str') + ' ' + dfx['appointment_end_time']\n",
    "dfx['appointment_end'] = pd.to_datetime(dfx['appointment_end'], format='%Y-%m-%d %H:%M', errors='coerce')"
   ]
  },
  {
   "cell_type": "code",
   "execution_count": null,
   "id": "29122f9b-92aa-473f-80b5-825b0fc9057c",
   "metadata": {},
   "outputs": [],
   "source": [
    "dfx = dfx[~dfx['appointment_end'].isna()].copy()"
   ]
  },
  {
   "cell_type": "code",
   "execution_count": null,
   "id": "0ed6ea78-8781-4518-b1e4-2f0abb5f9829",
   "metadata": {},
   "outputs": [],
   "source": [
    "## Appointment weekday\n",
    "dfx['appointment_weekday'] = dfx['appointment_start'].dt.weekday"
   ]
  },
  {
   "cell_type": "code",
   "execution_count": null,
   "id": "6989e13c-7eb9-4342-94a3-bd689bba29e8",
   "metadata": {},
   "outputs": [],
   "source": [
    "## Appointment duration\n",
    "dfx['appointment_dur_min'] = dfx['appointment_end'] - dfx['appointment_start']\n",
    "dfx['appointment_dur_min'] = dfx['appointment_dur_min'].dt.total_seconds() / 60"
   ]
  },
  {
   "cell_type": "markdown",
   "id": "6daecc0a-218e-46e4-bc3e-4abaa3170465",
   "metadata": {},
   "source": [
    "### Age of patients"
   ]
  },
  {
   "cell_type": "code",
   "execution_count": null,
   "id": "22809947-dbff-43d7-9779-df703db242be",
   "metadata": {},
   "outputs": [],
   "source": [
    "## Numerical age\n",
    "dfx['patient_age'] = dfx['patient_birth_date'].fillna('2025')\n",
    "dfx['patient_age'] = dfx['patient_age'].apply(lambda x: str(x)[:4])\n",
    "dfx['patient_age'] = 2024 - dfx['patient_age'].astype('float')\n",
    "dfx['patient_age'] = dfx['patient_age'].apply(lambda x: np.nan if (x <= 0 or x >=110) else x)"
   ]
  },
  {
   "cell_type": "markdown",
   "id": "15caf196-2256-443f-a358-40c65eaee1be",
   "metadata": {},
   "source": [
    "### Patient sex clean up"
   ]
  },
  {
   "cell_type": "code",
   "execution_count": null,
   "id": "4d4b2837-cc8d-4cb6-9035-cdd4c8c50d69",
   "metadata": {},
   "outputs": [],
   "source": [
    "dfx['patient_sex'] = dfx['patient_sex'].replace({' ': None})"
   ]
  },
  {
   "cell_type": "markdown",
   "id": "ea1cc142-98bf-43c7-88ad-760ec2e29e83",
   "metadata": {},
   "source": [
    "### Recurring patient field"
   ]
  },
  {
   "cell_type": "code",
   "execution_count": null,
   "id": "a756ca69-d621-4bc6-ad71-5b53a89f9985",
   "metadata": {},
   "outputs": [],
   "source": [
    "dfx['recurring_patient'] = dfx['recurring_patient'].replace({' ': None})"
   ]
  },
  {
   "cell_type": "code",
   "execution_count": null,
   "id": "ad26b74d-b284-4515-9176-47c60bda5f25",
   "metadata": {},
   "outputs": [],
   "source": [
    "dfx['recurring_patient'] = dfx['recurring_patient'].map(\n",
    "    {\n",
    "        'P': 'first',\n",
    "        'S': 'recurrent',\n",
    "    }\n",
    ")"
   ]
  },
  {
   "cell_type": "code",
   "execution_count": null,
   "id": "256e6133-16a2-491f-bbaf-86f0b72b6fb2",
   "metadata": {},
   "outputs": [],
   "source": [
    "dfx['recurring_patient'].unique()"
   ]
  },
  {
   "cell_type": "markdown",
   "id": "16322205-4215-4811-a555-29f42e806afd",
   "metadata": {},
   "source": [
    "### Appointment status simplification"
   ]
  },
  {
   "cell_type": "code",
   "execution_count": null,
   "id": "f27fc9b8-964d-442b-96dd-34996a7e8efd",
   "metadata": {},
   "outputs": [],
   "source": [
    "## Reference to simplify labels in appointment status\n",
    "values_map = {\n",
    "\n",
    "    ## Completed\n",
    "    'COMPLETADA': 'completed',\n",
    "    'SALA_ESPERA': 'completed',\n",
    "    'CONSULTA': 'completed',\n",
    "    'CONFIRMADO_PAGO': 'completed',\n",
    "\n",
    "    ## No shows\n",
    "    'NO_PRESENTO': 'no_show',\n",
    "    'MENSAJE_DEJADO': 'no_show',\n",
    "    'NO_CONFIRMADO': 'no_show',\n",
    "    'CONFIRMADO': 'no_show',\n",
    "    'LLEGA_TARDE_ESPERA': 'no_show',\n",
    "    'REAGENDAR': 'no_show',\n",
    "    'TRIAGE': 'no_show',\n",
    "    'TRIAGE_COMPLETO': 'no_show',\n",
    "    'LISTA_ESPERA': 'no_show',\n",
    "    'VALIDA_DATOS': 'no_show',\n",
    "\n",
    "    ## Unused\n",
    "    'DISPONIBLE': 'unused',\n",
    "\n",
    "    ## Blocked\n",
    "    'BLOQUEADO': 'blocked',\n",
    "\n",
    "    ## Canceled\n",
    "    'CANCELA_PACIENTE': 'cancel_patient',\n",
    "    'CANCELA_EMPLEADO': 'cancel_employee',\n",
    "    \n",
    "    \n",
    "}"
   ]
  },
  {
   "cell_type": "code",
   "execution_count": null,
   "id": "f17a27ce-9132-4ac9-8f5a-e96129e33d70",
   "metadata": {},
   "outputs": [],
   "source": [
    "## Mapping values according to reference\n",
    "dfx['appointment_status_simplified'] = dfx['appointment_status'].map(values_map).fillna(dfx['appointment_status'])"
   ]
  },
  {
   "cell_type": "markdown",
   "id": "8b21c8a1-361c-43d0-a6bb-bdb126cb7554",
   "metadata": {
    "jp-MarkdownHeadingCollapsed": true
   },
   "source": [
    "### Formatting data"
   ]
  },
  {
   "cell_type": "code",
   "execution_count": null,
   "id": "c90342fb-9f78-42f6-89d3-0ad2d09752b8",
   "metadata": {},
   "outputs": [],
   "source": [
    "## Reordering columns\n",
    "rc = [\n",
    " ## Appointment features\n",
    " 'appointment_id',\n",
    " 'appointment_weekday',\n",
    " 'appointment_start',\n",
    " 'appointment_end',\n",
    " 'appointment_dur_min',\n",
    " 'recurring_patient',\n",
    " 'appointment_status_simplified',\n",
    " 'clinic',\n",
    " ## Patient info\n",
    " 'patient_id',\n",
    " 'patient_age',\n",
    " 'patient_sex',\n",
    " ## Medical info\n",
    " 'doctor',\n",
    " 'medical_specialty',\n",
    "]"
   ]
  },
  {
   "cell_type": "code",
   "execution_count": null,
   "id": "b6aae274-5d6f-4935-84ce-e040da6e47ea",
   "metadata": {
    "scrolled": true
   },
   "outputs": [],
   "source": [
    "dfx = dfx.loc[:, rc].copy()"
   ]
  },
  {
   "cell_type": "markdown",
   "id": "c9711f7a-96fb-4a32-af0c-b70921d41edb",
   "metadata": {
    "jp-MarkdownHeadingCollapsed": true
   },
   "source": [
    "### Saving/loading data"
   ]
  },
  {
   "cell_type": "code",
   "execution_count": null,
   "id": "852cfe30-384d-4a7d-885f-155e18025d74",
   "metadata": {},
   "outputs": [],
   "source": [
    "## Saving df as pickle and storing it locally\n",
    "path = '../../pkg_dir/data/pickles/robs_patients'\n",
    "name = 'appts_extract.pkl'\n",
    "\n",
    "pickle.dump(\n",
    "    dfx,\n",
    "    open(\n",
    "        os.path.join(path, name),\n",
    "        'wb'\n",
    "    )\n",
    ")"
   ]
  },
  {
   "cell_type": "code",
   "execution_count": null,
   "id": "659a7393-feed-4850-8bf7-52b19bfc9b02",
   "metadata": {},
   "outputs": [],
   "source": [
    "## Params\n",
    "path = '../../pkg_dir/data/pickles/robs_patients'\n",
    "name = 'appts_extract.pkl'\n",
    "\n",
    "\n",
    "## Reading extract object saved as pickle locally\n",
    "pkl_obj = path + \"/\" + name\n",
    "\n",
    "with open(pkl_obj, 'rb') as obj_content:\n",
    "    dfx = pickle.load(obj_content)"
   ]
  },
  {
   "cell_type": "code",
   "execution_count": null,
   "id": "d047cabf-d5ea-45ea-843d-f1a24c9857db",
   "metadata": {},
   "outputs": [],
   "source": [
    "## Params\n",
    "path = '../../pkg_dir/data/pickles/robs_patients'\n",
    "name = 'appts_extract.pkl'\n",
    "\n",
    "## Reading extract object saved as pickle locally\n",
    "path_name = path + \"/\" + name\n",
    "\n",
    "## Saving as csv\n",
    "dfx.to_csv(path_name)"
   ]
  },
  {
   "cell_type": "markdown",
   "id": "3cd90d1b-595e-4d5e-a95d-d7c541cc19a9",
   "metadata": {
    "jp-MarkdownHeadingCollapsed": true
   },
   "source": [
    "# Metadata actions"
   ]
  },
  {
   "cell_type": "markdown",
   "id": "86526297-8c70-4fe5-bc4f-86dee3f47e8f",
   "metadata": {
    "jp-MarkdownHeadingCollapsed": true
   },
   "source": [
    "### Extracting from SQL"
   ]
  },
  {
   "cell_type": "code",
   "execution_count": null,
   "id": "06369279-c752-4ea5-85da-cc851dc2682b",
   "metadata": {},
   "outputs": [],
   "source": [
    "sql_string = \"\"\"\n",
    "SELECT cita.citaid as appointment_id,\n",
    "       c.cestatusobs as metadata,\n",
    "       SUBSTRING(c.cestatusobs, '^[^ ]*') as metadata_usr,\n",
    "       SUBSTRING(c.cestatusobs, '\\((.+?)\\)') as metadata_datetime,\n",
    "       SUBSTRING(c.cestatusobs, ' :(.*?)  ') as metadata_action,\n",
    "       SUBSTRING(c.cestatusobs, ' :(.*)') as metadata_action_full\n",
    "\n",
    "FROM cita\n",
    "\n",
    " INNER JOIN citaestatus c ON cita.citaid = c.citaid AND cita.citaanio = c.citaanio\n",
    "\n",
    "\n",
    "WHERE citafecha >= '2020-01-01'\n",
    "  AND citafecha <= '2023-12-31'\n",
    "\n",
    ";\n",
    "\"\"\""
   ]
  },
  {
   "cell_type": "code",
   "execution_count": null,
   "id": "164b3039-e10b-472e-bf00-dac2fa178383",
   "metadata": {
    "scrolled": true
   },
   "outputs": [],
   "source": [
    "dfx = sql_string_to_df('pc_db_prod', sql_string)"
   ]
  },
  {
   "cell_type": "code",
   "execution_count": null,
   "id": "9bcbb25f-c701-4c21-b3b6-49f68437e2bf",
   "metadata": {
    "scrolled": true
   },
   "outputs": [],
   "source": [
    "dfx"
   ]
  },
  {
   "cell_type": "code",
   "execution_count": null,
   "id": "9f9f8e0a-8630-442d-836a-3939cb364454",
   "metadata": {},
   "outputs": [],
   "source": [
    "dfx.rename(\n",
    "    columns={\n",
    "        0: \"appointment_id\",\n",
    "        1: \"metadata_full\",\n",
    "        2: \"user\",\n",
    "        3: \"date\",\n",
    "        4: \"action\",\n",
    "        5: \"action_full\",\n",
    "    }, \n",
    "    inplace=True\n",
    ")"
   ]
  },
  {
   "cell_type": "markdown",
   "id": "689c6bde-62a6-408e-b202-b945b75e8375",
   "metadata": {
    "jp-MarkdownHeadingCollapsed": true
   },
   "source": [
    "### Pickle save/load"
   ]
  },
  {
   "cell_type": "code",
   "execution_count": null,
   "id": "362c921c-4ac0-4a44-a091-1b4804c1da3b",
   "metadata": {},
   "outputs": [],
   "source": [
    "## Saving df as pickle and storing it locally\n",
    "path = '../../pkg_dir/data/pickles/robs_patients'\n",
    "name = 'metadata_raw.pkl'\n",
    "\n",
    "pickle.dump(\n",
    "    dfx,\n",
    "    open(\n",
    "        os.path.join(path, name),\n",
    "        'wb'\n",
    "    )\n",
    ")"
   ]
  },
  {
   "cell_type": "code",
   "execution_count": null,
   "id": "68d84509-bead-4c93-94a5-38e04602cbd6",
   "metadata": {},
   "outputs": [],
   "source": [
    "## Saving df as pickle and storing it locally\n",
    "path = '../../pkg_dir/data/pickles/robs_patients'\n",
    "name = 'metadata_raw.pkl'\n",
    "\n",
    "\n",
    "## Reading extract object saved as pickle locally\n",
    "pkl_obj = path + \"/\" + name\n",
    "\n",
    "with open(pkl_obj, 'rb') as obj_content:\n",
    "    dfm = pickle.load(obj_content)"
   ]
  },
  {
   "cell_type": "markdown",
   "id": "474b676e-3df2-4390-8315-ed3f04ce3d76",
   "metadata": {
    "jp-MarkdownHeadingCollapsed": true
   },
   "source": [
    "### Cleaning actions fields"
   ]
  },
  {
   "cell_type": "code",
   "execution_count": null,
   "id": "9441dd89-d046-4d33-b384-1de16c10fbea",
   "metadata": {},
   "outputs": [],
   "source": [
    "dfz = dfm.copy()"
   ]
  },
  {
   "cell_type": "code",
   "execution_count": null,
   "id": "1c59dd94-0c81-4cef-8af4-2eff6642ee75",
   "metadata": {},
   "outputs": [],
   "source": [
    "## Dummy col\n",
    "dfz['action_clean'] = 'irrelevant'"
   ]
  },
  {
   "cell_type": "code",
   "execution_count": null,
   "id": "1c0d42c6-59ce-4f36-94df-47e9d37f6ca4",
   "metadata": {},
   "outputs": [],
   "source": [
    "### Confirmado\n",
    "mr1 = (dfz['action_full'].str.contains('Confirmado')) | (dfz['action_full'].str.contains('Confirmada'))\n",
    "\n",
    "dfz.loc[mr1, 'action_clean'] = 'confirmed'"
   ]
  },
  {
   "cell_type": "code",
   "execution_count": null,
   "id": "54b26b40-15d8-41bf-a307-0bdc60dfe343",
   "metadata": {
    "scrolled": true
   },
   "outputs": [],
   "source": [
    "### Creado\n",
    "mr1 = (dfz['action_full'].str.contains('Creado'))\n",
    "mr2 = (dfz['action_full'].str.contains('Creada'))\n",
    "mr3 = (dfz['action_full'].str.contains('Creation'))\n",
    "\n",
    "mrs = mr1 | mr2 | mr3\n",
    "\n",
    "dfz.loc[mrs, 'action_clean'] = 'created'"
   ]
  },
  {
   "cell_type": "code",
   "execution_count": null,
   "id": "6fcb2c15-5190-41ef-a609-136aa537c6d8",
   "metadata": {
    "scrolled": true
   },
   "outputs": [],
   "source": [
    "### No confirmado\n",
    "mr1 = dfz['action_full'].str.contains('No confirmado')\n",
    "mr2 = dfz['action_full'].str.contains('No confirmada')\n",
    "\n",
    "mrs = mr1 | mr2\n",
    "\n",
    "dfz.loc[mrs, 'action_clean'] = 'not_confirmed'"
   ]
  },
  {
   "cell_type": "code",
   "execution_count": null,
   "id": "cc1b7a15-062f-4f96-80fc-03ac3aa57b57",
   "metadata": {
    "scrolled": true
   },
   "outputs": [],
   "source": [
    "### Sala espera\n",
    "mr1 = dfz['action_full'].str.contains('En sala de espera')\n",
    "mr2 = dfz['action_full'].str.contains('En sala de espera ')\n",
    "\n",
    "mrs = mr1 | mr2\n",
    "\n",
    "dfz.loc[mrs, 'action_clean'] = 'in_waiting_room'"
   ]
  },
  {
   "cell_type": "code",
   "execution_count": null,
   "id": "241b1596-8eea-4745-b578-eee15ba542db",
   "metadata": {},
   "outputs": [],
   "source": [
    "### Completado\n",
    "mr1 = dfz['action_full'].str.contains('Completado')\n",
    "mr2 = dfz['action_full'].str.contains('Completada')\n",
    "mrs = mr1 | mr2\n",
    "\n",
    "dfz.loc[mrs, 'action_clean'] = 'completed'"
   ]
  },
  {
   "cell_type": "code",
   "execution_count": null,
   "id": "75b5b335-dbac-45f8-87ca-153f7793822f",
   "metadata": {
    "scrolled": true
   },
   "outputs": [],
   "source": [
    "### En consulta\n",
    "mr1 = dfz['action_full'].str.contains('En consulta')\n",
    "mr2 = dfz['action_full'].str.contains('En consulta')\n",
    "\n",
    "mrs = mr1 | mr2\n",
    "\n",
    "dfz.loc[mrs, 'action_clean'] = 'with_doctor'"
   ]
  },
  {
   "cell_type": "code",
   "execution_count": null,
   "id": "df5d998a-c22e-4962-840e-a99846cebf95",
   "metadata": {
    "scrolled": true
   },
   "outputs": [],
   "source": [
    "### No se presentó\n",
    "mr1 = dfz['action_full'].str.contains('No se presentó')\n",
    "mr2 = dfz['action_full'].str.contains('No se presento')\n",
    "\n",
    "mrs = mr1 | mr2\n",
    "\n",
    "dfz.loc[mrs, 'action_clean'] = 'no_show'"
   ]
  },
  {
   "cell_type": "code",
   "execution_count": null,
   "id": "b78b5f0c-d3d6-48ab-8a31-1fa0e392efc9",
   "metadata": {
    "scrolled": true
   },
   "outputs": [],
   "source": [
    "### Cancelada por el paciente\n",
    "mr1 = dfz['action_full'].str.contains('Cancelada por el paciente')\n",
    "mr2 = dfz['action_full'].str.contains(' Cancelada por el paciente')\n",
    "mr3 = dfz['action_full'].str.contains('Cancelled By Patient')\n",
    "\n",
    "mrs = mr1 | mr2 | mr3\n",
    "\n",
    "dfz.loc[mrs, 'action_clean'] = 'canceled_by_patient'"
   ]
  },
  {
   "cell_type": "code",
   "execution_count": null,
   "id": "fe336226-d1d4-4610-a061-cae608812832",
   "metadata": {},
   "outputs": [],
   "source": [
    "### Cancelada por empledo\n",
    "mr1 = dfz['action_full'].str.contains('Cancelada por empleado')\n",
    "mr2 = dfz['action_full'].str.contains('Cancelada por empleado ')\n",
    "mr3 = dfz['action_full'].str.contains('Cancelada por el empleado ')\n",
    "mr4 = dfz['action_full'].str.contains('Cancelada por empledo')\n",
    "\n",
    "mrs = mr1 | mr2 | mr3 | mr4\n",
    "\n",
    "dfz.loc[mrs, 'action_clean'] = 'canceled_by_employee'"
   ]
  },
  {
   "cell_type": "code",
   "execution_count": null,
   "id": "b66392f3-efee-42e2-8825-049d45c58251",
   "metadata": {},
   "outputs": [],
   "source": [
    "### Se actualiza la fecha/hora\n",
    "mr1 = dfz['action_full'].str.contains('Se actualiza la fecha/hora')\n",
    "mr2 = dfz['action_full'].str.contains('Se actualiza la fecha/hora ')\n",
    "\n",
    "mrs = mr1 | mr2\n",
    "\n",
    "dfz.loc[mrs, 'action_clean'] = 'update_date_hour'"
   ]
  },
  {
   "cell_type": "code",
   "execution_count": null,
   "id": "db298e7b-874c-4995-a228-53c944bf40d4",
   "metadata": {},
   "outputs": [],
   "source": [
    "### Disponible\n",
    "mr1 = dfz['action_full'].str.contains('Disponible')\n",
    "mr2 = dfz['action_full'].str.contains(' Disponible')\n",
    "\n",
    "mrs = mr1 | mr2\n",
    "\n",
    "dfz.loc[mrs, 'action_clean'] = 'available'"
   ]
  },
  {
   "cell_type": "code",
   "execution_count": null,
   "id": "ccb679f8-e535-4eec-ac6e-f72258b6f4a7",
   "metadata": {},
   "outputs": [],
   "source": [
    "### Mensaje dejado\n",
    "mr1 = dfz['action_full'].str.contains('Mensaje dejado')\n",
    "mr2 = dfz['action_full'].str.contains(' Mensaje dejado')\n",
    "\n",
    "mrs = mr1 | mr2\n",
    "\n",
    "dfz.loc[mrs, 'action_clean'] = 'message_left'"
   ]
  },
  {
   "cell_type": "code",
   "execution_count": null,
   "id": "436d3647-a41c-489a-a17a-82f9ddb0c608",
   "metadata": {},
   "outputs": [],
   "source": [
    "### Other status\n",
    "mr1 = dfz['action_full'].str.contains('Bloqueado')\n",
    "mr2 = dfz['action_full'].str.contains('Triage')\n",
    "mr3 = dfz['action_full'].str.contains('Validación de datos')\n",
    "mr4 = dfz['action_full'].str.contains('Lista de espera')\n",
    "mr5 = dfz['action_full'].str.contains('Reagendar')\n",
    "mr6 = dfz['action_full'].str.contains('Llego tarde espera espacio')\n",
    "mr7 = dfz['action_full'].str.contains('notification rdv')\n",
    "mr8 = dfz['action_full'] == ''\n",
    "\n",
    "mrs = mr1 | mr2 | mr3 | mr4 | mr5 | mr6 | mr7 | mr8\n",
    "\n",
    "dfz.loc[mrs, 'action_clean'] = 'others'"
   ]
  },
  {
   "cell_type": "markdown",
   "id": "0b844669-3faa-4091-b3cc-5238d8181688",
   "metadata": {
    "jp-MarkdownHeadingCollapsed": true
   },
   "source": [
    "###### checks"
   ]
  },
  {
   "cell_type": "code",
   "execution_count": null,
   "id": "b0f0021a-e410-4230-986e-ee8479aa6ab5",
   "metadata": {
    "scrolled": true
   },
   "outputs": [],
   "source": [
    "dfz[dfz['action_clean'] == 'others']"
   ]
  },
  {
   "cell_type": "code",
   "execution_count": null,
   "id": "f293ab8c-680f-4bc9-8481-7d4cea7f8f98",
   "metadata": {},
   "outputs": [],
   "source": [
    "dfz.loc[(dfz['action_clean'] == 'irrelevant'), ['action_full', 'action_clean']] "
   ]
  },
  {
   "cell_type": "code",
   "execution_count": null,
   "id": "cf2e9856-a5eb-4f11-b717-260008de04b5",
   "metadata": {
    "scrolled": true
   },
   "outputs": [],
   "source": [
    "# dfz.loc[(dfz['action_clean'] == 'irrelevant'), 'action_full'].unique().tolist()\n",
    "dfz.loc[(dfz['action_clean'] == 'irrelevant'), 'action_full'].value_counts()[:50]"
   ]
  },
  {
   "cell_type": "markdown",
   "id": "ed302e6c-5803-434f-b509-76fcf414872e",
   "metadata": {
    "jp-MarkdownHeadingCollapsed": true
   },
   "source": [
    "### Formatting and adjusting"
   ]
  },
  {
   "cell_type": "code",
   "execution_count": null,
   "id": "eacbc8ec-4ebf-4986-aa3d-239d49085c42",
   "metadata": {},
   "outputs": [],
   "source": [
    "## Dropping irrelevant columns\n",
    "mr1 = ~dfz['action_clean'].isin(['irrelevant', 'others'])\n",
    "rc = ['appointment_id', 'user', 'date', 'action_clean']\n",
    "\n",
    "dfz = dfz.loc[mr1, rc].copy()"
   ]
  },
  {
   "cell_type": "code",
   "execution_count": null,
   "id": "20e904c0-64b5-4384-ad0f-0bbc2267a0c6",
   "metadata": {},
   "outputs": [],
   "source": [
    "## Creating temporary column to homologate inconsistencies with dates\n",
    "dfz['date_tmp'] = dfz['date']"
   ]
  },
  {
   "cell_type": "code",
   "execution_count": null,
   "id": "c8a7b06f-cc97-44c1-a242-f297416cdc6c",
   "metadata": {},
   "outputs": [],
   "source": [
    "## Adjusting dateformat\n",
    "\n",
    "## first format\n",
    "dfz['date'] = pd.to_datetime(dfz['date_tmp'], format='%d/%m/%Y %H:%M:%S', errors='coerce')\n",
    "\n",
    "## Dates that didn't match first format\n",
    "# dfz[dfz['date'].isna()]\n",
    "# dfz[~dfz['date'].isna()]\n",
    "\n",
    "dfz.loc[dfz['date'].isna(), 'date'] = pd.to_datetime(dfz.loc[dfz['date'].isna(), 'date_tmp'], format='%Y-%m-%d %H:%M:%S', errors='coerce')\n",
    "\n",
    "## Dropping temporary column\n",
    "dfz.drop('date_tmp', axis=1, inplace=True)\n",
    "\n",
    "dfz = dfz.loc[~dfz['date'].isna(), :].copy()"
   ]
  },
  {
   "cell_type": "code",
   "execution_count": null,
   "id": "06aecfee-4772-4053-8fc8-8e8633d92160",
   "metadata": {},
   "outputs": [],
   "source": [
    "## Sorting values \n",
    "dfz.sort_values(by=['appointment_id', 'date'], inplace=True, ascending=False)"
   ]
  },
  {
   "cell_type": "code",
   "execution_count": null,
   "id": "00dfeb21-6419-4e5b-aa0a-c8f012615339",
   "metadata": {},
   "outputs": [],
   "source": [
    "dfz['no_confirm_count'] = dfz['action_clean'].eq('not_confirmed').groupby(dfz['appointment_id']).transform('sum')"
   ]
  },
  {
   "cell_type": "code",
   "execution_count": null,
   "id": "30d42ac6-7593-4df6-8580-879a363cd495",
   "metadata": {},
   "outputs": [],
   "source": [
    "## Keeping latest \n",
    "dfz.drop_duplicates(keep='first', subset=['appointment_id', 'action_clean'], inplace=True)"
   ]
  },
  {
   "cell_type": "markdown",
   "id": "c6ebd6ff-99f3-4891-ad81-3f8823c7a250",
   "metadata": {
    "jp-MarkdownHeadingCollapsed": true
   },
   "source": [
    "### Pivot"
   ]
  },
  {
   "cell_type": "code",
   "execution_count": null,
   "id": "35566c78-cb7c-4b44-ba7f-125e16bb7451",
   "metadata": {},
   "outputs": [],
   "source": [
    "dfp = dfz.pivot(index='appointment_id', columns='action_clean', values=['user', 'date', 'no_confirm_count'])"
   ]
  },
  {
   "cell_type": "code",
   "execution_count": null,
   "id": "3d0d427a-f7f1-4c36-8a24-15af9b48f7b2",
   "metadata": {},
   "outputs": [],
   "source": [
    "dfp.columns = ['meta__' + col[1] + '_$' + col[0] for col in dfp.columns]"
   ]
  },
  {
   "cell_type": "code",
   "execution_count": null,
   "id": "af8f9e7b-a68b-48f2-b896-2e455e85d6a8",
   "metadata": {},
   "outputs": [],
   "source": [
    "## Dropping the no confirm counts that are redundant\n",
    "nrc = [\n",
    "    col\n",
    "    for col\n",
    "    in dfp.columns\n",
    "    if ('no_confirm_count' in col) & (col != 'meta__not_confirmed_$no_confirm_count')\n",
    "]\n",
    "dfp.drop(nrc, axis=1, inplace=True)"
   ]
  },
  {
   "cell_type": "code",
   "execution_count": null,
   "id": "74862bee-8442-466f-b0ce-329d0324f3fa",
   "metadata": {},
   "outputs": [],
   "source": [
    "cols = dfp.columns.tolist()\n",
    "cols.sort()\n",
    "\n",
    "dfp = dfp.loc[:, cols].copy()"
   ]
  },
  {
   "cell_type": "markdown",
   "id": "e2a0f7ff-eab3-43d4-a401-9687008222af",
   "metadata": {},
   "source": [
    "### Pickle save/load"
   ]
  },
  {
   "cell_type": "code",
   "execution_count": null,
   "id": "8418ac80-c966-41b5-bab2-419d2eb5b4ee",
   "metadata": {},
   "outputs": [],
   "source": [
    "## Saving df as pickle and storing it locally\n",
    "path = '../../pkg_dir/data/pickles/robs_patients'\n",
    "name = 'pivot_df_v2.pkl'\n",
    "\n",
    "pickle.dump(\n",
    "    dfp,\n",
    "    open(\n",
    "        os.path.join(path, name),\n",
    "        'wb'\n",
    "    )\n",
    ")"
   ]
  },
  {
   "cell_type": "code",
   "execution_count": null,
   "id": "48832c15-c0b1-48b3-af2f-ac6caa5f1cff",
   "metadata": {},
   "outputs": [],
   "source": [
    "## Params\n",
    "path = '../../pkg_dir/data/pickles/robs_patients'\n",
    "name = 'pivot_df_v2.pkl'\n",
    "\n",
    "\n",
    "## Reading extract object saved as pickle locally\n",
    "pkl_obj = path + \"/\" + name\n",
    "\n",
    "with open(pkl_obj, 'rb') as obj_content:\n",
    "    dfp = pickle.load(obj_content)"
   ]
  },
  {
   "cell_type": "markdown",
   "id": "aab13844-e796-4240-bc9e-67d9f1c170c6",
   "metadata": {
    "jp-MarkdownHeadingCollapsed": true
   },
   "source": [
    "# Merging metadata + new features"
   ]
  },
  {
   "cell_type": "markdown",
   "id": "b7b3ee9f-0708-4494-8789-00cf08fad042",
   "metadata": {},
   "source": [
    "### Merging"
   ]
  },
  {
   "cell_type": "code",
   "execution_count": null,
   "id": "15e4cd2e-136c-4b85-8599-78d8e47f6d15",
   "metadata": {},
   "outputs": [],
   "source": [
    "dfp.reset_index(inplace = True)"
   ]
  },
  {
   "cell_type": "code",
   "execution_count": null,
   "id": "deab8cab-bec3-4948-808c-3d9e1eb3c214",
   "metadata": {},
   "outputs": [],
   "source": [
    "dataset = pd.merge(dfx, dfp, on='appointment_id', how='left')"
   ]
  },
  {
   "cell_type": "markdown",
   "id": "346b9053-8e99-4e08-bc27-cad7287800b6",
   "metadata": {},
   "source": [
    "### Creation to appointment start"
   ]
  },
  {
   "cell_type": "code",
   "execution_count": null,
   "id": "56d77f3b-6ab4-4cc1-b0a2-678455229042",
   "metadata": {},
   "outputs": [],
   "source": [
    "## Appointment duration\n",
    "dataset['creation_to_start_hrs'] = dataset['appointment_start'] - dataset['meta__created_$date']\n",
    "dataset['creation_to_start_hrs'] = dataset['creation_to_start_hrs'].dt.total_seconds() / (60*60)\n",
    "dataset['creation_to_start_hrs'] = dataset['creation_to_start_hrs'].round(2)"
   ]
  },
  {
   "cell_type": "markdown",
   "id": "f208cc73-4775-45ee-b337-e18aefbff74a",
   "metadata": {},
   "source": [
    "### Confirmation to appointment start"
   ]
  },
  {
   "cell_type": "code",
   "execution_count": null,
   "id": "8b55f010-6f40-42e8-a321-cb8ed3f2ec67",
   "metadata": {},
   "outputs": [],
   "source": [
    "## Appointment duration\n",
    "dataset['confirm_to_start_hrs'] = dataset['appointment_start'] - dataset['meta__confirmed_$date']\n",
    "dataset['confirm_to_start_hrs'] = dataset['confirm_to_start_hrs'].dt.total_seconds() / (60*60)\n",
    "dataset['confirm_to_start_hrs'] = dataset['confirm_to_start_hrs'].round(2)"
   ]
  },
  {
   "cell_type": "code",
   "execution_count": null,
   "id": "36709279-825d-4859-8cf1-3806ce4a876c",
   "metadata": {},
   "outputs": [],
   "source": [
    "## Confirmation tag\n",
    "dataset['patient_confirm'] = 0\n",
    "dataset.loc[dataset['confirm_to_start_hrs'].notnull(), 'patient_confirm'] = 1"
   ]
  },
  {
   "cell_type": "markdown",
   "id": "9bf02618-d5b0-4f81-b813-44117d5c22a9",
   "metadata": {},
   "source": [
    "### Patient arrival to appointment start"
   ]
  },
  {
   "cell_type": "code",
   "execution_count": null,
   "id": "6b50a4ae-68aa-4c12-a4b7-40b3ae57898a",
   "metadata": {},
   "outputs": [],
   "source": [
    "## Appointment duration\n",
    "dataset['arrival_to_start_mins'] =  dataset['appointment_start'] - dataset['meta__in_waiting_room_$date']\n",
    "dataset['arrival_to_start_mins'] = dataset['arrival_to_start_mins'].dt.total_seconds() / (60)\n",
    "dataset['arrival_to_start_mins'] = dataset['arrival_to_start_mins'].round(2)"
   ]
  },
  {
   "cell_type": "markdown",
   "id": "f007674f-2b72-4789-a61a-4d8af04373d9",
   "metadata": {},
   "source": [
    "### Completed to appointment start"
   ]
  },
  {
   "cell_type": "code",
   "execution_count": null,
   "id": "999ecd73-31d0-41da-bd59-0fa771b9d986",
   "metadata": {},
   "outputs": [],
   "source": [
    "## Appointment duration\n",
    "dataset['start_to_completed_mins'] = dataset['meta__completed_$date'] - dataset['appointment_start']\n",
    "dataset['start_to_completed_mins'] = dataset['start_to_completed_mins'].dt.total_seconds() / (60)\n",
    "dataset['start_to_completed_mins'] = dataset['start_to_completed_mins'].round(2)"
   ]
  },
  {
   "cell_type": "markdown",
   "id": "2fb3001c-ba62-4bd5-9de5-1b23cd04d8ee",
   "metadata": {},
   "source": [
    "### Cancel employee to appointment start"
   ]
  },
  {
   "cell_type": "code",
   "execution_count": null,
   "id": "b4c23c45-e8dd-4108-bc88-4c5a275c3b5b",
   "metadata": {},
   "outputs": [],
   "source": [
    "dataset['cancelemp_to_start_hrs'] = dataset['appointment_start'] - dataset['meta__canceled_by_employee_$date']\n",
    "dataset['cancelemp_to_start_hrs'] = dataset['cancelemp_to_start_hrs'].dt.total_seconds() / (60*60)\n",
    "dataset['cancelemp_to_start_hrs'] = dataset['cancelemp_to_start_hrs'].round(2)"
   ]
  },
  {
   "cell_type": "markdown",
   "id": "0d4722fe-80f4-42bc-8d71-2e289dfc6210",
   "metadata": {},
   "source": [
    "### Bot cancellation"
   ]
  },
  {
   "cell_type": "code",
   "execution_count": null,
   "id": "08a17bcf-66b2-450a-8ced-293fb9a883fb",
   "metadata": {},
   "outputs": [],
   "source": [
    "dataset['chatbot_cancel'] = dataset['meta__canceled_by_employee_$user'].apply(lambda x: 'chatbot' if x == 'citas.online' else 'not_chatbot')"
   ]
  },
  {
   "cell_type": "markdown",
   "id": "4f15548a-906c-4f1d-89e6-ffe5ef645307",
   "metadata": {},
   "source": [
    "### Cancel patient to appointment start"
   ]
  },
  {
   "cell_type": "code",
   "execution_count": null,
   "id": "944de642-e64f-4966-87b7-3bf36e4c801d",
   "metadata": {},
   "outputs": [],
   "source": [
    "dataset['cancelpat_to_start_hrs'] = dataset['appointment_start'] - dataset['meta__canceled_by_patient_$date']\n",
    "dataset['cancelpat_to_start_hrs'] = dataset['cancelpat_to_start_hrs'].dt.total_seconds() / (60*60)\n",
    "dataset['cancelpat_to_start_hrs'] = dataset['cancelpat_to_start_hrs'].round(2)"
   ]
  },
  {
   "cell_type": "markdown",
   "id": "8a7105de-c28c-4f54-b483-7d62bbfb6ac8",
   "metadata": {},
   "source": [
    "### Unifying cancels"
   ]
  },
  {
   "cell_type": "code",
   "execution_count": null,
   "id": "151e078c-d057-44f1-b85e-18ae8adbd4f7",
   "metadata": {},
   "outputs": [],
   "source": [
    "dataset['cancel_to_start_hrs'] = dataset['cancelemp_to_start_hrs']\n",
    "dataset.loc[dataset['cancelpat_to_start_hrs'].notnull(), 'cancel_to_start_hrs'] = dataset.loc[dataset['cancelpat_to_start_hrs'].notnull(), 'cancelpat_to_start_hrs']"
   ]
  },
  {
   "cell_type": "markdown",
   "id": "f5c6be3f-1bfc-4ec1-b123-d80ebd3aac0b",
   "metadata": {},
   "source": [
    "### Source of appointment"
   ]
  },
  {
   "cell_type": "code",
   "execution_count": null,
   "id": "f9cd1786-7cc3-4b48-9710-120f1df433ff",
   "metadata": {},
   "outputs": [],
   "source": [
    "## Appointment duration\n",
    "dataset['appointment_source'] = dataset['meta__created_$user'].apply(lambda x: 'online' if x == 'citas.online' else 'phone')"
   ]
  },
  {
   "cell_type": "markdown",
   "id": "150546d4-dba4-4229-9b12-672e918bfc99",
   "metadata": {},
   "source": [
    "### Appointment moved"
   ]
  },
  {
   "cell_type": "code",
   "execution_count": null,
   "id": "a2cc227a-67fd-4efc-b518-4f51b3241140",
   "metadata": {},
   "outputs": [],
   "source": [
    "## Appointment duration\n",
    "dataset['appointment_date_update'] = 'no_update'\n",
    "dataset.loc[dataset['meta__update_date_hour_$user'].notnull(), 'appointment_date_update'] = 'update'"
   ]
  },
  {
   "cell_type": "markdown",
   "id": "31d6d6bc-d6d7-44b6-9b65-7ad075d61fa1",
   "metadata": {},
   "source": [
    "### Confirmation message sent"
   ]
  },
  {
   "cell_type": "code",
   "execution_count": null,
   "id": "c851d51e-4081-4788-9361-c47cdaeb5268",
   "metadata": {},
   "outputs": [],
   "source": [
    "## message for confirmation\n",
    "dataset['confirm_request_msg'] = 0\n",
    "dataset.loc[dataset['meta__message_left_$user'].notnull(), 'confirm_request_msg'] = 1"
   ]
  },
  {
   "cell_type": "markdown",
   "id": "750a3cb8-35cd-4247-9b63-c7da4b1ad302",
   "metadata": {},
   "source": [
    "### Select relevant columns"
   ]
  },
  {
   "cell_type": "code",
   "execution_count": null,
   "id": "f4838980-87da-41c4-8a42-82659e0c5b70",
   "metadata": {
    "scrolled": true
   },
   "outputs": [],
   "source": [
    "dataset.columns.tolist()"
   ]
  },
  {
   "cell_type": "code",
   "execution_count": null,
   "id": "6339fd4e-1e6b-405f-920d-96e3c9529939",
   "metadata": {},
   "outputs": [],
   "source": [
    "## Reordering columns\n",
    "rc = [\n",
    " ## Appointment features\n",
    " 'appointment_id',\n",
    " 'appointment_weekday',\n",
    " 'appointment_start',\n",
    " 'appointment_dur_min',\n",
    " 'recurring_patient',\n",
    " 'creation_to_start_hrs',\n",
    " 'confirm_request_msg',\n",
    " 'patient_confirm',\n",
    " 'cancel_to_start_hrs',\n",
    " 'chatbot_cancel', \n",
    " 'confirm_to_start_hrs',\n",
    " 'arrival_to_start_mins',\n",
    " 'start_to_completed_mins',\n",
    " 'clinic',\n",
    " 'appointment_source',\n",
    " 'appointment_date_update',\n",
    " ## Patient info\n",
    " 'patient_id',\n",
    " 'patient_age',\n",
    " 'patient_sex',\n",
    " ## Medical info\n",
    " 'doctor',\n",
    " 'medical_specialty',\n",
    " ## Label\n",
    " 'appointment_status_simplified',\n",
    "]"
   ]
  },
  {
   "cell_type": "code",
   "execution_count": null,
   "id": "a6aea04f-6fa3-4132-9980-4fc4607cd58b",
   "metadata": {
    "scrolled": true
   },
   "outputs": [],
   "source": [
    "dataset = dataset.loc[:, rc].copy()"
   ]
  },
  {
   "cell_type": "markdown",
   "id": "96fd4a83-56fa-4195-a499-e2862dad5398",
   "metadata": {},
   "source": [
    "---\n",
    "# Final appointments dataset"
   ]
  },
  {
   "cell_type": "code",
   "execution_count": null,
   "id": "fd601fc3-3df8-429c-8c23-eca2a0272766",
   "metadata": {},
   "outputs": [],
   "source": [
    "## Saving df as pickle and storing it locally\n",
    "path = '../../pkg_dir/data/pickles/robs_patients'\n",
    "name = 'appts_dataset.pkl'\n",
    "\n",
    "pickle.dump(\n",
    "    dataset,\n",
    "    open(\n",
    "        os.path.join(path, name),\n",
    "        'wb'\n",
    "    )\n",
    ")"
   ]
  },
  {
   "cell_type": "code",
   "execution_count": null,
   "id": "5fc34c2e-483f-407b-a4bb-471e46170974",
   "metadata": {},
   "outputs": [],
   "source": [
    "## Params\n",
    "path = '../../pkg_dir/data/pickles/robs_patients'\n",
    "name = 'appts_dataset.pkl'\n",
    "\n",
    "\n",
    "## Reading extract object saved as pickle locally\n",
    "pkl_obj = path + \"/\" + name\n",
    "\n",
    "with open(pkl_obj, 'rb') as obj_content:\n",
    "    dataset = pickle.load(obj_content)"
   ]
  },
  {
   "cell_type": "code",
   "execution_count": null,
   "id": "93960fa4-dc23-4e14-9e3f-c1f6a5722646",
   "metadata": {},
   "outputs": [],
   "source": [
    "## Params\n",
    "path = '../../pkg_dir/data/pickles/robs_patients'\n",
    "name = 'appts_dataset.csv'\n",
    "\n",
    "\n",
    "## Reading extract object saved as pickle locally\n",
    "path_name = path + \"/\" + name\n",
    "\n",
    "dataset.to_csv(path_name)"
   ]
  },
  {
   "cell_type": "markdown",
   "id": "51225fe0-f5d2-4d4d-8c14-09d71e78c643",
   "metadata": {},
   "source": [
    "---\n",
    "# Converting to patient dataset"
   ]
  },
  {
   "cell_type": "code",
   "execution_count": 4,
   "id": "1e36eecd-78eb-4a1f-ab5a-9dc498747188",
   "metadata": {},
   "outputs": [],
   "source": [
    "## Params\n",
    "path = '../../pkg_dir/data/pickles/robs_patients'\n",
    "name = 'appts_dataset.pkl'\n",
    "\n",
    "\n",
    "## Reading extract object saved as pickle locally\n",
    "pkl_obj = path + \"/\" + name\n",
    "\n",
    "with open(pkl_obj, 'rb') as obj_content:\n",
    "    dfp = pickle.load(obj_content)"
   ]
  },
  {
   "cell_type": "code",
   "execution_count": 5,
   "id": "792d7441-bd20-45f4-af57-f5d3285f4d43",
   "metadata": {},
   "outputs": [],
   "source": [
    "## Eliminating rows with no patient\n",
    "mr1 = dfp['patient_id'].notnull()\n",
    "mr2 = ~dfp['appointment_status_simplified'].isin(\n",
    "    [\n",
    "        'blocked',\n",
    "        'unused',\n",
    "    ]\n",
    ")\n",
    "\n",
    "mrs = mr1 & mr2\n",
    "\n",
    "dfp = dfp.loc[mrs, :].copy()"
   ]
  },
  {
   "cell_type": "code",
   "execution_count": null,
   "id": "b24d72ed-d860-4707-ae9f-a83f41ac2393",
   "metadata": {},
   "outputs": [],
   "source": [
    "dfx = dfp.groupby(\n",
    "    [\n",
    "        'patient_id',\n",
    "    ],\n",
    "    as_index=False\n",
    ").agg(\n",
    "    {\n",
    "        'appointment_id': 'count'\n",
    "    }\n",
    ")"
   ]
  },
  {
   "cell_type": "code",
   "execution_count": null,
   "id": "bb48fb4c-22e0-429d-928c-13fe6e1a577f",
   "metadata": {},
   "outputs": [],
   "source": [
    "dfx['appointment_id'].value_counts(normalize=True)"
   ]
  },
  {
   "cell_type": "code",
   "execution_count": null,
   "id": "9da8d221-f9a7-4154-ae4d-637a2ac8806e",
   "metadata": {},
   "outputs": [],
   "source": []
  },
  {
   "cell_type": "code",
   "execution_count": null,
   "id": "68f19b37-0b17-4c44-b629-f2e43de0b2f4",
   "metadata": {},
   "outputs": [],
   "source": []
  },
  {
   "cell_type": "code",
   "execution_count": 7,
   "id": "4468d385-1f3a-483b-b4c7-d01807bb7b87",
   "metadata": {},
   "outputs": [
    {
     "data": {
      "text/html": [
       "<div>\n",
       "<style scoped>\n",
       "    .dataframe tbody tr th:only-of-type {\n",
       "        vertical-align: middle;\n",
       "    }\n",
       "\n",
       "    .dataframe tbody tr th {\n",
       "        vertical-align: top;\n",
       "    }\n",
       "\n",
       "    .dataframe thead th {\n",
       "        text-align: right;\n",
       "    }\n",
       "</style>\n",
       "<table border=\"1\" class=\"dataframe\">\n",
       "  <thead>\n",
       "    <tr style=\"text-align: right;\">\n",
       "      <th></th>\n",
       "      <th></th>\n",
       "      <th></th>\n",
       "      <th>appointment_id</th>\n",
       "      <th>creation_to_start_hrs</th>\n",
       "    </tr>\n",
       "    <tr>\n",
       "      <th>patient_id</th>\n",
       "      <th>appointment_start</th>\n",
       "      <th>appointment_status_simplified</th>\n",
       "      <th></th>\n",
       "      <th></th>\n",
       "    </tr>\n",
       "  </thead>\n",
       "  <tbody>\n",
       "    <tr>\n",
       "      <th rowspan=\"2\" valign=\"top\">1.0</th>\n",
       "      <th rowspan=\"2\" valign=\"top\">2021-07-27</th>\n",
       "      <th>cancel_employee</th>\n",
       "      <td>2</td>\n",
       "      <td>[-0.43, 0.52]</td>\n",
       "    </tr>\n",
       "    <tr>\n",
       "      <th>cancel_patient</th>\n",
       "      <td>1</td>\n",
       "      <td>[34.19]</td>\n",
       "    </tr>\n",
       "    <tr>\n",
       "      <th>2.0</th>\n",
       "      <th>2021-02-15</th>\n",
       "      <th>no_show</th>\n",
       "      <td>1</td>\n",
       "      <td>[-0.36]</td>\n",
       "    </tr>\n",
       "    <tr>\n",
       "      <th rowspan=\"2\" valign=\"top\">3.0</th>\n",
       "      <th>2020-07-08</th>\n",
       "      <th>completed</th>\n",
       "      <td>1</td>\n",
       "      <td>[214.31]</td>\n",
       "    </tr>\n",
       "    <tr>\n",
       "      <th>2020-08-10</th>\n",
       "      <th>completed</th>\n",
       "      <td>1</td>\n",
       "      <td>[791.4]</td>\n",
       "    </tr>\n",
       "    <tr>\n",
       "      <th>...</th>\n",
       "      <th>...</th>\n",
       "      <th>...</th>\n",
       "      <td>...</td>\n",
       "      <td>...</td>\n",
       "    </tr>\n",
       "    <tr>\n",
       "      <th>301559.0</th>\n",
       "      <th>2023-05-20</th>\n",
       "      <th>cancel_employee</th>\n",
       "      <td>1</td>\n",
       "      <td>[114.55]</td>\n",
       "    </tr>\n",
       "    <tr>\n",
       "      <th rowspan=\"3\" valign=\"top\">305563.0</th>\n",
       "      <th>2023-07-13</th>\n",
       "      <th>completed</th>\n",
       "      <td>1</td>\n",
       "      <td>[25.61]</td>\n",
       "    </tr>\n",
       "    <tr>\n",
       "      <th>2023-08-21</th>\n",
       "      <th>completed</th>\n",
       "      <td>2</td>\n",
       "      <td>[145.98, 145.05]</td>\n",
       "    </tr>\n",
       "    <tr>\n",
       "      <th>2023-10-24</th>\n",
       "      <th>completed</th>\n",
       "      <td>1</td>\n",
       "      <td>[94.06]</td>\n",
       "    </tr>\n",
       "    <tr>\n",
       "      <th>308208.0</th>\n",
       "      <th>2023-08-19</th>\n",
       "      <th>cancel_patient</th>\n",
       "      <td>1</td>\n",
       "      <td>[283.83]</td>\n",
       "    </tr>\n",
       "  </tbody>\n",
       "</table>\n",
       "<p>528973 rows × 2 columns</p>\n",
       "</div>"
      ],
      "text/plain": [
       "                                                            appointment_id  \\\n",
       "patient_id appointment_start appointment_status_simplified                   \n",
       "1.0        2021-07-27        cancel_employee                             2   \n",
       "                             cancel_patient                              1   \n",
       "2.0        2021-02-15        no_show                                     1   \n",
       "3.0        2020-07-08        completed                                   1   \n",
       "           2020-08-10        completed                                   1   \n",
       "...                                                                    ...   \n",
       "301559.0   2023-05-20        cancel_employee                             1   \n",
       "305563.0   2023-07-13        completed                                   1   \n",
       "           2023-08-21        completed                                   2   \n",
       "           2023-10-24        completed                                   1   \n",
       "308208.0   2023-08-19        cancel_patient                              1   \n",
       "\n",
       "                                                           creation_to_start_hrs  \n",
       "patient_id appointment_start appointment_status_simplified                        \n",
       "1.0        2021-07-27        cancel_employee                       [-0.43, 0.52]  \n",
       "                             cancel_patient                              [34.19]  \n",
       "2.0        2021-02-15        no_show                                     [-0.36]  \n",
       "3.0        2020-07-08        completed                                  [214.31]  \n",
       "           2020-08-10        completed                                   [791.4]  \n",
       "...                                                                          ...  \n",
       "301559.0   2023-05-20        cancel_employee                            [114.55]  \n",
       "305563.0   2023-07-13        completed                                   [25.61]  \n",
       "           2023-08-21        completed                          [145.98, 145.05]  \n",
       "           2023-10-24        completed                                   [94.06]  \n",
       "308208.0   2023-08-19        cancel_patient                             [283.83]  \n",
       "\n",
       "[528973 rows x 2 columns]"
      ]
     },
     "execution_count": 7,
     "metadata": {},
     "output_type": "execute_result"
    }
   ],
   "source": [
    "dfp.groupby(\n",
    "    [\n",
    "        'patient_id',\n",
    "        pd.Grouper(key='appointment_start', freq='d'),\n",
    "        'appointment_status_simplified',\n",
    "    ],\n",
    "    # as_index=True\n",
    ").agg(\n",
    "    {\n",
    "        'appointment_id': 'count',\n",
    "        'creation_to_start_hrs': 'unique',\n",
    "    }\n",
    ")"
   ]
  },
  {
   "cell_type": "markdown",
   "id": "f8cf3f5d-6cba-4e64-94be-720300d7d8ae",
   "metadata": {},
   "source": [
    "---\n",
    "# Notes"
   ]
  },
  {
   "cell_type": "code",
   "execution_count": null,
   "id": "fa2d3004-82f8-4160-aaa0-f7e1f1638811",
   "metadata": {},
   "outputs": [],
   "source": [
    "## Patient with multiple appointments in one day\n",
    "dfp[dfp['patient_id'] == 305563.0]"
   ]
  },
  {
   "cell_type": "markdown",
   "id": "a8d764ef-0031-44c8-971b-3b11eda1d988",
   "metadata": {},
   "source": [
    "---"
   ]
  },
  {
   "cell_type": "markdown",
   "id": "c64e3412-94ba-4d74-aa3a-f771441d83d9",
   "metadata": {},
   "source": [
    "---"
   ]
  }
 ],
 "metadata": {
  "kernelspec": {
   "display_name": "Python 3 (ipykernel)",
   "language": "python",
   "name": "python3"
  },
  "language_info": {
   "codemirror_mode": {
    "name": "ipython",
    "version": 3
   },
   "file_extension": ".py",
   "mimetype": "text/x-python",
   "name": "python",
   "nbconvert_exporter": "python",
   "pygments_lexer": "ipython3",
   "version": "3.9.1"
  }
 },
 "nbformat": 4,
 "nbformat_minor": 5
}
