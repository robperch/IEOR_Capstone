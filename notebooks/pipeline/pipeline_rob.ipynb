{
 "cells": [
  {
   "cell_type": "markdown",
   "id": "b362e6fb-bbbb-4fe3-8093-ce5cb7011d38",
   "metadata": {},
   "source": [
    "# ML Pipeline testing\n",
    "---\n",
    "---"
   ]
  },
  {
   "cell_type": "markdown",
   "id": "271b4d9f-7fb1-4277-869c-7e1f224c0214",
   "metadata": {},
   "source": [
    "# Imports"
   ]
  },
  {
   "cell_type": "markdown",
   "id": "64661518-3244-423d-9d0a-169f8cd5881a",
   "metadata": {},
   "source": [
    "#### Standard library imports"
   ]
  },
  {
   "cell_type": "code",
   "execution_count": 1,
   "id": "84e8892a-724d-4120-9271-2e6cfa8efff5",
   "metadata": {},
   "outputs": [],
   "source": [
    "import sys\n",
    "import pickle\n",
    "\n",
    "sys.path.append(\"../../\")"
   ]
  },
  {
   "cell_type": "markdown",
   "id": "eb79d938-3938-4b57-a6dd-67218b812f55",
   "metadata": {},
   "source": [
    "#### Third party imports"
   ]
  },
  {
   "cell_type": "code",
   "execution_count": 2,
   "id": "8779b474-7192-447e-949e-abc2ff159ba2",
   "metadata": {},
   "outputs": [],
   "source": [
    "import pandas as pd"
   ]
  },
  {
   "cell_type": "markdown",
   "id": "cacb339f-23dc-48ee-a599-b436d6dc7072",
   "metadata": {},
   "source": [
    "#### Local application imports"
   ]
  },
  {
   "cell_type": "code",
   "execution_count": 4,
   "id": "bee67dd7-757f-446b-8e4f-8b1099edf963",
   "metadata": {},
   "outputs": [
    {
     "name": "stdout",
     "output_type": "stream",
     "text": [
      "The autoreload extension is already loaded. To reload it, use:\n",
      "  %reload_ext autoreload\n"
     ]
    }
   ],
   "source": [
    "%load_ext autoreload\n",
    "%autoreload 2\n",
    "\n",
    "from pkg_dir.config import *\n",
    "from pkg_dir.src.utils import *\n",
    "from pkg_dir.src.functions import *\n",
    "from pkg_dir.src.parameters import *"
   ]
  },
  {
   "cell_type": "markdown",
   "id": "809f9334-3df5-425c-bf6b-8fba14fc922a",
   "metadata": {
    "jp-MarkdownHeadingCollapsed": true
   },
   "source": [
    "# Extraction"
   ]
  },
  {
   "cell_type": "code",
   "execution_count": null,
   "id": "67825b10-c8ed-4121-a6df-0778b96d346a",
   "metadata": {},
   "outputs": [],
   "source": [
    "extract_pipeline_func()"
   ]
  },
  {
   "cell_type": "markdown",
   "id": "881aff9b-9335-4eb0-995b-7a1b7b5ffcb0",
   "metadata": {},
   "source": [
    "## Results"
   ]
  },
  {
   "cell_type": "code",
   "execution_count": null,
   "id": "941e50f0-4f9a-4d0d-86f5-3b92c6da48ce",
   "metadata": {},
   "outputs": [],
   "source": [
    "pkl_obj = pipeline_pkl_extract_path + \"/\" + pipeline_pkl_extract_name"
   ]
  },
  {
   "cell_type": "code",
   "execution_count": null,
   "id": "b22d72f3-ba8e-4af0-934f-e998709e9f9e",
   "metadata": {},
   "outputs": [],
   "source": [
    "with open(pkl_obj, 'rb') as obj_content:\n",
    "    dfx = pickle.load(obj_content)"
   ]
  },
  {
   "cell_type": "markdown",
   "id": "3c3a9a4c-28a2-4b2b-924b-17d159f6f884",
   "metadata": {},
   "source": [
    "# Transformation"
   ]
  },
  {
   "cell_type": "code",
   "execution_count": 6,
   "id": "5588950c-e6f3-4356-91dc-8d4ee29fd3d7",
   "metadata": {},
   "outputs": [],
   "source": [
    "transform_pipeline_func()"
   ]
  },
  {
   "cell_type": "markdown",
   "id": "e10d6b37-7db4-4d27-a3e0-1fd9d9a0c448",
   "metadata": {},
   "source": [
    "## Results"
   ]
  },
  {
   "cell_type": "code",
   "execution_count": 7,
   "id": "d7cf1e8e-3b74-4d5a-a522-ba5686bfb001",
   "metadata": {},
   "outputs": [],
   "source": [
    "pkl_obj = pipeline_pkl_extract_path + \"/\" + pipeline_pkl_extract_name"
   ]
  },
  {
   "cell_type": "code",
   "execution_count": 8,
   "id": "735d0897-903f-434c-95e4-cbd2f96011d0",
   "metadata": {},
   "outputs": [],
   "source": [
    "with open(pkl_obj, 'rb') as obj_content:\n",
    "    dfx = pickle.load(obj_content)"
   ]
  },
  {
   "cell_type": "code",
   "execution_count": 9,
   "id": "4a39bd8a-3713-4201-a220-ac4a675713b8",
   "metadata": {},
   "outputs": [
    {
     "data": {
      "text/html": [
       "<div>\n",
       "<style scoped>\n",
       "    .dataframe tbody tr th:only-of-type {\n",
       "        vertical-align: middle;\n",
       "    }\n",
       "\n",
       "    .dataframe tbody tr th {\n",
       "        vertical-align: top;\n",
       "    }\n",
       "\n",
       "    .dataframe thead th {\n",
       "        text-align: right;\n",
       "    }\n",
       "</style>\n",
       "<table border=\"1\" class=\"dataframe\">\n",
       "  <thead>\n",
       "    <tr style=\"text-align: right;\">\n",
       "      <th></th>\n",
       "      <th>appointment_id</th>\n",
       "      <th>appointment_date</th>\n",
       "    </tr>\n",
       "  </thead>\n",
       "  <tbody>\n",
       "    <tr>\n",
       "      <th>0</th>\n",
       "      <td>2023001189807</td>\n",
       "      <td>2023-12-15</td>\n",
       "    </tr>\n",
       "    <tr>\n",
       "      <th>1</th>\n",
       "      <td>2023001189857</td>\n",
       "      <td>2023-12-27</td>\n",
       "    </tr>\n",
       "    <tr>\n",
       "      <th>2</th>\n",
       "      <td>2023001189846</td>\n",
       "      <td>2023-12-22</td>\n",
       "    </tr>\n",
       "    <tr>\n",
       "      <th>3</th>\n",
       "      <td>2023001189931</td>\n",
       "      <td>2023-12-19</td>\n",
       "    </tr>\n",
       "    <tr>\n",
       "      <th>4</th>\n",
       "      <td>2023001189932</td>\n",
       "      <td>2023-12-19</td>\n",
       "    </tr>\n",
       "    <tr>\n",
       "      <th>...</th>\n",
       "      <td>...</td>\n",
       "      <td>...</td>\n",
       "    </tr>\n",
       "    <tr>\n",
       "      <th>6958</th>\n",
       "      <td>2023001451480</td>\n",
       "      <td>2023-12-20</td>\n",
       "    </tr>\n",
       "    <tr>\n",
       "      <th>6959</th>\n",
       "      <td>2023001326688</td>\n",
       "      <td>2023-12-26</td>\n",
       "    </tr>\n",
       "    <tr>\n",
       "      <th>6960</th>\n",
       "      <td>2023001326686</td>\n",
       "      <td>2023-12-26</td>\n",
       "    </tr>\n",
       "    <tr>\n",
       "      <th>6961</th>\n",
       "      <td>2023001326690</td>\n",
       "      <td>2023-12-26</td>\n",
       "    </tr>\n",
       "    <tr>\n",
       "      <th>6962</th>\n",
       "      <td>2023001326692</td>\n",
       "      <td>2023-12-26</td>\n",
       "    </tr>\n",
       "  </tbody>\n",
       "</table>\n",
       "<p>6963 rows × 2 columns</p>\n",
       "</div>"
      ],
      "text/plain": [
       "       appointment_id appointment_date\n",
       "0     2023001189807         2023-12-15\n",
       "1     2023001189857         2023-12-27\n",
       "2     2023001189846         2023-12-22\n",
       "3     2023001189931         2023-12-19\n",
       "4     2023001189932         2023-12-19\n",
       "...               ...              ...\n",
       "6958  2023001451480         2023-12-20\n",
       "6959  2023001326688         2023-12-26\n",
       "6960  2023001326686         2023-12-26\n",
       "6961  2023001326690         2023-12-26\n",
       "6962  2023001326692         2023-12-26\n",
       "\n",
       "[6963 rows x 2 columns]"
      ]
     },
     "execution_count": 9,
     "metadata": {},
     "output_type": "execute_result"
    }
   ],
   "source": [
    "dfx"
   ]
  },
  {
   "cell_type": "markdown",
   "id": "9ec3ec3b-c900-4c78-b89e-d6294309dcc6",
   "metadata": {},
   "source": [
    "# Notes"
   ]
  },
  {
   "cell_type": "markdown",
   "id": "432b3745-58f6-4bc8-be60-549daf33bff6",
   "metadata": {},
   "source": [
    "## Generate data schema"
   ]
  },
  {
   "cell_type": "code",
   "execution_count": null,
   "id": "a49eb3e0-0d66-40ca-8a9a-4e087f1a451a",
   "metadata": {},
   "outputs": [],
   "source": [
    "df_cols = dfx.columns.tolist()\n",
    "data_dicts_loc = 'pkg_dir/src/parameters/'\n",
    "data_dict_filename = 'data_schema.txt'"
   ]
  },
  {
   "cell_type": "code",
   "execution_count": null,
   "id": "b67d8278-1a3e-4183-8a4a-2dedc4c39773",
   "metadata": {},
   "outputs": [],
   "source": [
    "generate_data_dictionary(df_cols, data_dicts_loc, data_dict_filename)"
   ]
  },
  {
   "cell_type": "markdown",
   "id": "cb20679a-0ba8-4b24-a9fe-59efd25110ac",
   "metadata": {},
   "source": [
    "---"
   ]
  },
  {
   "cell_type": "markdown",
   "id": "c64e3412-94ba-4d74-aa3a-f771441d83d9",
   "metadata": {},
   "source": [
    "---"
   ]
  }
 ],
 "metadata": {
  "kernelspec": {
   "display_name": "Python 3 (ipykernel)",
   "language": "python",
   "name": "python3"
  },
  "language_info": {
   "codemirror_mode": {
    "name": "ipython",
    "version": 3
   },
   "file_extension": ".py",
   "mimetype": "text/x-python",
   "name": "python",
   "nbconvert_exporter": "python",
   "pygments_lexer": "ipython3",
   "version": "3.9.1"
  }
 },
 "nbformat": 4,
 "nbformat_minor": 5
}
