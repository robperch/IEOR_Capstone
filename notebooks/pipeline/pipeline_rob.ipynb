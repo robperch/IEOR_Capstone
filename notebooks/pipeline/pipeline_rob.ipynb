{
 "cells": [
  {
   "cell_type": "markdown",
   "id": "b362e6fb-bbbb-4fe3-8093-ce5cb7011d38",
   "metadata": {},
   "source": [
    "# ML Pipeline testing\n",
    "---\n",
    "---"
   ]
  },
  {
   "cell_type": "markdown",
   "id": "271b4d9f-7fb1-4277-869c-7e1f224c0214",
   "metadata": {},
   "source": [
    "# Imports"
   ]
  },
  {
   "cell_type": "markdown",
   "id": "64661518-3244-423d-9d0a-169f8cd5881a",
   "metadata": {},
   "source": [
    "#### Standard library imports"
   ]
  },
  {
   "cell_type": "code",
   "execution_count": 1,
   "id": "84e8892a-724d-4120-9271-2e6cfa8efff5",
   "metadata": {},
   "outputs": [],
   "source": [
    "import sys\n",
    "import pickle\n",
    "import os\n",
    "\n",
    "sys.path.append(\"../../\")"
   ]
  },
  {
   "cell_type": "markdown",
   "id": "eb79d938-3938-4b57-a6dd-67218b812f55",
   "metadata": {},
   "source": [
    "#### Third party imports"
   ]
  },
  {
   "cell_type": "code",
   "execution_count": 2,
   "id": "8779b474-7192-447e-949e-abc2ff159ba2",
   "metadata": {},
   "outputs": [],
   "source": [
    "import pandas as pd\n",
    "pd.set_option('display.max_columns', 500)"
   ]
  },
  {
   "cell_type": "markdown",
   "id": "cacb339f-23dc-48ee-a599-b436d6dc7072",
   "metadata": {},
   "source": [
    "#### Local application imports"
   ]
  },
  {
   "cell_type": "code",
   "execution_count": 3,
   "id": "bee67dd7-757f-446b-8e4f-8b1099edf963",
   "metadata": {},
   "outputs": [],
   "source": [
    "%load_ext autoreload\n",
    "%autoreload 2\n",
    "\n",
    "from pkg_dir.config import *\n",
    "from pkg_dir.src.utils import *\n",
    "from pkg_dir.src.functions import *\n",
    "from pkg_dir.src.parameters import *"
   ]
  },
  {
   "cell_type": "markdown",
   "id": "809f9334-3df5-425c-bf6b-8fba14fc922a",
   "metadata": {
    "jp-MarkdownHeadingCollapsed": true
   },
   "source": [
    "# Extraction"
   ]
  },
  {
   "cell_type": "code",
   "execution_count": null,
   "id": "67825b10-c8ed-4121-a6df-0778b96d346a",
   "metadata": {},
   "outputs": [],
   "source": [
    "extract_pipeline_func()"
   ]
  },
  {
   "cell_type": "markdown",
   "id": "881aff9b-9335-4eb0-995b-7a1b7b5ffcb0",
   "metadata": {},
   "source": [
    "## Results"
   ]
  },
  {
   "cell_type": "code",
   "execution_count": null,
   "id": "941e50f0-4f9a-4d0d-86f5-3b92c6da48ce",
   "metadata": {},
   "outputs": [],
   "source": [
    "pkl_obj = pipeline_pkl_extract_path + \"/\" + pipeline_pkl_extract_name"
   ]
  },
  {
   "cell_type": "code",
   "execution_count": null,
   "id": "b22d72f3-ba8e-4af0-934f-e998709e9f9e",
   "metadata": {},
   "outputs": [],
   "source": [
    "with open(pkl_obj, 'rb') as obj_content:\n",
    "    dfx = pickle.load(obj_content)"
   ]
  },
  {
   "cell_type": "markdown",
   "id": "3c3a9a4c-28a2-4b2b-924b-17d159f6f884",
   "metadata": {
    "jp-MarkdownHeadingCollapsed": true
   },
   "source": [
    "# Transformation"
   ]
  },
  {
   "cell_type": "markdown",
   "id": "934793a6-aad5-4d47-a03e-cce6a82ba135",
   "metadata": {},
   "source": [
    "## Steps"
   ]
  },
  {
   "cell_type": "markdown",
   "id": "1de8fbdb-70a0-41d4-8979-4998b23ccc59",
   "metadata": {
    "jp-MarkdownHeadingCollapsed": true
   },
   "source": [
    "### Query"
   ]
  },
  {
   "cell_type": "code",
   "execution_count": null,
   "id": "47265878-e684-4c76-b20f-5973e8a41792",
   "metadata": {},
   "outputs": [],
   "source": [
    "sql_string = \"\"\"\n",
    "SELECT cita.citaid as appointment_id,\n",
    "       citafecha as appointment_date,\n",
    "       citahorad as appointment_start_time,\n",
    "       citahorah as appointment_end_time,\n",
    "       c.cestatusobs as metadata,\n",
    "       citaestado as appointment_status,\n",
    "       u.usuarionomfull as doctor,\n",
    "       e.especialidadnom as medical_specialty,\n",
    "       su.sucursalnom as clinic,\n",
    "       se.servicionom as service,\n",
    "       p.pacienteid as patient_id,\n",
    "       p.pacientefnac as patient_birth_date\n",
    "\n",
    "FROM cita\n",
    "\n",
    "\n",
    " INNER JOIN usuario u ON cita.citadoctorid = u.usuarioid\n",
    " INNER JOIN servicio se ON cita.servicioid = se.servicioid\n",
    " INNER JOIN especialidad e ON u.usuarioespecialidadid = e.especialidadid\n",
    " INNER JOIN sucursal su ON cita.citasucursalid = su.sucursalid\n",
    " LEFT JOIN paciente p ON cita.pacienteid = p.pacienteid\n",
    " INNER JOIN citaestatus c ON cita.citaid = c.citaid AND cita.citaanio = c.citaanio\n",
    "\n",
    "\n",
    "WHERE citafecha >= '2023-12-15'\n",
    "  AND citafecha <= '2023-12-16'\n",
    "\n",
    "ORDER BY\n",
    "    cita.citaid\n",
    "\n",
    ";\n",
    "\n",
    "\"\"\""
   ]
  },
  {
   "cell_type": "code",
   "execution_count": null,
   "id": "b7e12e30-81ea-4260-be27-8168b353b122",
   "metadata": {},
   "outputs": [],
   "source": [
    "dfx = sql_string_to_df('pc_db_prod', sql_string)\n",
    "\n",
    "dfx"
   ]
  },
  {
   "cell_type": "markdown",
   "id": "30c5dbc0-783d-4e6e-91d8-e015663f3fba",
   "metadata": {},
   "source": [
    "## Results"
   ]
  },
  {
   "cell_type": "code",
   "execution_count": null,
   "id": "5588950c-e6f3-4356-91dc-8d4ee29fd3d7",
   "metadata": {},
   "outputs": [],
   "source": [
    "transform_pipeline_func()"
   ]
  },
  {
   "cell_type": "markdown",
   "id": "e10d6b37-7db4-4d27-a3e0-1fd9d9a0c448",
   "metadata": {
    "jp-MarkdownHeadingCollapsed": true
   },
   "source": [
    "## Results"
   ]
  },
  {
   "cell_type": "code",
   "execution_count": null,
   "id": "d7cf1e8e-3b74-4d5a-a522-ba5686bfb001",
   "metadata": {},
   "outputs": [],
   "source": [
    "pkl_obj = pipeline_pkl_extract_path + \"/\" + pipeline_pkl_extract_name"
   ]
  },
  {
   "cell_type": "code",
   "execution_count": null,
   "id": "735d0897-903f-434c-95e4-cbd2f96011d0",
   "metadata": {},
   "outputs": [],
   "source": [
    "with open(pkl_obj, 'rb') as obj_content:\n",
    "    dfx = pickle.load(obj_content)"
   ]
  },
  {
   "cell_type": "code",
   "execution_count": null,
   "id": "4a39bd8a-3713-4201-a220-ac4a675713b8",
   "metadata": {},
   "outputs": [],
   "source": [
    "dfx"
   ]
  },
  {
   "cell_type": "markdown",
   "id": "9ec3ec3b-c900-4c78-b89e-d6294309dcc6",
   "metadata": {},
   "source": [
    "# Notes"
   ]
  },
  {
   "cell_type": "markdown",
   "id": "cad80bbd-6c42-444f-b7b0-8dc84a941c84",
   "metadata": {
    "jp-MarkdownHeadingCollapsed": true
   },
   "source": [
    "## All appointment status"
   ]
  },
  {
   "cell_type": "code",
   "execution_count": null,
   "id": "de5b1cfa-e5af-4f8a-9c5a-0e6ac694caaf",
   "metadata": {},
   "outputs": [],
   "source": [
    "sql_string = \"\"\"\n",
    "SELECT \n",
    "       DISTINCT citaestado as appointment_status\n",
    "\n",
    "FROM cita\n",
    "\n",
    "\n",
    "WHERE citafecha >= '2022-01-01'\n",
    "  AND citafecha <= '2023-12-31'\n",
    ";\n",
    "\"\"\""
   ]
  },
  {
   "cell_type": "code",
   "execution_count": null,
   "id": "8b95fa44-38cd-45bd-b7e0-361e3a8ccd35",
   "metadata": {},
   "outputs": [],
   "source": [
    "dfx = sql_string_to_df('pc_db_prod', sql_string)\n",
    "\n",
    "dfx"
   ]
  },
  {
   "cell_type": "markdown",
   "id": "3cd90d1b-595e-4d5e-a95d-d7c541cc19a9",
   "metadata": {},
   "source": [
    "## Metadata actions"
   ]
  },
  {
   "cell_type": "markdown",
   "id": "86526297-8c70-4fe5-bc4f-86dee3f47e8f",
   "metadata": {
    "jp-MarkdownHeadingCollapsed": true
   },
   "source": [
    "### Extracting from SQL"
   ]
  },
  {
   "cell_type": "code",
   "execution_count": null,
   "id": "06369279-c752-4ea5-85da-cc851dc2682b",
   "metadata": {},
   "outputs": [],
   "source": [
    "sql_string = \"\"\"\n",
    "SELECT cita.citaid as appointment_id,\n",
    "       c.cestatusobs as metadata,\n",
    "       SUBSTRING(c.cestatusobs, '^[^ ]*') as metadata_usr,\n",
    "       SUBSTRING(c.cestatusobs, '\\((.+?)\\)') as metadata_datetime,\n",
    "       SUBSTRING(c.cestatusobs, ' :(.*?)  ') as metadata_action,\n",
    "       SUBSTRING(c.cestatusobs, ' :(.*)') as metadata_action_full\n",
    "\n",
    "FROM cita\n",
    "\n",
    " INNER JOIN citaestatus c ON cita.citaid = c.citaid AND cita.citaanio = c.citaanio\n",
    "\n",
    "\n",
    "WHERE citafecha >= '2022-01-01'\n",
    "  AND citafecha <= '2023-12-31'\n",
    "\n",
    ";\n",
    "\"\"\""
   ]
  },
  {
   "cell_type": "code",
   "execution_count": null,
   "id": "164b3039-e10b-472e-bf00-dac2fa178383",
   "metadata": {
    "scrolled": true
   },
   "outputs": [],
   "source": [
    "dfx = sql_string_to_df('pc_db_prod', sql_string)"
   ]
  },
  {
   "cell_type": "code",
   "execution_count": null,
   "id": "9bcbb25f-c701-4c21-b3b6-49f68437e2bf",
   "metadata": {
    "scrolled": true
   },
   "outputs": [],
   "source": [
    "dfx"
   ]
  },
  {
   "cell_type": "code",
   "execution_count": null,
   "id": "9f9f8e0a-8630-442d-836a-3939cb364454",
   "metadata": {},
   "outputs": [],
   "source": [
    "dfx.rename(\n",
    "    columns={\n",
    "        0: \"appointment_id\",\n",
    "        1: \"metadata_full\",\n",
    "        2: \"user\",\n",
    "        3: \"date\",\n",
    "        4: \"action\",\n",
    "        5: \"action_full\",\n",
    "    }, \n",
    "    inplace=True\n",
    ")"
   ]
  },
  {
   "cell_type": "markdown",
   "id": "689c6bde-62a6-408e-b202-b945b75e8375",
   "metadata": {},
   "source": [
    "### Pickle save/load"
   ]
  },
  {
   "cell_type": "code",
   "execution_count": null,
   "id": "362c921c-4ac0-4a44-a091-1b4804c1da3b",
   "metadata": {},
   "outputs": [],
   "source": [
    "## Saving df as pickle and storing it locally\n",
    "path = '../../pkg_dir/data/pickles/robs'\n",
    "name = 'metadata_raw.pkl'\n",
    "\n",
    "pickle.dump(\n",
    "    dfx,\n",
    "    open(\n",
    "        os.path.join(path, name),\n",
    "        'wb'\n",
    "    )\n",
    ")"
   ]
  },
  {
   "cell_type": "code",
   "execution_count": null,
   "id": "68d84509-bead-4c93-94a5-38e04602cbd6",
   "metadata": {},
   "outputs": [],
   "source": [
    "## Saving df as pickle and storing it locally\n",
    "path = '../../pkg_dir/data/pickles/robs'\n",
    "name = 'metadata_raw.pkl'\n",
    "\n",
    "\n",
    "## Reading extract object saved as pickle locally\n",
    "pkl_obj = path + \"/\" + name\n",
    "\n",
    "with open(pkl_obj, 'rb') as obj_content:\n",
    "    dfx = pickle.load(obj_content)"
   ]
  },
  {
   "cell_type": "markdown",
   "id": "474b676e-3df2-4390-8315-ed3f04ce3d76",
   "metadata": {},
   "source": [
    "### Cleaning actions fields"
   ]
  },
  {
   "cell_type": "code",
   "execution_count": null,
   "id": "9441dd89-d046-4d33-b384-1de16c10fbea",
   "metadata": {},
   "outputs": [],
   "source": [
    "dfz = dfx.copy()"
   ]
  },
  {
   "cell_type": "code",
   "execution_count": null,
   "id": "1c59dd94-0c81-4cef-8af4-2eff6642ee75",
   "metadata": {},
   "outputs": [],
   "source": [
    "## Dummy col\n",
    "dfz['action_clean'] = 'irrelevant'"
   ]
  },
  {
   "cell_type": "code",
   "execution_count": null,
   "id": "1c0d42c6-59ce-4f36-94df-47e9d37f6ca4",
   "metadata": {},
   "outputs": [],
   "source": [
    "### Confirmado\n",
    "mr1 = dfz['action_full'].str.contains('Confirmado')\n",
    "\n",
    "dfz.loc[mr1, 'action_clean'] = 'confirmed'"
   ]
  },
  {
   "cell_type": "code",
   "execution_count": null,
   "id": "54b26b40-15d8-41bf-a307-0bdc60dfe343",
   "metadata": {},
   "outputs": [],
   "source": [
    "### Creado\n",
    "mr1 = dfz['action_full'].str.contains('Creado')\n",
    "\n",
    "dfz.loc[mr1, 'action_clean'] = 'created'"
   ]
  },
  {
   "cell_type": "raw",
   "id": "7d85a260-1366-4b58-921c-bafca0e03004",
   "metadata": {},
   "source": [
    "### No confirmado\n",
    "mr1 = dfz['action_full'].str.contains('No confirmado')\n",
    "\n",
    "dfz.loc[mr1, 'action_clean'] = 'No confirmado'"
   ]
  },
  {
   "cell_type": "code",
   "execution_count": null,
   "id": "ee42c75f-10c7-4177-a351-a55fc60f3a92",
   "metadata": {},
   "outputs": [],
   "source": [
    "### Sala espera\n",
    "mr1 = dfz['action_full'].str.contains('En sala de espera')\n",
    "\n",
    "dfz.loc[mr1, 'action_clean'] = 'in_waiting_room'"
   ]
  },
  {
   "cell_type": "code",
   "execution_count": null,
   "id": "241b1596-8eea-4745-b578-eee15ba542db",
   "metadata": {},
   "outputs": [],
   "source": [
    "### Completado\n",
    "mr1 = dfz['action_full'].str.contains('Completado')\n",
    "mr2 = dfz['action_full'].str.contains('Completada')\n",
    "mrs = mr1 | mr2\n",
    "\n",
    "dfz.loc[mrs, 'action_clean'] = 'completed'"
   ]
  },
  {
   "cell_type": "code",
   "execution_count": null,
   "id": "75b5b335-dbac-45f8-87ca-153f7793822f",
   "metadata": {},
   "outputs": [],
   "source": [
    "### En consulta\n",
    "mr1 = dfz['action_full'].str.contains('En consulta')\n",
    "\n",
    "dfz.loc[mr1, 'action_clean'] = 'with_doctor'"
   ]
  },
  {
   "cell_type": "code",
   "execution_count": null,
   "id": "df5d998a-c22e-4962-840e-a99846cebf95",
   "metadata": {},
   "outputs": [],
   "source": [
    "### No se presentó\n",
    "mr1 = dfz['action_full'].str.contains('No se presentó')\n",
    "\n",
    "dfz.loc[mr1, 'action_clean'] = 'no_show'"
   ]
  },
  {
   "cell_type": "code",
   "execution_count": null,
   "id": "b78b5f0c-d3d6-48ab-8a31-1fa0e392efc9",
   "metadata": {},
   "outputs": [],
   "source": [
    "### Cancelada por el paciente\n",
    "mr1 = dfz['action_full'].str.contains('Cancelada por el paciente')\n",
    "\n",
    "dfz.loc[mr1, 'action_clean'] = 'canceled_by_patient'"
   ]
  },
  {
   "cell_type": "code",
   "execution_count": null,
   "id": "fe336226-d1d4-4610-a061-cae608812832",
   "metadata": {},
   "outputs": [],
   "source": [
    "### Cancelada por empledo\n",
    "mr1 = dfz['action_full'].str.contains('Cancelada por empledo')\n",
    "\n",
    "dfz.loc[mr1, 'action_clean'] = 'canceled_by_employee'"
   ]
  },
  {
   "cell_type": "code",
   "execution_count": null,
   "id": "b66392f3-efee-42e2-8825-049d45c58251",
   "metadata": {},
   "outputs": [],
   "source": [
    "### Se actualiza la fecha/hora\n",
    "mr1 = dfz['action_full'].str.contains('Se actualiza la fecha/hora')\n",
    "\n",
    "dfz.loc[mr1, 'action_clean'] = 'update_date_hour'"
   ]
  },
  {
   "cell_type": "code",
   "execution_count": null,
   "id": "db298e7b-874c-4995-a228-53c944bf40d4",
   "metadata": {},
   "outputs": [],
   "source": [
    "### Disponible\n",
    "mr1 = dfz['action_full'].str.contains('Disponible')\n",
    "\n",
    "dfz.loc[mr1, 'action_clean'] = 'available'"
   ]
  },
  {
   "cell_type": "code",
   "execution_count": null,
   "id": "ccb679f8-e535-4eec-ac6e-f72258b6f4a7",
   "metadata": {},
   "outputs": [],
   "source": [
    "### Mensaje dejado\n",
    "mr1 = dfz['action_full'].str.contains('Mensaje dejado')\n",
    "\n",
    "dfz.loc[mr1, 'action_clean'] = 'message_left'"
   ]
  },
  {
   "cell_type": "markdown",
   "id": "ed302e6c-5803-434f-b509-76fcf414872e",
   "metadata": {},
   "source": [
    "### Formatting and adjusting"
   ]
  },
  {
   "cell_type": "code",
   "execution_count": null,
   "id": "4ebae93c-1298-4bbd-b11a-93036f1f97c6",
   "metadata": {},
   "outputs": [],
   "source": [
    "dfz[dfz['action_clean'] == 'completed']"
   ]
  },
  {
   "cell_type": "code",
   "execution_count": null,
   "id": "eacbc8ec-4ebf-4986-aa3d-239d49085c42",
   "metadata": {},
   "outputs": [],
   "source": [
    "## Dropping irrelevant columns\n",
    "mr1 = dfz['action_clean'] != 'irrelevant'\n",
    "rc = ['appointment_id', 'user', 'date', 'action_clean']\n",
    "\n",
    "dfz = dfz.loc[mr1, rc].copy()"
   ]
  },
  {
   "cell_type": "code",
   "execution_count": null,
   "id": "c8a7b06f-cc97-44c1-a242-f297416cdc6c",
   "metadata": {},
   "outputs": [],
   "source": [
    "## Adjusting dateformat\n",
    "dfz['date'] = pd.to_datetime(dfz['date'], format='%d/%m/%Y %H:%M:%S', errors='coerce')\n",
    "\n",
    "dfz = dfz.loc[~dfz['date'].isna(), :].copy()"
   ]
  },
  {
   "cell_type": "code",
   "execution_count": null,
   "id": "06aecfee-4772-4053-8fc8-8e8633d92160",
   "metadata": {},
   "outputs": [],
   "source": [
    "## Sorting values \n",
    "dfz.sort_values(by=['appointment_id', 'action_clean', 'date'], inplace=True, ascending=False)"
   ]
  },
  {
   "cell_type": "code",
   "execution_count": null,
   "id": "30d42ac6-7593-4df6-8580-879a363cd495",
   "metadata": {},
   "outputs": [],
   "source": [
    "## Keeping latest \n",
    "dfz.drop_duplicates(keep='first', subset=['appointment_id', 'action_clean'], inplace=True)"
   ]
  },
  {
   "cell_type": "markdown",
   "id": "c6ebd6ff-99f3-4891-ad81-3f8823c7a250",
   "metadata": {},
   "source": [
    "### Pivot"
   ]
  },
  {
   "cell_type": "code",
   "execution_count": null,
   "id": "35566c78-cb7c-4b44-ba7f-125e16bb7451",
   "metadata": {},
   "outputs": [],
   "source": [
    "dfp = dfz.pivot(index='appointment_id', columns='action_clean', values=['user', 'date'])"
   ]
  },
  {
   "cell_type": "code",
   "execution_count": null,
   "id": "3d0d427a-f7f1-4c36-8a24-15af9b48f7b2",
   "metadata": {},
   "outputs": [],
   "source": [
    "dfp.columns = ['meta__' + col[1] + '_$' + col[0] for col in dfp.columns]"
   ]
  },
  {
   "cell_type": "code",
   "execution_count": null,
   "id": "74862bee-8442-466f-b0ce-329d0324f3fa",
   "metadata": {},
   "outputs": [],
   "source": [
    "cols = dfp.columns.tolist()\n",
    "cols.sort()\n",
    "\n",
    "dfp = dfp.loc[:, cols].copy()"
   ]
  },
  {
   "cell_type": "markdown",
   "id": "afa5a4e0-749d-4eb3-8274-6e42acc990df",
   "metadata": {},
   "source": [
    "### Pickle save/load"
   ]
  },
  {
   "cell_type": "code",
   "execution_count": null,
   "id": "8418ac80-c966-41b5-bab2-419d2eb5b4ee",
   "metadata": {},
   "outputs": [],
   "source": [
    "## Saving df as pickle and storing it locally\n",
    "path = '../../pkg_dir/data/pickles/robs'\n",
    "name = 'pivot_df_v2.pkl'\n",
    "\n",
    "pickle.dump(\n",
    "    dfp,\n",
    "    open(\n",
    "        os.path.join(path, name),\n",
    "        'wb'\n",
    "    )\n",
    ")"
   ]
  },
  {
   "cell_type": "code",
   "execution_count": null,
   "id": "48832c15-c0b1-48b3-af2f-ac6caa5f1cff",
   "metadata": {},
   "outputs": [],
   "source": [
    "## Params\n",
    "path = '../../pkg_dir/data/pickles/robs'\n",
    "name = 'pivot_df_v2.pkl'\n",
    "\n",
    "\n",
    "## Reading extract object saved as pickle locally\n",
    "pkl_obj = path + \"/\" + name\n",
    "\n",
    "with open(pkl_obj, 'rb') as obj_content:\n",
    "    dfp = pickle.load(obj_content)\n"
   ]
  },
  {
   "cell_type": "markdown",
   "id": "f3ac9dbe-8a77-47cf-82a7-6ebffa805bac",
   "metadata": {},
   "source": [
    "### \n",
    "### Base dataset with no metadata"
   ]
  },
  {
   "cell_type": "code",
   "execution_count": null,
   "id": "5e5af53e-4cb3-4e34-93f3-7023e4f842e5",
   "metadata": {},
   "outputs": [],
   "source": [
    "## Function parameters\n",
    "db_crds = 'pc_db_prod'\n",
    "query = '''\n",
    "SELECT cita.citaid as appointment_id,\n",
    "       citafecha as appointment_date,\n",
    "       citahorad as appointment_start_time,\n",
    "       citahorah as appointment_end_time,\n",
    "       citaestado as appointment_status,\n",
    "       u.usuarionomfull as doctor,\n",
    "       e.especialidadnom as medical_specialty,\n",
    "       su.sucursalnom as clinic,\n",
    "       se.servicionom as service,\n",
    "       p.pacienteid as patient_id,\n",
    "       p.pacientefnac as patient_birth_date\n",
    "\n",
    "FROM cita\n",
    "\n",
    " INNER JOIN usuario u ON cita.citadoctorid = u.usuarioid\n",
    " INNER JOIN servicio se ON cita.servicioid = se.servicioid\n",
    " INNER JOIN especialidad e ON u.usuarioespecialidadid = e.especialidadid\n",
    " INNER JOIN sucursal su ON cita.citasucursalid = su.sucursalid\n",
    " LEFT JOIN paciente p ON cita.pacienteid = p.pacienteid\n",
    "\n",
    "WHERE citafecha >= '2022-01-01'\n",
    "  AND citafecha <= '2023-12-31'\n",
    "\n",
    ";\n",
    "'''\n"
   ]
  },
  {
   "cell_type": "code",
   "execution_count": null,
   "id": "2bac9108-9e5b-425a-8bb4-b8337806525a",
   "metadata": {},
   "outputs": [],
   "source": [
    "dfx = sql_string_to_df(db_crds, query)\n",
    "dfx.columns = ['appointment_id', 'appointment_date', 'appointment_start_time', 'appointment_end_time', 'appointment_status', 'doctor', 'medical_specialty', 'clinic', 'service', 'patient_id', 'patient_birth_date']"
   ]
  },
  {
   "cell_type": "markdown",
   "id": "41177e9e-0ba0-409b-a40f-108ac9757a3e",
   "metadata": {},
   "source": [
    "### Merging pivot dataframe and main"
   ]
  },
  {
   "cell_type": "code",
   "execution_count": null,
   "id": "15e4cd2e-136c-4b85-8599-78d8e47f6d15",
   "metadata": {},
   "outputs": [],
   "source": [
    "dfp.reset_index(inplace = True)"
   ]
  },
  {
   "cell_type": "code",
   "execution_count": null,
   "id": "deab8cab-bec3-4948-808c-3d9e1eb3c214",
   "metadata": {},
   "outputs": [],
   "source": [
    "dataset = pd.merge(dfx, dfp, on='appointment_id', how='left')"
   ]
  },
  {
   "cell_type": "markdown",
   "id": "8eb5f54c-6f63-4131-8c74-193ae2f4b243",
   "metadata": {},
   "source": [
    "### Formatting date columns"
   ]
  },
  {
   "cell_type": "code",
   "execution_count": null,
   "id": "6ba1a0fc-287a-46ce-b375-a1961a3030a6",
   "metadata": {
    "scrolled": true
   },
   "outputs": [],
   "source": [
    "dataset"
   ]
  },
  {
   "cell_type": "code",
   "execution_count": null,
   "id": "194e921a-73f0-45d6-8d67-1458960254c6",
   "metadata": {
    "scrolled": true
   },
   "outputs": [],
   "source": [
    "## Formatting appointment date\n",
    "dataset['appointment_date'] = pd.to_datetime(dataset['appointment_date'], format='%Y-%m-%d')"
   ]
  },
  {
   "cell_type": "markdown",
   "id": "8e0af6d0-ec92-4e2b-882c-18e5ebb9420f",
   "metadata": {},
   "source": [
    "### Appointment status simplification"
   ]
  },
  {
   "cell_type": "code",
   "execution_count": null,
   "id": "f27fc9b8-964d-442b-96dd-34996a7e8efd",
   "metadata": {},
   "outputs": [],
   "source": [
    "## Reference to simplify labels in appointment status\n",
    "values_map = {\n",
    "\n",
    "    ## Completed\n",
    "    'COMPLETADA': 'completed',\n",
    "    'SALA_ESPERA': 'completed',\n",
    "    'CONSULTA': 'completed',\n",
    "    'CONFIRMADO_PAGO': 'completed',\n",
    "\n",
    "    ## No shows\n",
    "    'NO_PRESENTO': 'no_show',\n",
    "    'MENSAJE_DEJADO': 'no_show',\n",
    "    'NO_CONFIRMADO': 'no_show',\n",
    "    'CONFIRMADO': 'no_show',\n",
    "    'LLEGA_TARDE_ESPERA': 'no_show',\n",
    "    'REAGENDAR': 'no_show',\n",
    "    'TRIAGE': 'no_show',\n",
    "    'TRIAGE_COMPLETO': 'no_show',\n",
    "    'LISTA_ESPERA': 'no_show',\n",
    "    'VALIDA_DATOS': 'no_show',\n",
    "\n",
    "    ## Unused\n",
    "    'DISPONIBLE': 'unused',\n",
    "\n",
    "    ## Blocked\n",
    "    'BLOQUEADO': 'blocked',\n",
    "\n",
    "    ## Canceled\n",
    "    'CANCELA_PACIENTE': 'cancel_patient',\n",
    "    'CANCELA_EMPLEADO': 'cancel_employee',\n",
    "    \n",
    "    \n",
    "}"
   ]
  },
  {
   "cell_type": "code",
   "execution_count": null,
   "id": "c5ef8b7b-3d3b-4298-9b25-e63105ba93d3",
   "metadata": {
    "scrolled": true
   },
   "outputs": [],
   "source": [
    "dataset['appointment_status'].value_counts()"
   ]
  },
  {
   "cell_type": "code",
   "execution_count": null,
   "id": "f17a27ce-9132-4ac9-8f5a-e96129e33d70",
   "metadata": {},
   "outputs": [],
   "source": [
    "## Mapping values according to reference\n",
    "dataset['appointment_status_simplified'] = dataset['appointment_status'].map(values_map).fillna(dataset['appointment_status'])"
   ]
  },
  {
   "cell_type": "code",
   "execution_count": null,
   "id": "3dc1859b-3e11-4d8a-a296-d45a8a257d51",
   "metadata": {},
   "outputs": [],
   "source": [
    "dataset['appointment_status_simplified'].value_counts()"
   ]
  },
  {
   "cell_type": "code",
   "execution_count": null,
   "id": "fabcb413-1e22-4cd8-810b-3045b46a4b94",
   "metadata": {},
   "outputs": [],
   "source": [
    "dataset.drop(['appointment_status'], axis=1, inplace=True)"
   ]
  },
  {
   "cell_type": "markdown",
   "id": "6495f86d-983e-4d96-9d49-052f648ada64",
   "metadata": {},
   "source": [
    "### Saving data"
   ]
  },
  {
   "cell_type": "code",
   "execution_count": null,
   "id": "852cfe30-384d-4a7d-885f-155e18025d74",
   "metadata": {},
   "outputs": [],
   "source": [
    "## Saving df as pickle and storing it locally\n",
    "path = '../../pkg_dir/data/pickles/robs'\n",
    "name = 'dataset.pkl'\n",
    "\n",
    "pickle.dump(\n",
    "    dataset,\n",
    "    open(\n",
    "        os.path.join(path, name),\n",
    "        'wb'\n",
    "    )\n",
    ")"
   ]
  },
  {
   "cell_type": "code",
   "execution_count": 5,
   "id": "659a7393-feed-4850-8bf7-52b19bfc9b02",
   "metadata": {},
   "outputs": [],
   "source": [
    "## Params\n",
    "path = '../../pkg_dir/data/pickles/robs'\n",
    "name = 'dataset.pkl'\n",
    "\n",
    "\n",
    "## Reading extract object saved as pickle locally\n",
    "pkl_obj = path + \"/\" + name\n",
    "\n",
    "with open(pkl_obj, 'rb') as obj_content:\n",
    "    dataset = pickle.load(obj_content)"
   ]
  },
  {
   "cell_type": "code",
   "execution_count": null,
   "id": "d047cabf-d5ea-45ea-843d-f1a24c9857db",
   "metadata": {},
   "outputs": [],
   "source": [
    "## Saving as csv\n",
    "dataset.to_csv('../../pkg_dir/data/pickles/robs/dataset.csv')"
   ]
  },
  {
   "cell_type": "markdown",
   "id": "06d2d839-4651-49fb-8c69-d5ace17ac720",
   "metadata": {},
   "source": [
    "### Data description"
   ]
  },
  {
   "cell_type": "code",
   "execution_count": 11,
   "id": "09b88a4b-61b6-4198-8aa1-a5b8e76ed7de",
   "metadata": {},
   "outputs": [
    {
     "data": {
      "text/plain": [
       "['appointment_id',\n",
       " 'appointment_date',\n",
       " 'appointment_start_time',\n",
       " 'appointment_end_time',\n",
       " 'doctor',\n",
       " 'medical_specialty',\n",
       " 'clinic',\n",
       " 'service',\n",
       " 'patient_id',\n",
       " 'patient_birth_date',\n",
       " 'meta__available_$date',\n",
       " 'meta__available_$user',\n",
       " 'meta__canceled_by_employee_$date',\n",
       " 'meta__canceled_by_employee_$user',\n",
       " 'meta__canceled_by_patient_$date',\n",
       " 'meta__canceled_by_patient_$user',\n",
       " 'meta__completed_$date',\n",
       " 'meta__completed_$user',\n",
       " 'meta__confirmed_$date',\n",
       " 'meta__confirmed_$user',\n",
       " 'meta__created_$date',\n",
       " 'meta__created_$user',\n",
       " 'meta__in_waiting_room_$date',\n",
       " 'meta__in_waiting_room_$user',\n",
       " 'meta__message_left_$date',\n",
       " 'meta__message_left_$user',\n",
       " 'meta__no_show_$date',\n",
       " 'meta__no_show_$user',\n",
       " 'meta__update_date_hour_$date',\n",
       " 'meta__update_date_hour_$user',\n",
       " 'meta__with_doctor_$date',\n",
       " 'meta__with_doctor_$user',\n",
       " 'appointment_status_simplified']"
      ]
     },
     "execution_count": 11,
     "metadata": {},
     "output_type": "execute_result"
    }
   ],
   "source": [
    "list(dataset.columns)"
   ]
  },
  {
   "cell_type": "raw",
   "id": "470cf14b-a5bd-4a26-852a-2d6d61cdf855",
   "metadata": {},
   "source": []
  },
  {
   "cell_type": "code",
   "execution_count": null,
   "id": "04acdcae-86ab-4fa8-a0e2-e5219c5d4f67",
   "metadata": {},
   "outputs": [],
   "source": []
  },
  {
   "cell_type": "code",
   "execution_count": null,
   "id": "a0bbd64f-8de9-4453-a18c-d33617173eab",
   "metadata": {},
   "outputs": [],
   "source": []
  },
  {
   "cell_type": "markdown",
   "id": "432b3745-58f6-4bc8-be60-549daf33bff6",
   "metadata": {
    "jp-MarkdownHeadingCollapsed": true
   },
   "source": [
    "## Generate data schema"
   ]
  },
  {
   "cell_type": "code",
   "execution_count": null,
   "id": "a49eb3e0-0d66-40ca-8a9a-4e087f1a451a",
   "metadata": {},
   "outputs": [],
   "source": [
    "df_cols = dfx.columns.tolist()\n",
    "data_dicts_loc = 'pkg_dir/src/parameters/'\n",
    "data_dict_filename = 'data_schema.txt'"
   ]
  },
  {
   "cell_type": "code",
   "execution_count": null,
   "id": "b67d8278-1a3e-4183-8a4a-2dedc4c39773",
   "metadata": {},
   "outputs": [],
   "source": [
    "generate_data_dictionary(df_cols, data_dicts_loc, data_dict_filename)"
   ]
  },
  {
   "cell_type": "markdown",
   "id": "ae65e17b-f035-4c19-842c-d3c6d1e9f859",
   "metadata": {
    "jp-MarkdownHeadingCollapsed": true
   },
   "source": [
    "## Final dataset"
   ]
  },
  {
   "cell_type": "markdown",
   "id": "f9ad3773-3829-4ee0-99cf-2ef0a33a7a8c",
   "metadata": {},
   "source": [
    "### No matches"
   ]
  },
  {
   "cell_type": "code",
   "execution_count": null,
   "id": "482d447d-a75c-41f4-b7d6-1807197d8f3c",
   "metadata": {},
   "outputs": [],
   "source": [
    "dataset_ai = dataset['appointment_id'].tolist()\n",
    "pivot_ai = dfp['appointment_id'].tolist()"
   ]
  },
  {
   "cell_type": "code",
   "execution_count": null,
   "id": "55ad13ea-32c2-4046-af9c-33febc9392ff",
   "metadata": {
    "scrolled": true
   },
   "outputs": [],
   "source": [
    "non_matches = list(set(dataset_ai) - set(pivot_ai))"
   ]
  },
  {
   "cell_type": "code",
   "execution_count": null,
   "id": "f69b38b8-231c-469c-8544-569374175106",
   "metadata": {
    "scrolled": true
   },
   "outputs": [],
   "source": [
    "df_nm = dataset[dataset['appointment_id'].isin(non_matches)]"
   ]
  },
  {
   "cell_type": "code",
   "execution_count": null,
   "id": "e1060d26-d285-468f-b2d0-07bc57316f23",
   "metadata": {},
   "outputs": [],
   "source": [
    "df_nm['appointment_status'].value_counts()"
   ]
  },
  {
   "cell_type": "markdown",
   "id": "680aa3ad-ac55-4682-b84b-b226da9618f5",
   "metadata": {},
   "source": [
    "### Other"
   ]
  },
  {
   "cell_type": "code",
   "execution_count": null,
   "id": "c60dcf64-47aa-4f07-8d65-71f0dc66219a",
   "metadata": {},
   "outputs": [],
   "source": [
    "## Reading extract object saved as pickle locally\n",
    "pkl_obj = \"../../pkg_dir/data/pickles/robs\" + \"/\" + \"dataset.pkl\"\n",
    "\n",
    "with open(pkl_obj, 'rb') as obj_content:\n",
    "    dfx = pickle.load(obj_content)"
   ]
  },
  {
   "cell_type": "code",
   "execution_count": null,
   "id": "987932b9-18cd-422f-887b-9bb318ebb459",
   "metadata": {},
   "outputs": [],
   "source": [
    "mr1 = dfx['appointment_status'] == 'COMPLETADA'\n",
    "mr2 = dfx['created__date'].isna()\n",
    "mrs = mr1 & mr2\n",
    "\n",
    "dfx.loc[mrs, :]"
   ]
  },
  {
   "cell_type": "code",
   "execution_count": null,
   "id": "8db9cf5b-7012-4cbc-ad72-5e3159d4f8f9",
   "metadata": {
    "scrolled": true
   },
   "outputs": [],
   "source": [
    "mr1 = dfx['appointment_status'] == 'DISPONIBLE'\n",
    "\n",
    "dfx.loc[mr1, :]"
   ]
  },
  {
   "cell_type": "markdown",
   "id": "cb20679a-0ba8-4b24-a9fe-59efd25110ac",
   "metadata": {},
   "source": [
    "---"
   ]
  },
  {
   "cell_type": "markdown",
   "id": "c64e3412-94ba-4d74-aa3a-f771441d83d9",
   "metadata": {},
   "source": [
    "---"
   ]
  }
 ],
 "metadata": {
  "kernelspec": {
   "display_name": "Python 3 (ipykernel)",
   "language": "python",
   "name": "python3"
  },
  "language_info": {
   "codemirror_mode": {
    "name": "ipython",
    "version": 3
   },
   "file_extension": ".py",
   "mimetype": "text/x-python",
   "name": "python",
   "nbconvert_exporter": "python",
   "pygments_lexer": "ipython3",
   "version": "3.9.1"
  }
 },
 "nbformat": 4,
 "nbformat_minor": 5
}
