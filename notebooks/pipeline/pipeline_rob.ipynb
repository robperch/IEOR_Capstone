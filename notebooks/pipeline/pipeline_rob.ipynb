{
 "cells": [
  {
   "cell_type": "markdown",
   "id": "b362e6fb-bbbb-4fe3-8093-ce5cb7011d38",
   "metadata": {},
   "source": [
    "# ML Pipeline testing\n",
    "---\n",
    "---"
   ]
  },
  {
   "cell_type": "markdown",
   "id": "271b4d9f-7fb1-4277-869c-7e1f224c0214",
   "metadata": {},
   "source": [
    "# Imports"
   ]
  },
  {
   "cell_type": "markdown",
   "id": "64661518-3244-423d-9d0a-169f8cd5881a",
   "metadata": {},
   "source": [
    "#### Standard library imports"
   ]
  },
  {
   "cell_type": "code",
   "execution_count": 1,
   "id": "84e8892a-724d-4120-9271-2e6cfa8efff5",
   "metadata": {},
   "outputs": [],
   "source": [
    "import sys\n",
    "import pickle\n",
    "import os\n",
    "\n",
    "sys.path.append(\"../../\")"
   ]
  },
  {
   "cell_type": "markdown",
   "id": "eb79d938-3938-4b57-a6dd-67218b812f55",
   "metadata": {},
   "source": [
    "#### Third party imports"
   ]
  },
  {
   "cell_type": "code",
   "execution_count": 2,
   "id": "8779b474-7192-447e-949e-abc2ff159ba2",
   "metadata": {},
   "outputs": [],
   "source": [
    "import pandas as pd\n",
    "pd.set_option('display.max_columns', 500)"
   ]
  },
  {
   "cell_type": "markdown",
   "id": "cacb339f-23dc-48ee-a599-b436d6dc7072",
   "metadata": {},
   "source": [
    "#### Local application imports"
   ]
  },
  {
   "cell_type": "code",
   "execution_count": 3,
   "id": "bee67dd7-757f-446b-8e4f-8b1099edf963",
   "metadata": {},
   "outputs": [],
   "source": [
    "%load_ext autoreload\n",
    "%autoreload 2\n",
    "\n",
    "from pkg_dir.config import *\n",
    "from pkg_dir.src.utils import *\n",
    "from pkg_dir.src.functions import *\n",
    "from pkg_dir.src.parameters import *"
   ]
  },
  {
   "cell_type": "markdown",
   "id": "809f9334-3df5-425c-bf6b-8fba14fc922a",
   "metadata": {
    "jp-MarkdownHeadingCollapsed": true
   },
   "source": [
    "# Extraction"
   ]
  },
  {
   "cell_type": "code",
   "execution_count": null,
   "id": "67825b10-c8ed-4121-a6df-0778b96d346a",
   "metadata": {},
   "outputs": [],
   "source": [
    "extract_pipeline_func()"
   ]
  },
  {
   "cell_type": "markdown",
   "id": "881aff9b-9335-4eb0-995b-7a1b7b5ffcb0",
   "metadata": {},
   "source": [
    "## Results"
   ]
  },
  {
   "cell_type": "code",
   "execution_count": null,
   "id": "941e50f0-4f9a-4d0d-86f5-3b92c6da48ce",
   "metadata": {},
   "outputs": [],
   "source": [
    "pkl_obj = pipeline_pkl_extract_path + \"/\" + pipeline_pkl_extract_name"
   ]
  },
  {
   "cell_type": "code",
   "execution_count": null,
   "id": "b22d72f3-ba8e-4af0-934f-e998709e9f9e",
   "metadata": {},
   "outputs": [],
   "source": [
    "with open(pkl_obj, 'rb') as obj_content:\n",
    "    dfx = pickle.load(obj_content)"
   ]
  },
  {
   "cell_type": "markdown",
   "id": "3c3a9a4c-28a2-4b2b-924b-17d159f6f884",
   "metadata": {
    "jp-MarkdownHeadingCollapsed": true
   },
   "source": [
    "# Transformation"
   ]
  },
  {
   "cell_type": "markdown",
   "id": "934793a6-aad5-4d47-a03e-cce6a82ba135",
   "metadata": {},
   "source": [
    "## Steps"
   ]
  },
  {
   "cell_type": "markdown",
   "id": "1de8fbdb-70a0-41d4-8979-4998b23ccc59",
   "metadata": {
    "jp-MarkdownHeadingCollapsed": true
   },
   "source": [
    "### Query"
   ]
  },
  {
   "cell_type": "code",
   "execution_count": null,
   "id": "47265878-e684-4c76-b20f-5973e8a41792",
   "metadata": {},
   "outputs": [],
   "source": [
    "sql_string = \"\"\"\n",
    "SELECT cita.citaid as appointment_id,\n",
    "       citafecha as appointment_date,\n",
    "       citahorad as appointment_start_time,\n",
    "       citahorah as appointment_end_time,\n",
    "       c.cestatusobs as metadata,\n",
    "       citaestado as appointment_status,\n",
    "       u.usuarionomfull as doctor,\n",
    "       e.especialidadnom as medical_specialty,\n",
    "       su.sucursalnom as clinic,\n",
    "       se.servicionom as service,\n",
    "       p.pacienteid as patient_id,\n",
    "       p.pacientefnac as patient_birth_date\n",
    "\n",
    "FROM cita\n",
    "\n",
    "\n",
    " INNER JOIN usuario u ON cita.citadoctorid = u.usuarioid\n",
    " INNER JOIN servicio se ON cita.servicioid = se.servicioid\n",
    " INNER JOIN especialidad e ON u.usuarioespecialidadid = e.especialidadid\n",
    " INNER JOIN sucursal su ON cita.citasucursalid = su.sucursalid\n",
    " LEFT JOIN paciente p ON cita.pacienteid = p.pacienteid\n",
    " INNER JOIN citaestatus c ON cita.citaid = c.citaid AND cita.citaanio = c.citaanio\n",
    "\n",
    "\n",
    "WHERE citafecha >= '2023-12-15'\n",
    "  AND citafecha <= '2023-12-16'\n",
    "\n",
    "ORDER BY\n",
    "    cita.citaid\n",
    "\n",
    ";\n",
    "\n",
    "\"\"\""
   ]
  },
  {
   "cell_type": "code",
   "execution_count": null,
   "id": "b7e12e30-81ea-4260-be27-8168b353b122",
   "metadata": {},
   "outputs": [],
   "source": [
    "dfx = sql_string_to_df('pc_db_prod', sql_string)\n",
    "\n",
    "dfx"
   ]
  },
  {
   "cell_type": "markdown",
   "id": "30c5dbc0-783d-4e6e-91d8-e015663f3fba",
   "metadata": {},
   "source": [
    "## Results"
   ]
  },
  {
   "cell_type": "code",
   "execution_count": null,
   "id": "5588950c-e6f3-4356-91dc-8d4ee29fd3d7",
   "metadata": {},
   "outputs": [],
   "source": [
    "transform_pipeline_func()"
   ]
  },
  {
   "cell_type": "markdown",
   "id": "e10d6b37-7db4-4d27-a3e0-1fd9d9a0c448",
   "metadata": {
    "jp-MarkdownHeadingCollapsed": true
   },
   "source": [
    "## Results"
   ]
  },
  {
   "cell_type": "code",
   "execution_count": null,
   "id": "d7cf1e8e-3b74-4d5a-a522-ba5686bfb001",
   "metadata": {},
   "outputs": [],
   "source": [
    "pkl_obj = pipeline_pkl_extract_path + \"/\" + pipeline_pkl_extract_name"
   ]
  },
  {
   "cell_type": "code",
   "execution_count": null,
   "id": "735d0897-903f-434c-95e4-cbd2f96011d0",
   "metadata": {},
   "outputs": [],
   "source": [
    "with open(pkl_obj, 'rb') as obj_content:\n",
    "    dfx = pickle.load(obj_content)"
   ]
  },
  {
   "cell_type": "code",
   "execution_count": null,
   "id": "4a39bd8a-3713-4201-a220-ac4a675713b8",
   "metadata": {},
   "outputs": [],
   "source": [
    "dfx"
   ]
  },
  {
   "cell_type": "markdown",
   "id": "9ec3ec3b-c900-4c78-b89e-d6294309dcc6",
   "metadata": {},
   "source": [
    "# Notes"
   ]
  },
  {
   "cell_type": "markdown",
   "id": "cad80bbd-6c42-444f-b7b0-8dc84a941c84",
   "metadata": {},
   "source": [
    "## All appointment status"
   ]
  },
  {
   "cell_type": "code",
   "execution_count": null,
   "id": "de5b1cfa-e5af-4f8a-9c5a-0e6ac694caaf",
   "metadata": {},
   "outputs": [],
   "source": [
    "sql_string = \"\"\"\n",
    "SELECT \n",
    "       DISTINCT citaestado as appointment_status\n",
    "\n",
    "FROM cita\n",
    "\n",
    "\n",
    "WHERE citafecha >= '2022-01-01'\n",
    "  AND citafecha <= '2023-12-31'\n",
    ";\n",
    "\"\"\""
   ]
  },
  {
   "cell_type": "code",
   "execution_count": null,
   "id": "8b95fa44-38cd-45bd-b7e0-361e3a8ccd35",
   "metadata": {},
   "outputs": [],
   "source": [
    "dfx = sql_string_to_df('pc_db_prod', sql_string)\n",
    "\n",
    "dfx"
   ]
  },
  {
   "cell_type": "markdown",
   "id": "432b3745-58f6-4bc8-be60-549daf33bff6",
   "metadata": {},
   "source": [
    "## Generate data schema"
   ]
  },
  {
   "cell_type": "code",
   "execution_count": null,
   "id": "a49eb3e0-0d66-40ca-8a9a-4e087f1a451a",
   "metadata": {},
   "outputs": [],
   "source": [
    "df_cols = dfx.columns.tolist()\n",
    "data_dicts_loc = 'pkg_dir/src/parameters/'\n",
    "data_dict_filename = 'data_schema.txt'"
   ]
  },
  {
   "cell_type": "code",
   "execution_count": null,
   "id": "b67d8278-1a3e-4183-8a4a-2dedc4c39773",
   "metadata": {},
   "outputs": [],
   "source": [
    "generate_data_dictionary(df_cols, data_dicts_loc, data_dict_filename)"
   ]
  },
  {
   "cell_type": "markdown",
   "id": "cb20679a-0ba8-4b24-a9fe-59efd25110ac",
   "metadata": {},
   "source": [
    "---"
   ]
  },
  {
   "cell_type": "markdown",
   "id": "c64e3412-94ba-4d74-aa3a-f771441d83d9",
   "metadata": {},
   "source": [
    "---"
   ]
  }
 ],
 "metadata": {
  "kernelspec": {
   "display_name": "Python 3 (ipykernel)",
   "language": "python",
   "name": "python3"
  },
  "language_info": {
   "codemirror_mode": {
    "name": "ipython",
    "version": 3
   },
   "file_extension": ".py",
   "mimetype": "text/x-python",
   "name": "python",
   "nbconvert_exporter": "python",
   "pygments_lexer": "ipython3",
   "version": "3.9.1"
  }
 },
 "nbformat": 4,
 "nbformat_minor": 5
}
