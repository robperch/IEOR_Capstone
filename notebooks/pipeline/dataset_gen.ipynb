{
 "cells": [
  {
   "cell_type": "markdown",
   "id": "b362e6fb-bbbb-4fe3-8093-ce5cb7011d38",
   "metadata": {},
   "source": [
    "# Generating dataset\n",
    "---\n",
    "---"
   ]
  },
  {
   "cell_type": "markdown",
   "id": "271b4d9f-7fb1-4277-869c-7e1f224c0214",
   "metadata": {},
   "source": [
    "# Imports"
   ]
  },
  {
   "cell_type": "markdown",
   "id": "64661518-3244-423d-9d0a-169f8cd5881a",
   "metadata": {},
   "source": [
    "#### Standard library imports"
   ]
  },
  {
   "cell_type": "code",
   "execution_count": null,
   "id": "84e8892a-724d-4120-9271-2e6cfa8efff5",
   "metadata": {},
   "outputs": [],
   "source": [
    "import sys\n",
    "import pickle\n",
    "import os\n",
    "\n",
    "sys.path.append(\"../../\")"
   ]
  },
  {
   "cell_type": "markdown",
   "id": "eb79d938-3938-4b57-a6dd-67218b812f55",
   "metadata": {},
   "source": [
    "#### Third party imports"
   ]
  },
  {
   "cell_type": "code",
   "execution_count": null,
   "id": "8779b474-7192-447e-949e-abc2ff159ba2",
   "metadata": {},
   "outputs": [],
   "source": [
    "import pandas as pd\n",
    "pd.set_option('display.max_columns', 500)\n",
    "\n",
    "import numpy as np"
   ]
  },
  {
   "cell_type": "markdown",
   "id": "cacb339f-23dc-48ee-a599-b436d6dc7072",
   "metadata": {},
   "source": [
    "#### Local application imports"
   ]
  },
  {
   "cell_type": "code",
   "execution_count": null,
   "id": "bee67dd7-757f-446b-8e4f-8b1099edf963",
   "metadata": {},
   "outputs": [],
   "source": [
    "%load_ext autoreload\n",
    "%autoreload 2\n",
    "\n",
    "from pkg_dir.config import *\n",
    "from pkg_dir.src.utils import *\n",
    "from pkg_dir.src.functions import *\n",
    "from pkg_dir.src.parameters import *"
   ]
  },
  {
   "cell_type": "markdown",
   "id": "63d31c53-a3b9-42c8-9b40-1c4b544071f4",
   "metadata": {},
   "source": [
    "# Base dataset with no metadata"
   ]
  },
  {
   "cell_type": "markdown",
   "id": "cff1da62-4491-45ff-a48b-d8c303d95cbf",
   "metadata": {
    "jp-MarkdownHeadingCollapsed": true
   },
   "source": [
    "### Query on database"
   ]
  },
  {
   "cell_type": "code",
   "execution_count": null,
   "id": "5e5af53e-4cb3-4e34-93f3-7023e4f842e5",
   "metadata": {},
   "outputs": [],
   "source": [
    "## Function parameters\n",
    "db_crds = 'pc_db_prod'\n",
    "query = '''\n",
    "SELECT cita.citaid as appointment_id,\n",
    "       citafecha as appointment_date,\n",
    "       citahorad as appointment_start_time,\n",
    "       citahorah as appointment_end_time,\n",
    "       citaestado as appointment_status,\n",
    "       citasubsecuente as recurring_patient,\n",
    "       u.usuarionomfull as doctor,\n",
    "       e.especialidadnom as medical_specialty,\n",
    "       su.sucursalnom as clinic,\n",
    "       se.servicionom as service,\n",
    "       p.pacienteid as patient_id,\n",
    "       p.pacientesexo as patient_sex,\n",
    "       p.pacientefnac as patient_birth_date\n",
    "\n",
    "FROM cita\n",
    "\n",
    " INNER JOIN usuario u ON cita.citadoctorid = u.usuarioid\n",
    " INNER JOIN servicio se ON cita.servicioid = se.servicioid\n",
    " INNER JOIN especialidad e ON u.usuarioespecialidadid = e.especialidadid\n",
    " INNER JOIN sucursal su ON cita.citasucursalid = su.sucursalid\n",
    " LEFT JOIN paciente p ON cita.pacienteid = p.pacienteid\n",
    "\n",
    "WHERE citafecha >= '2022-01-01'\n",
    "  AND citafecha <= '2023-12-31'\n",
    "\n",
    ";\n",
    "'''\n"
   ]
  },
  {
   "cell_type": "code",
   "execution_count": null,
   "id": "2bac9108-9e5b-425a-8bb4-b8337806525a",
   "metadata": {},
   "outputs": [],
   "source": [
    "dfx = sql_string_to_df(db_crds, query)\n",
    "dfx.columns = [\n",
    "    'appointment_id', \n",
    "    'appointment_date', \n",
    "    'appointment_start_time', \n",
    "    'appointment_end_time', \n",
    "    'appointment_status', \n",
    "    'recurring_patient', \n",
    "    'doctor', \n",
    "    'medical_specialty', \n",
    "    'clinic', \n",
    "    'service', \n",
    "    'patient_id', \n",
    "    'patient_sex', \n",
    "    'patient_birth_date'\n",
    "]"
   ]
  },
  {
   "cell_type": "markdown",
   "id": "c873fb45-d46c-4d15-90c1-159787aa259c",
   "metadata": {
    "jp-MarkdownHeadingCollapsed": true
   },
   "source": [
    "### Formatting date columns"
   ]
  },
  {
   "cell_type": "code",
   "execution_count": null,
   "id": "194e921a-73f0-45d6-8d67-1458960254c6",
   "metadata": {
    "scrolled": true
   },
   "outputs": [],
   "source": [
    "## Formatting appointment dates\n",
    "dfx['appointment_start'] = dfx['appointment_date'].astype('str') + ' ' + dfx['appointment_start_time']\n",
    "dfx['appointment_start'] = pd.to_datetime(dfx['appointment_start'], format='%Y-%m-%d %H:%M')\n",
    "\n",
    "dfx['appointment_end'] = dfx['appointment_date'].astype('str') + ' ' + dfx['appointment_end_time']\n",
    "dfx['appointment_end'] = pd.to_datetime(dfx['appointment_end'], format='%Y-%m-%d %H:%M', errors='coerce')"
   ]
  },
  {
   "cell_type": "code",
   "execution_count": null,
   "id": "29122f9b-92aa-473f-80b5-825b0fc9057c",
   "metadata": {},
   "outputs": [],
   "source": [
    "dfx = dfx[~dfx['appointment_end'].isna()].copy()"
   ]
  },
  {
   "cell_type": "code",
   "execution_count": null,
   "id": "0ed6ea78-8781-4518-b1e4-2f0abb5f9829",
   "metadata": {},
   "outputs": [],
   "source": [
    "## Appointment weekday\n",
    "dfx['appointment_weekday'] = dfx['appointment_start'].dt.weekday"
   ]
  },
  {
   "cell_type": "code",
   "execution_count": null,
   "id": "6989e13c-7eb9-4342-94a3-bd689bba29e8",
   "metadata": {},
   "outputs": [],
   "source": [
    "## Appointment duration\n",
    "dfx['appointment_dur_min'] = dfx['appointment_end'] - dfx['appointment_start']\n",
    "dfx['appointment_dur_min'] = dfx['appointment_dur_min'].dt.total_seconds() / 60"
   ]
  },
  {
   "cell_type": "markdown",
   "id": "6daecc0a-218e-46e4-bc3e-4abaa3170465",
   "metadata": {
    "jp-MarkdownHeadingCollapsed": true
   },
   "source": [
    "### Age of patients"
   ]
  },
  {
   "cell_type": "code",
   "execution_count": null,
   "id": "22809947-dbff-43d7-9779-df703db242be",
   "metadata": {},
   "outputs": [],
   "source": [
    "## Numerical age\n",
    "dfx['patient_age'] = dfx['patient_birth_date'].fillna('2025')\n",
    "dfx['patient_age'] = dfx['patient_age'].apply(lambda x: str(x)[:4])\n",
    "dfx['patient_age'] = 2024 - dfx['patient_age'].astype('float')\n",
    "dfx['patient_age'] = dfx['patient_age'].apply(lambda x: np.nan if (x <= 0 or x >=110) else x)"
   ]
  },
  {
   "cell_type": "markdown",
   "id": "15caf196-2256-443f-a358-40c65eaee1be",
   "metadata": {
    "jp-MarkdownHeadingCollapsed": true
   },
   "source": [
    "### Patient sex clean up"
   ]
  },
  {
   "cell_type": "code",
   "execution_count": null,
   "id": "4d4b2837-cc8d-4cb6-9035-cdd4c8c50d69",
   "metadata": {},
   "outputs": [],
   "source": [
    "dfx['patient_sex'] = dfx['patient_sex'].replace({' ': None})"
   ]
  },
  {
   "cell_type": "code",
   "execution_count": null,
   "id": "fabaff59-735c-428d-8b21-0f0e787dc39c",
   "metadata": {},
   "outputs": [],
   "source": [
    "dfx['patient_sex2'].unique()"
   ]
  },
  {
   "cell_type": "markdown",
   "id": "ea1cc142-98bf-43c7-88ad-760ec2e29e83",
   "metadata": {
    "jp-MarkdownHeadingCollapsed": true
   },
   "source": [
    "### Recurring patient field"
   ]
  },
  {
   "cell_type": "code",
   "execution_count": null,
   "id": "a756ca69-d621-4bc6-ad71-5b53a89f9985",
   "metadata": {},
   "outputs": [],
   "source": [
    "dfx['recurring_patient'] = dfx['recurring_patient'].replace({' ': None})"
   ]
  },
  {
   "cell_type": "code",
   "execution_count": null,
   "id": "ad26b74d-b284-4515-9176-47c60bda5f25",
   "metadata": {},
   "outputs": [],
   "source": [
    "dfx['recurring_patient'] = dfx['recurring_patient'].map(\n",
    "    {\n",
    "        'P': 'first',\n",
    "        'S': 'recurrent',\n",
    "    }\n",
    ")"
   ]
  },
  {
   "cell_type": "code",
   "execution_count": null,
   "id": "256e6133-16a2-491f-bbaf-86f0b72b6fb2",
   "metadata": {},
   "outputs": [],
   "source": [
    "dfx['recurring_patient'].unique()"
   ]
  },
  {
   "cell_type": "markdown",
   "id": "16322205-4215-4811-a555-29f42e806afd",
   "metadata": {
    "jp-MarkdownHeadingCollapsed": true
   },
   "source": [
    "### Appointment status simplification"
   ]
  },
  {
   "cell_type": "code",
   "execution_count": null,
   "id": "f27fc9b8-964d-442b-96dd-34996a7e8efd",
   "metadata": {},
   "outputs": [],
   "source": [
    "## Reference to simplify labels in appointment status\n",
    "values_map = {\n",
    "\n",
    "    ## Completed\n",
    "    'COMPLETADA': 'completed',\n",
    "    'SALA_ESPERA': 'completed',\n",
    "    'CONSULTA': 'completed',\n",
    "    'CONFIRMADO_PAGO': 'completed',\n",
    "\n",
    "    ## No shows\n",
    "    'NO_PRESENTO': 'no_show',\n",
    "    'MENSAJE_DEJADO': 'no_show',\n",
    "    'NO_CONFIRMADO': 'no_show',\n",
    "    'CONFIRMADO': 'no_show',\n",
    "    'LLEGA_TARDE_ESPERA': 'no_show',\n",
    "    'REAGENDAR': 'no_show',\n",
    "    'TRIAGE': 'no_show',\n",
    "    'TRIAGE_COMPLETO': 'no_show',\n",
    "    'LISTA_ESPERA': 'no_show',\n",
    "    'VALIDA_DATOS': 'no_show',\n",
    "\n",
    "    ## Unused\n",
    "    'DISPONIBLE': 'unused',\n",
    "\n",
    "    ## Blocked\n",
    "    'BLOQUEADO': 'blocked',\n",
    "\n",
    "    ## Canceled\n",
    "    'CANCELA_PACIENTE': 'cancel_patient',\n",
    "    'CANCELA_EMPLEADO': 'cancel_employee',\n",
    "    \n",
    "    \n",
    "}"
   ]
  },
  {
   "cell_type": "code",
   "execution_count": null,
   "id": "f17a27ce-9132-4ac9-8f5a-e96129e33d70",
   "metadata": {},
   "outputs": [],
   "source": [
    "## Mapping values according to reference\n",
    "dfx['appointment_status_simplified'] = dfx['appointment_status'].map(values_map).fillna(dfx['appointment_status'])"
   ]
  },
  {
   "cell_type": "markdown",
   "id": "8b21c8a1-361c-43d0-a6bb-bdb126cb7554",
   "metadata": {
    "jp-MarkdownHeadingCollapsed": true
   },
   "source": [
    "### Formatting data"
   ]
  },
  {
   "cell_type": "code",
   "execution_count": null,
   "id": "6c3c2f29-9213-4f5b-9cb2-ce6207498355",
   "metadata": {},
   "outputs": [],
   "source": [
    "dfx.columns.tolist()"
   ]
  },
  {
   "cell_type": "code",
   "execution_count": null,
   "id": "c90342fb-9f78-42f6-89d3-0ad2d09752b8",
   "metadata": {},
   "outputs": [],
   "source": [
    "## Reordering columns\n",
    "rc = [\n",
    " ## Appointment features\n",
    " 'appointment_id',\n",
    " 'appointment_weekday',\n",
    " 'appointment_start',\n",
    " 'appointment_end',\n",
    " 'appointment_dur_min',\n",
    " 'recurring_patient',\n",
    " 'appointment_status_simplified',\n",
    " 'clinic',\n",
    " ## Patient info\n",
    " 'patient_age',\n",
    " 'patient_sex',\n",
    " ## Medical info\n",
    " 'doctor',\n",
    " 'medical_specialty',\n",
    "]"
   ]
  },
  {
   "cell_type": "code",
   "execution_count": null,
   "id": "b6aae274-5d6f-4935-84ce-e040da6e47ea",
   "metadata": {
    "scrolled": true
   },
   "outputs": [],
   "source": [
    "dfx = dfx.loc[:, rc].copy()"
   ]
  },
  {
   "cell_type": "markdown",
   "id": "c9711f7a-96fb-4a32-af0c-b70921d41edb",
   "metadata": {
    "jp-MarkdownHeadingCollapsed": true
   },
   "source": [
    "### Saving/loading data"
   ]
  },
  {
   "cell_type": "code",
   "execution_count": null,
   "id": "852cfe30-384d-4a7d-885f-155e18025d74",
   "metadata": {},
   "outputs": [],
   "source": [
    "## Saving df as pickle and storing it locally\n",
    "path = '../../pkg_dir/data/pickles/robs'\n",
    "name = 'appts_extract.pkl'\n",
    "\n",
    "pickle.dump(\n",
    "    dfx,\n",
    "    open(\n",
    "        os.path.join(path, name),\n",
    "        'wb'\n",
    "    )\n",
    ")"
   ]
  },
  {
   "cell_type": "code",
   "execution_count": null,
   "id": "659a7393-feed-4850-8bf7-52b19bfc9b02",
   "metadata": {},
   "outputs": [],
   "source": [
    "## Params\n",
    "path = '../../pkg_dir/data/pickles/robs'\n",
    "name = 'appts_extract.pkl'\n",
    "\n",
    "\n",
    "## Reading extract object saved as pickle locally\n",
    "pkl_obj = path + \"/\" + name\n",
    "\n",
    "with open(pkl_obj, 'rb') as obj_content:\n",
    "    dfx = pickle.load(obj_content)"
   ]
  },
  {
   "cell_type": "code",
   "execution_count": null,
   "id": "d047cabf-d5ea-45ea-843d-f1a24c9857db",
   "metadata": {},
   "outputs": [],
   "source": [
    "## Saving as csv\n",
    "dataset.to_csv('../../pkg_dir/data/pickles/robs/dataset.csv')"
   ]
  },
  {
   "cell_type": "markdown",
   "id": "3cd90d1b-595e-4d5e-a95d-d7c541cc19a9",
   "metadata": {
    "jp-MarkdownHeadingCollapsed": true
   },
   "source": [
    "# Metadata actions"
   ]
  },
  {
   "cell_type": "markdown",
   "id": "86526297-8c70-4fe5-bc4f-86dee3f47e8f",
   "metadata": {
    "jp-MarkdownHeadingCollapsed": true
   },
   "source": [
    "### Extracting from SQL"
   ]
  },
  {
   "cell_type": "code",
   "execution_count": null,
   "id": "06369279-c752-4ea5-85da-cc851dc2682b",
   "metadata": {},
   "outputs": [],
   "source": [
    "sql_string = \"\"\"\n",
    "SELECT cita.citaid as appointment_id,\n",
    "       c.cestatusobs as metadata,\n",
    "       SUBSTRING(c.cestatusobs, '^[^ ]*') as metadata_usr,\n",
    "       SUBSTRING(c.cestatusobs, '\\((.+?)\\)') as metadata_datetime,\n",
    "       SUBSTRING(c.cestatusobs, ' :(.*?)  ') as metadata_action,\n",
    "       SUBSTRING(c.cestatusobs, ' :(.*)') as metadata_action_full\n",
    "\n",
    "FROM cita\n",
    "\n",
    " INNER JOIN citaestatus c ON cita.citaid = c.citaid AND cita.citaanio = c.citaanio\n",
    "\n",
    "\n",
    "WHERE citafecha >= '2022-01-01'\n",
    "  AND citafecha <= '2023-12-31'\n",
    "\n",
    ";\n",
    "\"\"\""
   ]
  },
  {
   "cell_type": "code",
   "execution_count": null,
   "id": "164b3039-e10b-472e-bf00-dac2fa178383",
   "metadata": {
    "scrolled": true
   },
   "outputs": [],
   "source": [
    "dfx = sql_string_to_df('pc_db_prod', sql_string)"
   ]
  },
  {
   "cell_type": "code",
   "execution_count": null,
   "id": "9bcbb25f-c701-4c21-b3b6-49f68437e2bf",
   "metadata": {
    "scrolled": true
   },
   "outputs": [],
   "source": [
    "dfx"
   ]
  },
  {
   "cell_type": "code",
   "execution_count": null,
   "id": "9f9f8e0a-8630-442d-836a-3939cb364454",
   "metadata": {},
   "outputs": [],
   "source": [
    "dfx.rename(\n",
    "    columns={\n",
    "        0: \"appointment_id\",\n",
    "        1: \"metadata_full\",\n",
    "        2: \"user\",\n",
    "        3: \"date\",\n",
    "        4: \"action\",\n",
    "        5: \"action_full\",\n",
    "    }, \n",
    "    inplace=True\n",
    ")"
   ]
  },
  {
   "cell_type": "markdown",
   "id": "689c6bde-62a6-408e-b202-b945b75e8375",
   "metadata": {
    "jp-MarkdownHeadingCollapsed": true
   },
   "source": [
    "### Pickle save/load"
   ]
  },
  {
   "cell_type": "code",
   "execution_count": null,
   "id": "362c921c-4ac0-4a44-a091-1b4804c1da3b",
   "metadata": {},
   "outputs": [],
   "source": [
    "## Saving df as pickle and storing it locally\n",
    "path = '../../pkg_dir/data/pickles/robs'\n",
    "name = 'metadata_raw.pkl'\n",
    "\n",
    "pickle.dump(\n",
    "    dfx,\n",
    "    open(\n",
    "        os.path.join(path, name),\n",
    "        'wb'\n",
    "    )\n",
    ")"
   ]
  },
  {
   "cell_type": "code",
   "execution_count": null,
   "id": "68d84509-bead-4c93-94a5-38e04602cbd6",
   "metadata": {},
   "outputs": [],
   "source": [
    "## Saving df as pickle and storing it locally\n",
    "path = '../../pkg_dir/data/pickles/robs'\n",
    "name = 'metadata_raw.pkl'\n",
    "\n",
    "\n",
    "## Reading extract object saved as pickle locally\n",
    "pkl_obj = path + \"/\" + name\n",
    "\n",
    "with open(pkl_obj, 'rb') as obj_content:\n",
    "    dfm = pickle.load(obj_content)"
   ]
  },
  {
   "cell_type": "markdown",
   "id": "474b676e-3df2-4390-8315-ed3f04ce3d76",
   "metadata": {
    "jp-MarkdownHeadingCollapsed": true
   },
   "source": [
    "### Cleaning actions fields"
   ]
  },
  {
   "cell_type": "code",
   "execution_count": null,
   "id": "9441dd89-d046-4d33-b384-1de16c10fbea",
   "metadata": {},
   "outputs": [],
   "source": [
    "dfz = dfx.copy()"
   ]
  },
  {
   "cell_type": "code",
   "execution_count": null,
   "id": "1c59dd94-0c81-4cef-8af4-2eff6642ee75",
   "metadata": {},
   "outputs": [],
   "source": [
    "## Dummy col\n",
    "dfz['action_clean'] = 'irrelevant'"
   ]
  },
  {
   "cell_type": "code",
   "execution_count": null,
   "id": "1c0d42c6-59ce-4f36-94df-47e9d37f6ca4",
   "metadata": {},
   "outputs": [],
   "source": [
    "### Confirmado\n",
    "mr1 = dfz['action_full'].str.contains('Confirmado')\n",
    "\n",
    "dfz.loc[mr1, 'action_clean'] = 'confirmed'"
   ]
  },
  {
   "cell_type": "code",
   "execution_count": null,
   "id": "54b26b40-15d8-41bf-a307-0bdc60dfe343",
   "metadata": {},
   "outputs": [],
   "source": [
    "### Creado\n",
    "mr1 = dfz['action_full'].str.contains('Creado')\n",
    "\n",
    "dfz.loc[mr1, 'action_clean'] = 'created'"
   ]
  },
  {
   "cell_type": "raw",
   "id": "7d85a260-1366-4b58-921c-bafca0e03004",
   "metadata": {},
   "source": [
    "### No confirmado\n",
    "mr1 = dfz['action_full'].str.contains('No confirmado')\n",
    "\n",
    "dfz.loc[mr1, 'action_clean'] = 'No confirmado'"
   ]
  },
  {
   "cell_type": "code",
   "execution_count": null,
   "id": "ee42c75f-10c7-4177-a351-a55fc60f3a92",
   "metadata": {},
   "outputs": [],
   "source": [
    "### Sala espera\n",
    "mr1 = dfz['action_full'].str.contains('En sala de espera')\n",
    "\n",
    "dfz.loc[mr1, 'action_clean'] = 'in_waiting_room'"
   ]
  },
  {
   "cell_type": "code",
   "execution_count": null,
   "id": "241b1596-8eea-4745-b578-eee15ba542db",
   "metadata": {},
   "outputs": [],
   "source": [
    "### Completado\n",
    "mr1 = dfz['action_full'].str.contains('Completado')\n",
    "mr2 = dfz['action_full'].str.contains('Completada')\n",
    "mrs = mr1 | mr2\n",
    "\n",
    "dfz.loc[mrs, 'action_clean'] = 'completed'"
   ]
  },
  {
   "cell_type": "code",
   "execution_count": null,
   "id": "75b5b335-dbac-45f8-87ca-153f7793822f",
   "metadata": {},
   "outputs": [],
   "source": [
    "### En consulta\n",
    "mr1 = dfz['action_full'].str.contains('En consulta')\n",
    "\n",
    "dfz.loc[mr1, 'action_clean'] = 'with_doctor'"
   ]
  },
  {
   "cell_type": "code",
   "execution_count": null,
   "id": "df5d998a-c22e-4962-840e-a99846cebf95",
   "metadata": {},
   "outputs": [],
   "source": [
    "### No se presentó\n",
    "mr1 = dfz['action_full'].str.contains('No se presentó')\n",
    "\n",
    "dfz.loc[mr1, 'action_clean'] = 'no_show'"
   ]
  },
  {
   "cell_type": "code",
   "execution_count": null,
   "id": "b78b5f0c-d3d6-48ab-8a31-1fa0e392efc9",
   "metadata": {},
   "outputs": [],
   "source": [
    "### Cancelada por el paciente\n",
    "mr1 = dfz['action_full'].str.contains('Cancelada por el paciente')\n",
    "\n",
    "dfz.loc[mr1, 'action_clean'] = 'canceled_by_patient'"
   ]
  },
  {
   "cell_type": "code",
   "execution_count": null,
   "id": "fe336226-d1d4-4610-a061-cae608812832",
   "metadata": {},
   "outputs": [],
   "source": [
    "### Cancelada por empledo\n",
    "mr1 = dfz['action_full'].str.contains('Cancelada por empledo')\n",
    "\n",
    "dfz.loc[mr1, 'action_clean'] = 'canceled_by_employee'"
   ]
  },
  {
   "cell_type": "code",
   "execution_count": null,
   "id": "b66392f3-efee-42e2-8825-049d45c58251",
   "metadata": {},
   "outputs": [],
   "source": [
    "### Se actualiza la fecha/hora\n",
    "mr1 = dfz['action_full'].str.contains('Se actualiza la fecha/hora')\n",
    "\n",
    "dfz.loc[mr1, 'action_clean'] = 'update_date_hour'"
   ]
  },
  {
   "cell_type": "code",
   "execution_count": null,
   "id": "db298e7b-874c-4995-a228-53c944bf40d4",
   "metadata": {},
   "outputs": [],
   "source": [
    "### Disponible\n",
    "mr1 = dfz['action_full'].str.contains('Disponible')\n",
    "\n",
    "dfz.loc[mr1, 'action_clean'] = 'available'"
   ]
  },
  {
   "cell_type": "code",
   "execution_count": null,
   "id": "ccb679f8-e535-4eec-ac6e-f72258b6f4a7",
   "metadata": {},
   "outputs": [],
   "source": [
    "### Mensaje dejado\n",
    "mr1 = dfz['action_full'].str.contains('Mensaje dejado')\n",
    "\n",
    "dfz.loc[mr1, 'action_clean'] = 'message_left'"
   ]
  },
  {
   "cell_type": "markdown",
   "id": "ed302e6c-5803-434f-b509-76fcf414872e",
   "metadata": {
    "jp-MarkdownHeadingCollapsed": true
   },
   "source": [
    "### Formatting and adjusting"
   ]
  },
  {
   "cell_type": "code",
   "execution_count": null,
   "id": "4ebae93c-1298-4bbd-b11a-93036f1f97c6",
   "metadata": {},
   "outputs": [],
   "source": [
    "dfz[dfz['action_clean'] == 'completed']"
   ]
  },
  {
   "cell_type": "code",
   "execution_count": null,
   "id": "eacbc8ec-4ebf-4986-aa3d-239d49085c42",
   "metadata": {},
   "outputs": [],
   "source": [
    "## Dropping irrelevant columns\n",
    "mr1 = dfz['action_clean'] != 'irrelevant'\n",
    "rc = ['appointment_id', 'user', 'date', 'action_clean']\n",
    "\n",
    "dfz = dfz.loc[mr1, rc].copy()"
   ]
  },
  {
   "cell_type": "code",
   "execution_count": null,
   "id": "c8a7b06f-cc97-44c1-a242-f297416cdc6c",
   "metadata": {},
   "outputs": [],
   "source": [
    "## Adjusting dateformat\n",
    "dfz['date'] = pd.to_datetime(dfz['date'], format='%d/%m/%Y %H:%M:%S', errors='coerce')\n",
    "\n",
    "dfz = dfz.loc[~dfz['date'].isna(), :].copy()"
   ]
  },
  {
   "cell_type": "code",
   "execution_count": null,
   "id": "06aecfee-4772-4053-8fc8-8e8633d92160",
   "metadata": {},
   "outputs": [],
   "source": [
    "## Sorting values \n",
    "dfz.sort_values(by=['appointment_id', 'action_clean', 'date'], inplace=True, ascending=False)"
   ]
  },
  {
   "cell_type": "code",
   "execution_count": null,
   "id": "30d42ac6-7593-4df6-8580-879a363cd495",
   "metadata": {},
   "outputs": [],
   "source": [
    "## Keeping latest \n",
    "dfz.drop_duplicates(keep='first', subset=['appointment_id', 'action_clean'], inplace=True)"
   ]
  },
  {
   "cell_type": "markdown",
   "id": "c6ebd6ff-99f3-4891-ad81-3f8823c7a250",
   "metadata": {
    "jp-MarkdownHeadingCollapsed": true
   },
   "source": [
    "### Pivot"
   ]
  },
  {
   "cell_type": "code",
   "execution_count": null,
   "id": "35566c78-cb7c-4b44-ba7f-125e16bb7451",
   "metadata": {},
   "outputs": [],
   "source": [
    "dfp = dfz.pivot(index='appointment_id', columns='action_clean', values=['user', 'date'])"
   ]
  },
  {
   "cell_type": "code",
   "execution_count": null,
   "id": "3d0d427a-f7f1-4c36-8a24-15af9b48f7b2",
   "metadata": {},
   "outputs": [],
   "source": [
    "dfp.columns = ['meta__' + col[1] + '_$' + col[0] for col in dfp.columns]"
   ]
  },
  {
   "cell_type": "code",
   "execution_count": null,
   "id": "74862bee-8442-466f-b0ce-329d0324f3fa",
   "metadata": {},
   "outputs": [],
   "source": [
    "cols = dfp.columns.tolist()\n",
    "cols.sort()\n",
    "\n",
    "dfp = dfp.loc[:, cols].copy()"
   ]
  },
  {
   "cell_type": "markdown",
   "id": "e2a0f7ff-eab3-43d4-a401-9687008222af",
   "metadata": {},
   "source": [
    "### Pickle save/load"
   ]
  },
  {
   "cell_type": "code",
   "execution_count": null,
   "id": "8418ac80-c966-41b5-bab2-419d2eb5b4ee",
   "metadata": {},
   "outputs": [],
   "source": [
    "## Saving df as pickle and storing it locally\n",
    "path = '../../pkg_dir/data/pickles/robs'\n",
    "name = 'pivot_df_v2.pkl'\n",
    "\n",
    "pickle.dump(\n",
    "    dfp,\n",
    "    open(\n",
    "        os.path.join(path, name),\n",
    "        'wb'\n",
    "    )\n",
    ")"
   ]
  },
  {
   "cell_type": "code",
   "execution_count": null,
   "id": "48832c15-c0b1-48b3-af2f-ac6caa5f1cff",
   "metadata": {},
   "outputs": [],
   "source": [
    "## Params\n",
    "path = '../../pkg_dir/data/pickles/robs'\n",
    "name = 'pivot_df_v2.pkl'\n",
    "\n",
    "\n",
    "## Reading extract object saved as pickle locally\n",
    "pkl_obj = path + \"/\" + name\n",
    "\n",
    "with open(pkl_obj, 'rb') as obj_content:\n",
    "    dfp = pickle.load(obj_content)"
   ]
  },
  {
   "cell_type": "markdown",
   "id": "aab13844-e796-4240-bc9e-67d9f1c170c6",
   "metadata": {
    "jp-MarkdownHeadingCollapsed": true
   },
   "source": [
    "# Merging metadata + new features"
   ]
  },
  {
   "cell_type": "markdown",
   "id": "b7b3ee9f-0708-4494-8789-00cf08fad042",
   "metadata": {},
   "source": [
    "### Merging"
   ]
  },
  {
   "cell_type": "code",
   "execution_count": null,
   "id": "15e4cd2e-136c-4b85-8599-78d8e47f6d15",
   "metadata": {},
   "outputs": [],
   "source": [
    "dfp.reset_index(inplace = True)"
   ]
  },
  {
   "cell_type": "code",
   "execution_count": null,
   "id": "deab8cab-bec3-4948-808c-3d9e1eb3c214",
   "metadata": {},
   "outputs": [],
   "source": [
    "dataset = pd.merge(dfx, dfp, on='appointment_id', how='left')"
   ]
  },
  {
   "cell_type": "markdown",
   "id": "346b9053-8e99-4e08-bc27-cad7287800b6",
   "metadata": {},
   "source": [
    "### Creation to appointment start"
   ]
  },
  {
   "cell_type": "code",
   "execution_count": null,
   "id": "56d77f3b-6ab4-4cc1-b0a2-678455229042",
   "metadata": {},
   "outputs": [],
   "source": [
    "## Appointment duration\n",
    "dataset['creation_to_start_hrs'] = dataset['appointment_start'] - dataset['meta__created_$date']\n",
    "dataset['creation_to_start_hrs'] = dataset['creation_to_start_hrs'].dt.total_seconds() / (60*60)\n",
    "dataset['creation_to_start_hrs'] = dataset['creation_to_start_hrs'].round(2)"
   ]
  },
  {
   "cell_type": "markdown",
   "id": "f208cc73-4775-45ee-b337-e18aefbff74a",
   "metadata": {},
   "source": [
    "### Confirmation to appointment start"
   ]
  },
  {
   "cell_type": "code",
   "execution_count": null,
   "id": "8b55f010-6f40-42e8-a321-cb8ed3f2ec67",
   "metadata": {},
   "outputs": [],
   "source": [
    "## Appointment duration\n",
    "dataset['confirm_to_start_hrs'] = dataset['appointment_start'] - dataset['meta__confirmed_$date']\n",
    "dataset['confirm_to_start_hrs'] = dataset['confirm_to_start_hrs'].dt.total_seconds() / (60*60)\n",
    "dataset['confirm_to_start_hrs'] = dataset['confirm_to_start_hrs'].round(2)"
   ]
  },
  {
   "cell_type": "code",
   "execution_count": null,
   "id": "36709279-825d-4859-8cf1-3806ce4a876c",
   "metadata": {},
   "outputs": [],
   "source": [
    "## Confirmation tag\n",
    "dataset['patient_confirm'] = 0\n",
    "dataset.loc[dataset['confirm_to_start_hrs'].notnull(), 'patient_confirm'] = 1"
   ]
  },
  {
   "cell_type": "markdown",
   "id": "f5c6be3f-1bfc-4ec1-b123-d80ebd3aac0b",
   "metadata": {},
   "source": [
    "### Source of appointment"
   ]
  },
  {
   "cell_type": "code",
   "execution_count": null,
   "id": "f9cd1786-7cc3-4b48-9710-120f1df433ff",
   "metadata": {},
   "outputs": [],
   "source": [
    "## Appointment duration\n",
    "dataset['appointment_source'] = dataset['meta__created_$user'].apply(lambda x: 'online' if x == 'citas.online' else 'phone')"
   ]
  },
  {
   "cell_type": "markdown",
   "id": "150546d4-dba4-4229-9b12-672e918bfc99",
   "metadata": {},
   "source": [
    "### Appointment moved"
   ]
  },
  {
   "cell_type": "code",
   "execution_count": null,
   "id": "a2cc227a-67fd-4efc-b518-4f51b3241140",
   "metadata": {},
   "outputs": [],
   "source": [
    "## Appointment duration\n",
    "dataset['appointment_date_update'] = 'no_update'\n",
    "dataset.loc[dataset['meta__update_date_hour_$user'].notnull(), 'appointment_date_update'] = 'update'"
   ]
  },
  {
   "cell_type": "markdown",
   "id": "31d6d6bc-d6d7-44b6-9b65-7ad075d61fa1",
   "metadata": {},
   "source": [
    "### Confirmation message sent"
   ]
  },
  {
   "cell_type": "code",
   "execution_count": null,
   "id": "c851d51e-4081-4788-9361-c47cdaeb5268",
   "metadata": {},
   "outputs": [],
   "source": [
    "## message for confirmation\n",
    "dataset['confirm_request_msg'] = 0\n",
    "dataset.loc[dataset['meta__message_left_$user'].notnull(), 'confirm_request_msg'] = 1"
   ]
  },
  {
   "cell_type": "code",
   "execution_count": null,
   "id": "916753de-d7b5-4e43-b4a2-a3771ef36f7a",
   "metadata": {},
   "outputs": [],
   "source": [
    "dataset['confirm_request_msg'].value_counts()"
   ]
  },
  {
   "cell_type": "markdown",
   "id": "750a3cb8-35cd-4247-9b63-c7da4b1ad302",
   "metadata": {},
   "source": [
    "### Select relevant columns"
   ]
  },
  {
   "cell_type": "code",
   "execution_count": null,
   "id": "f4838980-87da-41c4-8a42-82659e0c5b70",
   "metadata": {},
   "outputs": [],
   "source": [
    "dataset.columns.tolist()"
   ]
  },
  {
   "cell_type": "code",
   "execution_count": null,
   "id": "6339fd4e-1e6b-405f-920d-96e3c9529939",
   "metadata": {},
   "outputs": [],
   "source": [
    "## Reordering columns\n",
    "rc = [\n",
    " ## Appointment features\n",
    " 'appointment_id',\n",
    " 'appointment_weekday',\n",
    " 'appointment_start',\n",
    " 'appointment_dur_min',\n",
    " 'recurring_patient',\n",
    " 'creation_to_start_hrs',\n",
    " 'confirm_request_msg',\n",
    " 'patient_confirm',\n",
    " 'confirm_to_start_hrs',\n",
    " 'clinic',\n",
    " 'appointment_source',\n",
    " 'appointment_date_update',\n",
    " ## Patient info\n",
    " 'patient_age',\n",
    " 'patient_sex',\n",
    " ## Medical info\n",
    " 'doctor',\n",
    " 'medical_specialty',\n",
    " ## Label\n",
    " 'appointment_status_simplified',\n",
    "]"
   ]
  },
  {
   "cell_type": "code",
   "execution_count": null,
   "id": "a6aea04f-6fa3-4132-9980-4fc4607cd58b",
   "metadata": {
    "scrolled": true
   },
   "outputs": [],
   "source": [
    "dataset = dataset.loc[:, rc].copy()"
   ]
  },
  {
   "cell_type": "markdown",
   "id": "7f2d0cea-d01e-4576-983a-054683ed211a",
   "metadata": {
    "jp-MarkdownHeadingCollapsed": true
   },
   "source": [
    "---\n",
    "# Patient history"
   ]
  },
  {
   "cell_type": "code",
   "execution_count": null,
   "id": "b0ec3243-56c0-44fd-9a30-523be3a3214e",
   "metadata": {},
   "outputs": [],
   "source": [
    "## Params\n",
    "path = '../../pkg_dir/data/pickles/robs'\n",
    "name = 'appts_extract.pkl'\n",
    "\n",
    "\n",
    "## Reading extract object saved as pickle locally\n",
    "pkl_obj = path + \"/\" + name\n",
    "\n",
    "with open(pkl_obj, 'rb') as obj_content:\n",
    "    dfx = pickle.load(obj_content)"
   ]
  },
  {
   "cell_type": "markdown",
   "id": "a6b01b25-3e3a-46c4-b5e7-a2e062267295",
   "metadata": {
    "jp-MarkdownHeadingCollapsed": true
   },
   "source": [
    "### Relevant data"
   ]
  },
  {
   "cell_type": "code",
   "execution_count": null,
   "id": "e0a9cb9d-da8e-4f45-956f-b0ffd95d3b4c",
   "metadata": {},
   "outputs": [],
   "source": [
    "dfx['appointment_status_simplified'].unique()"
   ]
  },
  {
   "cell_type": "code",
   "execution_count": null,
   "id": "477aceff-c6b3-4e67-b288-25713c032431",
   "metadata": {},
   "outputs": [],
   "source": [
    "mr1 = dfx['appointment_status_simplified'].isin(\n",
    "    [\n",
    "        'completed',\n",
    "        'no_show'\n",
    "    ]\n",
    ")\n",
    "mr2 = dfx['patient_id'].notnull()\n",
    "mrs = mr1 & mr2\n",
    "\n",
    "rc = [\n",
    "    'appointment_id',\n",
    "    'patient_id',\n",
    "    'appointment_status_simplified',\n",
    "]"
   ]
  },
  {
   "cell_type": "code",
   "execution_count": null,
   "id": "ddf4f152-a500-4cca-bbfd-af02e41a5d14",
   "metadata": {},
   "outputs": [],
   "source": []
  },
  {
   "cell_type": "markdown",
   "id": "ab804de0-1bad-41d2-af76-362c9162c310",
   "metadata": {},
   "source": [
    "### Grouping"
   ]
  },
  {
   "cell_type": "code",
   "execution_count": null,
   "id": "dbb16dd4-ddb2-4faf-89f8-8b910f378438",
   "metadata": {},
   "outputs": [],
   "source": [
    "dfx"
   ]
  },
  {
   "cell_type": "markdown",
   "id": "96fd4a83-56fa-4195-a499-e2862dad5398",
   "metadata": {},
   "source": [
    "---\n",
    "# Final dataset"
   ]
  },
  {
   "cell_type": "code",
   "execution_count": null,
   "id": "fd601fc3-3df8-429c-8c23-eca2a0272766",
   "metadata": {},
   "outputs": [],
   "source": [
    "## Saving df as pickle and storing it locally\n",
    "path = '../../pkg_dir/data/pickles/robs'\n",
    "name = 'dataset.pkl'\n",
    "\n",
    "pickle.dump(\n",
    "    dataset,\n",
    "    open(\n",
    "        os.path.join(path, name),\n",
    "        'wb'\n",
    "    )\n",
    ")"
   ]
  },
  {
   "cell_type": "code",
   "execution_count": null,
   "id": "5fc34c2e-483f-407b-a4bb-471e46170974",
   "metadata": {},
   "outputs": [],
   "source": [
    "## Params\n",
    "path = '../../pkg_dir/data/pickles/robs'\n",
    "name = 'dataset.pkl'\n",
    "\n",
    "\n",
    "## Reading extract object saved as pickle locally\n",
    "pkl_obj = path + \"/\" + name\n",
    "\n",
    "with open(pkl_obj, 'rb') as obj_content:\n",
    "    dataset = pickle.load(obj_content)"
   ]
  },
  {
   "cell_type": "markdown",
   "id": "223639a9-6dfc-4c38-a5a1-a8600eb3c1d2",
   "metadata": {},
   "source": [
    "---\n",
    "# Subdatasets"
   ]
  },
  {
   "cell_type": "markdown",
   "id": "77446ba1-1c7f-4e95-802f-53da83095488",
   "metadata": {},
   "source": [
    "### v1: confirmed only; completed and no_shows"
   ]
  },
  {
   "cell_type": "code",
   "execution_count": null,
   "id": "11e73cee-b33a-45c5-96a4-a86f07b2e782",
   "metadata": {
    "scrolled": true
   },
   "outputs": [],
   "source": [
    "mr1 = dataset['patient_confirm'] == 1\n",
    "dataset.groupby(\n",
    "    [\n",
    "        pd.Grouper(key='appointment_start', freq='Y'),\n",
    "        'appointment_status_simplified',\n",
    "        'patient_confirm',\n",
    "    ]\n",
    ").agg(\n",
    "    {\n",
    "        'appointment_id': 'count'\n",
    "    }\n",
    ")"
   ]
  },
  {
   "cell_type": "code",
   "execution_count": null,
   "id": "67565c1d-778d-4ba5-a44b-288eedb970bb",
   "metadata": {},
   "outputs": [],
   "source": [
    "mr2 = dataset['appointment_status_simplified'].isin(\n",
    "    [\n",
    "        'cancel_employee',\n",
    "        'cancel_patient',\n",
    "        'completed',\n",
    "        'no_show',\n",
    "    ]\n",
    ")\n",
    "\n",
    "mrs = mr2\n",
    "\n",
    "dv1 = dataset.loc[mrs, :].copy()"
   ]
  },
  {
   "cell_type": "code",
   "execution_count": null,
   "id": "73af4e1a-e50c-4436-9578-5f80afdad5d0",
   "metadata": {},
   "outputs": [],
   "source": [
    "dv1['appointment_status_simplified'] = dv1['appointment_status_simplified'].map(\n",
    "    {\n",
    "        'cancel_employee': 'cancel',\n",
    "        'cancel_patient': 'cancel',\n",
    "    }\n",
    ").fillna(dv1['appointment_status_simplified'])"
   ]
  },
  {
   "cell_type": "code",
   "execution_count": null,
   "id": "970de646-a920-459b-aff0-f1796788171c",
   "metadata": {},
   "outputs": [],
   "source": [
    "## Saving df as pickle and storing it locally\n",
    "path = '../../pkg_dir/data/pickles/robs'\n",
    "name = 'dataset_v1.pkl'\n",
    "\n",
    "pickle.dump(\n",
    "    dv1,\n",
    "    open(\n",
    "        os.path.join(path, name),\n",
    "        'wb'\n",
    "    )\n",
    ")"
   ]
  },
  {
   "cell_type": "code",
   "execution_count": null,
   "id": "6e771935-f073-4647-b0c6-46d63254931a",
   "metadata": {},
   "outputs": [],
   "source": [
    "## Params\n",
    "path = '../../pkg_dir/data/pickles/robs'\n",
    "name = 'dataset_v1.pkl'\n",
    "\n",
    "\n",
    "## Reading extract object saved as pickle locally\n",
    "pkl_obj = path + \"/\" + name\n",
    "\n",
    "with open(pkl_obj, 'rb') as obj_content:\n",
    "    dv1 = pickle.load(obj_content)"
   ]
  },
  {
   "cell_type": "markdown",
   "id": "fe7b31b3-506b-4bd9-a831-f6c5af23351c",
   "metadata": {},
   "source": [
    "### v2: completed and no_shows"
   ]
  },
  {
   "cell_type": "code",
   "execution_count": null,
   "id": "ba9bd081-5dfb-480c-96a1-38fbe8d377f6",
   "metadata": {},
   "outputs": [],
   "source": [
    "dv1 = dataset.copy()"
   ]
  },
  {
   "cell_type": "code",
   "execution_count": null,
   "id": "865f8c13-6219-49cd-8ca8-0847004657d4",
   "metadata": {},
   "outputs": [],
   "source": [
    "mr1 = dataset['appointment_status_simplified'].isin(['cancel_employee', 'cancel_patient', 'completed', 'no_show'])\n",
    "mr2 = dataset['']"
   ]
  },
  {
   "cell_type": "code",
   "execution_count": null,
   "id": "25df7c40-6bdb-4097-8b43-e184798112e6",
   "metadata": {},
   "outputs": [],
   "source": [
    "dataset['appointment_status_simplified'] = dataset['appointment_status_simplified'].map({'cancel_employee': 'cancel', 'cancel_patient': 'cancel'}).fillna(dataset['appointment_status_simplified'])\n",
    "dataset['appointment_status_simplified'].map"
   ]
  },
  {
   "cell_type": "markdown",
   "id": "44d97f21-c2be-4aad-9d1f-50be6e9a5087",
   "metadata": {},
   "source": [
    "---\n",
    "# Notes"
   ]
  },
  {
   "cell_type": "markdown",
   "id": "fd61c652-3ba5-47e7-9279-aca2ec1a0510",
   "metadata": {},
   "source": [
    "### Patients first time vs second"
   ]
  },
  {
   "cell_type": "code",
   "execution_count": null,
   "id": "d0f5eb90-3687-4c9b-9e94-a0b2255b4032",
   "metadata": {},
   "outputs": [],
   "source": [
    "dfx.groupby(\n",
    "    [\n",
    "        'recurring_patient'\n",
    "    ]\n",
    ").agg(\n",
    "    {\n",
    "        'appointment_id': 'count'\n",
    "    }\n",
    ")"
   ]
  },
  {
   "cell_type": "markdown",
   "id": "a8d764ef-0031-44c8-971b-3b11eda1d988",
   "metadata": {},
   "source": [
    "---"
   ]
  },
  {
   "cell_type": "markdown",
   "id": "c64e3412-94ba-4d74-aa3a-f771441d83d9",
   "metadata": {},
   "source": [
    "---"
   ]
  }
 ],
 "metadata": {
  "kernelspec": {
   "display_name": "Python 3 (ipykernel)",
   "language": "python",
   "name": "python3"
  },
  "language_info": {
   "codemirror_mode": {
    "name": "ipython",
    "version": 3
   },
   "file_extension": ".py",
   "mimetype": "text/x-python",
   "name": "python",
   "nbconvert_exporter": "python",
   "pygments_lexer": "ipython3",
   "version": "3.9.1"
  }
 },
 "nbformat": 4,
 "nbformat_minor": 5
}
