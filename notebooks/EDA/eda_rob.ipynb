{
 "cells": [
  {
   "cell_type": "markdown",
   "id": "b362e6fb-bbbb-4fe3-8093-ce5cb7011d38",
   "metadata": {},
   "source": [
    "# EDA | Problem exploration\n",
    "---\n",
    "---"
   ]
  },
  {
   "cell_type": "markdown",
   "id": "271b4d9f-7fb1-4277-869c-7e1f224c0214",
   "metadata": {},
   "source": [
    "# Imports"
   ]
  },
  {
   "cell_type": "markdown",
   "id": "64661518-3244-423d-9d0a-169f8cd5881a",
   "metadata": {},
   "source": [
    "#### Standard library imports"
   ]
  },
  {
   "cell_type": "code",
   "execution_count": 5,
   "id": "84e8892a-724d-4120-9271-2e6cfa8efff5",
   "metadata": {},
   "outputs": [],
   "source": [
    "import sys\n",
    "sys.path.append(\"../../\")\n",
    "import pickle"
   ]
  },
  {
   "cell_type": "markdown",
   "id": "eb79d938-3938-4b57-a6dd-67218b812f55",
   "metadata": {},
   "source": [
    "#### Third party imports"
   ]
  },
  {
   "cell_type": "code",
   "execution_count": 6,
   "id": "8779b474-7192-447e-949e-abc2ff159ba2",
   "metadata": {},
   "outputs": [],
   "source": [
    "import pandas as pd\n",
    "pd.set_option('display.max_columns', 50)\n",
    "import numpy as np\n",
    "import seaborn as sns\n",
    "import matplotlib.pyplot as plt"
   ]
  },
  {
   "cell_type": "markdown",
   "id": "cacb339f-23dc-48ee-a599-b436d6dc7072",
   "metadata": {},
   "source": [
    "#### Local application imports"
   ]
  },
  {
   "cell_type": "code",
   "execution_count": 7,
   "id": "bee67dd7-757f-446b-8e4f-8b1099edf963",
   "metadata": {},
   "outputs": [
    {
     "name": "stdout",
     "output_type": "stream",
     "text": [
      "The autoreload extension is already loaded. To reload it, use:\n",
      "  %reload_ext autoreload\n"
     ]
    }
   ],
   "source": [
    "%load_ext autoreload\n",
    "%autoreload 2\n",
    "\n",
    "from pkg_dir.config import *\n",
    "from pkg_dir.src.utils import *\n",
    "from pkg_dir.src.functions import *\n",
    "from pkg_dir.src.parameters import *"
   ]
  },
  {
   "cell_type": "markdown",
   "id": "809f9334-3df5-425c-bf6b-8fba14fc922a",
   "metadata": {
    "jp-MarkdownHeadingCollapsed": true
   },
   "source": [
    "# Extracting data"
   ]
  },
  {
   "cell_type": "markdown",
   "id": "578d10b7-7437-4c89-b43b-dd70d93dc644",
   "metadata": {
    "jp-MarkdownHeadingCollapsed": true
   },
   "source": [
    "## 2022-2023 Dataset"
   ]
  },
  {
   "cell_type": "code",
   "execution_count": null,
   "id": "c741e22b-6faa-4be5-87e5-f0ee78aeaac2",
   "metadata": {},
   "outputs": [],
   "source": [
    "## Params\n",
    "path = '../../pkg_dir/data/pickles/robs'\n",
    "name = 'dataset.pkl'\n",
    "\n",
    "\n",
    "## Reading extract object saved as pickle locally\n",
    "pkl_obj = path + \"/\" + name\n",
    "\n",
    "with open(pkl_obj, 'rb') as obj_content:\n",
    "    dfx = pickle.load(obj_content)"
   ]
  },
  {
   "cell_type": "code",
   "execution_count": null,
   "id": "976017c7-d355-474f-a868-b7e9ceceb3fd",
   "metadata": {
    "scrolled": true
   },
   "outputs": [],
   "source": [
    "dfx"
   ]
  },
  {
   "cell_type": "markdown",
   "id": "a906faec-2275-4443-8a25-525013bcfcd9",
   "metadata": {
    "jp-MarkdownHeadingCollapsed": true
   },
   "source": [
    "## Query"
   ]
  },
  {
   "cell_type": "code",
   "execution_count": null,
   "id": "1497b035-e9f8-4759-9dcd-45b9256749fc",
   "metadata": {
    "editable": true,
    "slideshow": {
     "slide_type": ""
    },
    "tags": []
   },
   "outputs": [],
   "source": [
    "## Function parameters\n",
    "db_crds = 'pc_db_prod'\n",
    "sql_files_path = '../../pkg_dir/sql/'\n",
    "sql_script = 'appointments.sql'\n",
    "sql_params = sql_params_appointments"
   ]
  },
  {
   "cell_type": "code",
   "execution_count": null,
   "id": "565e4e0f-a627-47dc-9943-07549493da4b",
   "metadata": {
    "editable": true,
    "slideshow": {
     "slide_type": ""
    },
    "tags": []
   },
   "outputs": [],
   "source": [
    "dfx = sql_to_df(db_crds, sql_files_path, sql_script, sql_params)"
   ]
  },
  {
   "cell_type": "code",
   "execution_count": null,
   "id": "b152b32a-857b-4c04-b5be-ca188524a5f4",
   "metadata": {
    "editable": true,
    "slideshow": {
     "slide_type": ""
    },
    "tags": []
   },
   "outputs": [],
   "source": [
    "## Reference to simplify labels in appointment status\n",
    "values_map = {\n",
    "    \n",
    "    'COMPLETADA': 'completed',\n",
    "    'SALA_ESPERA': 'completed',\n",
    "    'CONSULTA': 'completed',\n",
    "    'CONFIRMADO_PAGO': 'completed',\n",
    "\n",
    "    'NO_PRESENTO': 'no_show',\n",
    "    'MENSAJE_DEJADO': 'no_show',\n",
    "    'NO_CONFIRMADO': 'no_show',\n",
    "    'CONFIRMADO': 'no_show',\n",
    "    'LLEGA_TARDE_ESPERA': 'no_show',\n",
    "    'REAGENDAR': 'no_show',\n",
    "    \n",
    "}"
   ]
  },
  {
   "cell_type": "code",
   "execution_count": null,
   "id": "52574198-700e-49b0-9de8-61282efdffbd",
   "metadata": {},
   "outputs": [],
   "source": [
    "## Mapping values according to reference\n",
    "dfx['appointment_status_simple'] = dfx['appointment_status'].map(values_map).fillna(dfx['appointment_status'])"
   ]
  },
  {
   "cell_type": "code",
   "execution_count": null,
   "id": "7b422af6-cf2a-4f08-b550-552910855319",
   "metadata": {},
   "outputs": [],
   "source": [
    "## Formatting appointment date\n",
    "dfx['appointment_date'] = pd.to_datetime(dfx['appointment_date'])"
   ]
  },
  {
   "cell_type": "markdown",
   "id": "6f383c7d-3e82-4d7d-918d-6ffaddc28611",
   "metadata": {},
   "source": [
    "# Solving questions - no shows"
   ]
  },
  {
   "cell_type": "markdown",
   "id": "4b019db3-5a01-4332-8a56-7142e80bad69",
   "metadata": {
    "jp-MarkdownHeadingCollapsed": true
   },
   "source": [
    "---\n",
    "### What was the no-show rate in 2023?"
   ]
  },
  {
   "cell_type": "markdown",
   "id": "3d5fb9d8-8309-44aa-ae71-0fa7cf70ec73",
   "metadata": {
    "jp-MarkdownHeadingCollapsed": true
   },
   "source": [
    "##### \n",
    "##### Using query"
   ]
  },
  {
   "cell_type": "code",
   "execution_count": null,
   "id": "9b3832b5-0bc5-42a2-b67d-bd828a4f5ea9",
   "metadata": {},
   "outputs": [],
   "source": [
    "sql_string = \"\"\"\n",
    "SELECT cita.citaid as appointment_id\n",
    "\n",
    "FROM cita\n",
    "\n",
    "WHERE citafecha >= '2000-11-03'\n",
    "  AND citafecha <= '2021-01-01'\n",
    "\n",
    "ORDER BY\n",
    "    citafecha DESC\n",
    "\n",
    "LIMIT 10\n",
    "\n",
    ";\n",
    "\"\"\""
   ]
  },
  {
   "cell_type": "code",
   "execution_count": null,
   "id": "07b58316-ed5b-4dbd-bb5c-74ef3f47553a",
   "metadata": {},
   "outputs": [],
   "source": [
    "dfx = sql_string_to_df(db_crds, sql_string)\n",
    "\n",
    "dfx.rename(\n",
    "    columns={\n",
    "        0: \"appointment_id\",\n",
    "    }, \n",
    "    inplace=True\n",
    ")"
   ]
  },
  {
   "cell_type": "code",
   "execution_count": null,
   "id": "ee410242-18d8-4205-9493-8aebb5bedfce",
   "metadata": {},
   "outputs": [],
   "source": [
    "dfx['appointment_status_simple'].value_counts()"
   ]
  },
  {
   "cell_type": "code",
   "execution_count": null,
   "id": "383011f4-aef9-4841-a466-8edd241b8f12",
   "metadata": {
    "editable": true,
    "slideshow": {
     "slide_type": ""
    },
    "tags": []
   },
   "outputs": [],
   "source": [
    "dfx['appointment_status_simple'].value_counts(normalize=True)"
   ]
  },
  {
   "cell_type": "markdown",
   "id": "401c1510-6762-482d-af7c-f7cc0bba91d3",
   "metadata": {
    "jp-MarkdownHeadingCollapsed": true
   },
   "source": [
    "##### \n",
    "##### Using 2022-2023 dataset"
   ]
  },
  {
   "cell_type": "code",
   "execution_count": null,
   "id": "e63b0240-bc07-4d74-a00e-8f688737ef8d",
   "metadata": {},
   "outputs": [],
   "source": [
    "## Params\n",
    "path = '../../pkg_dir/data/pickles/robs'\n",
    "name = 'dataset_v1.pkl'\n",
    "\n",
    "\n",
    "## Reading extract object saved as pickle locally\n",
    "pkl_obj = path + \"/\" + name\n",
    "\n",
    "with open(pkl_obj, 'rb') as obj_content:\n",
    "    dfx = pickle.load(obj_content)"
   ]
  },
  {
   "cell_type": "code",
   "execution_count": null,
   "id": "e2ef7703-1914-4d1f-a22e-68a0d8265b49",
   "metadata": {},
   "outputs": [],
   "source": [
    "# mr1 = dfx['appointment_status_simplified'].isin(['unused', 'completed', 'no_show'])\n",
    "mr1 = dfx['appointment_status_simplified'].isin(['completed', 'no_show'])\n",
    "mr2 = dfx['appointment_start'].dt.year == 2023\n",
    "mrs = mr1 & mr2\n",
    "\n",
    "rc = ['appointment_status_simplified', 'appointment_id']"
   ]
  },
  {
   "cell_type": "code",
   "execution_count": null,
   "id": "fc6122e1-5ea8-4b81-b6ea-63154404d084",
   "metadata": {},
   "outputs": [],
   "source": [
    "dfx.loc[mrs, 'appointment_status_simplified'].value_counts()"
   ]
  },
  {
   "cell_type": "code",
   "execution_count": null,
   "id": "edf98e7a-6f33-45d5-a076-cd507edf4fe2",
   "metadata": {},
   "outputs": [],
   "source": [
    "dfx.loc[mrs, 'appointment_status_simplified'].value_counts(normalize=True)"
   ]
  },
  {
   "cell_type": "code",
   "execution_count": null,
   "id": "e86b01cd-c407-4f60-9536-72eb4622ba58",
   "metadata": {},
   "outputs": [],
   "source": [
    "#2022\n",
    "31176 / (31176 + 103480)"
   ]
  },
  {
   "cell_type": "code",
   "execution_count": null,
   "id": "c1e0ea0b-95b1-42a0-acf5-6e47198389d9",
   "metadata": {},
   "outputs": [],
   "source": [
    "#2023\n",
    "25653 / (25653 + 138654)"
   ]
  },
  {
   "cell_type": "markdown",
   "id": "86c81bdb-b96f-4210-98c2-c59111835dc8",
   "metadata": {
    "jp-MarkdownHeadingCollapsed": true
   },
   "source": [
    "---\n",
    "### What was the last status of the confirmed appointments?"
   ]
  },
  {
   "cell_type": "markdown",
   "id": "9ed1514f-fd3a-42f8-9f06-71852a7c3e7d",
   "metadata": {},
   "source": [
    "---\n",
    "### No-show rate in 2023 segmented per clinic"
   ]
  },
  {
   "cell_type": "markdown",
   "id": "f22a6b0d-1316-44f2-9740-6c2e281adcea",
   "metadata": {
    "jp-MarkdownHeadingCollapsed": true
   },
   "source": [
    "##### \n",
    "##### With final dataset"
   ]
  },
  {
   "cell_type": "code",
   "execution_count": null,
   "id": "dadfb595-1a37-4037-8927-27d2dcd14c4b",
   "metadata": {},
   "outputs": [],
   "source": [
    "mr1 = dfx['appointment_status_simplified'].isin(\n",
    "    [\n",
    "        'unused', \n",
    "        'completed', \n",
    "        'no_show', \n",
    "    ]\n",
    ")\n",
    "mr2 = dfx['appointment_date'].dt.weekday < 5 ## only weekdays\n",
    "mr3 = dfx['appointment_date'].dt.year == 2023 ## only weekdays\n",
    "mrs = mr1 & mr2 & mr3\n",
    "\n",
    "rc = [\n",
    "    'appointment_id',\n",
    "    'appointment_date',\n",
    "    'clinic',\n",
    "    'appointment_status_simplified',\n",
    "]\n",
    "\n",
    "\n",
    "dfy = dfx.loc[mrs, rc].copy()"
   ]
  },
  {
   "cell_type": "code",
   "execution_count": null,
   "id": "bbacb02b-c8e4-4936-a3cc-f6feb7332c42",
   "metadata": {},
   "outputs": [],
   "source": [
    "dfy = dfy.groupby(\n",
    "    [\n",
    "        pd.Grouper(key='appointment_date', freq='Y'),\n",
    "        'clinic',\n",
    "        'appointment_status_simplified',\n",
    "    ],\n",
    "    as_index=False\n",
    ").agg(\n",
    "    {\n",
    "        'appointment_id': 'count',\n",
    "    }\n",
    ")"
   ]
  },
  {
   "cell_type": "code",
   "execution_count": null,
   "id": "35bb64e8-b152-4420-9059-0bec9f1ee100",
   "metadata": {},
   "outputs": [],
   "source": [
    "dfy = dfy.pivot(\n",
    "    index=['appointment_date', 'clinic'], \n",
    "    columns=['appointment_status_simplified'], \n",
    "    values=['appointment_id'], \n",
    ").reset_index()\n",
    "\n",
    "dfy.columns = [\n",
    "    col[1] \n",
    "    if col[0] == 'appointment_id'\n",
    "    else col[0]\n",
    "    for col in dfy.columns\n",
    "]"
   ]
  },
  {
   "cell_type": "code",
   "execution_count": null,
   "id": "300a6ff1-f239-47ea-9dd1-c6702d50197f",
   "metadata": {},
   "outputs": [],
   "source": [
    "dfy.fillna(0, inplace=True)"
   ]
  },
  {
   "cell_type": "code",
   "execution_count": null,
   "id": "b702ea39-b63a-4429-8902-e86219457e58",
   "metadata": {},
   "outputs": [],
   "source": [
    "dfy['appts'] = dfy['completed'] + dfy['no_show']\n",
    "dfy['total'] = dfy['completed'] + dfy['no_show'] + dfy['unused']"
   ]
  },
  {
   "cell_type": "code",
   "execution_count": null,
   "id": "127214a7-96e0-41cc-b518-d4396e5f5741",
   "metadata": {},
   "outputs": [],
   "source": [
    "dfy['ns/appt'] = dfy['no_show']/(dfy['appts'])\n",
    "dfy['ns/total'] = dfy['no_show']/dfy['total']"
   ]
  },
  {
   "cell_type": "code",
   "execution_count": null,
   "id": "22c1e924-ece0-42ff-bf25-5d1be15c8f93",
   "metadata": {
    "scrolled": true
   },
   "outputs": [],
   "source": [
    "dfy"
   ]
  },
  {
   "cell_type": "markdown",
   "id": "32e275f7-9d73-4a79-8a73-6cea89358930",
   "metadata": {
    "jp-MarkdownHeadingCollapsed": true
   },
   "source": [
    "##### \n",
    "##### Original calculation"
   ]
  },
  {
   "cell_type": "code",
   "execution_count": null,
   "id": "6c69e2d4-94cc-4dde-af24-62376e28439c",
   "metadata": {},
   "outputs": [],
   "source": [
    "## Grouping data by clinic\n",
    "dfy = dfx.loc[:, ['appointment_id', 'appointment_status_simple', 'clinic']].groupby(\n",
    "    [\n",
    "        'clinic',\n",
    "        'appointment_status_simple',\n",
    "    ],\n",
    "    # as_index=False\n",
    ").agg(\n",
    "    {\n",
    "        'appointment_id': 'count'\n",
    "    }\n",
    ")\n",
    "\n",
    "## Renaming aggregate column\n",
    "dfy.rename(columns={'appointment_id': 'count'}, inplace=True)"
   ]
  },
  {
   "cell_type": "code",
   "execution_count": null,
   "id": "1da55855-0775-45da-9b75-c4bed7658418",
   "metadata": {},
   "outputs": [],
   "source": [
    "## Adding new column with proportions per clinic\n",
    "dfy[\"proportion\"] = dfy['count']/dfy.groupby([\"clinic\"])[\"count\"].transform(\"sum\")"
   ]
  },
  {
   "cell_type": "code",
   "execution_count": null,
   "id": "9370a79e-eb16-4585-9391-95b61d7b002e",
   "metadata": {},
   "outputs": [],
   "source": [
    "dfy"
   ]
  },
  {
   "cell_type": "code",
   "execution_count": null,
   "id": "a914c046-e638-4b61-8e84-e5f0088bb419",
   "metadata": {},
   "outputs": [],
   "source": [
    "plt = sns.barplot(\n",
    "    dfy, \n",
    "    x=\"clinic\", \n",
    "    y=\"count\", \n",
    "    hue=\"appointment_status_simple\", \n",
    "    )\n",
    "\n",
    "for item in plt.get_xticklabels():\n",
    "    item.set_rotation(45)"
   ]
  },
  {
   "cell_type": "markdown",
   "id": "934d6fb9-b582-4b48-9c5f-2d5f2977145e",
   "metadata": {
    "jp-MarkdownHeadingCollapsed": true
   },
   "source": [
    "---\n",
    "### Evolution of no shows in clinics"
   ]
  },
  {
   "cell_type": "code",
   "execution_count": null,
   "id": "ea26e62c-86b5-43e7-822b-cdeaea8ea8b4",
   "metadata": {},
   "outputs": [],
   "source": [
    "## Params\n",
    "path = '../../pkg_dir/data/pickles/robs'\n",
    "name = 'dataset.pkl'\n",
    "\n",
    "\n",
    "## Reading extract object saved as pickle locally\n",
    "pkl_obj = path + \"/\" + name\n",
    "\n",
    "with open(pkl_obj, 'rb') as obj_content:\n",
    "    dfx = pickle.load(obj_content)"
   ]
  },
  {
   "cell_type": "code",
   "execution_count": null,
   "id": "fe2b0fb5-77bf-4043-8d04-1dd34727df6d",
   "metadata": {},
   "outputs": [],
   "source": [
    "mr1 = dfx['appointment_status_simplified'].isin(\n",
    "    [\n",
    "        'unused', \n",
    "        'completed', \n",
    "        'no_show', \n",
    "    ]\n",
    ")\n",
    "# mr2 = dfx['appointment_date'].dt.weekday < 5 ## only weekdays\n",
    "mrs = mr1 #& mr2\n",
    "\n",
    "rc = [\n",
    "    'appointment_id',\n",
    "    'appointment_start',\n",
    "    'clinic',\n",
    "    'appointment_status_simplified',\n",
    "]\n",
    "\n",
    "\n",
    "dfy = dfx.loc[mrs, rc].copy()"
   ]
  },
  {
   "cell_type": "code",
   "execution_count": null,
   "id": "12f3084f-2fed-49f0-9e79-877d4a78a1dd",
   "metadata": {},
   "outputs": [],
   "source": [
    "dfy = dfy.groupby(\n",
    "    [\n",
    "        pd.Grouper(key='appointment_start', freq='QS'),\n",
    "        'clinic',\n",
    "        'appointment_status_simplified',\n",
    "    ],\n",
    "    as_index=False\n",
    ").agg(\n",
    "    {\n",
    "        'appointment_id': 'count',\n",
    "    }\n",
    ")"
   ]
  },
  {
   "cell_type": "code",
   "execution_count": null,
   "id": "efddb1f4-5da9-4923-a9b5-a333f8ee6ba5",
   "metadata": {},
   "outputs": [],
   "source": [
    "dfy = dfy.pivot(\n",
    "    index=['appointment_start', 'clinic'], \n",
    "    columns=['appointment_status_simplified'], \n",
    "    values=['appointment_id'], \n",
    ").reset_index()\n",
    "\n",
    "dfy.columns = [\n",
    "    col[1] \n",
    "    if col[0] == 'appointment_id'\n",
    "    else col[0]\n",
    "    for col in dfy.columns\n",
    "]"
   ]
  },
  {
   "cell_type": "code",
   "execution_count": null,
   "id": "bf57664e-0f32-437f-a1ea-1bf8a455d55e",
   "metadata": {},
   "outputs": [],
   "source": [
    "dfy.fillna(0, inplace=True)"
   ]
  },
  {
   "cell_type": "code",
   "execution_count": null,
   "id": "59c20d0b-6fd2-41f3-8271-99ae401f52a5",
   "metadata": {},
   "outputs": [],
   "source": [
    "dfy['total'] = dfy['completed'] + dfy['no_show'] + dfy['unused']\n",
    "dfy['total_used'] = dfy['completed'] + dfy['no_show']"
   ]
  },
  {
   "cell_type": "code",
   "execution_count": null,
   "id": "ebde701a-ac4b-4b2f-8b4e-de2204ec041f",
   "metadata": {},
   "outputs": [],
   "source": [
    "dfy['ns_ratio'] = dfy['no_show']/dfy['total_used']"
   ]
  },
  {
   "cell_type": "code",
   "execution_count": null,
   "id": "58950446-f8b8-4769-aae2-3f9efc4eb87f",
   "metadata": {
    "scrolled": true
   },
   "outputs": [],
   "source": [
    "dfy"
   ]
  },
  {
   "cell_type": "code",
   "execution_count": null,
   "id": "b2e10a22-58f7-4d9c-84f7-c577b1ebae00",
   "metadata": {},
   "outputs": [],
   "source": [
    "dfy = dfy[dfy['ns_ratio'] < 0.4].copy()"
   ]
  },
  {
   "cell_type": "code",
   "execution_count": null,
   "id": "ff219783-3e78-4812-a82a-90ad731728ce",
   "metadata": {},
   "outputs": [],
   "source": [
    "sns.lineplot(\n",
    "    x=\"appointment_start\", \n",
    "    y=\"ns_ratio\",\n",
    "    hue=\"clinic\",\n",
    "    data=dfy,\n",
    "    markers=True\n",
    ")"
   ]
  },
  {
   "cell_type": "markdown",
   "id": "d45d8a67-67fd-4e5c-bd1c-b888cf22a926",
   "metadata": {
    "jp-MarkdownHeadingCollapsed": true
   },
   "source": [
    "---\n",
    "### No show rate per month"
   ]
  },
  {
   "cell_type": "markdown",
   "id": "e706eaf4-6a5e-497b-ac45-5b95c60c2ccd",
   "metadata": {
    "jp-MarkdownHeadingCollapsed": true
   },
   "source": [
    "##### Overall"
   ]
  },
  {
   "cell_type": "code",
   "execution_count": 8,
   "id": "ef62619b-8b34-4526-a473-deb8fe733cad",
   "metadata": {},
   "outputs": [],
   "source": [
    "## Params\n",
    "path = '../../pkg_dir/data/pickles/robs'\n",
    "name = 'dataset.pkl'\n",
    "\n",
    "\n",
    "## Reading extract object saved as pickle locally\n",
    "pkl_obj = path + \"/\" + name\n",
    "\n",
    "with open(pkl_obj, 'rb') as obj_content:\n",
    "    dfx = pickle.load(obj_content)"
   ]
  },
  {
   "cell_type": "code",
   "execution_count": 10,
   "id": "9455226e-3d63-45b0-ae58-7b7df4112fe0",
   "metadata": {},
   "outputs": [],
   "source": [
    "mr1 = dfx['appointment_status_simplified'].isin(\n",
    "    [\n",
    "        'unused', \n",
    "        'completed', \n",
    "        'no_show', \n",
    "    ]\n",
    ")\n",
    "# mr2 = dfx['appointment_date'].dt.weekday < 5 ## only weekdays\n",
    "mrs = mr1 #& mr2\n",
    "\n",
    "rc = [\n",
    "    'appointment_id',\n",
    "    'appointment_start',\n",
    "    'appointment_status_simplified',\n",
    "]\n",
    "\n",
    "\n",
    "dfy = dfx.loc[mrs, rc].copy()"
   ]
  },
  {
   "cell_type": "code",
   "execution_count": 11,
   "id": "78f2ce9c-d61e-4f13-8dbf-a87265297ff6",
   "metadata": {},
   "outputs": [],
   "source": [
    "dfy = dfy.groupby(\n",
    "    [\n",
    "        pd.Grouper(key='appointment_start', freq='m'),\n",
    "        'appointment_status_simplified',\n",
    "    ],\n",
    "    as_index=False\n",
    ").agg(\n",
    "    {\n",
    "        'appointment_id': 'count',\n",
    "    }\n",
    ")"
   ]
  },
  {
   "cell_type": "code",
   "execution_count": 13,
   "id": "38a24d6a-f67d-4169-b247-62190b4145b2",
   "metadata": {},
   "outputs": [],
   "source": [
    "dfy = dfy.pivot(\n",
    "    index=['appointment_start'], \n",
    "    columns=['appointment_status_simplified'], \n",
    "    values=['appointment_id'], \n",
    ").reset_index()\n",
    "\n",
    "dfy.columns = [\n",
    "    col[1] \n",
    "    if col[0] == 'appointment_id'\n",
    "    else col[0]\n",
    "    for col in dfy.columns\n",
    "]"
   ]
  },
  {
   "cell_type": "code",
   "execution_count": 15,
   "id": "0b14253b-2945-46be-acca-90a45304e7a9",
   "metadata": {},
   "outputs": [],
   "source": [
    "dfy['total'] = dfy['completed'] + dfy['no_show'] + dfy['unused']\n",
    "dfy['total_used'] = dfy['completed'] + dfy['no_show']"
   ]
  },
  {
   "cell_type": "code",
   "execution_count": 16,
   "id": "659165b8-bf35-4ff8-9130-c3c496a09f46",
   "metadata": {},
   "outputs": [],
   "source": [
    "dfy['ns_ratio'] = dfy['no_show']/dfy['total_used']"
   ]
  },
  {
   "cell_type": "code",
   "execution_count": 19,
   "id": "899fc074-a818-493d-bb82-152c5e08fefd",
   "metadata": {},
   "outputs": [
    {
     "data": {
      "image/png": "[encoded data removed]",
      "text/plain": [
       "<Figure size 640x480 with 1 Axes>"
      ]
     },
     "metadata": {},
     "output_type": "display_data"
    }
   ],
   "source": [
    "plt = sns.lineplot(\n",
    "    dfy, \n",
    "    x=\"appointment_start\", \n",
    "    y=\"ns_ratio\", \n",
    "    )\n",
    "\n",
    "for item in plt.get_xticklabels():\n",
    "    item.set_rotation(45)"
   ]
  },
  {
   "cell_type": "markdown",
   "id": "043fe83a-cc7d-4c95-97ca-c4fd6a93cbc1",
   "metadata": {},
   "source": [
    "##### Overall"
   ]
  },
  {
   "cell_type": "code",
   "execution_count": 29,
   "id": "ad39b9e1-4fa1-400b-97d1-8bca226abee0",
   "metadata": {},
   "outputs": [],
   "source": [
    "## Params\n",
    "path = '../../pkg_dir/data/pickles/robs'\n",
    "name = 'dataset.pkl'\n",
    "\n",
    "\n",
    "## Reading extract object saved as pickle locally\n",
    "pkl_obj = path + \"/\" + name\n",
    "\n",
    "with open(pkl_obj, 'rb') as obj_content:\n",
    "    dfx = pickle.load(obj_content)"
   ]
  },
  {
   "cell_type": "code",
   "execution_count": 30,
   "id": "50ddd5ae-c413-4e7c-a582-522e23676665",
   "metadata": {},
   "outputs": [],
   "source": [
    "specialty = ['DERMATOLOGIA', 'GINECOLOGIA', 'OTORRINOLARINGOLOGIA', 'UROLOGIA', 'GASTROENTEROLOGIA', 'ENDOCRINOLOGIA']"
   ]
  },
  {
   "cell_type": "code",
   "execution_count": 31,
   "id": "609198f8-bd80-4946-8110-420e4e9a7140",
   "metadata": {},
   "outputs": [],
   "source": [
    "mr1 = dfx['appointment_status_simplified'].isin(\n",
    "    [\n",
    "        'unused', \n",
    "        'completed', \n",
    "        'no_show', \n",
    "    ]\n",
    ")\n",
    "mr2 = dfx['medical_specialty'].isin(specialty)\n",
    "mrs = mr1 & mr2\n",
    "\n",
    "rc = [\n",
    "    'appointment_id',\n",
    "    'medical_specialty',\n",
    "    'appointment_start',\n",
    "    'appointment_status_simplified',\n",
    "]\n",
    "\n",
    "\n",
    "dfy = dfx.loc[mrs, rc].copy()"
   ]
  },
  {
   "cell_type": "code",
   "execution_count": 32,
   "id": "0d87a6a4-80ab-4ff1-bffb-805dc6875ad4",
   "metadata": {},
   "outputs": [],
   "source": [
    "dfy = dfy.groupby(\n",
    "    [\n",
    "        pd.Grouper(key='appointment_start', freq='m'),\n",
    "        'medical_specialty',\n",
    "        'appointment_status_simplified',\n",
    "    ],\n",
    "    as_index=False\n",
    ").agg(\n",
    "    {\n",
    "        'appointment_id': 'count',\n",
    "    }\n",
    ")"
   ]
  },
  {
   "cell_type": "code",
   "execution_count": 33,
   "id": "f636dc31-64f3-42f0-bf55-cb06db4e152f",
   "metadata": {},
   "outputs": [],
   "source": [
    "dfy = dfy.pivot(\n",
    "    index=['appointment_start', 'medical_specialty'], \n",
    "    columns=['appointment_status_simplified'], \n",
    "    values=['appointment_id'], \n",
    ").reset_index()\n",
    "\n",
    "dfy.columns = [\n",
    "    col[1] \n",
    "    if col[0] == 'appointment_id'\n",
    "    else col[0]\n",
    "    for col in dfy.columns\n",
    "]"
   ]
  },
  {
   "cell_type": "code",
   "execution_count": 35,
   "id": "a7941f57-5c7f-4cc5-b941-96a643e4483d",
   "metadata": {},
   "outputs": [],
   "source": [
    "dfy['total'] = dfy['completed'] + dfy['no_show'] + dfy['unused']\n",
    "dfy['total_used'] = dfy['completed'] + dfy['no_show']"
   ]
  },
  {
   "cell_type": "code",
   "execution_count": 36,
   "id": "646648d7-5f2e-472e-9c78-3993da8a99cf",
   "metadata": {},
   "outputs": [],
   "source": [
    "dfy['ns_ratio'] = dfy['no_show']/dfy['total_used']"
   ]
  },
  {
   "cell_type": "code",
   "execution_count": 39,
   "id": "04847738-271f-44fc-bb6c-f11f2dcc36c9",
   "metadata": {},
   "outputs": [
    {
     "data": {
      "image/png": "[encoded data removed]",
      "text/plain": [
       "<Figure size 640x480 with 1 Axes>"
      ]
     },
     "metadata": {},
     "output_type": "display_data"
    }
   ],
   "source": [
    "plt = sns.lineplot(\n",
    "    dfy, \n",
    "    x=\"appointment_start\", \n",
    "    y=\"ns_ratio\", \n",
    "    hue=\"medical_specialty\", \n",
    "    )\n",
    "\n",
    "for item in plt.get_xticklabels():\n",
    "    item.set_rotation(45)"
   ]
  },
  {
   "cell_type": "markdown",
   "id": "7f09df79-243c-4df9-9a7c-cf6652c1bfbf",
   "metadata": {
    "jp-MarkdownHeadingCollapsed": true
   },
   "source": [
    "---\n",
    "### How many historic data points we have of appointments?"
   ]
  },
  {
   "cell_type": "code",
   "execution_count": null,
   "id": "e5ecd439-bf11-425f-8fd4-9ecc6a9403c4",
   "metadata": {},
   "outputs": [],
   "source": [
    "sql_string = \"\"\"\n",
    "SELECT DATE_PART('year', citafecha) as appointment_year,\n",
    "       COUNT(*) as entry_count\n",
    "\n",
    "FROM cita\n",
    "\n",
    "INNER JOIN sucursal ON cita.citasucursalid = sucursal.sucursalid\n",
    "INNER JOIN citaestatus c ON cita.citaid = c.citaid AND cita.citaanio = c.citaanio\n",
    "\n",
    "WHERE citafecha >= '2000-11-03'\n",
    "  AND citafecha < '2024-01-01'\n",
    "  AND c.cestatusobs ~* '\\yCreado\\y'\n",
    "  AND citaestado IN (\n",
    "                         'DISPONIBLE',\n",
    "                         'NO_PRESENTO',\n",
    "                         'COMPLETADA'\n",
    "                        )\n",
    "\n",
    "GROUP BY appointment_year\n",
    "\n",
    ";\"\"\""
   ]
  },
  {
   "cell_type": "code",
   "execution_count": null,
   "id": "e3700872-0d22-4627-b260-574ffe20c5c7",
   "metadata": {},
   "outputs": [],
   "source": [
    "dfx = sql_string_to_df(db_crds, sql_string)\n",
    "\n",
    "dfx.rename(\n",
    "    columns={\n",
    "        0: \"year\",\n",
    "        1: \"count\",\n",
    "    }, \n",
    "    inplace=True\n",
    ")"
   ]
  },
  {
   "cell_type": "code",
   "execution_count": null,
   "id": "fcb51f82-a9f3-4b87-afa9-8910c936a5c6",
   "metadata": {},
   "outputs": [],
   "source": [
    "dfx"
   ]
  },
  {
   "cell_type": "markdown",
   "id": "78d9cac4-05d5-484c-9639-e678a9b18109",
   "metadata": {
    "jp-MarkdownHeadingCollapsed": true
   },
   "source": [
    "---\n",
    "### Average number of appointments per speciality"
   ]
  },
  {
   "cell_type": "code",
   "execution_count": null,
   "id": "a6031aaa-b5e9-4236-a8e1-9a526c1fbb9c",
   "metadata": {},
   "outputs": [],
   "source": [
    "## Params\n",
    "path = '../../pkg_dir/data/pickles/robs'\n",
    "name = 'dataset.pkl'\n",
    "\n",
    "\n",
    "## Reading extract object saved as pickle locally\n",
    "pkl_obj = path + \"/\" + name\n",
    "\n",
    "with open(pkl_obj, 'rb') as obj_content:\n",
    "    dfx = pickle.load(obj_content)"
   ]
  },
  {
   "cell_type": "code",
   "execution_count": null,
   "id": "7c7f9dea-a1db-4194-bcb2-660af2b05eac",
   "metadata": {},
   "outputs": [],
   "source": [
    "mr1 = dfx['appointment_status_simplified'].isin(\n",
    "    [\n",
    "        'unused', \n",
    "        'completed', \n",
    "        'no_show', \n",
    "    ]\n",
    ")\n",
    "mr2 = dfx['appointment_start'].dt.year == 2023\n",
    "mr3 = dfx['appointment_start'].dt.weekday < 5 ## only weekdays\n",
    "# mr4 = dfx['clinic'] == 'BASILICA'\n",
    "mrs = mr1 & mr2 & mr3# & mr4\n",
    "\n",
    "rc = [\n",
    "    'appointment_id',\n",
    "    'appointment_start',\n",
    "    'clinic',\n",
    "    'doctor',\n",
    "    'medical_specialty',\n",
    "    'appointment_status_simplified',\n",
    "]"
   ]
  },
  {
   "cell_type": "code",
   "execution_count": null,
   "id": "7b247903-40d4-490b-be16-377f837add68",
   "metadata": {
    "scrolled": true
   },
   "outputs": [],
   "source": [
    "dfy = dfx.loc[mrs, rc].copy()"
   ]
  },
  {
   "cell_type": "code",
   "execution_count": null,
   "id": "24dc8497-27fc-4a33-b545-2a9ddf3d234b",
   "metadata": {},
   "outputs": [],
   "source": [
    "dfy = dfy.groupby(\n",
    "    [\n",
    "        pd.Grouper(key='appointment_start', freq='d'),\n",
    "        'medical_specialty',\n",
    "        'appointment_status_simplified',\n",
    "    ],\n",
    "    as_index=False\n",
    ").agg(\n",
    "    {\n",
    "        'appointment_id': 'count',\n",
    "    }\n",
    ")\n",
    "\n",
    "dfy"
   ]
  },
  {
   "cell_type": "code",
   "execution_count": null,
   "id": "b8a1f716-b601-46a2-bffb-9a248a8b8ab0",
   "metadata": {},
   "outputs": [],
   "source": [
    "dfy = dfy.pivot(\n",
    "    index=['appointment_start', 'medical_specialty'], \n",
    "    columns=['appointment_status_simplified'], \n",
    "    values=['appointment_id'], \n",
    ").reset_index()\n",
    "\n",
    "dfy.columns = [\n",
    "    col[1] \n",
    "    if col[0] == 'appointment_id'\n",
    "    else col[0]\n",
    "    for col in dfy.columns\n",
    "]"
   ]
  },
  {
   "cell_type": "code",
   "execution_count": null,
   "id": "5a355658-28cb-4638-bf65-8a3a7cdd38db",
   "metadata": {},
   "outputs": [],
   "source": [
    "## \n",
    "dfy.fillna(0, inplace=True)"
   ]
  },
  {
   "cell_type": "code",
   "execution_count": null,
   "id": "50513bef-1578-4078-aa95-13a62569a878",
   "metadata": {},
   "outputs": [],
   "source": [
    "dfy['total_agenda'] = dfy['completed'] + dfy['no_show'] + dfy['unused']\n",
    "dfy['total_used'] = dfy['completed'] + dfy['no_show']\n",
    "\n",
    "dfy['ns_ratio'] = dfy['no_show']/dfy['total_used']\n",
    "dfy['occupation_ratio'] = 1 - dfy['unused']/dfy['total_agenda']"
   ]
  },
  {
   "cell_type": "code",
   "execution_count": null,
   "id": "b6869f28-d9d9-4d62-8782-707c1f56f467",
   "metadata": {
    "scrolled": true
   },
   "outputs": [],
   "source": [
    "dfy2 = dfy.groupby(\n",
    "    [\n",
    "        'medical_specialty',\n",
    "    ]\n",
    ").agg(\n",
    "    {\n",
    "        'completed': 'mean',\n",
    "        'no_show': 'mean',\n",
    "        'ns_ratio': 'mean',\n",
    "        'occupation_ratio': 'mean',\n",
    "        'unused': 'mean',\n",
    "        # 'total_agenda': ['mean', 'sum'],\n",
    "        'total_used': ['mean', 'sum'],\n",
    "        'appointment_start': 'nunique',\n",
    "    }\n",
    ")\n",
    "\n",
    "# dfy2.columns = [col[0] + '_$' + col[1] for col in dfy2.columns]\n",
    "\n",
    "dfy2.sort_values(by=('total_used', 'sum'), inplace=True, ascending=False)\n",
    "\n",
    "dfy2"
   ]
  },
  {
   "cell_type": "markdown",
   "id": "a4a7ffc2-f8b1-4827-9f5e-850481eb4f9b",
   "metadata": {
    "jp-MarkdownHeadingCollapsed": true
   },
   "source": [
    "---\n",
    "### Average number of doctors per specialty and per location"
   ]
  },
  {
   "cell_type": "code",
   "execution_count": null,
   "id": "dd66a63c-8461-42e5-9826-8453b6ea51a8",
   "metadata": {},
   "outputs": [],
   "source": [
    "## Params\n",
    "path = '../../pkg_dir/data/pickles/robs'\n",
    "name = 'dataset.pkl'\n",
    "\n",
    "\n",
    "## Reading extract object saved as pickle locally\n",
    "pkl_obj = path + \"/\" + name\n",
    "\n",
    "with open(pkl_obj, 'rb') as obj_content:\n",
    "    dfx = pickle.load(obj_content)"
   ]
  },
  {
   "cell_type": "code",
   "execution_count": null,
   "id": "f9617e0d-5964-4a0b-91d0-9e9f1c8e5b31",
   "metadata": {},
   "outputs": [],
   "source": [
    "specialty = ['DERMATOLOGIA', 'GINECOLOGIA', 'OTORRINOLARINGOLOGIA', 'UROLOGIA', 'GASTROENTEROLOGIA', 'ENDOCRINOLOGIA']\n",
    "clinic = ['BASILICA', 'COAPA', 'MARINA NACIONAL', 'TLALPAN', 'MONTEVIDEO']"
   ]
  },
  {
   "cell_type": "code",
   "execution_count": null,
   "id": "b390d4e4-09bf-47ea-8df1-105385471eef",
   "metadata": {},
   "outputs": [],
   "source": [
    "mr1 = dfx['appointment_start'].dt.weekday < 5 ## only weekdays\n",
    "mr2 = dfx['medical_specialty'].isin(specialty)\n",
    "mr3 = dfx['clinic'].isin(clinic)\n",
    "mrs = mr1 & mr2 & mr3\n",
    "\n",
    "rc = [\n",
    "    'appointment_id',\n",
    "    'appointment_start',\n",
    "    'clinic',\n",
    "        'medical_specialty',\n",
    "    'doctor',\n",
    "]"
   ]
  },
  {
   "cell_type": "code",
   "execution_count": null,
   "id": "573ba682-067e-429d-b068-80eed6c0f88c",
   "metadata": {
    "scrolled": true
   },
   "outputs": [],
   "source": [
    "dfy = dfx.loc[mrs, rc].copy()"
   ]
  },
  {
   "cell_type": "code",
   "execution_count": null,
   "id": "5b10bd37-3960-4412-87c8-e42a77e00745",
   "metadata": {},
   "outputs": [],
   "source": [
    "dfy = dfy.groupby(\n",
    "    [\n",
    "        pd.Grouper(key='appointment_start', freq='d'),\n",
    "        'medical_specialty',\n",
    "        'clinic',\n",
    "    ],\n",
    "    as_index=False\n",
    ").agg(\n",
    "    {\n",
    "        'doctor': 'nunique',\n",
    "    }\n",
    ")\n"
   ]
  },
  {
   "cell_type": "code",
   "execution_count": null,
   "id": "84408d7a-c325-4968-9ba7-e790299fd1ff",
   "metadata": {},
   "outputs": [],
   "source": [
    "dfy = dfy.groupby(\n",
    "    [\n",
    "        'medical_specialty',\n",
    "        'clinic',\n",
    "    ],\n",
    "    as_index=False\n",
    ").agg(\n",
    "    {\n",
    "        'doctor': 'mean',\n",
    "    }\n",
    ")\n",
    "\n",
    "dfy"
   ]
  },
  {
   "cell_type": "markdown",
   "id": "bad74bf3-844b-46c2-9c9b-f4ee4f137654",
   "metadata": {
    "jp-MarkdownHeadingCollapsed": true
   },
   "source": [
    "---\n",
    "### No shows per specialty in 2023"
   ]
  },
  {
   "cell_type": "markdown",
   "id": "3532c892-4bb5-461b-b4cd-9e1aaa3fb799",
   "metadata": {
    "jp-MarkdownHeadingCollapsed": true
   },
   "source": [
    "###### \n",
    "###### Old calculation"
   ]
  },
  {
   "cell_type": "code",
   "execution_count": null,
   "id": "185a77a7-1911-4fe3-bd32-c5d194950271",
   "metadata": {},
   "outputs": [],
   "source": [
    "## Grouping data by clinic\n",
    "dfy = dfx.groupby(\n",
    "    [\n",
    "        'medical_specialty',\n",
    "        'appointment_status_simple',\n",
    "    ],\n",
    "    as_index=False\n",
    ").agg(\n",
    "    {\n",
    "        'appointment_id': 'count'\n",
    "    }\n",
    ")\n",
    "\n",
    "## Renaming aggregate column\n",
    "dfy.rename(columns={'appointment_id': 'count'}, inplace=True)"
   ]
  },
  {
   "cell_type": "code",
   "execution_count": null,
   "id": "af530db4-964c-4ed4-9ca5-06033aa317aa",
   "metadata": {},
   "outputs": [],
   "source": [
    "## Adding new column with proportions\n",
    "dfy[\"proportion\"] = dfy['count']/dfy.groupby([\"medical_specialty\"])[\"count\"].transform(\"sum\")"
   ]
  },
  {
   "cell_type": "code",
   "execution_count": null,
   "id": "843bfa74-71b4-472c-a0f2-10e55044a26d",
   "metadata": {},
   "outputs": [],
   "source": [
    "dfy.loc[dfy['appointment_status_simple'] == 'no_show', :].sort_values(by='proportion', ascending=False)"
   ]
  },
  {
   "cell_type": "code",
   "execution_count": null,
   "id": "8d1ffc8c-fd50-49ee-8745-69be547e4260",
   "metadata": {
    "scrolled": true
   },
   "outputs": [],
   "source": [
    "dfy"
   ]
  },
  {
   "cell_type": "code",
   "execution_count": null,
   "id": "851a5f86-5f46-41a3-b3ac-00857c6f751a",
   "metadata": {
    "scrolled": true
   },
   "outputs": [],
   "source": [
    "dfy"
   ]
  },
  {
   "cell_type": "markdown",
   "id": "e53fd1f4-ec3d-4bb6-8f5d-911d81fee7c9",
   "metadata": {
    "jp-MarkdownHeadingCollapsed": true
   },
   "source": [
    "---\n",
    "### How many of the no-shows are patients that were confirmed?"
   ]
  },
  {
   "cell_type": "code",
   "execution_count": null,
   "id": "9e89c624-e71d-40c2-894b-9b9a95ee51e4",
   "metadata": {},
   "outputs": [],
   "source": [
    "mr1 = dfy['appointment_status_simplified'] == 'no_show'\n",
    "mrs = mr1\n",
    "\n",
    "rc = [\n",
    "    'appointment_id',\n",
    "    'appointment_date',\n",
    "    'meta__confirmed_$date',\n",
    "]"
   ]
  },
  {
   "cell_type": "code",
   "execution_count": null,
   "id": "394f4a9d-1336-4815-9c2b-c7218b6c595f",
   "metadata": {
    "scrolled": true
   },
   "outputs": [],
   "source": [
    "dfy = dfx.loc[mrs, rc].copy()"
   ]
  },
  {
   "cell_type": "code",
   "execution_count": null,
   "id": "49ad0c57-873e-477a-80bc-34eedba05598",
   "metadata": {},
   "outputs": [],
   "source": [
    "dfy['meta__confirmed_$date'] = dfy['meta__confirmed_$date'].fillna('not_confirmed')"
   ]
  },
  {
   "cell_type": "code",
   "execution_count": null,
   "id": "db27f17b-5241-4cfe-b25f-acfea5d30d41",
   "metadata": {},
   "outputs": [],
   "source": [
    "dfy['meta__confirmed_$date'] = dfy['meta__confirmed_$date'].apply(lambda x: 'confirmed' if x != 'not_confirmed' else x)"
   ]
  },
  {
   "cell_type": "code",
   "execution_count": null,
   "id": "74a255df-f750-472a-8f45-688418ec71f1",
   "metadata": {},
   "outputs": [],
   "source": [
    "dfy = dfy.groupby(\n",
    "    [\n",
    "        pd.Grouper(key='appointment_date', freq='Y'),\n",
    "        'meta__confirmed_$date',\n",
    "    ]\n",
    ").agg(\n",
    "    'count'\n",
    ")\n",
    "\n",
    "dfy"
   ]
  },
  {
   "cell_type": "code",
   "execution_count": null,
   "id": "1fa129a1-9cd5-4c5e-ac9d-b5f6428bdaef",
   "metadata": {},
   "outputs": [],
   "source": [
    "## Adding new column with proportions per clinic\n",
    "dfy[\"proportion\"] = dfy['appointment_id']/dfy.groupby(['appointment_date'])[\"appointment_id\"].transform(\"sum\")"
   ]
  },
  {
   "cell_type": "code",
   "execution_count": null,
   "id": "afaaa524-57fe-40f9-aada-11236c41dc16",
   "metadata": {},
   "outputs": [],
   "source": [
    "dfy"
   ]
  },
  {
   "cell_type": "markdown",
   "id": "fb600b35-665d-4b27-a5b8-d6f3b45d4918",
   "metadata": {
    "jp-MarkdownHeadingCollapsed": true
   },
   "source": [
    "---\n",
    "### Appointments by channel"
   ]
  },
  {
   "cell_type": "code",
   "execution_count": null,
   "id": "4eca3904-1600-4bb7-929d-6b0135d7dc03",
   "metadata": {},
   "outputs": [],
   "source": [
    "mr1 = dfx['meta__created_$user'].notnull()\n",
    "mrs = mr1\n",
    "\n",
    "rc = [\n",
    "    'appointment_id',\n",
    "    'appointment_date',\n",
    "    'meta__created_$user',\n",
    "    'appointment_status_simplified',\n",
    "]"
   ]
  },
  {
   "cell_type": "code",
   "execution_count": null,
   "id": "6f9b97aa-282c-4001-b37e-96fd32be2d11",
   "metadata": {
    "scrolled": true
   },
   "outputs": [],
   "source": [
    "dfy = dfx.loc[mrs, rc].copy()"
   ]
  },
  {
   "cell_type": "code",
   "execution_count": null,
   "id": "e8f14485-7308-4f39-b1d3-ac859b95b02c",
   "metadata": {
    "scrolled": true
   },
   "outputs": [],
   "source": [
    "dfy['meta__created_$user'] = dfy['meta__created_$user'].apply(lambda x: 'online' if x == 'citas.online' else 'phone')"
   ]
  },
  {
   "cell_type": "code",
   "execution_count": null,
   "id": "28313d9e-65de-42ee-945b-3eb244948cb2",
   "metadata": {},
   "outputs": [],
   "source": [
    "dfy['meta__created_$user'].value_counts()"
   ]
  },
  {
   "cell_type": "code",
   "execution_count": null,
   "id": "772a13b5-37cd-4799-ad24-386188d98ae5",
   "metadata": {
    "scrolled": true
   },
   "outputs": [],
   "source": [
    "dfy[dfy['meta__created_$user'].str.contains('online')]"
   ]
  },
  {
   "cell_type": "code",
   "execution_count": null,
   "id": "3eac1903-656b-4bea-a175-9bd1bb64e79d",
   "metadata": {
    "scrolled": true
   },
   "outputs": [],
   "source": [
    "dfy['meta__created_$user'].unique()"
   ]
  },
  {
   "cell_type": "code",
   "execution_count": null,
   "id": "ddf4b2b5-e679-43d3-8e51-77f8f9785b63",
   "metadata": {},
   "outputs": [],
   "source": [
    "dfy[dfy['meta__created_$user'].str.contains('online')]['appointment_status_simplified'].value_counts()"
   ]
  },
  {
   "cell_type": "code",
   "execution_count": null,
   "id": "d7121647-865a-45df-b1e0-559d06fc8044",
   "metadata": {},
   "outputs": [],
   "source": []
  },
  {
   "cell_type": "code",
   "execution_count": null,
   "id": "b78d4adc-8469-45e4-9998-9e8ab751526f",
   "metadata": {},
   "outputs": [],
   "source": [
    "dfy['meta__created_$user'].info()"
   ]
  },
  {
   "cell_type": "code",
   "execution_count": null,
   "id": "aa270ef2-efdc-4be3-bbd1-c862cf61264e",
   "metadata": {},
   "outputs": [],
   "source": []
  },
  {
   "cell_type": "code",
   "execution_count": null,
   "id": "ca0dc5c9-8bf1-4c32-861c-e776c8837764",
   "metadata": {},
   "outputs": [],
   "source": [
    "dfx"
   ]
  },
  {
   "cell_type": "markdown",
   "id": "c9ee60d9-3dac-4799-a899-07bf6c2b702b",
   "metadata": {
    "jp-MarkdownHeadingCollapsed": true
   },
   "source": [
    "---\n",
    "### Specialties and lead time"
   ]
  },
  {
   "cell_type": "code",
   "execution_count": null,
   "id": "220e6829-dca1-4b13-88bb-f79cca5127d4",
   "metadata": {},
   "outputs": [],
   "source": [
    "## Params\n",
    "path = '../../pkg_dir/data/pickles/robs'\n",
    "name = 'dataset.pkl'\n",
    "\n",
    "\n",
    "## Reading extract object saved as pickle locally\n",
    "pkl_obj = path + \"/\" + name\n",
    "\n",
    "with open(pkl_obj, 'rb') as obj_content:\n",
    "    dfx = pickle.load(obj_content)"
   ]
  },
  {
   "cell_type": "code",
   "execution_count": null,
   "id": "c2d04344-0929-4ccc-8f8f-694a65226a87",
   "metadata": {},
   "outputs": [],
   "source": [
    "specialty = ['DERMATOLOGIA', 'GINECOLOGIA', 'OTORRINOLARINGOLOGIA', 'UROLOGIA', 'GASTROENTEROLOGIA', 'ENDOCRINOLOGIA']\n",
    "appt_status = ['cancel_patient', 'completed', 'no_show']"
   ]
  },
  {
   "cell_type": "code",
   "execution_count": null,
   "id": "29af63cd-f557-4e90-bba0-cbaf7c4a2e92",
   "metadata": {},
   "outputs": [],
   "source": [
    "dfx['appointment_status_simplified'].unique()"
   ]
  },
  {
   "cell_type": "code",
   "execution_count": null,
   "id": "a63398e5-531a-4413-88dd-9b8699f6f511",
   "metadata": {},
   "outputs": [],
   "source": [
    "mr1 = (dfx['creation_to_start_hrs'] > 0) & (dfx['creation_to_start_hrs'] < 12000)\n",
    "mr2 = dfx['medical_specialty'].isin(specialty)\n",
    "mr3 = dfx['appointment_status_simplified'].isin(appt_status)\n",
    "\n",
    "mrs = mr1 & mr2 & mr3\n",
    "\n",
    "rc = [\n",
    "    'appointment_id',\n",
    "    'medical_specialty',\n",
    "    'creation_to_start_hrs',\n",
    "    'appointment_status_simplified',\n",
    "]\n",
    "\n",
    "\n",
    "dfy = dfx.loc[mrs, rc].copy()"
   ]
  },
  {
   "cell_type": "code",
   "execution_count": null,
   "id": "ae4967e1-c6ed-42d1-ac30-c0c7984be6a8",
   "metadata": {},
   "outputs": [],
   "source": [
    "sns.boxplot(data=dfy, x=\"creation_to_start_hrs\", y=\"medical_specialty\")"
   ]
  },
  {
   "cell_type": "code",
   "execution_count": null,
   "id": "b15dc1fa-fe66-49be-8e06-728ae8eef9cf",
   "metadata": {},
   "outputs": [],
   "source": [
    "mr1 = (dfx['creation_to_start_hrs'] > 0) & (dfx['creation_to_start_hrs'] < 12000)\n",
    "mr2 = dfx['medical_specialty'].isin(specialty)\n",
    "mr3 = dfx['appointment_status_simplified'].isin(appt_status)\n",
    "\n",
    "mrs = mr1 & mr2 & mr3\n",
    "\n",
    "rc = [\n",
    "    'appointment_id',\n",
    "    'medical_specialty',\n",
    "    'creation_to_start_hrs',\n",
    "    'appointment_status_simplified',\n",
    "]\n",
    "\n",
    "\n",
    "dfy = dfx.loc[mrs, rc].copy()"
   ]
  },
  {
   "cell_type": "code",
   "execution_count": null,
   "id": "fba5747a-ba16-43bd-86f5-907147fe1e97",
   "metadata": {},
   "outputs": [],
   "source": [
    "sns.boxplot(data=dfy, x=\"creation_to_start_hrs\", y=\"medical_specialty\", hue='appointment_status_simplified')"
   ]
  },
  {
   "cell_type": "markdown",
   "id": "768b9191-e7f2-4d4b-9d06-a3c9e7da302e",
   "metadata": {},
   "source": [
    "---\n",
    "### How do appointments behave per time of day?"
   ]
  },
  {
   "cell_type": "markdown",
   "id": "8f782a9b-840d-4b1b-abec-4016d1f63703",
   "metadata": {
    "jp-MarkdownHeadingCollapsed": true
   },
   "source": [
    "##### \n",
    "##### All appointments"
   ]
  },
  {
   "cell_type": "code",
   "execution_count": null,
   "id": "96252ef9-656a-4d28-9035-5cf725b69b33",
   "metadata": {},
   "outputs": [],
   "source": [
    "mr1 = dfx['appointment_status_simplified'].isin(\n",
    "    [\n",
    "        'unused', \n",
    "        'completed', \n",
    "        'no_show', \n",
    "    ]\n",
    ")\n",
    "mr2 = dfx['appointment_date'].dt.weekday < 5 ## only weekdays\n",
    "mr3 = dfx['appointment_date'].dt.year == 2023 \n",
    "mrs = mr1 & mr2 & mr3\n",
    "\n",
    "rc = [\n",
    "    'appointment_id',\n",
    "    'appointment_date',\n",
    "    'appointment_start_time',\n",
    "    'appointment_status_simplified',\n",
    "]\n",
    "\n",
    "\n",
    "dfy = dfx.loc[mrs, rc].copy()"
   ]
  },
  {
   "cell_type": "code",
   "execution_count": null,
   "id": "1f00aa11-b805-4e21-b1b9-91df147bbb7a",
   "metadata": {},
   "outputs": [],
   "source": [
    "dfy['start_time'] = dfy['appointment_start_time'].str[:2].astype('float') + dfy['appointment_start_time'].str[-2:].astype('float')/60"
   ]
  },
  {
   "cell_type": "code",
   "execution_count": null,
   "id": "1b096c74-0053-4682-94f2-dcb2c178bfb7",
   "metadata": {},
   "outputs": [],
   "source": [
    "tr = 0.5\n",
    "bins = np.arange(0, 24 + tr, tr)\n",
    "dfy['st_bins'] = pd.cut(dfy['start_time'], bins)"
   ]
  },
  {
   "cell_type": "code",
   "execution_count": null,
   "id": "eef89c29-e0a0-4ec4-a9f1-76922de3591c",
   "metadata": {
    "scrolled": true
   },
   "outputs": [],
   "source": [
    "dfy.groupby(\n",
    "    [\n",
    "        # 'start_time',\n",
    "        'st_bins',\n",
    "    ],\n",
    "    as_index=False\n",
    ").agg(\n",
    "    {\n",
    "        'appointment_id': 'count',\n",
    "    }\n",
    ")"
   ]
  },
  {
   "cell_type": "code",
   "execution_count": null,
   "id": "5a30014f-3e07-4ce2-b0c9-d652cfb8da3b",
   "metadata": {},
   "outputs": [],
   "source": [
    "sns.histplot(\n",
    "    data=dfy, \n",
    "    x=\"start_time\",\n",
    "    bins=bins,\n",
    ")"
   ]
  },
  {
   "cell_type": "markdown",
   "id": "e32fa327-314b-4cb4-bc1c-1bb1c7044867",
   "metadata": {
    "jp-MarkdownHeadingCollapsed": true
   },
   "source": [
    "##### \n",
    "##### Separating by status"
   ]
  },
  {
   "cell_type": "code",
   "execution_count": null,
   "id": "2997c9a0-d574-4a31-a538-9eb7d79dfd83",
   "metadata": {},
   "outputs": [],
   "source": [
    "mr1 = dfx['appointment_status_simplified'].isin(\n",
    "    [\n",
    "        'unused', \n",
    "        'completed', \n",
    "        'no_show', \n",
    "    ]\n",
    ")\n",
    "mr2 = dfx['appointment_date'].dt.weekday < 5 ## only weekdays\n",
    "mr3 = dfx['appointment_date'].dt.year == 2023 ## only weekdays\n",
    "mrs = mr1 & mr2 & mr3\n",
    "\n",
    "rc = [\n",
    "    'appointment_id',\n",
    "    'appointment_date',\n",
    "    'appointment_start_time',\n",
    "    'appointment_status_simplified',\n",
    "]\n",
    "\n",
    "\n",
    "dfy = dfx.loc[mrs, rc].copy()"
   ]
  },
  {
   "cell_type": "code",
   "execution_count": null,
   "id": "f709aed7-f101-4e6b-a1e0-20395b216004",
   "metadata": {},
   "outputs": [],
   "source": [
    "dfy['start_time'] = dfy['appointment_start_time'].str[:2].astype('float') + dfy['appointment_start_time'].str[-2:].astype('float')/60"
   ]
  },
  {
   "cell_type": "code",
   "execution_count": null,
   "id": "cfe23001-dd69-43cb-964d-3146e3a672a1",
   "metadata": {},
   "outputs": [],
   "source": [
    "tr = 0.5\n",
    "bins = np.arange(0, 24 + tr, tr)\n",
    "dfy['st_bins'] = pd.cut(dfy['start_time'], bins)"
   ]
  },
  {
   "cell_type": "code",
   "execution_count": null,
   "id": "070ae901-e8ea-48a6-b128-782910cb42e4",
   "metadata": {
    "scrolled": true
   },
   "outputs": [],
   "source": [
    "dfy.groupby(\n",
    "    [\n",
    "        'appointment_status_simplified',\n",
    "        'st_bins',\n",
    "    ],\n",
    "    # as_index=False\n",
    ").agg(\n",
    "    {\n",
    "        'appointment_id': 'count',\n",
    "    }\n",
    ")"
   ]
  },
  {
   "cell_type": "code",
   "execution_count": null,
   "id": "464ab1fa-7ae9-43a3-9241-a5d37c75c129",
   "metadata": {},
   "outputs": [],
   "source": [
    "sns.histplot(\n",
    "    data=dfy, \n",
    "    x=\"start_time\",\n",
    "    bins=bins,\n",
    "    hue='appointment_status_simplified',\n",
    ")"
   ]
  },
  {
   "cell_type": "markdown",
   "id": "a7aeaf03-02ab-4d15-a622-2103f07a0ad2",
   "metadata": {
    "jp-MarkdownHeadingCollapsed": true
   },
   "source": [
    "##### \n",
    "##### Focusing on clinic"
   ]
  },
  {
   "cell_type": "code",
   "execution_count": null,
   "id": "bdac2f9a-51c7-4297-8361-92082122f0c9",
   "metadata": {},
   "outputs": [],
   "source": [
    "mr1 = dfx['appointment_status_simplified'].isin(\n",
    "    [\n",
    "        'unused', \n",
    "        'completed', \n",
    "        'no_show', \n",
    "    ]\n",
    ")\n",
    "mr2 = dfx['appointment_date'].dt.weekday < 5 ## only weekdays\n",
    "mr3 = dfx['appointment_date'].dt.year == 2023 ## only weekdays\n",
    "mr4 = dfx['clinic'] == 'BASILICA' \n",
    "mrs = mr1 & mr2 & mr3 & mr4\n",
    "\n",
    "rc = [\n",
    "    'appointment_id',\n",
    "    'appointment_date',\n",
    "    'appointment_start_time',\n",
    "    'appointment_status_simplified',\n",
    "]\n",
    "\n",
    "\n",
    "dfy = dfx.loc[mrs, rc].copy()"
   ]
  },
  {
   "cell_type": "code",
   "execution_count": null,
   "id": "cdaf8d86-88af-4b2d-84d2-e409aec6dddd",
   "metadata": {},
   "outputs": [],
   "source": [
    "dfy['start_time'] = dfy['appointment_start_time'].str[:2].astype('float') + dfy['appointment_start_time'].str[-2:].astype('float')/60"
   ]
  },
  {
   "cell_type": "code",
   "execution_count": null,
   "id": "a9678206-9aa9-4347-b5ff-86169eb36796",
   "metadata": {},
   "outputs": [],
   "source": [
    "tr = 1\n",
    "bins = np.arange(0, 24 + tr, tr)\n",
    "dfy['st_bins'] = pd.cut(dfy['start_time'], bins)"
   ]
  },
  {
   "cell_type": "code",
   "execution_count": null,
   "id": "92b70416-fe90-497e-8c38-b2246eb4119d",
   "metadata": {
    "scrolled": true
   },
   "outputs": [],
   "source": [
    "dfy.groupby(\n",
    "    [\n",
    "        'st_bins',\n",
    "    ],\n",
    "    as_index=False\n",
    ").agg(\n",
    "    {\n",
    "        'appointment_id': 'count',\n",
    "    }\n",
    ")"
   ]
  },
  {
   "cell_type": "code",
   "execution_count": null,
   "id": "e4a358f9-88ea-4fdc-9573-2e422391960f",
   "metadata": {},
   "outputs": [],
   "source": [
    "sns.histplot(\n",
    "    data=dfy, \n",
    "    x=\"start_time\",\n",
    "    bins=bins,\n",
    ")"
   ]
  },
  {
   "cell_type": "code",
   "execution_count": null,
   "id": "036041d5-7e61-48b0-9588-034d2fe21401",
   "metadata": {},
   "outputs": [],
   "source": [
    "sns.histplot(\n",
    "    data=dfy, \n",
    "    x=\"start_time\",\n",
    "    bins=bins,\n",
    "    hue='appointment_status_simplified',\n",
    "    # title='Clinic: Basilica',\n",
    ")"
   ]
  },
  {
   "cell_type": "markdown",
   "id": "f7f4b8a4-ba3e-4887-9fd1-0e629727e403",
   "metadata": {
    "jp-MarkdownHeadingCollapsed": true
   },
   "source": [
    "##### \n",
    "##### Focusing on clinic and specialty\n",
    "- `Any specialty` in `Any clinic`"
   ]
  },
  {
   "cell_type": "code",
   "execution_count": null,
   "id": "327a2859-63e8-4e4d-bcba-5cef38ec0c78",
   "metadata": {},
   "outputs": [],
   "source": [
    "## Params\n",
    "path = '../../pkg_dir/data/pickles/robs'\n",
    "name = 'dataset.pkl'\n",
    "\n",
    "\n",
    "## Reading extract object saved as pickle locally\n",
    "pkl_obj = path + \"/\" + name\n",
    "\n",
    "with open(pkl_obj, 'rb') as obj_content:\n",
    "    dfx = pickle.load(obj_content)"
   ]
  },
  {
   "cell_type": "code",
   "execution_count": null,
   "id": "86b707bd-cfce-4eb7-b32b-c57429403474",
   "metadata": {},
   "outputs": [],
   "source": [
    "dfx['appointment_start_hr'] = dfx['appointment_start'].dt.hour"
   ]
  },
  {
   "cell_type": "code",
   "execution_count": null,
   "id": "28f0d0cf-069f-4ffe-9cb8-ee3232dae172",
   "metadata": {},
   "outputs": [],
   "source": [
    "# specialty = 'DERMATOLOGIA'\n",
    "# specialty = 'GINECOLOGIA'\n",
    "# specialty = 'OTORRINOLARINGOLOGIA'\n",
    "specialty = 'UROLOGIA'"
   ]
  },
  {
   "cell_type": "code",
   "execution_count": null,
   "id": "39ef39bc-f532-45e0-9d5a-661859078b8a",
   "metadata": {},
   "outputs": [],
   "source": [
    "specialty = ['DERMATOLOGIA', 'GINECOLOGIA', 'OTORRINOLARINGOLOGIA', 'UROLOGIA', 'GASTROENTEROLOGIA', 'ENDOCRINOLOGIA']"
   ]
  },
  {
   "cell_type": "code",
   "execution_count": null,
   "id": "c209f2f8-aa00-454f-a2d1-53c4a5b43ce0",
   "metadata": {},
   "outputs": [],
   "source": [
    "mr1 = dfx['appointment_status_simplified'].isin(\n",
    "    [\n",
    "        'no_show', \n",
    "        'completed', \n",
    "        'unused', \n",
    "    ]\n",
    ")\n",
    "# mr2 = dfx['appointment_date'].dt.weekday < 5 ## only weekdays\n",
    "# mr3 = dfx['appointment_date'].dt.year == 2023 ## only weekdays\n",
    "# mr4 = dfx['clinic'] == 'BASILICA' \n",
    "# mr5 = dfx['medical_specialty'] == specialty\n",
    "mr5 = dfx['medical_specialty'].isin(specialty)\n",
    "\n",
    "# mrs = mr1 & mr2 & mr3 & mr4 & mr5\n",
    "# mrs = mr1 & mr2 & mr4 & mr5\n",
    "# mrs = mr1 & mr4 & mr5\n",
    "mrs = mr1 & mr5\n",
    "\n",
    "rc = [\n",
    "    'appointment_id',\n",
    "    'appointment_start',\n",
    "    'appointment_start_hr',\n",
    "    'appointment_status_simplified',\n",
    "]\n",
    "\n",
    "\n",
    "dfy = dfx.loc[mrs, rc].copy()"
   ]
  },
  {
   "cell_type": "code",
   "execution_count": null,
   "id": "afb3c833-a102-4921-bbfc-806eaf09d990",
   "metadata": {
    "scrolled": true
   },
   "outputs": [],
   "source": [
    "dfy = dfy.groupby(\n",
    "    [\n",
    "        'appointment_start_hr',\n",
    "        'appointment_status_simplified',\n",
    "    ],\n",
    "    as_index=False\n",
    ").agg(\n",
    "    {\n",
    "        'appointment_id': 'count',\n",
    "    }\n",
    ")\n",
    "\n",
    "# dfy"
   ]
  },
  {
   "cell_type": "code",
   "execution_count": null,
   "id": "bb3c79b9-b667-4552-9659-5110a6f080d9",
   "metadata": {},
   "outputs": [],
   "source": [
    "dfy = dfy.pivot(\n",
    "    index=['appointment_start_hr'], \n",
    "    columns=['appointment_status_simplified'], \n",
    "    values=['appointment_id'], \n",
    ").reset_index()\n",
    "\n",
    "dfy.columns = [\n",
    "    col[1] \n",
    "    if col[0] == 'appointment_id'\n",
    "    else col[0]\n",
    "    for col in dfy.columns\n",
    "]\n",
    "\n",
    "dfy.fillna(0, inplace=True)"
   ]
  },
  {
   "cell_type": "code",
   "execution_count": null,
   "id": "c7b1d5df-59f6-4a66-b1ac-b8740606701d",
   "metadata": {},
   "outputs": [],
   "source": [
    "dfy['total'] = dfy['completed'] + dfy['no_show'] + dfy['unused']\n",
    "dfy['total_used'] = dfy['completed'] + dfy['no_show']\n",
    "\n",
    "dfy['ns_ratio'] = dfy['no_show']/dfy['total_used']"
   ]
  },
  {
   "cell_type": "code",
   "execution_count": null,
   "id": "022f38c1-02ee-48b8-8016-cec7028f5816",
   "metadata": {},
   "outputs": [],
   "source": [
    "mr1 = dfy['ns_ratio'].notnull()\n",
    "mr2 = dfy['total_used'] > 100\n",
    "mrs = mr1 & mr2\n",
    "\n",
    "dfy = dfy.loc[mrs, :].copy()"
   ]
  },
  {
   "cell_type": "code",
   "execution_count": null,
   "id": "b61bb024-d283-4eab-90f5-4fff175fa602",
   "metadata": {},
   "outputs": [],
   "source": [
    "sns.barplot(\n",
    "    data=dfy, \n",
    "    x=\"appointment_start_hr\",\n",
    "    y=\"ns_ratio\",\n",
    ")"
   ]
  },
  {
   "cell_type": "markdown",
   "id": "1e4df4d0-3ed5-491d-94e2-c8062212494c",
   "metadata": {
    "jp-MarkdownHeadingCollapsed": true
   },
   "source": [
    "##### \n",
    "##### Focusing on clinic and specialty\n",
    "- `Gynecology` in Basilica"
   ]
  },
  {
   "cell_type": "code",
   "execution_count": null,
   "id": "bfaf0a07-30e6-49aa-9926-6668787af6b8",
   "metadata": {},
   "outputs": [],
   "source": [
    "## Params\n",
    "path = '../../pkg_dir/data/pickles/robs'\n",
    "name = 'dataset.pkl'\n",
    "\n",
    "\n",
    "## Reading extract object saved as pickle locally\n",
    "pkl_obj = path + \"/\" + name\n",
    "\n",
    "with open(pkl_obj, 'rb') as obj_content:\n",
    "    dfx = pickle.load(obj_content)"
   ]
  },
  {
   "cell_type": "code",
   "execution_count": null,
   "id": "89222e9f-d737-46ae-8790-939f9d99d88c",
   "metadata": {},
   "outputs": [],
   "source": [
    "dfx['appointment_start_hr'] = dfx['appointment_start'].dt.hour"
   ]
  },
  {
   "cell_type": "code",
   "execution_count": null,
   "id": "c77448a4-7ee9-419a-884e-cc3710fa5356",
   "metadata": {},
   "outputs": [],
   "source": [
    "mr1 = dfx['appointment_status_simplified'].isin(\n",
    "    [\n",
    "        'no_show', \n",
    "        'completed', \n",
    "        'unused', \n",
    "    ]\n",
    ")\n",
    "# mr2 = dfx['appointment_date'].dt.weekday < 5 ## only weekdays\n",
    "# mr3 = dfx['appointment_date'].dt.year == 2023 ## only weekdays\n",
    "mr4 = dfx['clinic'] == 'BASILICA' \n",
    "mr5 = dfx['medical_specialty'] == 'GINECOLOGIA'\n",
    "\n",
    "# mrs = mr1 & mr2 & mr3 & mr4 & mr5\n",
    "# mrs = mr1 & mr2 & mr4 & mr5\n",
    "mrs = mr1 & mr4 & mr5\n",
    "\n",
    "rc = [\n",
    "    'appointment_id',\n",
    "    'appointment_start',\n",
    "    'appointment_start_hr',\n",
    "    'appointment_status_simplified',\n",
    "]\n",
    "\n",
    "\n",
    "dfy = dfx.loc[mrs, rc].copy()"
   ]
  },
  {
   "cell_type": "code",
   "execution_count": null,
   "id": "66d444a7-4b6e-4439-aba8-3b7a5e64353f",
   "metadata": {
    "scrolled": true
   },
   "outputs": [],
   "source": [
    "dfy = dfy.groupby(\n",
    "    [\n",
    "        'appointment_start_hr',\n",
    "        'appointment_status_simplified',\n",
    "    ],\n",
    "    as_index=False\n",
    ").agg(\n",
    "    {\n",
    "        'appointment_id': 'count',\n",
    "    }\n",
    ")\n",
    "\n",
    "dfy"
   ]
  },
  {
   "cell_type": "code",
   "execution_count": null,
   "id": "11728df8-d5ae-46cc-a7f9-231949114710",
   "metadata": {},
   "outputs": [],
   "source": [
    "dfy = dfy.pivot(\n",
    "    index=['appointment_start_hr'], \n",
    "    columns=['appointment_status_simplified'], \n",
    "    values=['appointment_id'], \n",
    ").reset_index()\n",
    "\n",
    "dfy.columns = [\n",
    "    col[1] \n",
    "    if col[0] == 'appointment_id'\n",
    "    else col[0]\n",
    "    for col in dfy.columns\n",
    "]\n",
    "\n",
    "dfy.fillna(0, inplace=True)"
   ]
  },
  {
   "cell_type": "code",
   "execution_count": null,
   "id": "bb31fbf1-13a2-4888-96ae-7d2b3dc20f96",
   "metadata": {},
   "outputs": [],
   "source": [
    "dfy['total'] = dfy['completed'] + dfy['no_show'] + dfy['unused']\n",
    "dfy['total_used'] = dfy['completed'] + dfy['no_show']\n",
    "\n",
    "dfy['ns_ratio'] = dfy['no_show']/dfy['total_used']"
   ]
  },
  {
   "cell_type": "code",
   "execution_count": null,
   "id": "6992592d-f23f-4f5b-85a5-f50c5489c5c3",
   "metadata": {},
   "outputs": [],
   "source": [
    "sns.barplot(\n",
    "    data=dfy, \n",
    "    x=\"appointment_start_hr\",\n",
    "    y=\"ns_ratio\",\n",
    ")"
   ]
  },
  {
   "cell_type": "markdown",
   "id": "8b2b376c-1f1d-42da-8a34-e6043159634c",
   "metadata": {
    "jp-MarkdownHeadingCollapsed": true
   },
   "source": [
    "---\n",
    "### How do appointments behave per weekday?"
   ]
  },
  {
   "cell_type": "code",
   "execution_count": null,
   "id": "9c541b3c-bfec-4a10-b2d3-1dac853f8fd7",
   "metadata": {},
   "outputs": [],
   "source": [
    "## Params\n",
    "path = '../../pkg_dir/data/pickles/robs'\n",
    "name = 'dataset.pkl'\n",
    "\n",
    "\n",
    "## Reading extract object saved as pickle locally\n",
    "pkl_obj = path + \"/\" + name\n",
    "\n",
    "with open(pkl_obj, 'rb') as obj_content:\n",
    "    dfx = pickle.load(obj_content)"
   ]
  },
  {
   "cell_type": "code",
   "execution_count": null,
   "id": "0d883560-ca03-4deb-bc2e-656aad6ff8b8",
   "metadata": {},
   "outputs": [],
   "source": [
    "# specialty = 'DERMATOLOGIA'#, 'GINECOLOGIA', 'OTORRINOLARINGOLOGIA', 'UROLOGIA', 'GASTROENTEROLOGIA', 'ENDOCRINOLOGIA']\n",
    "specialty = 'GINECOLOGIA'#, 'OTORRINOLARINGOLOGIA', 'UROLOGIA', 'GASTROENTEROLOGIA', 'ENDOCRINOLOGIA']\n",
    "# specialty = ['DERMATOLOGIA', 'GINECOLOGIA', 'OTORRINOLARINGOLOGIA', 'UROLOGIA', 'GASTROENTEROLOGIA', 'ENDOCRINOLOGIA']"
   ]
  },
  {
   "cell_type": "code",
   "execution_count": null,
   "id": "e85da2ac-04f3-46f9-baf0-9986cfa2c6c1",
   "metadata": {},
   "outputs": [],
   "source": [
    "mr1 = dfx['appointment_status_simplified'].isin(\n",
    "    [\n",
    "        'unused', \n",
    "        'completed', \n",
    "        'no_show', \n",
    "    ]\n",
    ")\n",
    "# mr2 = dfx['appointment_start'].dt.year == 2023 ## only weekdays\n",
    "# mr2 = dfx['medical_specialty'].isin(specialty)\n",
    "mr2 = dfx['medical_specialty'] == specialty\n",
    "mrs = mr1 & mr2\n",
    "\n",
    "rc = [\n",
    "    'appointment_id',\n",
    "    'appointment_weekday',\n",
    "    'appointment_status_simplified',\n",
    "]\n",
    "\n",
    "\n",
    "dfy = dfx.loc[mrs, rc].copy()"
   ]
  },
  {
   "cell_type": "code",
   "execution_count": null,
   "id": "f374cb95-9774-4380-acda-004051dd53bb",
   "metadata": {
    "scrolled": true
   },
   "outputs": [],
   "source": [
    "dfy = dfy.groupby(\n",
    "    [\n",
    "        'appointment_weekday',\n",
    "        'appointment_status_simplified',\n",
    "    ],\n",
    "    as_index=False\n",
    ").agg(\n",
    "    {\n",
    "        'appointment_id': 'count',\n",
    "    }\n",
    ")"
   ]
  },
  {
   "cell_type": "code",
   "execution_count": null,
   "id": "afa2f7b0-fc0a-40e9-87d5-e4df56860bdb",
   "metadata": {},
   "outputs": [],
   "source": [
    "dfy = dfy.pivot(\n",
    "    index=['appointment_weekday'], \n",
    "    columns=['appointment_status_simplified'], \n",
    "    values=['appointment_id'], \n",
    ").reset_index()\n",
    "\n",
    "dfy.columns = [\n",
    "    col[1] \n",
    "    if col[0] == 'appointment_id'\n",
    "    else col[0]\n",
    "    for col in dfy.columns\n",
    "]"
   ]
  },
  {
   "cell_type": "code",
   "execution_count": null,
   "id": "cff7cb88-a6cf-40dc-a6be-9185d18b2ed8",
   "metadata": {},
   "outputs": [],
   "source": [
    "dfy['total_agenda'] = dfy['completed'] + dfy['no_show'] + dfy['unused']\n",
    "dfy['total_used'] = dfy['completed'] + dfy['no_show']\n",
    "\n",
    "dfy['ns_ratio'] = dfy['no_show']/dfy['total_used']\n",
    "dfy['occupation_ratio'] = 1 - dfy['unused']/dfy['total_agenda']"
   ]
  },
  {
   "cell_type": "code",
   "execution_count": null,
   "id": "094fc65a-c250-4722-834d-4a6d22f3e247",
   "metadata": {},
   "outputs": [],
   "source": [
    "sns.barplot(\n",
    "    data=dfy, \n",
    "    x=\"appointment_weekday\",\n",
    "    y=\"ns_ratio\",\n",
    ")"
   ]
  },
  {
   "cell_type": "markdown",
   "id": "8a07f335-3773-4aa5-b478-26686eb19863",
   "metadata": {
    "jp-MarkdownHeadingCollapsed": true
   },
   "source": [
    "---\n",
    "### What are the most popular times of day when appointments are scheduled"
   ]
  },
  {
   "cell_type": "markdown",
   "id": "418c8657-1902-4b12-a259-ec31973e0fd4",
   "metadata": {
    "jp-MarkdownHeadingCollapsed": true
   },
   "source": [
    "---\n",
    "### With how much time in advance are appointments confirmed?"
   ]
  },
  {
   "cell_type": "code",
   "execution_count": null,
   "id": "a8bf5b1c-422a-4e38-a8ec-cac0207b4ab9",
   "metadata": {},
   "outputs": [],
   "source": [
    "## Params\n",
    "path = '../../pkg_dir/data/pickles/robs'\n",
    "name = 'dataset.pkl'\n",
    "\n",
    "\n",
    "## Reading extract object saved as pickle locally\n",
    "pkl_obj = path + \"/\" + name\n",
    "\n",
    "with open(pkl_obj, 'rb') as obj_content:\n",
    "    dfx = pickle.load(obj_content)"
   ]
  },
  {
   "cell_type": "code",
   "execution_count": null,
   "id": "dd4ab500-68bb-4be1-ae20-8f91b48b4944",
   "metadata": {},
   "outputs": [],
   "source": [
    "mr1 = dfx['confirm_to_start_hrs'].notnull()\n",
    "mr2 = dfx['confirm_to_start_hrs'] <= 24*7\n",
    "mr3 = dfx['confirm_to_start_hrs'] >= 0\n",
    "mr4 = dfx['appointment_start'].dt.year == 2023\n",
    "mrs = mr1 & mr2 & mr3 & mr4\n",
    "\n",
    "rc = [\n",
    "    'appointment_id',\n",
    "    'appointment_start',\n",
    "    'confirm_to_start_hrs',\n",
    "    'appointment_status_simplified',\n",
    "]"
   ]
  },
  {
   "cell_type": "code",
   "execution_count": null,
   "id": "e0bae273-be51-435a-acbf-c70000562a5f",
   "metadata": {
    "scrolled": true
   },
   "outputs": [],
   "source": [
    "dfy = dfx.loc[mrs, rc].copy()"
   ]
  },
  {
   "cell_type": "code",
   "execution_count": null,
   "id": "59e60b56-923f-40fd-8039-54c00589fda2",
   "metadata": {},
   "outputs": [],
   "source": [
    "dfy['confirm_to_start_hrs'].plot(kind='hist', rwidth=0.8, bins=100)"
   ]
  },
  {
   "cell_type": "markdown",
   "id": "ec76a5d6-73ad-4450-9f4b-c9f6c51efada",
   "metadata": {
    "jp-MarkdownHeadingCollapsed": true
   },
   "source": [
    "---\n",
    "### Confirmation time and cancellations\n",
    "- When can we neglect cancellations as a label?"
   ]
  },
  {
   "cell_type": "code",
   "execution_count": null,
   "id": "d9ca4286-998b-4c51-9356-3ab4eb71f9ba",
   "metadata": {},
   "outputs": [],
   "source": [
    "## Params\n",
    "path = '../../pkg_dir/data/pickles/robs'\n",
    "name = 'dataset_v1.pkl'\n",
    "\n",
    "\n",
    "## Reading extract object saved as pickle locally\n",
    "pkl_obj = path + \"/\" + name\n",
    "\n",
    "with open(pkl_obj, 'rb') as obj_content:\n",
    "    dfx = pickle.load(obj_content)"
   ]
  },
  {
   "cell_type": "code",
   "execution_count": null,
   "id": "dca94074-3563-4308-b865-36bc040e4724",
   "metadata": {},
   "outputs": [],
   "source": [
    "mr1 = dfx['confirm_to_start_hrs'].notnull()\n",
    "mr2 = dfx['confirm_to_start_hrs'] <= 24\n",
    "mrs = mr1 & mr2\n",
    "\n",
    "rc = [\n",
    "    'appointment_id',\n",
    "    'appointment_start',\n",
    "    'confirm_to_start_hrs',\n",
    "    'appointment_status_simplified',\n",
    "]"
   ]
  },
  {
   "cell_type": "code",
   "execution_count": null,
   "id": "dc3d2836-ece9-49d9-9653-56761f8c3ec6",
   "metadata": {
    "scrolled": true
   },
   "outputs": [],
   "source": [
    "dfy = dfx.loc[mrs, rc].copy()"
   ]
  },
  {
   "cell_type": "code",
   "execution_count": null,
   "id": "45bf3ab6-cefe-4145-a4fb-814040ae3298",
   "metadata": {},
   "outputs": [],
   "source": [
    "dfy['confirm_to_start_hrs'].describe()"
   ]
  },
  {
   "cell_type": "code",
   "execution_count": null,
   "id": "b8ac7150-5a80-4dee-bd97-cfc9504e8e9c",
   "metadata": {
    "scrolled": true
   },
   "outputs": [],
   "source": [
    "dfy.groupby(\n",
    "    [\n",
    "        pd.Grouper(key='appointment_start', freq='Y'),\n",
    "        'appointment_status_simplified',\n",
    "    ],\n",
    ").agg(\n",
    "    {\n",
    "        'appointment_id': 'count',\n",
    "    }\n",
    ")"
   ]
  },
  {
   "cell_type": "code",
   "execution_count": null,
   "id": "fe6641c3-65d0-4293-af27-a8703bb511b4",
   "metadata": {},
   "outputs": [],
   "source": []
  },
  {
   "cell_type": "code",
   "execution_count": null,
   "id": "1120e641-5c1d-445b-908d-c0ac9ff860e2",
   "metadata": {},
   "outputs": [],
   "source": []
  },
  {
   "cell_type": "code",
   "execution_count": null,
   "id": "21c8b658-c2f6-4a8f-a81c-f070978d7f08",
   "metadata": {},
   "outputs": [],
   "source": []
  },
  {
   "cell_type": "markdown",
   "id": "fb3bb56c-d5b0-48f2-90e0-1598eed11175",
   "metadata": {
    "jp-MarkdownHeadingCollapsed": true
   },
   "source": [
    "---\n",
    "### What's the outcome of appointments that have a confirmation request message?"
   ]
  },
  {
   "cell_type": "markdown",
   "id": "a61ba649-229f-4274-97f6-8f2c9e870ddb",
   "metadata": {
    "jp-MarkdownHeadingCollapsed": true
   },
   "source": [
    "---\n",
    "### Patient recurrance"
   ]
  },
  {
   "cell_type": "markdown",
   "id": "24b01d87-007a-401e-8a10-1a17eb7d307c",
   "metadata": {
    "jp-MarkdownHeadingCollapsed": true
   },
   "source": [
    "##### Per speciality"
   ]
  },
  {
   "cell_type": "code",
   "execution_count": null,
   "id": "87059556-6c4e-4fdf-b628-44cc95c7df08",
   "metadata": {},
   "outputs": [],
   "source": [
    "## Params\n",
    "path = '../../pkg_dir/data/pickles/robs'\n",
    "name = 'dataset.pkl'\n",
    "\n",
    "\n",
    "## Reading extract object saved as pickle locally\n",
    "pkl_obj = path + \"/\" + name\n",
    "\n",
    "with open(pkl_obj, 'rb') as obj_content:\n",
    "    dfx = pickle.load(obj_content)"
   ]
  },
  {
   "cell_type": "code",
   "execution_count": null,
   "id": "9ab03349-7ade-44ce-9bbd-8d3632295644",
   "metadata": {},
   "outputs": [],
   "source": [
    "specialty = ['DERMATOLOGIA', 'GINECOLOGIA', 'OTORRINOLARINGOLOGIA', 'UROLOGIA', 'GASTROENTEROLOGIA', 'ENDOCRINOLOGIA']"
   ]
  },
  {
   "cell_type": "code",
   "execution_count": null,
   "id": "121757a9-2a3c-43fb-a52f-4d38b4d831cd",
   "metadata": {},
   "outputs": [],
   "source": [
    "mr1 = dfx['recurring_patient'].notnull()\n",
    "mr2 = dfx['medical_specialty'].isin(specialty)\n",
    "\n",
    "mrs = mr1 & mr2\n",
    "\n",
    "rc = [\n",
    "    'appointment_id',\n",
    "    'medical_specialty',\n",
    "    'recurring_patient',\n",
    "]\n",
    "\n",
    "\n",
    "dfy = dfx.loc[mrs, rc].copy()"
   ]
  },
  {
   "cell_type": "code",
   "execution_count": null,
   "id": "41c23c70-1ac4-41a3-aed4-2422a4e3088a",
   "metadata": {
    "scrolled": true
   },
   "outputs": [],
   "source": [
    "dfy = dfy.groupby(\n",
    "    [\n",
    "        'medical_specialty',\n",
    "        'recurring_patient',\n",
    "    ],\n",
    "    as_index=False\n",
    ").agg(\n",
    "    {\n",
    "        'appointment_id': 'count',\n",
    "    }\n",
    ")\n",
    "\n",
    "dfy['proportion'] = dfy['appointment_id']/dfy.groupby(['medical_specialty'])['appointment_id'].transform('sum')\n",
    "\n",
    "# dfy"
   ]
  },
  {
   "cell_type": "code",
   "execution_count": null,
   "id": "7e51f4f3-e618-4ae2-8175-5ba50a80ecb7",
   "metadata": {},
   "outputs": [],
   "source": [
    "# Medical specialties and their proportions of first-time and recurrent patients\n",
    "specialties = ['DERMATOLOGIA', 'GINECOLOGIA', 'OTORRINOLARINGOLOGIA', 'UROLOGIA', 'GASTROENTEROLOGIA', 'ENDOCRINOLOGIA']\n",
    "first_time_proportions = dfy.loc[dfy['recurring_patient'] == 'first', 'proportion']\n",
    "recurrent_proportions = dfy.loc[dfy['recurring_patient'] == 'recurrent', 'proportion']\n",
    "\n",
    "# Positions of each medical specialty\n",
    "ind = np.arange(len(specialties))\n",
    "\n",
    "# Width of the bars\n",
    "width = 0.5\n",
    "\n",
    "# Plotting the bars\n",
    "fig, ax = plt.subplots()\n",
    "bars_first_time = ax.bar(ind, first_time_proportions, width, label='First-time')\n",
    "bars_recurrent = ax.bar(ind, recurrent_proportions, width, bottom=first_time_proportions, label='Recurrent')\n",
    "\n",
    "# Adding labels, title, and custom x-axis tick labels, etc.\n",
    "ax.set_xlabel('Medical Specialty')\n",
    "ax.set_ylabel('Proportion')\n",
    "ax.set_title('Proportion of First-time and Recurrent Patients by Medical Specialty')\n",
    "ax.set_xticks(ind)\n",
    "ax.set_xticklabels(specialties, rotation=45, ha=\"right\")\n",
    "ax.legend()\n",
    "\n",
    "# Adding a legend\n",
    "ax.legend()\n",
    "\n",
    "plt.show()\n"
   ]
  },
  {
   "cell_type": "markdown",
   "id": "fb89e8bf-9058-4ede-86fa-a63bb8d9efeb",
   "metadata": {
    "jp-MarkdownHeadingCollapsed": true
   },
   "source": [
    "---\n",
    "### Patient recurrance affects no-shows?"
   ]
  },
  {
   "cell_type": "markdown",
   "id": "b14f2c14-8bce-43bc-a494-3788a2d233d4",
   "metadata": {
    "jp-MarkdownHeadingCollapsed": true
   },
   "source": [
    "##### V1 - no-shows vs completed"
   ]
  },
  {
   "cell_type": "code",
   "execution_count": null,
   "id": "d6975071-3722-4610-b631-ce675a83f132",
   "metadata": {},
   "outputs": [],
   "source": [
    "## Params\n",
    "path = '../../pkg_dir/data/pickles/robs'\n",
    "name = 'dataset_v1.pkl'\n",
    "\n",
    "\n",
    "## Reading extract object saved as pickle locally\n",
    "pkl_obj = path + \"/\" + name\n",
    "\n",
    "with open(pkl_obj, 'rb') as obj_content:\n",
    "    dfx = pickle.load(obj_content)"
   ]
  },
  {
   "cell_type": "code",
   "execution_count": null,
   "id": "eb11137b-5c00-4eab-8980-f0299a209c15",
   "metadata": {},
   "outputs": [],
   "source": [
    "mr1 = dfx['appointment_status_simplified'] != 'cancel'\n",
    "mrs = mr1\n",
    "\n",
    "rc = [\n",
    "    'appointment_id',\n",
    "    'recurring_patient',\n",
    "    'appointment_status_simplified',\n",
    "]"
   ]
  },
  {
   "cell_type": "code",
   "execution_count": null,
   "id": "c05cad87-836f-48ee-9ce3-8db62d43efa1",
   "metadata": {
    "scrolled": true
   },
   "outputs": [],
   "source": [
    "dfy = dfx.loc[mr1, rc].copy()"
   ]
  },
  {
   "cell_type": "code",
   "execution_count": null,
   "id": "efe78749-ece7-43ee-a237-cb196e1ea132",
   "metadata": {
    "scrolled": true
   },
   "outputs": [],
   "source": [
    "dfy = dfy.groupby(\n",
    "    [\n",
    "        # pd.Grouper(key='appointment_start', freq='Y'),\n",
    "        'recurring_patient',\n",
    "        'appointment_status_simplified',\n",
    "    ],\n",
    "    as_index=False\n",
    ").agg(\n",
    "    {\n",
    "        'appointment_id': 'count',\n",
    "    }\n",
    ")\n",
    "\n",
    "dfy[\"proportion\"] = dfy['appointment_id']/dfy.groupby(['recurring_patient'])[\"appointment_id\"].transform(\"sum\")\n",
    "dfy"
   ]
  },
  {
   "cell_type": "markdown",
   "id": "148d7254-0ae1-48a2-9bb7-d3befdaffeda",
   "metadata": {
    "jp-MarkdownHeadingCollapsed": true
   },
   "source": [
    "##### V5 - failed vs completed"
   ]
  },
  {
   "cell_type": "code",
   "execution_count": null,
   "id": "b9290334-7282-4dd4-b717-67e9aa0ffcf3",
   "metadata": {},
   "outputs": [],
   "source": [
    "## Params\n",
    "path = '../../pkg_dir/data/pickles/robs'\n",
    "name = 'dataset_v5.pkl'\n",
    "\n",
    "\n",
    "## Reading extract object saved as pickle locally\n",
    "pkl_obj = path + \"/\" + name\n",
    "\n",
    "with open(pkl_obj, 'rb') as obj_content:\n",
    "    dfx = pickle.load(obj_content)"
   ]
  },
  {
   "cell_type": "code",
   "execution_count": null,
   "id": "5162701d-bdff-40a4-8d17-93b19b9b71c4",
   "metadata": {},
   "outputs": [],
   "source": [
    "rc = [\n",
    "    'appointment_id',\n",
    "    'recurring_patient',\n",
    "    'appointment_status_simplified',\n",
    "]"
   ]
  },
  {
   "cell_type": "code",
   "execution_count": null,
   "id": "0572be9a-078b-462c-a2bd-9fd2aec06c1a",
   "metadata": {
    "scrolled": true
   },
   "outputs": [],
   "source": [
    "dfy = dfx.loc[:, rc].copy()"
   ]
  },
  {
   "cell_type": "code",
   "execution_count": null,
   "id": "77c48335-a2fe-459c-81f5-780e75c8c34c",
   "metadata": {
    "scrolled": true
   },
   "outputs": [],
   "source": [
    "dfy = dfy.groupby(\n",
    "    [\n",
    "        # pd.Grouper(key='appointment_start', freq='Y'),\n",
    "        'recurring_patient',\n",
    "        'appointment_status_simplified',\n",
    "    ],\n",
    "    as_index=False\n",
    ").agg(\n",
    "    {\n",
    "        'appointment_id': 'count',\n",
    "    }\n",
    ")\n",
    "\n",
    "dfy[\"proportion\"] = dfy['appointment_id']/dfy.groupby(['recurring_patient'])[\"appointment_id\"].transform(\"sum\")\n",
    "dfy"
   ]
  },
  {
   "cell_type": "markdown",
   "id": "735bc989-7756-4ada-bb2d-03627646c2f0",
   "metadata": {
    "jp-MarkdownHeadingCollapsed": true
   },
   "source": [
    "---\n",
    "### Age distribution"
   ]
  },
  {
   "cell_type": "markdown",
   "id": "07ccf545-92d5-42de-84a4-24b0f7ba814d",
   "metadata": {
    "jp-MarkdownHeadingCollapsed": true
   },
   "source": [
    "##### \n",
    "##### Focusing on clinic and specialty\n",
    "- `Any specialty` in `Any clinic`"
   ]
  },
  {
   "cell_type": "code",
   "execution_count": null,
   "id": "006979b4-f3bb-4984-a9c1-7d35998c91ec",
   "metadata": {},
   "outputs": [],
   "source": [
    "## Params\n",
    "path = '../../pkg_dir/data/pickles/robs'\n",
    "name = 'dataset.pkl'\n",
    "\n",
    "\n",
    "## Reading extract object saved as pickle locally\n",
    "pkl_obj = path + \"/\" + name\n",
    "\n",
    "with open(pkl_obj, 'rb') as obj_content:\n",
    "    dfx = pickle.load(obj_content)"
   ]
  },
  {
   "cell_type": "code",
   "execution_count": null,
   "id": "95317450-0e3a-4485-9bd4-002767dcf0df",
   "metadata": {},
   "outputs": [],
   "source": [
    "specialty = ['DERMATOLOGIA', 'GINECOLOGIA', 'OTORRINOLARINGOLOGIA', 'UROLOGIA', 'GASTROENTEROLOGIA', 'ENDOCRINOLOGIA']"
   ]
  },
  {
   "cell_type": "code",
   "execution_count": null,
   "id": "170de2ce-801d-4553-af38-4246e7eabb22",
   "metadata": {},
   "outputs": [],
   "source": [
    "mr1 = dfx['medical_specialty'].isin(specialty)\n",
    "mr2 = dfx['patient_age'].notnull()\n",
    "\n",
    "mrs = mr1 & mr2\n",
    "\n",
    "rc = [\n",
    "    'appointment_id',\n",
    "    'medical_specialty',\n",
    "    'patient_age',\n",
    "]\n",
    "\n",
    "\n",
    "dfy = dfx.loc[mrs, rc].copy()"
   ]
  },
  {
   "cell_type": "code",
   "execution_count": null,
   "id": "c713cc9b-5be9-4973-9ba1-96bf4d292681",
   "metadata": {},
   "outputs": [],
   "source": [
    "sns.boxplot(data=dfy, x=\"patient_age\", y=\"medical_specialty\")"
   ]
  },
  {
   "cell_type": "markdown",
   "id": "12e5154d-c3a0-4248-bddd-84b84ccf124b",
   "metadata": {},
   "source": [
    "---\n",
    "### How many of the cancellations by chatbot?"
   ]
  },
  {
   "cell_type": "markdown",
   "id": "dac12d16-8d6b-49cd-9e13-50b2cfb02456",
   "metadata": {
    "jp-MarkdownHeadingCollapsed": true
   },
   "source": [
    "---\n",
    "### Sex distribution"
   ]
  },
  {
   "cell_type": "code",
   "execution_count": 42,
   "id": "0e5087a5-86f5-4caa-b912-43a5900643d5",
   "metadata": {},
   "outputs": [],
   "source": [
    "## Params\n",
    "path = '../../pkg_dir/data/pickles/robs'\n",
    "name = 'dataset.pkl'\n",
    "\n",
    "\n",
    "## Reading extract object saved as pickle locally\n",
    "pkl_obj = path + \"/\" + name\n",
    "\n",
    "with open(pkl_obj, 'rb') as obj_content:\n",
    "    dfx = pickle.load(obj_content)"
   ]
  },
  {
   "cell_type": "code",
   "execution_count": 43,
   "id": "f18a22c6-4b18-4805-a21c-10202ed59da8",
   "metadata": {},
   "outputs": [],
   "source": [
    "specialty = ['DERMATOLOGIA', 'GINECOLOGIA', 'OTORRINOLARINGOLOGIA', 'UROLOGIA', 'GASTROENTEROLOGIA', 'ENDOCRINOLOGIA']"
   ]
  },
  {
   "cell_type": "code",
   "execution_count": 44,
   "id": "1ef0cbe3-8941-4054-9299-c81a3eb68fbd",
   "metadata": {},
   "outputs": [],
   "source": [
    "mr1 = dfx['patient_sex'].notnull()\n",
    "mr2 = dfx['medical_specialty'].isin(specialty)\n",
    "\n",
    "mrs = mr1 & mr2\n",
    "\n",
    "rc = [\n",
    "    'appointment_id',\n",
    "    'medical_specialty',\n",
    "    'patient_sex',\n",
    "]\n",
    "\n",
    "\n",
    "dfy = dfx.loc[mrs, rc].copy()"
   ]
  },
  {
   "cell_type": "code",
   "execution_count": null,
   "id": "f409d26c-57dd-4cd3-95b4-913b5d9d6674",
   "metadata": {
    "scrolled": true
   },
   "outputs": [],
   "source": [
    "dfy = dfy.groupby(\n",
    "    [\n",
    "        'medical_specialty',\n",
    "        'patient_sex',\n",
    "    ],\n",
    "    as_index=False\n",
    ").agg(\n",
    "    {\n",
    "        'appointment_id': 'count',\n",
    "    }\n",
    ")\n",
    "\n",
    "dfy['proportion'] = dfy['appointment_id']/dfy.groupby(['medical_specialty'])['appointment_id'].transform('sum')\n",
    "\n",
    "# dfy"
   ]
  },
  {
   "cell_type": "code",
   "execution_count": null,
   "id": "be66900c-27a5-4aa6-aea4-3ccf8bc4dc92",
   "metadata": {},
   "outputs": [],
   "source": [
    "# Medical specialties and their proportions of first-time and recurrent patients\n",
    "# specialties = ['DERMATOLOGIA', 'GINECOLOGIA', 'OTORRINOLARINGOLOGIA', 'UROLOGIA', 'GASTROENTEROLOGIA', 'ENDOCRINOLOGIA']\n",
    "specialties = dfy['medical_specialty'].unique()\n",
    "female_prop = dfy.loc[dfy['patient_sex'] == 'F', 'proportion']\n",
    "male_prop = dfy.loc[dfy['patient_sex'] == 'M', 'proportion']\n",
    "\n",
    "# Positions of each medical specialty\n",
    "ind = np.arange(len(specialties))\n",
    "\n",
    "# Width of the bars\n",
    "width = 0.5\n",
    "\n",
    "# Plotting the bars\n",
    "fig, ax = plt.subplots()\n",
    "bars_first_time = ax.bar(ind, female_prop, width, label='Female')\n",
    "bars_recurrent = ax.bar(ind, male_prop, width, bottom=female_prop, label='Male')\n",
    "\n",
    "# Adding labels, title, and custom x-axis tick labels, etc.\n",
    "ax.set_xlabel('Medical Specialty')\n",
    "ax.set_ylabel('Proportion')\n",
    "ax.set_title('Sex ditribution')\n",
    "ax.set_xticks(ind)\n",
    "ax.set_xticklabels(specialties, rotation=45, ha=\"right\")\n",
    "ax.legend()\n",
    "\n",
    "# Adding a legend\n",
    "ax.legend()\n",
    "\n",
    "plt.show()\n"
   ]
  },
  {
   "cell_type": "markdown",
   "id": "02959b8a-b5a8-47a9-8950-e89c584c81d7",
   "metadata": {},
   "source": [
    "---\n",
    "### Distribution of no shows throughout the day"
   ]
  },
  {
   "cell_type": "markdown",
   "id": "728d9071-62d5-4a0f-b7d7-ff024bf18689",
   "metadata": {
    "jp-MarkdownHeadingCollapsed": true
   },
   "source": [
    "##### Dermatology"
   ]
  },
  {
   "cell_type": "code",
   "execution_count": 84,
   "id": "000e8285-9f62-447d-953d-b94eae340387",
   "metadata": {},
   "outputs": [],
   "source": [
    "## Params\n",
    "path = '../../pkg_dir/data/pickles/robs'\n",
    "name = 'dataset.pkl'\n",
    "\n",
    "\n",
    "## Reading extract object saved as pickle locally\n",
    "pkl_obj = path + \"/\" + name\n",
    "\n",
    "with open(pkl_obj, 'rb') as obj_content:\n",
    "    dfx = pickle.load(obj_content)"
   ]
  },
  {
   "cell_type": "code",
   "execution_count": 85,
   "id": "792d321b-03a6-4afa-8d80-a0650df74b4d",
   "metadata": {},
   "outputs": [],
   "source": [
    "dfx['appointment_start_hr'] = dfx['appointment_start'].dt.hour\n",
    "# dfx['appointment_start_day'] = dfx['appointment_start'].dt.date"
   ]
  },
  {
   "cell_type": "code",
   "execution_count": 86,
   "id": "ce1c5955-b3ec-4d21-9d82-504312e954a7",
   "metadata": {},
   "outputs": [],
   "source": [
    "mr1 = dfx['medical_specialty'] == 'DERMATOLOGIA'\n",
    "mr2 = dfx['clinic'] == 'BASILICA'\n",
    "mr3 = dfx['appointment_status_simplified'] == 'no_show'\n",
    "\n",
    "mrs = mr1 & mr2 & mr3\n",
    "\n",
    "rc = [\n",
    "    'appointment_id',\n",
    "    'appointment_start',\n",
    "    'appointment_start_hr',\n",
    "]\n",
    "\n",
    "\n",
    "dfy = dfx.loc[mrs, rc].copy()"
   ]
  },
  {
   "cell_type": "code",
   "execution_count": 87,
   "id": "b9325e4b-f55d-40c6-824e-0e1f46bf5adc",
   "metadata": {
    "scrolled": true
   },
   "outputs": [],
   "source": [
    "dfy = dfy.groupby(\n",
    "    [\n",
    "        pd.Grouper(key='appointment_start', freq='d'),\n",
    "        'appointment_start_hr',\n",
    "    ],\n",
    "    as_index=False\n",
    ").agg(\n",
    "    {\n",
    "        'appointment_id': 'count',\n",
    "    }\n",
    ")\n"
   ]
  },
  {
   "cell_type": "code",
   "execution_count": 89,
   "id": "4106ac5a-ec52-45c9-b2ac-cf96a20b8b2a",
   "metadata": {
    "scrolled": true
   },
   "outputs": [],
   "source": [
    "dfy = dfy.groupby(\n",
    "    [\n",
    "        'appointment_start_hr',\n",
    "    ],\n",
    "    as_index=False\n",
    ").agg(\n",
    "    {\n",
    "        'appointment_id': 'mean',\n",
    "    }\n",
    ")\n"
   ]
  },
  {
   "cell_type": "code",
   "execution_count": null,
   "id": "ed549a57-a810-408c-917f-04bd4d6ced62",
   "metadata": {},
   "outputs": [],
   "source": []
  },
  {
   "cell_type": "markdown",
   "id": "bdf426a2-7363-4899-a753-f2d1ab63a957",
   "metadata": {},
   "source": [
    "---\n",
    "### How many days of the year went by with a no-show"
   ]
  },
  {
   "cell_type": "code",
   "execution_count": 102,
   "id": "0e278f38-741d-4d46-ab56-397cb2bf6fd3",
   "metadata": {},
   "outputs": [],
   "source": [
    "## Params\n",
    "path = '../../pkg_dir/data/pickles/robs'\n",
    "name = 'dataset.pkl'\n",
    "\n",
    "\n",
    "## Reading extract object saved as pickle locally\n",
    "pkl_obj = path + \"/\" + name\n",
    "\n",
    "with open(pkl_obj, 'rb') as obj_content:\n",
    "    dfx = pickle.load(obj_content)"
   ]
  },
  {
   "cell_type": "code",
   "execution_count": 103,
   "id": "1dcf7ff7-799b-48f9-92a4-860b21ff0c42",
   "metadata": {},
   "outputs": [],
   "source": [
    "mr1 = dfx['medical_specialty'] == 'DERMATOLOGIA'\n",
    "mr2 = dfx['clinic'] == 'BASILICA'\n",
    "mr3 = dfx['appointment_status_simplified'].isin(['completed', 'no_show', 'unused'])\n",
    "\n",
    "mrs = mr1 & mr2 & mr3\n",
    "\n",
    "rc = [\n",
    "    'appointment_id',\n",
    "    'appointment_start',\n",
    "    'appointment_status_simplified',\n",
    "]\n",
    "\n",
    "\n",
    "dfy = dfx.loc[mrs, rc].copy()"
   ]
  },
  {
   "cell_type": "code",
   "execution_count": 104,
   "id": "69e5e554-36a5-4ea0-8598-3e6580262d3a",
   "metadata": {
    "scrolled": true
   },
   "outputs": [],
   "source": [
    "dfy = dfy.groupby(\n",
    "    [\n",
    "        pd.Grouper(key='appointment_start', freq='d'),\n",
    "        'appointment_status_simplified',\n",
    "    ],\n",
    "    as_index=False\n",
    ").agg(\n",
    "    {\n",
    "        'appointment_id': 'count',\n",
    "    }\n",
    ")\n"
   ]
  },
  {
   "cell_type": "code",
   "execution_count": 105,
   "id": "8f8eb41e-86fc-4f3b-aabe-3d8c596a2f94",
   "metadata": {},
   "outputs": [],
   "source": [
    "dfy = dfy.pivot(\n",
    "    index=['appointment_start'], \n",
    "    columns=['appointment_status_simplified'], \n",
    "    values=['appointment_id'], \n",
    ").reset_index()\n",
    "\n",
    "dfy.columns = [\n",
    "    col[1] \n",
    "    if col[0] == 'appointment_id'\n",
    "    else col[0]\n",
    "    for col in dfy.columns\n",
    "]\n",
    "\n",
    "dfy.fillna(0, inplace=True)"
   ]
  },
  {
   "cell_type": "code",
   "execution_count": 109,
   "id": "23286c23-153d-4a8e-b606-2a6f3f056cf9",
   "metadata": {},
   "outputs": [],
   "source": [
    "dfy['total'] = dfy['completed'] + dfy['no_show'] + dfy['unused']\n",
    "dfy['total_bool'] = dfy['total'].apply(lambda x: 1 if x > 0 else 0)\n",
    "dfy['no_show_bool'] = dfy['no_show'].apply(lambda x: 1 if x > 0 else 0)"
   ]
  },
  {
   "cell_type": "code",
   "execution_count": 111,
   "id": "869ceb61-ff29-4373-99fd-4a301e6fa112",
   "metadata": {},
   "outputs": [
    {
     "data": {
      "text/plain": [
       "no_show_bool\n",
       "1    0.990307\n",
       "0    0.009693\n",
       "Name: proportion, dtype: float64"
      ]
     },
     "execution_count": 111,
     "metadata": {},
     "output_type": "execute_result"
    }
   ],
   "source": [
    "dfy['no_show_bool'].value_counts(normalize=True)"
   ]
  },
  {
   "cell_type": "code",
   "execution_count": 112,
   "id": "e44075ad-ba8b-49d8-84a4-af8f12c21abb",
   "metadata": {
    "scrolled": true
   },
   "outputs": [
    {
     "data": {
      "text/html": [
       "<div>\n",
       "<style scoped>\n",
       "    .dataframe tbody tr th:only-of-type {\n",
       "        vertical-align: middle;\n",
       "    }\n",
       "\n",
       "    .dataframe tbody tr th {\n",
       "        vertical-align: top;\n",
       "    }\n",
       "\n",
       "    .dataframe thead th {\n",
       "        text-align: right;\n",
       "    }\n",
       "</style>\n",
       "<table border=\"1\" class=\"dataframe\">\n",
       "  <thead>\n",
       "    <tr style=\"text-align: right;\">\n",
       "      <th></th>\n",
       "      <th>appointment_start</th>\n",
       "      <th>total_bool</th>\n",
       "      <th>no_show_bool</th>\n",
       "    </tr>\n",
       "  </thead>\n",
       "  <tbody>\n",
       "    <tr>\n",
       "      <th>0</th>\n",
       "      <td>2022-12-31</td>\n",
       "      <td>304</td>\n",
       "      <td>301</td>\n",
       "    </tr>\n",
       "    <tr>\n",
       "      <th>1</th>\n",
       "      <td>2023-12-31</td>\n",
       "      <td>315</td>\n",
       "      <td>312</td>\n",
       "    </tr>\n",
       "  </tbody>\n",
       "</table>\n",
       "</div>"
      ],
      "text/plain": [
       "  appointment_start  total_bool  no_show_bool\n",
       "0        2022-12-31         304           301\n",
       "1        2023-12-31         315           312"
      ]
     },
     "execution_count": 112,
     "metadata": {},
     "output_type": "execute_result"
    }
   ],
   "source": [
    "dfy.groupby(\n",
    "    [\n",
    "        pd.Grouper(key='appointment_start', freq='Y'),\n",
    "    ],\n",
    "    as_index=False\n",
    ").agg(\n",
    "    {\n",
    "        'total_bool': 'sum',\n",
    "        'no_show_bool': 'sum',\n",
    "    }\n",
    ")\n"
   ]
  },
  {
   "cell_type": "code",
   "execution_count": null,
   "id": "ce39a2d8-bc70-4ec9-8707-d2bd0830afe8",
   "metadata": {},
   "outputs": [],
   "source": []
  },
  {
   "cell_type": "code",
   "execution_count": null,
   "id": "22884fb0-1766-4609-b766-fd5d047d1f54",
   "metadata": {},
   "outputs": [],
   "source": []
  },
  {
   "cell_type": "markdown",
   "id": "8f0552f9-de94-416e-a79e-a3c3bd0a68eb",
   "metadata": {},
   "source": [
    "---\n",
    "### xxx"
   ]
  },
  {
   "cell_type": "markdown",
   "id": "0cd321aa-a082-4834-b06a-77c6db1a803c",
   "metadata": {
    "jp-MarkdownHeadingCollapsed": true
   },
   "source": [
    "---\n",
    "---\n",
    "# Solving questions - cancelations"
   ]
  },
  {
   "cell_type": "code",
   "execution_count": null,
   "id": "cbdd542f-ab6e-47ad-be16-a2b738804299",
   "metadata": {},
   "outputs": [],
   "source": [
    "## Params\n",
    "path = '../../pkg_dir/data/pickles/robs'\n",
    "name = 'dataset.pkl'\n",
    "\n",
    "\n",
    "## Reading extract object saved as pickle locally\n",
    "pkl_obj = path + \"/\" + name\n",
    "\n",
    "with open(pkl_obj, 'rb') as obj_content:\n",
    "    dfx = pickle.load(obj_content)"
   ]
  },
  {
   "cell_type": "markdown",
   "id": "4a44cf6a-dec5-4d40-8d5f-200a6e53fd46",
   "metadata": {
    "jp-MarkdownHeadingCollapsed": true
   },
   "source": [
    "---\n",
    "### What is the cancellation rate\n",
    "- How many cancellations per employee are there in a day per number of used spots (no-show & completed)"
   ]
  },
  {
   "cell_type": "code",
   "execution_count": null,
   "id": "5bfd6600-7abf-4a6a-abbf-67e2f588d181",
   "metadata": {},
   "outputs": [],
   "source": [
    "# mr1 = dfx['appointment_status_simplified'].isin(['unused', 'completed', 'no_show'])\n",
    "mr1 = dfx['appointment_status_simplified'].isin(['completed', 'no_show'])\n",
    "mr2 = dfx['appointment_start'].dt.year == 2023\n",
    "mrs = mr1 & mr2\n",
    "\n",
    "rc = ['appointment_status_simplified', 'appointment_id']"
   ]
  },
  {
   "cell_type": "code",
   "execution_count": null,
   "id": "df7ee8a1-bbc8-4f32-9d6f-768f0c1f758a",
   "metadata": {},
   "outputs": [],
   "source": [
    "dfx.loc[mrs, 'appointment_status_simplified'].value_counts()"
   ]
  },
  {
   "cell_type": "code",
   "execution_count": null,
   "id": "8d751998-7755-49f2-9372-c7213b426f04",
   "metadata": {},
   "outputs": [],
   "source": [
    "dfx.loc[mrs, 'appointment_status_simplified'].value_counts(normalize=True)"
   ]
  },
  {
   "cell_type": "code",
   "execution_count": null,
   "id": "38e50d6e-6199-49fe-a30c-e67ba08a75a7",
   "metadata": {},
   "outputs": [],
   "source": [
    "#2022\n",
    "31176 / (31176 + 103480)"
   ]
  },
  {
   "cell_type": "code",
   "execution_count": null,
   "id": "6c8080e4-edb4-4aaa-bf8e-6b3aa3051aa2",
   "metadata": {},
   "outputs": [],
   "source": [
    "#2023\n",
    "25653 / (25653 + 138654)"
   ]
  },
  {
   "cell_type": "code",
   "execution_count": null,
   "id": "d7ddbb9f-2f81-422e-9063-c1fdd9a932ad",
   "metadata": {
    "scrolled": true
   },
   "outputs": [],
   "source": [
    "dfx"
   ]
  },
  {
   "cell_type": "code",
   "execution_count": null,
   "id": "b9951fa9-e402-476a-8e01-6df34bd62ca9",
   "metadata": {},
   "outputs": [],
   "source": []
  },
  {
   "cell_type": "markdown",
   "id": "8025d022-a710-4465-8964-7e188b3720a6",
   "metadata": {},
   "source": [
    "---\n",
    "---\n",
    "# Notes"
   ]
  },
  {
   "cell_type": "markdown",
   "id": "9832e587-f475-49f4-9a59-3c6967d8bd39",
   "metadata": {
    "jp-MarkdownHeadingCollapsed": true
   },
   "source": [
    "### Duplicated values"
   ]
  },
  {
   "cell_type": "code",
   "execution_count": null,
   "id": "fe3a6eeb-7c44-4e47-814d-bfe04e8e161e",
   "metadata": {
    "scrolled": true
   },
   "outputs": [],
   "source": [
    "dfx.loc[dfx[['appointment_id']].duplicated(keep=False), :].sort_values('appointment_id')"
   ]
  },
  {
   "cell_type": "markdown",
   "id": "2812bbba-29ed-493c-ba4a-609a077db3a7",
   "metadata": {
    "jp-MarkdownHeadingCollapsed": true
   },
   "source": [
    "### Executing custom query"
   ]
  },
  {
   "cell_type": "code",
   "execution_count": null,
   "id": "ca76408d-0e5d-47f5-8553-1d812ddaedae",
   "metadata": {},
   "outputs": [],
   "source": [
    "sql_string = \"\"\"\n",
    "SELECT cita.citaid as appointment_id\n",
    "\n",
    "FROM cita\n",
    "\n",
    "WHERE citafecha >= '2000-11-03'\n",
    "  AND citafecha <= '2021-01-01'\n",
    "\n",
    "ORDER BY\n",
    "    citafecha DESC\n",
    "\n",
    "LIMIT 10\n",
    "\n",
    ";\n",
    "\"\"\""
   ]
  },
  {
   "cell_type": "code",
   "execution_count": null,
   "id": "d6451fc8-c09d-4b42-9a45-a5ee9cdd8d2c",
   "metadata": {},
   "outputs": [],
   "source": [
    "dfx = sql_string_to_df(db_crds, sql_string)\n",
    "\n",
    "dfx.rename(\n",
    "    columns={\n",
    "        0: \"appointment_id\",\n",
    "    }, \n",
    "    inplace=True\n",
    ")"
   ]
  },
  {
   "cell_type": "markdown",
   "id": "4ba06b21-37fc-4a06-8c2b-7bfba813c2e9",
   "metadata": {
    "jp-MarkdownHeadingCollapsed": true
   },
   "source": [
    "### Number of total appointments"
   ]
  },
  {
   "cell_type": "code",
   "execution_count": null,
   "id": "5aab90a7-3cde-4468-86db-be8bf8be60f1",
   "metadata": {},
   "outputs": [],
   "source": [
    "mr1 = dfx['appointment_status_simplified'].isin(\n",
    "    [\n",
    "        'completed', \n",
    "    ]\n",
    ")\n",
    "# mr2 = dfx['appointment_date'].dt.weekday < 5 ## only weekdays\n",
    "mrs = mr1# & mr2\n",
    "\n",
    "rc = [\n",
    "    'appointment_id',\n",
    "    'appointment_date',\n",
    "    'clinic',\n",
    "    'doctor',\n",
    "    'medical_specialty',\n",
    "    'appointment_status_simplified',\n",
    "]"
   ]
  },
  {
   "cell_type": "code",
   "execution_count": null,
   "id": "1f87ff01-4647-460e-9cf3-663ab601796f",
   "metadata": {
    "scrolled": true
   },
   "outputs": [],
   "source": [
    "dfy = dfx.loc[mrs, rc].copy()"
   ]
  },
  {
   "cell_type": "code",
   "execution_count": null,
   "id": "0cdc9ac5-24b6-436e-b0b3-624499c51a57",
   "metadata": {
    "scrolled": true
   },
   "outputs": [],
   "source": [
    "dfy2 = dfy.groupby(\n",
    "    [\n",
    "        # pd.Grouper(key='appointment_date', freq='W'),\n",
    "        'appointment_date',\n",
    "        'clinic',\n",
    "    ],\n",
    "    as_index=False\n",
    ").agg(\n",
    "    {\n",
    "        'doctor': 'nunique'\n",
    "    }\n",
    ")\n",
    "\n",
    "dfy2[-25:]"
   ]
  },
  {
   "cell_type": "code",
   "execution_count": null,
   "id": "e3ba67f4-5e9b-497e-8261-f15b0e29b9c9",
   "metadata": {},
   "outputs": [],
   "source": [
    "dfy2.groupby(\n",
    "    [\n",
    "        pd.Grouper(key='appointment_date', freq='Y'),\n",
    "    ]\n",
    ").agg(\n",
    "    {\n",
    "        'appointment_status_simplified': 'mean'\n",
    "    }\n",
    ")"
   ]
  },
  {
   "cell_type": "code",
   "execution_count": null,
   "id": "b9643b4f-3aba-4d90-9d7b-69b379494dbd",
   "metadata": {},
   "outputs": [],
   "source": [
    "dfy = dfy.groupby(\n",
    "    [\n",
    "        'appointment_date',\n",
    "        'medical_specialty',\n",
    "        'appointment_status_simplified',\n",
    "    ],\n",
    "    as_index=False\n",
    ").agg(\n",
    "    {\n",
    "        'appointment_id': 'count',\n",
    "    }\n",
    ")\n",
    "\n",
    "dfy"
   ]
  },
  {
   "cell_type": "markdown",
   "id": "5bc037f4-72e6-4adf-94b6-bfa22ef896ef",
   "metadata": {},
   "source": [
    "### xxx"
   ]
  },
  {
   "cell_type": "markdown",
   "id": "cb20679a-0ba8-4b24-a9fe-59efd25110ac",
   "metadata": {},
   "source": [
    "---"
   ]
  },
  {
   "cell_type": "markdown",
   "id": "c64e3412-94ba-4d74-aa3a-f771441d83d9",
   "metadata": {},
   "source": [
    "---"
   ]
  }
 ],
 "metadata": {
  "kernelspec": {
   "display_name": "Python 3 (ipykernel)",
   "language": "python",
   "name": "python3"
  },
  "language_info": {
   "codemirror_mode": {
    "name": "ipython",
    "version": 3
   },
   "file_extension": ".py",
   "mimetype": "text/x-python",
   "name": "python",
   "nbconvert_exporter": "python",
   "pygments_lexer": "ipython3",
   "version": "3.9.1"
  }
 },
 "nbformat": 4,
 "nbformat_minor": 5
}
