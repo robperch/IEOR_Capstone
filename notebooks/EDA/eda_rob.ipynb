{
 "cells": [
  {
   "cell_type": "markdown",
   "id": "b362e6fb-bbbb-4fe3-8093-ce5cb7011d38",
   "metadata": {},
   "source": [
    "# EDA | Problem exploration\n",
    "---\n",
    "---"
   ]
  },
  {
   "cell_type": "markdown",
   "id": "271b4d9f-7fb1-4277-869c-7e1f224c0214",
   "metadata": {},
   "source": [
    "# Imports"
   ]
  },
  {
   "cell_type": "markdown",
   "id": "64661518-3244-423d-9d0a-169f8cd5881a",
   "metadata": {},
   "source": [
    "#### Standard library imports"
   ]
  },
  {
   "cell_type": "code",
   "execution_count": 127,
   "id": "84e8892a-724d-4120-9271-2e6cfa8efff5",
   "metadata": {},
   "outputs": [],
   "source": [
    "import sys\n",
    "sys.path.append(\"../../\")\n",
    "import pickle"
   ]
  },
  {
   "cell_type": "markdown",
   "id": "eb79d938-3938-4b57-a6dd-67218b812f55",
   "metadata": {},
   "source": [
    "#### Third party imports"
   ]
  },
  {
   "cell_type": "code",
   "execution_count": 128,
   "id": "8779b474-7192-447e-949e-abc2ff159ba2",
   "metadata": {},
   "outputs": [],
   "source": [
    "import pandas as pd\n",
    "pd.set_option('display.max_columns', 50)\n",
    "import numpy as np\n",
    "import seaborn as sns\n",
    "import matplotlib.pyplot as plt"
   ]
  },
  {
   "cell_type": "markdown",
   "id": "cacb339f-23dc-48ee-a599-b436d6dc7072",
   "metadata": {},
   "source": [
    "#### Local application imports"
   ]
  },
  {
   "cell_type": "code",
   "execution_count": 129,
   "id": "bee67dd7-757f-446b-8e4f-8b1099edf963",
   "metadata": {},
   "outputs": [
    {
     "name": "stdout",
     "output_type": "stream",
     "text": [
      "The autoreload extension is already loaded. To reload it, use:\n",
      "  %reload_ext autoreload\n"
     ]
    }
   ],
   "source": [
    "%load_ext autoreload\n",
    "%autoreload 2\n",
    "\n",
    "from pkg_dir.config import *\n",
    "from pkg_dir.src.utils import *\n",
    "from pkg_dir.src.functions import *\n",
    "from pkg_dir.src.parameters import *"
   ]
  },
  {
   "cell_type": "markdown",
   "id": "809f9334-3df5-425c-bf6b-8fba14fc922a",
   "metadata": {},
   "source": [
    "# Extracting data"
   ]
  },
  {
   "cell_type": "markdown",
   "id": "578d10b7-7437-4c89-b43b-dd70d93dc644",
   "metadata": {},
   "source": [
    "## 2022-2023 Dataset"
   ]
  },
  {
   "cell_type": "code",
   "execution_count": null,
   "id": "c741e22b-6faa-4be5-87e5-f0ee78aeaac2",
   "metadata": {},
   "outputs": [],
   "source": [
    "## Params\n",
    "path = '../../pkg_dir/data/pickles/robs'\n",
    "name = 'dataset.pkl'\n",
    "\n",
    "\n",
    "## Reading extract object saved as pickle locally\n",
    "pkl_obj = path + \"/\" + name\n",
    "\n",
    "with open(pkl_obj, 'rb') as obj_content:\n",
    "    dfx = pickle.load(obj_content)"
   ]
  },
  {
   "cell_type": "code",
   "execution_count": null,
   "id": "976017c7-d355-474f-a868-b7e9ceceb3fd",
   "metadata": {
    "scrolled": true
   },
   "outputs": [],
   "source": [
    "dfx"
   ]
  },
  {
   "cell_type": "markdown",
   "id": "a906faec-2275-4443-8a25-525013bcfcd9",
   "metadata": {
    "jp-MarkdownHeadingCollapsed": true
   },
   "source": [
    "## Query"
   ]
  },
  {
   "cell_type": "code",
   "execution_count": null,
   "id": "1497b035-e9f8-4759-9dcd-45b9256749fc",
   "metadata": {
    "editable": true,
    "slideshow": {
     "slide_type": ""
    },
    "tags": []
   },
   "outputs": [],
   "source": [
    "## Function parameters\n",
    "db_crds = 'pc_db_prod'\n",
    "sql_files_path = '../../pkg_dir/sql/'\n",
    "sql_script = 'appointments.sql'\n",
    "sql_params = sql_params_appointments"
   ]
  },
  {
   "cell_type": "code",
   "execution_count": null,
   "id": "565e4e0f-a627-47dc-9943-07549493da4b",
   "metadata": {
    "editable": true,
    "slideshow": {
     "slide_type": ""
    },
    "tags": []
   },
   "outputs": [],
   "source": [
    "dfx = sql_to_df(db_crds, sql_files_path, sql_script, sql_params)"
   ]
  },
  {
   "cell_type": "code",
   "execution_count": null,
   "id": "b152b32a-857b-4c04-b5be-ca188524a5f4",
   "metadata": {
    "editable": true,
    "slideshow": {
     "slide_type": ""
    },
    "tags": []
   },
   "outputs": [],
   "source": [
    "## Reference to simplify labels in appointment status\n",
    "values_map = {\n",
    "    \n",
    "    'COMPLETADA': 'completed',\n",
    "    'SALA_ESPERA': 'completed',\n",
    "    'CONSULTA': 'completed',\n",
    "    'CONFIRMADO_PAGO': 'completed',\n",
    "\n",
    "    'NO_PRESENTO': 'no_show',\n",
    "    'MENSAJE_DEJADO': 'no_show',\n",
    "    'NO_CONFIRMADO': 'no_show',\n",
    "    'CONFIRMADO': 'no_show',\n",
    "    'LLEGA_TARDE_ESPERA': 'no_show',\n",
    "    'REAGENDAR': 'no_show',\n",
    "    \n",
    "}"
   ]
  },
  {
   "cell_type": "code",
   "execution_count": null,
   "id": "52574198-700e-49b0-9de8-61282efdffbd",
   "metadata": {},
   "outputs": [],
   "source": [
    "## Mapping values according to reference\n",
    "dfx['appointment_status_simple'] = dfx['appointment_status'].map(values_map).fillna(dfx['appointment_status'])"
   ]
  },
  {
   "cell_type": "code",
   "execution_count": null,
   "id": "7b422af6-cf2a-4f08-b550-552910855319",
   "metadata": {},
   "outputs": [],
   "source": [
    "## Formatting appointment date\n",
    "dfx['appointment_date'] = pd.to_datetime(dfx['appointment_date'])"
   ]
  },
  {
   "cell_type": "markdown",
   "id": "6f383c7d-3e82-4d7d-918d-6ffaddc28611",
   "metadata": {},
   "source": [
    "# Solving questions - no shows"
   ]
  },
  {
   "cell_type": "markdown",
   "id": "4b019db3-5a01-4332-8a56-7142e80bad69",
   "metadata": {},
   "source": [
    "---\n",
    "### What was the no-show rate in 2023?"
   ]
  },
  {
   "cell_type": "markdown",
   "id": "3d5fb9d8-8309-44aa-ae71-0fa7cf70ec73",
   "metadata": {
    "jp-MarkdownHeadingCollapsed": true
   },
   "source": [
    "##### \n",
    "##### Using query"
   ]
  },
  {
   "cell_type": "code",
   "execution_count": null,
   "id": "9b3832b5-0bc5-42a2-b67d-bd828a4f5ea9",
   "metadata": {},
   "outputs": [],
   "source": [
    "sql_string = \"\"\"\n",
    "SELECT cita.citaid as appointment_id\n",
    "\n",
    "FROM cita\n",
    "\n",
    "WHERE citafecha >= '2000-11-03'\n",
    "  AND citafecha <= '2021-01-01'\n",
    "\n",
    "ORDER BY\n",
    "    citafecha DESC\n",
    "\n",
    "LIMIT 10\n",
    "\n",
    ";\n",
    "\"\"\""
   ]
  },
  {
   "cell_type": "code",
   "execution_count": null,
   "id": "07b58316-ed5b-4dbd-bb5c-74ef3f47553a",
   "metadata": {},
   "outputs": [],
   "source": [
    "dfx = sql_string_to_df(db_crds, sql_string)\n",
    "\n",
    "dfx.rename(\n",
    "    columns={\n",
    "        0: \"appointment_id\",\n",
    "    }, \n",
    "    inplace=True\n",
    ")"
   ]
  },
  {
   "cell_type": "code",
   "execution_count": null,
   "id": "ee410242-18d8-4205-9493-8aebb5bedfce",
   "metadata": {},
   "outputs": [],
   "source": [
    "dfx['appointment_status_simple'].value_counts()"
   ]
  },
  {
   "cell_type": "code",
   "execution_count": null,
   "id": "383011f4-aef9-4841-a466-8edd241b8f12",
   "metadata": {
    "editable": true,
    "slideshow": {
     "slide_type": ""
    },
    "tags": []
   },
   "outputs": [],
   "source": [
    "dfx['appointment_status_simple'].value_counts(normalize=True)"
   ]
  },
  {
   "cell_type": "markdown",
   "id": "401c1510-6762-482d-af7c-f7cc0bba91d3",
   "metadata": {
    "jp-MarkdownHeadingCollapsed": true
   },
   "source": [
    "##### \n",
    "##### Using 2022-2023 dataset"
   ]
  },
  {
   "cell_type": "code",
   "execution_count": null,
   "id": "e63b0240-bc07-4d74-a00e-8f688737ef8d",
   "metadata": {},
   "outputs": [],
   "source": [
    "## Params\n",
    "path = '../../pkg_dir/data/pickles/robs'\n",
    "name = 'dataset_v1.pkl'\n",
    "\n",
    "\n",
    "## Reading extract object saved as pickle locally\n",
    "pkl_obj = path + \"/\" + name\n",
    "\n",
    "with open(pkl_obj, 'rb') as obj_content:\n",
    "    dfx = pickle.load(obj_content)"
   ]
  },
  {
   "cell_type": "code",
   "execution_count": null,
   "id": "e2ef7703-1914-4d1f-a22e-68a0d8265b49",
   "metadata": {},
   "outputs": [],
   "source": [
    "# mr1 = dfx['appointment_status_simplified'].isin(['unused', 'completed', 'no_show'])\n",
    "mr1 = dfx['appointment_status_simplified'].isin(['completed', 'no_show'])\n",
    "mr2 = dfx['appointment_start'].dt.year == 2023\n",
    "mrs = mr1 & mr2\n",
    "\n",
    "rc = ['appointment_status_simplified', 'appointment_id']"
   ]
  },
  {
   "cell_type": "code",
   "execution_count": null,
   "id": "fc6122e1-5ea8-4b81-b6ea-63154404d084",
   "metadata": {},
   "outputs": [],
   "source": [
    "dfx.loc[mrs, 'appointment_status_simplified'].value_counts()"
   ]
  },
  {
   "cell_type": "code",
   "execution_count": null,
   "id": "edf98e7a-6f33-45d5-a076-cd507edf4fe2",
   "metadata": {},
   "outputs": [],
   "source": [
    "dfx.loc[mrs, 'appointment_status_simplified'].value_counts(normalize=True)"
   ]
  },
  {
   "cell_type": "code",
   "execution_count": null,
   "id": "e86b01cd-c407-4f60-9536-72eb4622ba58",
   "metadata": {},
   "outputs": [],
   "source": [
    "#2022\n",
    "31176 / (31176 + 103480)"
   ]
  },
  {
   "cell_type": "code",
   "execution_count": null,
   "id": "c1e0ea0b-95b1-42a0-acf5-6e47198389d9",
   "metadata": {},
   "outputs": [],
   "source": [
    "#2023\n",
    "25653 / (25653 + 138654)"
   ]
  },
  {
   "cell_type": "markdown",
   "id": "86c81bdb-b96f-4210-98c2-c59111835dc8",
   "metadata": {
    "jp-MarkdownHeadingCollapsed": true
   },
   "source": [
    "---\n",
    "### What was the last status of the confirmed appointments?"
   ]
  },
  {
   "cell_type": "markdown",
   "id": "9ed1514f-fd3a-42f8-9f06-71852a7c3e7d",
   "metadata": {},
   "source": [
    "---\n",
    "### No-show rate in 2023 segmented per clinic"
   ]
  },
  {
   "cell_type": "markdown",
   "id": "f22a6b0d-1316-44f2-9740-6c2e281adcea",
   "metadata": {
    "jp-MarkdownHeadingCollapsed": true
   },
   "source": [
    "##### \n",
    "##### With final dataset"
   ]
  },
  {
   "cell_type": "code",
   "execution_count": null,
   "id": "dadfb595-1a37-4037-8927-27d2dcd14c4b",
   "metadata": {},
   "outputs": [],
   "source": [
    "mr1 = dfx['appointment_status_simplified'].isin(\n",
    "    [\n",
    "        'unused', \n",
    "        'completed', \n",
    "        'no_show', \n",
    "    ]\n",
    ")\n",
    "mr2 = dfx['appointment_date'].dt.weekday < 5 ## only weekdays\n",
    "mr3 = dfx['appointment_date'].dt.year == 2023 ## only weekdays\n",
    "mrs = mr1 & mr2 & mr3\n",
    "\n",
    "rc = [\n",
    "    'appointment_id',\n",
    "    'appointment_date',\n",
    "    'clinic',\n",
    "    'appointment_status_simplified',\n",
    "]\n",
    "\n",
    "\n",
    "dfy = dfx.loc[mrs, rc].copy()"
   ]
  },
  {
   "cell_type": "code",
   "execution_count": null,
   "id": "bbacb02b-c8e4-4936-a3cc-f6feb7332c42",
   "metadata": {},
   "outputs": [],
   "source": [
    "dfy = dfy.groupby(\n",
    "    [\n",
    "        pd.Grouper(key='appointment_date', freq='Y'),\n",
    "        'clinic',\n",
    "        'appointment_status_simplified',\n",
    "    ],\n",
    "    as_index=False\n",
    ").agg(\n",
    "    {\n",
    "        'appointment_id': 'count',\n",
    "    }\n",
    ")"
   ]
  },
  {
   "cell_type": "code",
   "execution_count": null,
   "id": "35bb64e8-b152-4420-9059-0bec9f1ee100",
   "metadata": {},
   "outputs": [],
   "source": [
    "dfy = dfy.pivot(\n",
    "    index=['appointment_date', 'clinic'], \n",
    "    columns=['appointment_status_simplified'], \n",
    "    values=['appointment_id'], \n",
    ").reset_index()\n",
    "\n",
    "dfy.columns = [\n",
    "    col[1] \n",
    "    if col[0] == 'appointment_id'\n",
    "    else col[0]\n",
    "    for col in dfy.columns\n",
    "]"
   ]
  },
  {
   "cell_type": "code",
   "execution_count": null,
   "id": "300a6ff1-f239-47ea-9dd1-c6702d50197f",
   "metadata": {},
   "outputs": [],
   "source": [
    "dfy.fillna(0, inplace=True)"
   ]
  },
  {
   "cell_type": "code",
   "execution_count": null,
   "id": "b702ea39-b63a-4429-8902-e86219457e58",
   "metadata": {},
   "outputs": [],
   "source": [
    "dfy['appts'] = dfy['completed'] + dfy['no_show']\n",
    "dfy['total'] = dfy['completed'] + dfy['no_show'] + dfy['unused']"
   ]
  },
  {
   "cell_type": "code",
   "execution_count": null,
   "id": "127214a7-96e0-41cc-b518-d4396e5f5741",
   "metadata": {},
   "outputs": [],
   "source": [
    "dfy['ns/appt'] = dfy['no_show']/(dfy['appts'])\n",
    "dfy['ns/total'] = dfy['no_show']/dfy['total']"
   ]
  },
  {
   "cell_type": "code",
   "execution_count": null,
   "id": "22c1e924-ece0-42ff-bf25-5d1be15c8f93",
   "metadata": {
    "scrolled": true
   },
   "outputs": [],
   "source": [
    "dfy"
   ]
  },
  {
   "cell_type": "markdown",
   "id": "32e275f7-9d73-4a79-8a73-6cea89358930",
   "metadata": {
    "jp-MarkdownHeadingCollapsed": true
   },
   "source": [
    "##### \n",
    "##### Original calculation"
   ]
  },
  {
   "cell_type": "code",
   "execution_count": null,
   "id": "6c69e2d4-94cc-4dde-af24-62376e28439c",
   "metadata": {},
   "outputs": [],
   "source": [
    "## Grouping data by clinic\n",
    "dfy = dfx.loc[:, ['appointment_id', 'appointment_status_simple', 'clinic']].groupby(\n",
    "    [\n",
    "        'clinic',\n",
    "        'appointment_status_simple',\n",
    "    ],\n",
    "    # as_index=False\n",
    ").agg(\n",
    "    {\n",
    "        'appointment_id': 'count'\n",
    "    }\n",
    ")\n",
    "\n",
    "## Renaming aggregate column\n",
    "dfy.rename(columns={'appointment_id': 'count'}, inplace=True)"
   ]
  },
  {
   "cell_type": "code",
   "execution_count": null,
   "id": "1da55855-0775-45da-9b75-c4bed7658418",
   "metadata": {},
   "outputs": [],
   "source": [
    "## Adding new column with proportions per clinic\n",
    "dfy[\"proportion\"] = dfy['count']/dfy.groupby([\"clinic\"])[\"count\"].transform(\"sum\")"
   ]
  },
  {
   "cell_type": "code",
   "execution_count": null,
   "id": "9370a79e-eb16-4585-9391-95b61d7b002e",
   "metadata": {},
   "outputs": [],
   "source": [
    "dfy"
   ]
  },
  {
   "cell_type": "code",
   "execution_count": null,
   "id": "a914c046-e638-4b61-8e84-e5f0088bb419",
   "metadata": {},
   "outputs": [],
   "source": [
    "plt = sns.barplot(\n",
    "    dfy, \n",
    "    x=\"clinic\", \n",
    "    y=\"count\", \n",
    "    hue=\"appointment_status_simple\", \n",
    "    )\n",
    "\n",
    "for item in plt.get_xticklabels():\n",
    "    item.set_rotation(45)"
   ]
  },
  {
   "cell_type": "markdown",
   "id": "934d6fb9-b582-4b48-9c5f-2d5f2977145e",
   "metadata": {},
   "source": [
    "---\n",
    "### Evolution of no shows in clinics"
   ]
  },
  {
   "cell_type": "code",
   "execution_count": 130,
   "id": "ea26e62c-86b5-43e7-822b-cdeaea8ea8b4",
   "metadata": {},
   "outputs": [],
   "source": [
    "## Params\n",
    "path = '../../pkg_dir/data/pickles/robs'\n",
    "name = 'dataset.pkl'\n",
    "\n",
    "\n",
    "## Reading extract object saved as pickle locally\n",
    "pkl_obj = path + \"/\" + name\n",
    "\n",
    "with open(pkl_obj, 'rb') as obj_content:\n",
    "    dfx = pickle.load(obj_content)"
   ]
  },
  {
   "cell_type": "code",
   "execution_count": 131,
   "id": "fe2b0fb5-77bf-4043-8d04-1dd34727df6d",
   "metadata": {},
   "outputs": [],
   "source": [
    "mr1 = dfx['appointment_status_simplified'].isin(\n",
    "    [\n",
    "        'unused', \n",
    "        'completed', \n",
    "        'no_show', \n",
    "    ]\n",
    ")\n",
    "# mr2 = dfx['appointment_date'].dt.weekday < 5 ## only weekdays\n",
    "mrs = mr1 #& mr2\n",
    "\n",
    "rc = [\n",
    "    'appointment_id',\n",
    "    'appointment_start',\n",
    "    'clinic',\n",
    "    'appointment_status_simplified',\n",
    "]\n",
    "\n",
    "\n",
    "dfy = dfx.loc[mrs, rc].copy()"
   ]
  },
  {
   "cell_type": "code",
   "execution_count": 132,
   "id": "12f3084f-2fed-49f0-9e79-877d4a78a1dd",
   "metadata": {},
   "outputs": [],
   "source": [
    "dfy = dfy.groupby(\n",
    "    [\n",
    "        pd.Grouper(key='appointment_start', freq='QS'),\n",
    "        'clinic',\n",
    "        'appointment_status_simplified',\n",
    "    ],\n",
    "    as_index=False\n",
    ").agg(\n",
    "    {\n",
    "        'appointment_id': 'count',\n",
    "    }\n",
    ")"
   ]
  },
  {
   "cell_type": "code",
   "execution_count": 133,
   "id": "efddb1f4-5da9-4923-a9b5-a333f8ee6ba5",
   "metadata": {},
   "outputs": [],
   "source": [
    "dfy = dfy.pivot(\n",
    "    index=['appointment_start', 'clinic'], \n",
    "    columns=['appointment_status_simplified'], \n",
    "    values=['appointment_id'], \n",
    ").reset_index()\n",
    "\n",
    "dfy.columns = [\n",
    "    col[1] \n",
    "    if col[0] == 'appointment_id'\n",
    "    else col[0]\n",
    "    for col in dfy.columns\n",
    "]"
   ]
  },
  {
   "cell_type": "code",
   "execution_count": 134,
   "id": "bf57664e-0f32-437f-a1ea-1bf8a455d55e",
   "metadata": {},
   "outputs": [],
   "source": [
    "dfy.fillna(0, inplace=True)"
   ]
  },
  {
   "cell_type": "code",
   "execution_count": 135,
   "id": "59c20d0b-6fd2-41f3-8271-99ae401f52a5",
   "metadata": {},
   "outputs": [],
   "source": [
    "dfy['total'] = dfy['completed'] + dfy['no_show'] + dfy['unused']\n",
    "dfy['total_used'] = dfy['completed'] + dfy['no_show']"
   ]
  },
  {
   "cell_type": "code",
   "execution_count": 136,
   "id": "ebde701a-ac4b-4b2f-8b4e-de2204ec041f",
   "metadata": {},
   "outputs": [],
   "source": [
    "dfy['ns_ratio'] = dfy['no_show']/dfy['total_used']"
   ]
  },
  {
   "cell_type": "code",
   "execution_count": 137,
   "id": "58950446-f8b8-4769-aae2-3f9efc4eb87f",
   "metadata": {
    "scrolled": true
   },
   "outputs": [
    {
     "data": {
      "text/html": [
       "<div>\n",
       "<style scoped>\n",
       "    .dataframe tbody tr th:only-of-type {\n",
       "        vertical-align: middle;\n",
       "    }\n",
       "\n",
       "    .dataframe tbody tr th {\n",
       "        vertical-align: top;\n",
       "    }\n",
       "\n",
       "    .dataframe thead th {\n",
       "        text-align: right;\n",
       "    }\n",
       "</style>\n",
       "<table border=\"1\" class=\"dataframe\">\n",
       "  <thead>\n",
       "    <tr style=\"text-align: right;\">\n",
       "      <th></th>\n",
       "      <th>appointment_start</th>\n",
       "      <th>clinic</th>\n",
       "      <th>completed</th>\n",
       "      <th>no_show</th>\n",
       "      <th>unused</th>\n",
       "      <th>total</th>\n",
       "      <th>total_used</th>\n",
       "      <th>ns_ratio</th>\n",
       "    </tr>\n",
       "  </thead>\n",
       "  <tbody>\n",
       "    <tr>\n",
       "      <th>0</th>\n",
       "      <td>2022-01-01</td>\n",
       "      <td>BASILICA</td>\n",
       "      <td>6552.0</td>\n",
       "      <td>2231.0</td>\n",
       "      <td>3209.0</td>\n",
       "      <td>11992.0</td>\n",
       "      <td>8783.0</td>\n",
       "      <td>0.254013</td>\n",
       "    </tr>\n",
       "    <tr>\n",
       "      <th>1</th>\n",
       "      <td>2022-01-01</td>\n",
       "      <td>COAPA</td>\n",
       "      <td>7180.0</td>\n",
       "      <td>2773.0</td>\n",
       "      <td>2198.0</td>\n",
       "      <td>12151.0</td>\n",
       "      <td>9953.0</td>\n",
       "      <td>0.278609</td>\n",
       "    </tr>\n",
       "    <tr>\n",
       "      <th>2</th>\n",
       "      <td>2022-01-01</td>\n",
       "      <td>MARINA NACIONAL</td>\n",
       "      <td>3679.0</td>\n",
       "      <td>1128.0</td>\n",
       "      <td>1109.0</td>\n",
       "      <td>5916.0</td>\n",
       "      <td>4807.0</td>\n",
       "      <td>0.234658</td>\n",
       "    </tr>\n",
       "    <tr>\n",
       "      <th>3</th>\n",
       "      <td>2022-01-01</td>\n",
       "      <td>MONTEVIDEO</td>\n",
       "      <td>847.0</td>\n",
       "      <td>163.0</td>\n",
       "      <td>2059.0</td>\n",
       "      <td>3069.0</td>\n",
       "      <td>1010.0</td>\n",
       "      <td>0.161386</td>\n",
       "    </tr>\n",
       "    <tr>\n",
       "      <th>4</th>\n",
       "      <td>2022-01-01</td>\n",
       "      <td>TLALPAN</td>\n",
       "      <td>4907.0</td>\n",
       "      <td>1964.0</td>\n",
       "      <td>2792.0</td>\n",
       "      <td>9663.0</td>\n",
       "      <td>6871.0</td>\n",
       "      <td>0.285839</td>\n",
       "    </tr>\n",
       "    <tr>\n",
       "      <th>5</th>\n",
       "      <td>2022-04-01</td>\n",
       "      <td>BASILICA</td>\n",
       "      <td>7248.0</td>\n",
       "      <td>1782.0</td>\n",
       "      <td>3289.0</td>\n",
       "      <td>12319.0</td>\n",
       "      <td>9030.0</td>\n",
       "      <td>0.197342</td>\n",
       "    </tr>\n",
       "    <tr>\n",
       "      <th>6</th>\n",
       "      <td>2022-04-01</td>\n",
       "      <td>COAPA</td>\n",
       "      <td>7063.0</td>\n",
       "      <td>2344.0</td>\n",
       "      <td>3514.0</td>\n",
       "      <td>12921.0</td>\n",
       "      <td>9407.0</td>\n",
       "      <td>0.249176</td>\n",
       "    </tr>\n",
       "    <tr>\n",
       "      <th>7</th>\n",
       "      <td>2022-04-01</td>\n",
       "      <td>CUAJIMALPA</td>\n",
       "      <td>400.0</td>\n",
       "      <td>56.0</td>\n",
       "      <td>1987.0</td>\n",
       "      <td>2443.0</td>\n",
       "      <td>456.0</td>\n",
       "      <td>0.122807</td>\n",
       "    </tr>\n",
       "    <tr>\n",
       "      <th>8</th>\n",
       "      <td>2022-04-01</td>\n",
       "      <td>MARINA NACIONAL</td>\n",
       "      <td>3962.0</td>\n",
       "      <td>1128.0</td>\n",
       "      <td>1148.0</td>\n",
       "      <td>6238.0</td>\n",
       "      <td>5090.0</td>\n",
       "      <td>0.221611</td>\n",
       "    </tr>\n",
       "    <tr>\n",
       "      <th>9</th>\n",
       "      <td>2022-04-01</td>\n",
       "      <td>MONTEVIDEO</td>\n",
       "      <td>1058.0</td>\n",
       "      <td>165.0</td>\n",
       "      <td>1690.0</td>\n",
       "      <td>2913.0</td>\n",
       "      <td>1223.0</td>\n",
       "      <td>0.134914</td>\n",
       "    </tr>\n",
       "    <tr>\n",
       "      <th>10</th>\n",
       "      <td>2022-04-01</td>\n",
       "      <td>TLALPAN</td>\n",
       "      <td>5272.0</td>\n",
       "      <td>1572.0</td>\n",
       "      <td>2883.0</td>\n",
       "      <td>9727.0</td>\n",
       "      <td>6844.0</td>\n",
       "      <td>0.229690</td>\n",
       "    </tr>\n",
       "    <tr>\n",
       "      <th>11</th>\n",
       "      <td>2022-07-01</td>\n",
       "      <td>BASILICA</td>\n",
       "      <td>7647.0</td>\n",
       "      <td>2181.0</td>\n",
       "      <td>3643.0</td>\n",
       "      <td>13471.0</td>\n",
       "      <td>9828.0</td>\n",
       "      <td>0.221917</td>\n",
       "    </tr>\n",
       "    <tr>\n",
       "      <th>12</th>\n",
       "      <td>2022-07-01</td>\n",
       "      <td>COAPA</td>\n",
       "      <td>7203.0</td>\n",
       "      <td>2516.0</td>\n",
       "      <td>2465.0</td>\n",
       "      <td>12184.0</td>\n",
       "      <td>9719.0</td>\n",
       "      <td>0.258874</td>\n",
       "    </tr>\n",
       "    <tr>\n",
       "      <th>13</th>\n",
       "      <td>2022-07-01</td>\n",
       "      <td>CUAJIMALPA</td>\n",
       "      <td>1516.0</td>\n",
       "      <td>435.0</td>\n",
       "      <td>5831.0</td>\n",
       "      <td>7782.0</td>\n",
       "      <td>1951.0</td>\n",
       "      <td>0.222963</td>\n",
       "    </tr>\n",
       "    <tr>\n",
       "      <th>14</th>\n",
       "      <td>2022-07-01</td>\n",
       "      <td>MARINA NACIONAL</td>\n",
       "      <td>3843.0</td>\n",
       "      <td>1192.0</td>\n",
       "      <td>1665.0</td>\n",
       "      <td>6700.0</td>\n",
       "      <td>5035.0</td>\n",
       "      <td>0.236743</td>\n",
       "    </tr>\n",
       "    <tr>\n",
       "      <th>15</th>\n",
       "      <td>2022-07-01</td>\n",
       "      <td>MONTEVIDEO</td>\n",
       "      <td>1390.0</td>\n",
       "      <td>300.0</td>\n",
       "      <td>1226.0</td>\n",
       "      <td>2916.0</td>\n",
       "      <td>1690.0</td>\n",
       "      <td>0.177515</td>\n",
       "    </tr>\n",
       "    <tr>\n",
       "      <th>16</th>\n",
       "      <td>2022-07-01</td>\n",
       "      <td>TLALPAN</td>\n",
       "      <td>5088.0</td>\n",
       "      <td>1822.0</td>\n",
       "      <td>2773.0</td>\n",
       "      <td>9683.0</td>\n",
       "      <td>6910.0</td>\n",
       "      <td>0.263676</td>\n",
       "    </tr>\n",
       "    <tr>\n",
       "      <th>17</th>\n",
       "      <td>2022-10-01</td>\n",
       "      <td>BASILICA</td>\n",
       "      <td>7653.0</td>\n",
       "      <td>2032.0</td>\n",
       "      <td>4031.0</td>\n",
       "      <td>13716.0</td>\n",
       "      <td>9685.0</td>\n",
       "      <td>0.209809</td>\n",
       "    </tr>\n",
       "    <tr>\n",
       "      <th>18</th>\n",
       "      <td>2022-10-01</td>\n",
       "      <td>COAPA</td>\n",
       "      <td>7323.0</td>\n",
       "      <td>1955.0</td>\n",
       "      <td>2764.0</td>\n",
       "      <td>12042.0</td>\n",
       "      <td>9278.0</td>\n",
       "      <td>0.210714</td>\n",
       "    </tr>\n",
       "    <tr>\n",
       "      <th>19</th>\n",
       "      <td>2022-10-01</td>\n",
       "      <td>CUAJIMALPA</td>\n",
       "      <td>1895.0</td>\n",
       "      <td>365.0</td>\n",
       "      <td>6137.0</td>\n",
       "      <td>8397.0</td>\n",
       "      <td>2260.0</td>\n",
       "      <td>0.161504</td>\n",
       "    </tr>\n",
       "    <tr>\n",
       "      <th>20</th>\n",
       "      <td>2022-10-01</td>\n",
       "      <td>MARINA NACIONAL</td>\n",
       "      <td>4360.0</td>\n",
       "      <td>998.0</td>\n",
       "      <td>1585.0</td>\n",
       "      <td>6943.0</td>\n",
       "      <td>5358.0</td>\n",
       "      <td>0.186264</td>\n",
       "    </tr>\n",
       "    <tr>\n",
       "      <th>21</th>\n",
       "      <td>2022-10-01</td>\n",
       "      <td>MONTEVIDEO</td>\n",
       "      <td>1904.0</td>\n",
       "      <td>324.0</td>\n",
       "      <td>1164.0</td>\n",
       "      <td>3392.0</td>\n",
       "      <td>2228.0</td>\n",
       "      <td>0.145422</td>\n",
       "    </tr>\n",
       "    <tr>\n",
       "      <th>22</th>\n",
       "      <td>2022-10-01</td>\n",
       "      <td>TLALPAN</td>\n",
       "      <td>5490.0</td>\n",
       "      <td>1750.0</td>\n",
       "      <td>2874.0</td>\n",
       "      <td>10114.0</td>\n",
       "      <td>7240.0</td>\n",
       "      <td>0.241713</td>\n",
       "    </tr>\n",
       "    <tr>\n",
       "      <th>23</th>\n",
       "      <td>2023-01-01</td>\n",
       "      <td>BASILICA</td>\n",
       "      <td>8621.0</td>\n",
       "      <td>1934.0</td>\n",
       "      <td>1946.0</td>\n",
       "      <td>12501.0</td>\n",
       "      <td>10555.0</td>\n",
       "      <td>0.183231</td>\n",
       "    </tr>\n",
       "    <tr>\n",
       "      <th>24</th>\n",
       "      <td>2023-01-01</td>\n",
       "      <td>COAPA</td>\n",
       "      <td>7438.0</td>\n",
       "      <td>1477.0</td>\n",
       "      <td>2416.0</td>\n",
       "      <td>11331.0</td>\n",
       "      <td>8915.0</td>\n",
       "      <td>0.165676</td>\n",
       "    </tr>\n",
       "    <tr>\n",
       "      <th>25</th>\n",
       "      <td>2023-01-01</td>\n",
       "      <td>CUAJIMALPA</td>\n",
       "      <td>2380.0</td>\n",
       "      <td>407.0</td>\n",
       "      <td>2883.0</td>\n",
       "      <td>5670.0</td>\n",
       "      <td>2787.0</td>\n",
       "      <td>0.146035</td>\n",
       "    </tr>\n",
       "    <tr>\n",
       "      <th>26</th>\n",
       "      <td>2023-01-01</td>\n",
       "      <td>MARINA NACIONAL</td>\n",
       "      <td>4596.0</td>\n",
       "      <td>874.0</td>\n",
       "      <td>1660.0</td>\n",
       "      <td>7130.0</td>\n",
       "      <td>5470.0</td>\n",
       "      <td>0.159781</td>\n",
       "    </tr>\n",
       "    <tr>\n",
       "      <th>27</th>\n",
       "      <td>2023-01-01</td>\n",
       "      <td>MONTEVIDEO</td>\n",
       "      <td>1751.0</td>\n",
       "      <td>276.0</td>\n",
       "      <td>1013.0</td>\n",
       "      <td>3040.0</td>\n",
       "      <td>2027.0</td>\n",
       "      <td>0.136162</td>\n",
       "    </tr>\n",
       "    <tr>\n",
       "      <th>28</th>\n",
       "      <td>2023-01-01</td>\n",
       "      <td>TLALPAN</td>\n",
       "      <td>6095.0</td>\n",
       "      <td>1403.0</td>\n",
       "      <td>2367.0</td>\n",
       "      <td>9865.0</td>\n",
       "      <td>7498.0</td>\n",
       "      <td>0.187117</td>\n",
       "    </tr>\n",
       "    <tr>\n",
       "      <th>29</th>\n",
       "      <td>2023-04-01</td>\n",
       "      <td>BASILICA</td>\n",
       "      <td>9542.0</td>\n",
       "      <td>2097.0</td>\n",
       "      <td>2903.0</td>\n",
       "      <td>14542.0</td>\n",
       "      <td>11639.0</td>\n",
       "      <td>0.180170</td>\n",
       "    </tr>\n",
       "    <tr>\n",
       "      <th>30</th>\n",
       "      <td>2023-04-01</td>\n",
       "      <td>COAPA</td>\n",
       "      <td>7953.0</td>\n",
       "      <td>1187.0</td>\n",
       "      <td>2079.0</td>\n",
       "      <td>11219.0</td>\n",
       "      <td>9140.0</td>\n",
       "      <td>0.129869</td>\n",
       "    </tr>\n",
       "    <tr>\n",
       "      <th>31</th>\n",
       "      <td>2023-04-01</td>\n",
       "      <td>CUAJIMALPA</td>\n",
       "      <td>3190.0</td>\n",
       "      <td>421.0</td>\n",
       "      <td>3045.0</td>\n",
       "      <td>6656.0</td>\n",
       "      <td>3611.0</td>\n",
       "      <td>0.116588</td>\n",
       "    </tr>\n",
       "    <tr>\n",
       "      <th>32</th>\n",
       "      <td>2023-04-01</td>\n",
       "      <td>DOCTORES</td>\n",
       "      <td>0.0</td>\n",
       "      <td>1.0</td>\n",
       "      <td>0.0</td>\n",
       "      <td>1.0</td>\n",
       "      <td>1.0</td>\n",
       "      <td>1.000000</td>\n",
       "    </tr>\n",
       "    <tr>\n",
       "      <th>33</th>\n",
       "      <td>2023-04-01</td>\n",
       "      <td>MARINA NACIONAL</td>\n",
       "      <td>4772.0</td>\n",
       "      <td>908.0</td>\n",
       "      <td>1806.0</td>\n",
       "      <td>7486.0</td>\n",
       "      <td>5680.0</td>\n",
       "      <td>0.159859</td>\n",
       "    </tr>\n",
       "    <tr>\n",
       "      <th>34</th>\n",
       "      <td>2023-04-01</td>\n",
       "      <td>MONTEVIDEO</td>\n",
       "      <td>2154.0</td>\n",
       "      <td>346.0</td>\n",
       "      <td>3213.0</td>\n",
       "      <td>5713.0</td>\n",
       "      <td>2500.0</td>\n",
       "      <td>0.138400</td>\n",
       "    </tr>\n",
       "    <tr>\n",
       "      <th>35</th>\n",
       "      <td>2023-04-01</td>\n",
       "      <td>TLALPAN</td>\n",
       "      <td>6042.0</td>\n",
       "      <td>1234.0</td>\n",
       "      <td>2657.0</td>\n",
       "      <td>9933.0</td>\n",
       "      <td>7276.0</td>\n",
       "      <td>0.169599</td>\n",
       "    </tr>\n",
       "    <tr>\n",
       "      <th>36</th>\n",
       "      <td>2023-07-01</td>\n",
       "      <td>BASILICA</td>\n",
       "      <td>9644.0</td>\n",
       "      <td>1937.0</td>\n",
       "      <td>1910.0</td>\n",
       "      <td>13491.0</td>\n",
       "      <td>11581.0</td>\n",
       "      <td>0.167257</td>\n",
       "    </tr>\n",
       "    <tr>\n",
       "      <th>37</th>\n",
       "      <td>2023-07-01</td>\n",
       "      <td>COAPA</td>\n",
       "      <td>8461.0</td>\n",
       "      <td>1165.0</td>\n",
       "      <td>1910.0</td>\n",
       "      <td>11536.0</td>\n",
       "      <td>9626.0</td>\n",
       "      <td>0.121026</td>\n",
       "    </tr>\n",
       "    <tr>\n",
       "      <th>38</th>\n",
       "      <td>2023-07-01</td>\n",
       "      <td>CUAJIMALPA</td>\n",
       "      <td>3761.0</td>\n",
       "      <td>528.0</td>\n",
       "      <td>2993.0</td>\n",
       "      <td>7282.0</td>\n",
       "      <td>4289.0</td>\n",
       "      <td>0.123106</td>\n",
       "    </tr>\n",
       "    <tr>\n",
       "      <th>39</th>\n",
       "      <td>2023-07-01</td>\n",
       "      <td>DEL VALLE</td>\n",
       "      <td>1573.0</td>\n",
       "      <td>283.0</td>\n",
       "      <td>1250.0</td>\n",
       "      <td>3106.0</td>\n",
       "      <td>1856.0</td>\n",
       "      <td>0.152478</td>\n",
       "    </tr>\n",
       "    <tr>\n",
       "      <th>40</th>\n",
       "      <td>2023-07-01</td>\n",
       "      <td>DOCTORES</td>\n",
       "      <td>107.0</td>\n",
       "      <td>25.0</td>\n",
       "      <td>274.0</td>\n",
       "      <td>406.0</td>\n",
       "      <td>132.0</td>\n",
       "      <td>0.189394</td>\n",
       "    </tr>\n",
       "    <tr>\n",
       "      <th>41</th>\n",
       "      <td>2023-07-01</td>\n",
       "      <td>MARINA NACIONAL</td>\n",
       "      <td>4664.0</td>\n",
       "      <td>764.0</td>\n",
       "      <td>1673.0</td>\n",
       "      <td>7101.0</td>\n",
       "      <td>5428.0</td>\n",
       "      <td>0.140752</td>\n",
       "    </tr>\n",
       "    <tr>\n",
       "      <th>42</th>\n",
       "      <td>2023-07-01</td>\n",
       "      <td>MONTEVIDEO</td>\n",
       "      <td>2365.0</td>\n",
       "      <td>335.0</td>\n",
       "      <td>3011.0</td>\n",
       "      <td>5711.0</td>\n",
       "      <td>2700.0</td>\n",
       "      <td>0.124074</td>\n",
       "    </tr>\n",
       "    <tr>\n",
       "      <th>43</th>\n",
       "      <td>2023-07-01</td>\n",
       "      <td>TLALPAN</td>\n",
       "      <td>6472.0</td>\n",
       "      <td>1099.0</td>\n",
       "      <td>2400.0</td>\n",
       "      <td>9971.0</td>\n",
       "      <td>7571.0</td>\n",
       "      <td>0.145159</td>\n",
       "    </tr>\n",
       "    <tr>\n",
       "      <th>44</th>\n",
       "      <td>2023-10-01</td>\n",
       "      <td>BASILICA</td>\n",
       "      <td>8452.0</td>\n",
       "      <td>1930.0</td>\n",
       "      <td>1633.0</td>\n",
       "      <td>12015.0</td>\n",
       "      <td>10382.0</td>\n",
       "      <td>0.185899</td>\n",
       "    </tr>\n",
       "    <tr>\n",
       "      <th>45</th>\n",
       "      <td>2023-10-01</td>\n",
       "      <td>COAPA</td>\n",
       "      <td>7694.0</td>\n",
       "      <td>1162.0</td>\n",
       "      <td>2203.0</td>\n",
       "      <td>11059.0</td>\n",
       "      <td>8856.0</td>\n",
       "      <td>0.131210</td>\n",
       "    </tr>\n",
       "    <tr>\n",
       "      <th>46</th>\n",
       "      <td>2023-10-01</td>\n",
       "      <td>CUAJIMALPA</td>\n",
       "      <td>3440.0</td>\n",
       "      <td>560.0</td>\n",
       "      <td>3289.0</td>\n",
       "      <td>7289.0</td>\n",
       "      <td>4000.0</td>\n",
       "      <td>0.140000</td>\n",
       "    </tr>\n",
       "    <tr>\n",
       "      <th>47</th>\n",
       "      <td>2023-10-01</td>\n",
       "      <td>DEL VALLE</td>\n",
       "      <td>3938.0</td>\n",
       "      <td>864.0</td>\n",
       "      <td>2704.0</td>\n",
       "      <td>7506.0</td>\n",
       "      <td>4802.0</td>\n",
       "      <td>0.179925</td>\n",
       "    </tr>\n",
       "    <tr>\n",
       "      <th>48</th>\n",
       "      <td>2023-10-01</td>\n",
       "      <td>DOCTORES</td>\n",
       "      <td>1928.0</td>\n",
       "      <td>400.0</td>\n",
       "      <td>2823.0</td>\n",
       "      <td>5151.0</td>\n",
       "      <td>2328.0</td>\n",
       "      <td>0.171821</td>\n",
       "    </tr>\n",
       "    <tr>\n",
       "      <th>49</th>\n",
       "      <td>2023-10-01</td>\n",
       "      <td>MARINA NACIONAL</td>\n",
       "      <td>4026.0</td>\n",
       "      <td>751.0</td>\n",
       "      <td>1525.0</td>\n",
       "      <td>6302.0</td>\n",
       "      <td>4777.0</td>\n",
       "      <td>0.157212</td>\n",
       "    </tr>\n",
       "    <tr>\n",
       "      <th>50</th>\n",
       "      <td>2023-10-01</td>\n",
       "      <td>MONTEVIDEO</td>\n",
       "      <td>1948.0</td>\n",
       "      <td>313.0</td>\n",
       "      <td>1236.0</td>\n",
       "      <td>3497.0</td>\n",
       "      <td>2261.0</td>\n",
       "      <td>0.138434</td>\n",
       "    </tr>\n",
       "    <tr>\n",
       "      <th>51</th>\n",
       "      <td>2023-10-01</td>\n",
       "      <td>TLALPAN</td>\n",
       "      <td>5647.0</td>\n",
       "      <td>972.0</td>\n",
       "      <td>2733.0</td>\n",
       "      <td>9352.0</td>\n",
       "      <td>6619.0</td>\n",
       "      <td>0.146850</td>\n",
       "    </tr>\n",
       "  </tbody>\n",
       "</table>\n",
       "</div>"
      ],
      "text/plain": [
       "   appointment_start           clinic  completed  no_show  unused    total  \\\n",
       "0         2022-01-01         BASILICA     6552.0   2231.0  3209.0  11992.0   \n",
       "1         2022-01-01            COAPA     7180.0   2773.0  2198.0  12151.0   \n",
       "2         2022-01-01  MARINA NACIONAL     3679.0   1128.0  1109.0   5916.0   \n",
       "3         2022-01-01       MONTEVIDEO      847.0    163.0  2059.0   3069.0   \n",
       "4         2022-01-01          TLALPAN     4907.0   1964.0  2792.0   9663.0   \n",
       "5         2022-04-01         BASILICA     7248.0   1782.0  3289.0  12319.0   \n",
       "6         2022-04-01            COAPA     7063.0   2344.0  3514.0  12921.0   \n",
       "7         2022-04-01       CUAJIMALPA      400.0     56.0  1987.0   2443.0   \n",
       "8         2022-04-01  MARINA NACIONAL     3962.0   1128.0  1148.0   6238.0   \n",
       "9         2022-04-01       MONTEVIDEO     1058.0    165.0  1690.0   2913.0   \n",
       "10        2022-04-01          TLALPAN     5272.0   1572.0  2883.0   9727.0   \n",
       "11        2022-07-01         BASILICA     7647.0   2181.0  3643.0  13471.0   \n",
       "12        2022-07-01            COAPA     7203.0   2516.0  2465.0  12184.0   \n",
       "13        2022-07-01       CUAJIMALPA     1516.0    435.0  5831.0   7782.0   \n",
       "14        2022-07-01  MARINA NACIONAL     3843.0   1192.0  1665.0   6700.0   \n",
       "15        2022-07-01       MONTEVIDEO     1390.0    300.0  1226.0   2916.0   \n",
       "16        2022-07-01          TLALPAN     5088.0   1822.0  2773.0   9683.0   \n",
       "17        2022-10-01         BASILICA     7653.0   2032.0  4031.0  13716.0   \n",
       "18        2022-10-01            COAPA     7323.0   1955.0  2764.0  12042.0   \n",
       "19        2022-10-01       CUAJIMALPA     1895.0    365.0  6137.0   8397.0   \n",
       "20        2022-10-01  MARINA NACIONAL     4360.0    998.0  1585.0   6943.0   \n",
       "21        2022-10-01       MONTEVIDEO     1904.0    324.0  1164.0   3392.0   \n",
       "22        2022-10-01          TLALPAN     5490.0   1750.0  2874.0  10114.0   \n",
       "23        2023-01-01         BASILICA     8621.0   1934.0  1946.0  12501.0   \n",
       "24        2023-01-01            COAPA     7438.0   1477.0  2416.0  11331.0   \n",
       "25        2023-01-01       CUAJIMALPA     2380.0    407.0  2883.0   5670.0   \n",
       "26        2023-01-01  MARINA NACIONAL     4596.0    874.0  1660.0   7130.0   \n",
       "27        2023-01-01       MONTEVIDEO     1751.0    276.0  1013.0   3040.0   \n",
       "28        2023-01-01          TLALPAN     6095.0   1403.0  2367.0   9865.0   \n",
       "29        2023-04-01         BASILICA     9542.0   2097.0  2903.0  14542.0   \n",
       "30        2023-04-01            COAPA     7953.0   1187.0  2079.0  11219.0   \n",
       "31        2023-04-01       CUAJIMALPA     3190.0    421.0  3045.0   6656.0   \n",
       "32        2023-04-01         DOCTORES        0.0      1.0     0.0      1.0   \n",
       "33        2023-04-01  MARINA NACIONAL     4772.0    908.0  1806.0   7486.0   \n",
       "34        2023-04-01       MONTEVIDEO     2154.0    346.0  3213.0   5713.0   \n",
       "35        2023-04-01          TLALPAN     6042.0   1234.0  2657.0   9933.0   \n",
       "36        2023-07-01         BASILICA     9644.0   1937.0  1910.0  13491.0   \n",
       "37        2023-07-01            COAPA     8461.0   1165.0  1910.0  11536.0   \n",
       "38        2023-07-01       CUAJIMALPA     3761.0    528.0  2993.0   7282.0   \n",
       "39        2023-07-01        DEL VALLE     1573.0    283.0  1250.0   3106.0   \n",
       "40        2023-07-01         DOCTORES      107.0     25.0   274.0    406.0   \n",
       "41        2023-07-01  MARINA NACIONAL     4664.0    764.0  1673.0   7101.0   \n",
       "42        2023-07-01       MONTEVIDEO     2365.0    335.0  3011.0   5711.0   \n",
       "43        2023-07-01          TLALPAN     6472.0   1099.0  2400.0   9971.0   \n",
       "44        2023-10-01         BASILICA     8452.0   1930.0  1633.0  12015.0   \n",
       "45        2023-10-01            COAPA     7694.0   1162.0  2203.0  11059.0   \n",
       "46        2023-10-01       CUAJIMALPA     3440.0    560.0  3289.0   7289.0   \n",
       "47        2023-10-01        DEL VALLE     3938.0    864.0  2704.0   7506.0   \n",
       "48        2023-10-01         DOCTORES     1928.0    400.0  2823.0   5151.0   \n",
       "49        2023-10-01  MARINA NACIONAL     4026.0    751.0  1525.0   6302.0   \n",
       "50        2023-10-01       MONTEVIDEO     1948.0    313.0  1236.0   3497.0   \n",
       "51        2023-10-01          TLALPAN     5647.0    972.0  2733.0   9352.0   \n",
       "\n",
       "    total_used  ns_ratio  \n",
       "0       8783.0  0.254013  \n",
       "1       9953.0  0.278609  \n",
       "2       4807.0  0.234658  \n",
       "3       1010.0  0.161386  \n",
       "4       6871.0  0.285839  \n",
       "5       9030.0  0.197342  \n",
       "6       9407.0  0.249176  \n",
       "7        456.0  0.122807  \n",
       "8       5090.0  0.221611  \n",
       "9       1223.0  0.134914  \n",
       "10      6844.0  0.229690  \n",
       "11      9828.0  0.221917  \n",
       "12      9719.0  0.258874  \n",
       "13      1951.0  0.222963  \n",
       "14      5035.0  0.236743  \n",
       "15      1690.0  0.177515  \n",
       "16      6910.0  0.263676  \n",
       "17      9685.0  0.209809  \n",
       "18      9278.0  0.210714  \n",
       "19      2260.0  0.161504  \n",
       "20      5358.0  0.186264  \n",
       "21      2228.0  0.145422  \n",
       "22      7240.0  0.241713  \n",
       "23     10555.0  0.183231  \n",
       "24      8915.0  0.165676  \n",
       "25      2787.0  0.146035  \n",
       "26      5470.0  0.159781  \n",
       "27      2027.0  0.136162  \n",
       "28      7498.0  0.187117  \n",
       "29     11639.0  0.180170  \n",
       "30      9140.0  0.129869  \n",
       "31      3611.0  0.116588  \n",
       "32         1.0  1.000000  \n",
       "33      5680.0  0.159859  \n",
       "34      2500.0  0.138400  \n",
       "35      7276.0  0.169599  \n",
       "36     11581.0  0.167257  \n",
       "37      9626.0  0.121026  \n",
       "38      4289.0  0.123106  \n",
       "39      1856.0  0.152478  \n",
       "40       132.0  0.189394  \n",
       "41      5428.0  0.140752  \n",
       "42      2700.0  0.124074  \n",
       "43      7571.0  0.145159  \n",
       "44     10382.0  0.185899  \n",
       "45      8856.0  0.131210  \n",
       "46      4000.0  0.140000  \n",
       "47      4802.0  0.179925  \n",
       "48      2328.0  0.171821  \n",
       "49      4777.0  0.157212  \n",
       "50      2261.0  0.138434  \n",
       "51      6619.0  0.146850  "
      ]
     },
     "execution_count": 137,
     "metadata": {},
     "output_type": "execute_result"
    }
   ],
   "source": [
    "dfy"
   ]
  },
  {
   "cell_type": "code",
   "execution_count": 138,
   "id": "b2e10a22-58f7-4d9c-84f7-c577b1ebae00",
   "metadata": {},
   "outputs": [],
   "source": [
    "dfy = dfy[dfy['ns_ratio'] < 0.4].copy()"
   ]
  },
  {
   "cell_type": "code",
   "execution_count": 139,
   "id": "ff219783-3e78-4812-a82a-90ad731728ce",
   "metadata": {},
   "outputs": [
    {
     "data": {
      "text/plain": [
       "<Axes: xlabel='appointment_start', ylabel='ns_ratio'>"
      ]
     },
     "execution_count": 139,
     "metadata": {},
     "output_type": "execute_result"
    },
    {
     "data": {
      "image/png": "[encoded data removed]",
      "text/plain": [
       "<Figure size 640x480 with 1 Axes>"
      ]
     },
     "metadata": {},
     "output_type": "display_data"
    }
   ],
   "source": [
    "sns.lineplot(\n",
    "    x=\"appointment_start\", \n",
    "    y=\"ns_ratio\",\n",
    "    hue=\"clinic\",\n",
    "    data=dfy,\n",
    "    markers=True\n",
    ")"
   ]
  },
  {
   "cell_type": "markdown",
   "id": "d45d8a67-67fd-4e5c-bd1c-b888cf22a926",
   "metadata": {
    "jp-MarkdownHeadingCollapsed": true
   },
   "source": [
    "---\n",
    "### No show rate per month"
   ]
  },
  {
   "cell_type": "markdown",
   "id": "e706eaf4-6a5e-497b-ac45-5b95c60c2ccd",
   "metadata": {
    "jp-MarkdownHeadingCollapsed": true
   },
   "source": [
    "##### Overall"
   ]
  },
  {
   "cell_type": "code",
   "execution_count": 8,
   "id": "ef62619b-8b34-4526-a473-deb8fe733cad",
   "metadata": {},
   "outputs": [],
   "source": [
    "## Params\n",
    "path = '../../pkg_dir/data/pickles/robs'\n",
    "name = 'dataset.pkl'\n",
    "\n",
    "\n",
    "## Reading extract object saved as pickle locally\n",
    "pkl_obj = path + \"/\" + name\n",
    "\n",
    "with open(pkl_obj, 'rb') as obj_content:\n",
    "    dfx = pickle.load(obj_content)"
   ]
  },
  {
   "cell_type": "code",
   "execution_count": 10,
   "id": "9455226e-3d63-45b0-ae58-7b7df4112fe0",
   "metadata": {},
   "outputs": [],
   "source": [
    "mr1 = dfx['appointment_status_simplified'].isin(\n",
    "    [\n",
    "        'unused', \n",
    "        'completed', \n",
    "        'no_show', \n",
    "    ]\n",
    ")\n",
    "# mr2 = dfx['appointment_date'].dt.weekday < 5 ## only weekdays\n",
    "mrs = mr1 #& mr2\n",
    "\n",
    "rc = [\n",
    "    'appointment_id',\n",
    "    'appointment_start',\n",
    "    'appointment_status_simplified',\n",
    "]\n",
    "\n",
    "\n",
    "dfy = dfx.loc[mrs, rc].copy()"
   ]
  },
  {
   "cell_type": "code",
   "execution_count": 11,
   "id": "78f2ce9c-d61e-4f13-8dbf-a87265297ff6",
   "metadata": {},
   "outputs": [],
   "source": [
    "dfy = dfy.groupby(\n",
    "    [\n",
    "        pd.Grouper(key='appointment_start', freq='m'),\n",
    "        'appointment_status_simplified',\n",
    "    ],\n",
    "    as_index=False\n",
    ").agg(\n",
    "    {\n",
    "        'appointment_id': 'count',\n",
    "    }\n",
    ")"
   ]
  },
  {
   "cell_type": "code",
   "execution_count": 13,
   "id": "38a24d6a-f67d-4169-b247-62190b4145b2",
   "metadata": {},
   "outputs": [],
   "source": [
    "dfy = dfy.pivot(\n",
    "    index=['appointment_start'], \n",
    "    columns=['appointment_status_simplified'], \n",
    "    values=['appointment_id'], \n",
    ").reset_index()\n",
    "\n",
    "dfy.columns = [\n",
    "    col[1] \n",
    "    if col[0] == 'appointment_id'\n",
    "    else col[0]\n",
    "    for col in dfy.columns\n",
    "]"
   ]
  },
  {
   "cell_type": "code",
   "execution_count": 15,
   "id": "0b14253b-2945-46be-acca-90a45304e7a9",
   "metadata": {},
   "outputs": [],
   "source": [
    "dfy['total'] = dfy['completed'] + dfy['no_show'] + dfy['unused']\n",
    "dfy['total_used'] = dfy['completed'] + dfy['no_show']"
   ]
  },
  {
   "cell_type": "code",
   "execution_count": 16,
   "id": "659165b8-bf35-4ff8-9130-c3c496a09f46",
   "metadata": {},
   "outputs": [],
   "source": [
    "dfy['ns_ratio'] = dfy['no_show']/dfy['total_used']"
   ]
  },
  {
   "cell_type": "code",
   "execution_count": 19,
   "id": "899fc074-a818-493d-bb82-152c5e08fefd",
   "metadata": {},
   "outputs": [
    {
     "data": {
      "image/png": "[encoded data removed]",
      "text/plain": [
       "<Figure size 640x480 with 1 Axes>"
      ]
     },
     "metadata": {},
     "output_type": "display_data"
    }
   ],
   "source": [
    "plt = sns.lineplot(\n",
    "    dfy, \n",
    "    x=\"appointment_start\", \n",
    "    y=\"ns_ratio\", \n",
    "    )\n",
    "\n",
    "for item in plt.get_xticklabels():\n",
    "    item.set_rotation(45)"
   ]
  },
  {
   "cell_type": "markdown",
   "id": "043fe83a-cc7d-4c95-97ca-c4fd6a93cbc1",
   "metadata": {},
   "source": [
    "##### Overall"
   ]
  },
  {
   "cell_type": "code",
   "execution_count": 29,
   "id": "ad39b9e1-4fa1-400b-97d1-8bca226abee0",
   "metadata": {},
   "outputs": [],
   "source": [
    "## Params\n",
    "path = '../../pkg_dir/data/pickles/robs'\n",
    "name = 'dataset.pkl'\n",
    "\n",
    "\n",
    "## Reading extract object saved as pickle locally\n",
    "pkl_obj = path + \"/\" + name\n",
    "\n",
    "with open(pkl_obj, 'rb') as obj_content:\n",
    "    dfx = pickle.load(obj_content)"
   ]
  },
  {
   "cell_type": "code",
   "execution_count": 30,
   "id": "50ddd5ae-c413-4e7c-a582-522e23676665",
   "metadata": {},
   "outputs": [],
   "source": [
    "specialty = ['DERMATOLOGIA', 'GINECOLOGIA', 'OTORRINOLARINGOLOGIA', 'UROLOGIA', 'GASTROENTEROLOGIA', 'ENDOCRINOLOGIA']"
   ]
  },
  {
   "cell_type": "code",
   "execution_count": 31,
   "id": "609198f8-bd80-4946-8110-420e4e9a7140",
   "metadata": {},
   "outputs": [],
   "source": [
    "mr1 = dfx['appointment_status_simplified'].isin(\n",
    "    [\n",
    "        'unused', \n",
    "        'completed', \n",
    "        'no_show', \n",
    "    ]\n",
    ")\n",
    "mr2 = dfx['medical_specialty'].isin(specialty)\n",
    "mrs = mr1 & mr2\n",
    "\n",
    "rc = [\n",
    "    'appointment_id',\n",
    "    'medical_specialty',\n",
    "    'appointment_start',\n",
    "    'appointment_status_simplified',\n",
    "]\n",
    "\n",
    "\n",
    "dfy = dfx.loc[mrs, rc].copy()"
   ]
  },
  {
   "cell_type": "code",
   "execution_count": 32,
   "id": "0d87a6a4-80ab-4ff1-bffb-805dc6875ad4",
   "metadata": {},
   "outputs": [],
   "source": [
    "dfy = dfy.groupby(\n",
    "    [\n",
    "        pd.Grouper(key='appointment_start', freq='m'),\n",
    "        'medical_specialty',\n",
    "        'appointment_status_simplified',\n",
    "    ],\n",
    "    as_index=False\n",
    ").agg(\n",
    "    {\n",
    "        'appointment_id': 'count',\n",
    "    }\n",
    ")"
   ]
  },
  {
   "cell_type": "code",
   "execution_count": 33,
   "id": "f636dc31-64f3-42f0-bf55-cb06db4e152f",
   "metadata": {},
   "outputs": [],
   "source": [
    "dfy = dfy.pivot(\n",
    "    index=['appointment_start', 'medical_specialty'], \n",
    "    columns=['appointment_status_simplified'], \n",
    "    values=['appointment_id'], \n",
    ").reset_index()\n",
    "\n",
    "dfy.columns = [\n",
    "    col[1] \n",
    "    if col[0] == 'appointment_id'\n",
    "    else col[0]\n",
    "    for col in dfy.columns\n",
    "]"
   ]
  },
  {
   "cell_type": "code",
   "execution_count": 35,
   "id": "a7941f57-5c7f-4cc5-b941-96a643e4483d",
   "metadata": {},
   "outputs": [],
   "source": [
    "dfy['total'] = dfy['completed'] + dfy['no_show'] + dfy['unused']\n",
    "dfy['total_used'] = dfy['completed'] + dfy['no_show']"
   ]
  },
  {
   "cell_type": "code",
   "execution_count": 36,
   "id": "646648d7-5f2e-472e-9c78-3993da8a99cf",
   "metadata": {},
   "outputs": [],
   "source": [
    "dfy['ns_ratio'] = dfy['no_show']/dfy['total_used']"
   ]
  },
  {
   "cell_type": "code",
   "execution_count": 39,
   "id": "04847738-271f-44fc-bb6c-f11f2dcc36c9",
   "metadata": {},
   "outputs": [
    {
     "data": {
      "image/png": "[encoded data removed]",
      "text/plain": [
       "<Figure size 640x480 with 1 Axes>"
      ]
     },
     "metadata": {},
     "output_type": "display_data"
    }
   ],
   "source": [
    "plt = sns.lineplot(\n",
    "    dfy, \n",
    "    x=\"appointment_start\", \n",
    "    y=\"ns_ratio\", \n",
    "    hue=\"medical_specialty\", \n",
    "    )\n",
    "\n",
    "for item in plt.get_xticklabels():\n",
    "    item.set_rotation(45)"
   ]
  },
  {
   "cell_type": "markdown",
   "id": "7f09df79-243c-4df9-9a7c-cf6652c1bfbf",
   "metadata": {
    "jp-MarkdownHeadingCollapsed": true
   },
   "source": [
    "---\n",
    "### How many historic data points we have of appointments?"
   ]
  },
  {
   "cell_type": "code",
   "execution_count": null,
   "id": "e5ecd439-bf11-425f-8fd4-9ecc6a9403c4",
   "metadata": {},
   "outputs": [],
   "source": [
    "sql_string = \"\"\"\n",
    "SELECT DATE_PART('year', citafecha) as appointment_year,\n",
    "       COUNT(*) as entry_count\n",
    "\n",
    "FROM cita\n",
    "\n",
    "INNER JOIN sucursal ON cita.citasucursalid = sucursal.sucursalid\n",
    "INNER JOIN citaestatus c ON cita.citaid = c.citaid AND cita.citaanio = c.citaanio\n",
    "\n",
    "WHERE citafecha >= '2000-11-03'\n",
    "  AND citafecha < '2024-01-01'\n",
    "  AND c.cestatusobs ~* '\\yCreado\\y'\n",
    "  AND citaestado IN (\n",
    "                         'DISPONIBLE',\n",
    "                         'NO_PRESENTO',\n",
    "                         'COMPLETADA'\n",
    "                        )\n",
    "\n",
    "GROUP BY appointment_year\n",
    "\n",
    ";\"\"\""
   ]
  },
  {
   "cell_type": "code",
   "execution_count": null,
   "id": "e3700872-0d22-4627-b260-574ffe20c5c7",
   "metadata": {},
   "outputs": [],
   "source": [
    "dfx = sql_string_to_df(db_crds, sql_string)\n",
    "\n",
    "dfx.rename(\n",
    "    columns={\n",
    "        0: \"year\",\n",
    "        1: \"count\",\n",
    "    }, \n",
    "    inplace=True\n",
    ")"
   ]
  },
  {
   "cell_type": "code",
   "execution_count": null,
   "id": "fcb51f82-a9f3-4b87-afa9-8910c936a5c6",
   "metadata": {},
   "outputs": [],
   "source": [
    "dfx"
   ]
  },
  {
   "cell_type": "markdown",
   "id": "78d9cac4-05d5-484c-9639-e678a9b18109",
   "metadata": {},
   "source": [
    "---\n",
    "### Average number of appointments per speciality"
   ]
  },
  {
   "cell_type": "code",
   "execution_count": 140,
   "id": "a6031aaa-b5e9-4236-a8e1-9a526c1fbb9c",
   "metadata": {},
   "outputs": [],
   "source": [
    "## Params\n",
    "path = '../../pkg_dir/data/pickles/robs'\n",
    "name = 'dataset.pkl'\n",
    "\n",
    "\n",
    "## Reading extract object saved as pickle locally\n",
    "pkl_obj = path + \"/\" + name\n",
    "\n",
    "with open(pkl_obj, 'rb') as obj_content:\n",
    "    dfx = pickle.load(obj_content)"
   ]
  },
  {
   "cell_type": "code",
   "execution_count": 141,
   "id": "7c7f9dea-a1db-4194-bcb2-660af2b05eac",
   "metadata": {},
   "outputs": [],
   "source": [
    "mr1 = dfx['appointment_status_simplified'].isin(\n",
    "    [\n",
    "        'unused', \n",
    "        'completed', \n",
    "        'no_show', \n",
    "    ]\n",
    ")\n",
    "mr2 = dfx['appointment_start'].dt.year == 2023\n",
    "mr3 = dfx['appointment_start'].dt.weekday < 5 ## only weekdays\n",
    "# mr4 = dfx['clinic'] == 'BASILICA'\n",
    "mrs = mr1 & mr2 & mr3# & mr4\n",
    "\n",
    "rc = [\n",
    "    'appointment_id',\n",
    "    'appointment_start',\n",
    "    'clinic',\n",
    "    'doctor',\n",
    "    'medical_specialty',\n",
    "    'appointment_status_simplified',\n",
    "]"
   ]
  },
  {
   "cell_type": "code",
   "execution_count": 142,
   "id": "7b247903-40d4-490b-be16-377f837add68",
   "metadata": {
    "scrolled": true
   },
   "outputs": [],
   "source": [
    "dfy = dfx.loc[mrs, rc].copy()"
   ]
  },
  {
   "cell_type": "code",
   "execution_count": 143,
   "id": "24dc8497-27fc-4a33-b545-2a9ddf3d234b",
   "metadata": {},
   "outputs": [
    {
     "data": {
      "text/html": [
       "<div>\n",
       "<style scoped>\n",
       "    .dataframe tbody tr th:only-of-type {\n",
       "        vertical-align: middle;\n",
       "    }\n",
       "\n",
       "    .dataframe tbody tr th {\n",
       "        vertical-align: top;\n",
       "    }\n",
       "\n",
       "    .dataframe thead th {\n",
       "        text-align: right;\n",
       "    }\n",
       "</style>\n",
       "<table border=\"1\" class=\"dataframe\">\n",
       "  <thead>\n",
       "    <tr style=\"text-align: right;\">\n",
       "      <th></th>\n",
       "      <th>appointment_start</th>\n",
       "      <th>medical_specialty</th>\n",
       "      <th>appointment_status_simplified</th>\n",
       "      <th>appointment_id</th>\n",
       "    </tr>\n",
       "  </thead>\n",
       "  <tbody>\n",
       "    <tr>\n",
       "      <th>0</th>\n",
       "      <td>2023-01-02</td>\n",
       "      <td>CARDIOLOGIA</td>\n",
       "      <td>completed</td>\n",
       "      <td>10</td>\n",
       "    </tr>\n",
       "    <tr>\n",
       "      <th>1</th>\n",
       "      <td>2023-01-02</td>\n",
       "      <td>CARDIOLOGIA</td>\n",
       "      <td>no_show</td>\n",
       "      <td>4</td>\n",
       "    </tr>\n",
       "    <tr>\n",
       "      <th>2</th>\n",
       "      <td>2023-01-02</td>\n",
       "      <td>CARDIOLOGIA</td>\n",
       "      <td>unused</td>\n",
       "      <td>4</td>\n",
       "    </tr>\n",
       "    <tr>\n",
       "      <th>3</th>\n",
       "      <td>2023-01-02</td>\n",
       "      <td>DERMATOLOGIA</td>\n",
       "      <td>completed</td>\n",
       "      <td>35</td>\n",
       "    </tr>\n",
       "    <tr>\n",
       "      <th>4</th>\n",
       "      <td>2023-01-02</td>\n",
       "      <td>DERMATOLOGIA</td>\n",
       "      <td>no_show</td>\n",
       "      <td>13</td>\n",
       "    </tr>\n",
       "    <tr>\n",
       "      <th>...</th>\n",
       "      <td>...</td>\n",
       "      <td>...</td>\n",
       "      <td>...</td>\n",
       "      <td>...</td>\n",
       "    </tr>\n",
       "    <tr>\n",
       "      <th>14048</th>\n",
       "      <td>2023-12-29</td>\n",
       "      <td>UROLOGIA</td>\n",
       "      <td>no_show</td>\n",
       "      <td>4</td>\n",
       "    </tr>\n",
       "    <tr>\n",
       "      <th>14049</th>\n",
       "      <td>2023-12-29</td>\n",
       "      <td>UROLOGIA</td>\n",
       "      <td>unused</td>\n",
       "      <td>24</td>\n",
       "    </tr>\n",
       "    <tr>\n",
       "      <th>14050</th>\n",
       "      <td>2023-12-29</td>\n",
       "      <td>Ultrasonido</td>\n",
       "      <td>completed</td>\n",
       "      <td>12</td>\n",
       "    </tr>\n",
       "    <tr>\n",
       "      <th>14051</th>\n",
       "      <td>2023-12-29</td>\n",
       "      <td>Ultrasonido</td>\n",
       "      <td>no_show</td>\n",
       "      <td>1</td>\n",
       "    </tr>\n",
       "    <tr>\n",
       "      <th>14052</th>\n",
       "      <td>2023-12-29</td>\n",
       "      <td>Ultrasonido</td>\n",
       "      <td>unused</td>\n",
       "      <td>6</td>\n",
       "    </tr>\n",
       "  </tbody>\n",
       "</table>\n",
       "<p>14053 rows × 4 columns</p>\n",
       "</div>"
      ],
      "text/plain": [
       "      appointment_start medical_specialty appointment_status_simplified  \\\n",
       "0            2023-01-02       CARDIOLOGIA                     completed   \n",
       "1            2023-01-02       CARDIOLOGIA                       no_show   \n",
       "2            2023-01-02       CARDIOLOGIA                        unused   \n",
       "3            2023-01-02      DERMATOLOGIA                     completed   \n",
       "4            2023-01-02      DERMATOLOGIA                       no_show   \n",
       "...                 ...               ...                           ...   \n",
       "14048        2023-12-29          UROLOGIA                       no_show   \n",
       "14049        2023-12-29          UROLOGIA                        unused   \n",
       "14050        2023-12-29       Ultrasonido                     completed   \n",
       "14051        2023-12-29       Ultrasonido                       no_show   \n",
       "14052        2023-12-29       Ultrasonido                        unused   \n",
       "\n",
       "       appointment_id  \n",
       "0                  10  \n",
       "1                   4  \n",
       "2                   4  \n",
       "3                  35  \n",
       "4                  13  \n",
       "...               ...  \n",
       "14048               4  \n",
       "14049              24  \n",
       "14050              12  \n",
       "14051               1  \n",
       "14052               6  \n",
       "\n",
       "[14053 rows x 4 columns]"
      ]
     },
     "execution_count": 143,
     "metadata": {},
     "output_type": "execute_result"
    }
   ],
   "source": [
    "dfy = dfy.groupby(\n",
    "    [\n",
    "        pd.Grouper(key='appointment_start', freq='d'),\n",
    "        'medical_specialty',\n",
    "        'appointment_status_simplified',\n",
    "    ],\n",
    "    as_index=False\n",
    ").agg(\n",
    "    {\n",
    "        'appointment_id': 'count',\n",
    "    }\n",
    ")\n",
    "\n",
    "dfy"
   ]
  },
  {
   "cell_type": "code",
   "execution_count": 144,
   "id": "b8a1f716-b601-46a2-bffb-9a248a8b8ab0",
   "metadata": {},
   "outputs": [],
   "source": [
    "dfy = dfy.pivot(\n",
    "    index=['appointment_start', 'medical_specialty'], \n",
    "    columns=['appointment_status_simplified'], \n",
    "    values=['appointment_id'], \n",
    ").reset_index()\n",
    "\n",
    "dfy.columns = [\n",
    "    col[1] \n",
    "    if col[0] == 'appointment_id'\n",
    "    else col[0]\n",
    "    for col in dfy.columns\n",
    "]"
   ]
  },
  {
   "cell_type": "code",
   "execution_count": 145,
   "id": "5a355658-28cb-4638-bf65-8a3a7cdd38db",
   "metadata": {},
   "outputs": [],
   "source": [
    "## \n",
    "dfy.fillna(0, inplace=True)"
   ]
  },
  {
   "cell_type": "code",
   "execution_count": 146,
   "id": "50513bef-1578-4078-aa95-13a62569a878",
   "metadata": {},
   "outputs": [],
   "source": [
    "dfy['total_agenda'] = dfy['completed'] + dfy['no_show'] + dfy['unused']\n",
    "dfy['total_used'] = dfy['completed'] + dfy['no_show']\n",
    "\n",
    "dfy['ns_ratio'] = dfy['no_show']/dfy['total_used']\n",
    "dfy['occupation_ratio'] = 1 - dfy['unused']/dfy['total_agenda']"
   ]
  },
  {
   "cell_type": "code",
   "execution_count": 147,
   "id": "b6869f28-d9d9-4d62-8782-707c1f56f467",
   "metadata": {
    "scrolled": true
   },
   "outputs": [
    {
     "data": {
      "text/html": [
       "<div>\n",
       "<style scoped>\n",
       "    .dataframe tbody tr th:only-of-type {\n",
       "        vertical-align: middle;\n",
       "    }\n",
       "\n",
       "    .dataframe tbody tr th {\n",
       "        vertical-align: top;\n",
       "    }\n",
       "\n",
       "    .dataframe thead tr th {\n",
       "        text-align: left;\n",
       "    }\n",
       "\n",
       "    .dataframe thead tr:last-of-type th {\n",
       "        text-align: right;\n",
       "    }\n",
       "</style>\n",
       "<table border=\"1\" class=\"dataframe\">\n",
       "  <thead>\n",
       "    <tr>\n",
       "      <th></th>\n",
       "      <th>completed</th>\n",
       "      <th>no_show</th>\n",
       "      <th>ns_ratio</th>\n",
       "      <th>occupation_ratio</th>\n",
       "      <th>unused</th>\n",
       "      <th colspan=\"2\" halign=\"left\">total_used</th>\n",
       "      <th>appointment_start</th>\n",
       "    </tr>\n",
       "    <tr>\n",
       "      <th></th>\n",
       "      <th>mean</th>\n",
       "      <th>mean</th>\n",
       "      <th>mean</th>\n",
       "      <th>mean</th>\n",
       "      <th>mean</th>\n",
       "      <th>mean</th>\n",
       "      <th>sum</th>\n",
       "      <th>nunique</th>\n",
       "    </tr>\n",
       "    <tr>\n",
       "      <th>medical_specialty</th>\n",
       "      <th></th>\n",
       "      <th></th>\n",
       "      <th></th>\n",
       "      <th></th>\n",
       "      <th></th>\n",
       "      <th></th>\n",
       "      <th></th>\n",
       "      <th></th>\n",
       "    </tr>\n",
       "  </thead>\n",
       "  <tbody>\n",
       "    <tr>\n",
       "      <th>DERMATOLOGIA</th>\n",
       "      <td>90.107692</td>\n",
       "      <td>19.834615</td>\n",
       "      <td>0.185172</td>\n",
       "      <td>0.900197</td>\n",
       "      <td>12.607692</td>\n",
       "      <td>109.942308</td>\n",
       "      <td>28585.0</td>\n",
       "      <td>260</td>\n",
       "    </tr>\n",
       "    <tr>\n",
       "      <th>GINECOLOGIA</th>\n",
       "      <td>72.517375</td>\n",
       "      <td>14.270270</td>\n",
       "      <td>0.165426</td>\n",
       "      <td>0.751116</td>\n",
       "      <td>29.440154</td>\n",
       "      <td>86.787645</td>\n",
       "      <td>22478.0</td>\n",
       "      <td>259</td>\n",
       "    </tr>\n",
       "    <tr>\n",
       "      <th>OTORRINOLARINGOLOGIA</th>\n",
       "      <td>47.243243</td>\n",
       "      <td>8.752896</td>\n",
       "      <td>0.158166</td>\n",
       "      <td>0.829395</td>\n",
       "      <td>11.853282</td>\n",
       "      <td>55.996139</td>\n",
       "      <td>14503.0</td>\n",
       "      <td>259</td>\n",
       "    </tr>\n",
       "    <tr>\n",
       "      <th>GASTROENTEROLOGIA</th>\n",
       "      <td>39.073359</td>\n",
       "      <td>6.648649</td>\n",
       "      <td>0.148902</td>\n",
       "      <td>0.758984</td>\n",
       "      <td>15.552124</td>\n",
       "      <td>45.722008</td>\n",
       "      <td>11842.0</td>\n",
       "      <td>259</td>\n",
       "    </tr>\n",
       "    <tr>\n",
       "      <th>UROLOGIA</th>\n",
       "      <td>37.320463</td>\n",
       "      <td>6.339768</td>\n",
       "      <td>0.144285</td>\n",
       "      <td>0.724460</td>\n",
       "      <td>18.270270</td>\n",
       "      <td>43.660232</td>\n",
       "      <td>11308.0</td>\n",
       "      <td>259</td>\n",
       "    </tr>\n",
       "    <tr>\n",
       "      <th>ENDOCRINOLOGIA</th>\n",
       "      <td>33.258687</td>\n",
       "      <td>5.810811</td>\n",
       "      <td>0.152971</td>\n",
       "      <td>0.828452</td>\n",
       "      <td>8.544402</td>\n",
       "      <td>39.069498</td>\n",
       "      <td>10119.0</td>\n",
       "      <td>259</td>\n",
       "    </tr>\n",
       "    <tr>\n",
       "      <th>NEUROLOGIA</th>\n",
       "      <td>22.694981</td>\n",
       "      <td>3.610039</td>\n",
       "      <td>0.137280</td>\n",
       "      <td>0.757318</td>\n",
       "      <td>8.918919</td>\n",
       "      <td>26.305019</td>\n",
       "      <td>6813.0</td>\n",
       "      <td>259</td>\n",
       "    </tr>\n",
       "    <tr>\n",
       "      <th>ULTRASONIDO</th>\n",
       "      <td>22.152344</td>\n",
       "      <td>3.519531</td>\n",
       "      <td>0.144150</td>\n",
       "      <td>0.649702</td>\n",
       "      <td>14.179688</td>\n",
       "      <td>25.671875</td>\n",
       "      <td>6572.0</td>\n",
       "      <td>256</td>\n",
       "    </tr>\n",
       "    <tr>\n",
       "      <th>CARDIOLOGIA</th>\n",
       "      <td>21.871595</td>\n",
       "      <td>2.824903</td>\n",
       "      <td>0.111722</td>\n",
       "      <td>0.626527</td>\n",
       "      <td>14.918288</td>\n",
       "      <td>24.696498</td>\n",
       "      <td>6347.0</td>\n",
       "      <td>257</td>\n",
       "    </tr>\n",
       "    <tr>\n",
       "      <th>ORTOPEDIA</th>\n",
       "      <td>20.177606</td>\n",
       "      <td>3.339768</td>\n",
       "      <td>0.145969</td>\n",
       "      <td>0.689755</td>\n",
       "      <td>11.135135</td>\n",
       "      <td>23.517375</td>\n",
       "      <td>6091.0</td>\n",
       "      <td>259</td>\n",
       "    </tr>\n",
       "    <tr>\n",
       "      <th>REUMATOLOGIA</th>\n",
       "      <td>11.012295</td>\n",
       "      <td>1.610656</td>\n",
       "      <td>0.136011</td>\n",
       "      <td>0.656970</td>\n",
       "      <td>7.131148</td>\n",
       "      <td>12.622951</td>\n",
       "      <td>3080.0</td>\n",
       "      <td>244</td>\n",
       "    </tr>\n",
       "    <tr>\n",
       "      <th>Ultrasonido</th>\n",
       "      <td>9.606178</td>\n",
       "      <td>1.710425</td>\n",
       "      <td>0.148326</td>\n",
       "      <td>0.563234</td>\n",
       "      <td>8.826255</td>\n",
       "      <td>11.316602</td>\n",
       "      <td>2931.0</td>\n",
       "      <td>259</td>\n",
       "    </tr>\n",
       "    <tr>\n",
       "      <th>NEUMOLOGIA</th>\n",
       "      <td>10.361702</td>\n",
       "      <td>2.072340</td>\n",
       "      <td>0.185870</td>\n",
       "      <td>0.790696</td>\n",
       "      <td>3.468085</td>\n",
       "      <td>12.434043</td>\n",
       "      <td>2922.0</td>\n",
       "      <td>235</td>\n",
       "    </tr>\n",
       "    <tr>\n",
       "      <th>PROCTOLOGIA</th>\n",
       "      <td>7.547826</td>\n",
       "      <td>1.695652</td>\n",
       "      <td>0.202054</td>\n",
       "      <td>0.681543</td>\n",
       "      <td>4.365217</td>\n",
       "      <td>9.243478</td>\n",
       "      <td>2126.0</td>\n",
       "      <td>230</td>\n",
       "    </tr>\n",
       "    <tr>\n",
       "      <th>ANGIOLOGIA</th>\n",
       "      <td>10.358974</td>\n",
       "      <td>2.179487</td>\n",
       "      <td>0.186063</td>\n",
       "      <td>0.877086</td>\n",
       "      <td>1.833333</td>\n",
       "      <td>12.538462</td>\n",
       "      <td>1956.0</td>\n",
       "      <td>156</td>\n",
       "    </tr>\n",
       "    <tr>\n",
       "      <th>NEFROLOGIA</th>\n",
       "      <td>7.660819</td>\n",
       "      <td>1.228070</td>\n",
       "      <td>0.151016</td>\n",
       "      <td>0.718465</td>\n",
       "      <td>4.228070</td>\n",
       "      <td>8.888889</td>\n",
       "      <td>1520.0</td>\n",
       "      <td>171</td>\n",
       "    </tr>\n",
       "    <tr>\n",
       "      <th>MEDICINA GENERAL+IA</th>\n",
       "      <td>5.849558</td>\n",
       "      <td>0.694690</td>\n",
       "      <td>0.099687</td>\n",
       "      <td>0.475233</td>\n",
       "      <td>7.314159</td>\n",
       "      <td>6.544248</td>\n",
       "      <td>1479.0</td>\n",
       "      <td>226</td>\n",
       "    </tr>\n",
       "    <tr>\n",
       "      <th>NUTRICION</th>\n",
       "      <td>4.751073</td>\n",
       "      <td>1.278970</td>\n",
       "      <td>0.237552</td>\n",
       "      <td>0.411492</td>\n",
       "      <td>8.317597</td>\n",
       "      <td>6.030043</td>\n",
       "      <td>1405.0</td>\n",
       "      <td>233</td>\n",
       "    </tr>\n",
       "    <tr>\n",
       "      <th>MEDICINA INTERNA</th>\n",
       "      <td>5.258929</td>\n",
       "      <td>0.669643</td>\n",
       "      <td>0.106870</td>\n",
       "      <td>0.524088</td>\n",
       "      <td>5.535714</td>\n",
       "      <td>5.928571</td>\n",
       "      <td>1328.0</td>\n",
       "      <td>224</td>\n",
       "    </tr>\n",
       "    <tr>\n",
       "      <th>PSICOLOGIA</th>\n",
       "      <td>3.212245</td>\n",
       "      <td>0.416327</td>\n",
       "      <td>0.110195</td>\n",
       "      <td>0.388413</td>\n",
       "      <td>5.800000</td>\n",
       "      <td>3.628571</td>\n",
       "      <td>889.0</td>\n",
       "      <td>245</td>\n",
       "    </tr>\n",
       "    <tr>\n",
       "      <th>ALERGOLOGIA</th>\n",
       "      <td>7.695122</td>\n",
       "      <td>1.402439</td>\n",
       "      <td>0.140336</td>\n",
       "      <td>0.621028</td>\n",
       "      <td>5.804878</td>\n",
       "      <td>9.097561</td>\n",
       "      <td>746.0</td>\n",
       "      <td>82</td>\n",
       "    </tr>\n",
       "    <tr>\n",
       "      <th>PEDIATRIA</th>\n",
       "      <td>2.922414</td>\n",
       "      <td>0.672414</td>\n",
       "      <td>0.183749</td>\n",
       "      <td>0.376450</td>\n",
       "      <td>6.715517</td>\n",
       "      <td>3.594828</td>\n",
       "      <td>417.0</td>\n",
       "      <td>116</td>\n",
       "    </tr>\n",
       "    <tr>\n",
       "      <th>OFTALMOLOGIA</th>\n",
       "      <td>1.088496</td>\n",
       "      <td>0.584071</td>\n",
       "      <td>0.528919</td>\n",
       "      <td>0.056622</td>\n",
       "      <td>27.911504</td>\n",
       "      <td>1.672566</td>\n",
       "      <td>189.0</td>\n",
       "      <td>113</td>\n",
       "    </tr>\n",
       "    <tr>\n",
       "      <th>ONCOLOGIA</th>\n",
       "      <td>1.523810</td>\n",
       "      <td>0.539683</td>\n",
       "      <td>0.306685</td>\n",
       "      <td>0.179010</td>\n",
       "      <td>10.857143</td>\n",
       "      <td>2.063492</td>\n",
       "      <td>130.0</td>\n",
       "      <td>63</td>\n",
       "    </tr>\n",
       "    <tr>\n",
       "      <th>GERIATRIA</th>\n",
       "      <td>3.307692</td>\n",
       "      <td>0.769231</td>\n",
       "      <td>0.173993</td>\n",
       "      <td>0.513736</td>\n",
       "      <td>3.769231</td>\n",
       "      <td>4.076923</td>\n",
       "      <td>53.0</td>\n",
       "      <td>13</td>\n",
       "    </tr>\n",
       "  </tbody>\n",
       "</table>\n",
       "</div>"
      ],
      "text/plain": [
       "                      completed    no_show  ns_ratio occupation_ratio  \\\n",
       "                           mean       mean      mean             mean   \n",
       "medical_specialty                                                       \n",
       "DERMATOLOGIA          90.107692  19.834615  0.185172         0.900197   \n",
       "GINECOLOGIA           72.517375  14.270270  0.165426         0.751116   \n",
       "OTORRINOLARINGOLOGIA  47.243243   8.752896  0.158166         0.829395   \n",
       "GASTROENTEROLOGIA     39.073359   6.648649  0.148902         0.758984   \n",
       "UROLOGIA              37.320463   6.339768  0.144285         0.724460   \n",
       "ENDOCRINOLOGIA        33.258687   5.810811  0.152971         0.828452   \n",
       "NEUROLOGIA            22.694981   3.610039  0.137280         0.757318   \n",
       "ULTRASONIDO           22.152344   3.519531  0.144150         0.649702   \n",
       "CARDIOLOGIA           21.871595   2.824903  0.111722         0.626527   \n",
       "ORTOPEDIA             20.177606   3.339768  0.145969         0.689755   \n",
       "REUMATOLOGIA          11.012295   1.610656  0.136011         0.656970   \n",
       "Ultrasonido            9.606178   1.710425  0.148326         0.563234   \n",
       "NEUMOLOGIA            10.361702   2.072340  0.185870         0.790696   \n",
       "PROCTOLOGIA            7.547826   1.695652  0.202054         0.681543   \n",
       "ANGIOLOGIA            10.358974   2.179487  0.186063         0.877086   \n",
       "NEFROLOGIA             7.660819   1.228070  0.151016         0.718465   \n",
       "MEDICINA GENERAL+IA    5.849558   0.694690  0.099687         0.475233   \n",
       "NUTRICION              4.751073   1.278970  0.237552         0.411492   \n",
       "MEDICINA INTERNA       5.258929   0.669643  0.106870         0.524088   \n",
       "PSICOLOGIA             3.212245   0.416327  0.110195         0.388413   \n",
       "ALERGOLOGIA            7.695122   1.402439  0.140336         0.621028   \n",
       "PEDIATRIA              2.922414   0.672414  0.183749         0.376450   \n",
       "OFTALMOLOGIA           1.088496   0.584071  0.528919         0.056622   \n",
       "ONCOLOGIA              1.523810   0.539683  0.306685         0.179010   \n",
       "GERIATRIA              3.307692   0.769231  0.173993         0.513736   \n",
       "\n",
       "                         unused  total_used          appointment_start  \n",
       "                           mean        mean      sum           nunique  \n",
       "medical_specialty                                                       \n",
       "DERMATOLOGIA          12.607692  109.942308  28585.0               260  \n",
       "GINECOLOGIA           29.440154   86.787645  22478.0               259  \n",
       "OTORRINOLARINGOLOGIA  11.853282   55.996139  14503.0               259  \n",
       "GASTROENTEROLOGIA     15.552124   45.722008  11842.0               259  \n",
       "UROLOGIA              18.270270   43.660232  11308.0               259  \n",
       "ENDOCRINOLOGIA         8.544402   39.069498  10119.0               259  \n",
       "NEUROLOGIA             8.918919   26.305019   6813.0               259  \n",
       "ULTRASONIDO           14.179688   25.671875   6572.0               256  \n",
       "CARDIOLOGIA           14.918288   24.696498   6347.0               257  \n",
       "ORTOPEDIA             11.135135   23.517375   6091.0               259  \n",
       "REUMATOLOGIA           7.131148   12.622951   3080.0               244  \n",
       "Ultrasonido            8.826255   11.316602   2931.0               259  \n",
       "NEUMOLOGIA             3.468085   12.434043   2922.0               235  \n",
       "PROCTOLOGIA            4.365217    9.243478   2126.0               230  \n",
       "ANGIOLOGIA             1.833333   12.538462   1956.0               156  \n",
       "NEFROLOGIA             4.228070    8.888889   1520.0               171  \n",
       "MEDICINA GENERAL+IA    7.314159    6.544248   1479.0               226  \n",
       "NUTRICION              8.317597    6.030043   1405.0               233  \n",
       "MEDICINA INTERNA       5.535714    5.928571   1328.0               224  \n",
       "PSICOLOGIA             5.800000    3.628571    889.0               245  \n",
       "ALERGOLOGIA            5.804878    9.097561    746.0                82  \n",
       "PEDIATRIA              6.715517    3.594828    417.0               116  \n",
       "OFTALMOLOGIA          27.911504    1.672566    189.0               113  \n",
       "ONCOLOGIA             10.857143    2.063492    130.0                63  \n",
       "GERIATRIA              3.769231    4.076923     53.0                13  "
      ]
     },
     "execution_count": 147,
     "metadata": {},
     "output_type": "execute_result"
    }
   ],
   "source": [
    "dfy2 = dfy.groupby(\n",
    "    [\n",
    "        'medical_specialty',\n",
    "    ]\n",
    ").agg(\n",
    "    {\n",
    "        'completed': 'mean',\n",
    "        'no_show': 'mean',\n",
    "        'ns_ratio': 'mean',\n",
    "        'occupation_ratio': 'mean',\n",
    "        'unused': 'mean',\n",
    "        # 'total_agenda': ['mean', 'sum'],\n",
    "        'total_used': ['mean', 'sum'],\n",
    "        'appointment_start': 'nunique',\n",
    "    }\n",
    ")\n",
    "\n",
    "# dfy2.columns = [col[0] + '_$' + col[1] for col in dfy2.columns]\n",
    "\n",
    "dfy2.sort_values(by=('total_used', 'sum'), inplace=True, ascending=False)\n",
    "\n",
    "dfy2"
   ]
  },
  {
   "cell_type": "markdown",
   "id": "a4a7ffc2-f8b1-4827-9f5e-850481eb4f9b",
   "metadata": {},
   "source": [
    "---\n",
    "### Average number of doctors per specialty and per location"
   ]
  },
  {
   "cell_type": "code",
   "execution_count": null,
   "id": "dd66a63c-8461-42e5-9826-8453b6ea51a8",
   "metadata": {},
   "outputs": [],
   "source": [
    "## Params\n",
    "path = '../../pkg_dir/data/pickles/robs'\n",
    "name = 'dataset.pkl'\n",
    "\n",
    "\n",
    "## Reading extract object saved as pickle locally\n",
    "pkl_obj = path + \"/\" + name\n",
    "\n",
    "with open(pkl_obj, 'rb') as obj_content:\n",
    "    dfx = pickle.load(obj_content)"
   ]
  },
  {
   "cell_type": "code",
   "execution_count": null,
   "id": "f9617e0d-5964-4a0b-91d0-9e9f1c8e5b31",
   "metadata": {},
   "outputs": [],
   "source": [
    "specialty = ['DERMATOLOGIA', 'GINECOLOGIA', 'OTORRINOLARINGOLOGIA', 'UROLOGIA', 'GASTROENTEROLOGIA', 'ENDOCRINOLOGIA']\n",
    "clinic = ['BASILICA', 'COAPA', 'MARINA NACIONAL', 'TLALPAN', 'MONTEVIDEO']"
   ]
  },
  {
   "cell_type": "code",
   "execution_count": null,
   "id": "b390d4e4-09bf-47ea-8df1-105385471eef",
   "metadata": {},
   "outputs": [],
   "source": [
    "mr1 = dfx['appointment_start'].dt.weekday < 5 ## only weekdays\n",
    "mr2 = dfx['medical_specialty'].isin(specialty)\n",
    "mr3 = dfx['clinic'].isin(clinic)\n",
    "mrs = mr1 & mr2 & mr3\n",
    "\n",
    "rc = [\n",
    "    'appointment_id',\n",
    "    'appointment_start',\n",
    "    'clinic',\n",
    "        'medical_specialty',\n",
    "    'doctor',\n",
    "]"
   ]
  },
  {
   "cell_type": "code",
   "execution_count": null,
   "id": "573ba682-067e-429d-b068-80eed6c0f88c",
   "metadata": {
    "scrolled": true
   },
   "outputs": [],
   "source": [
    "dfy = dfx.loc[mrs, rc].copy()"
   ]
  },
  {
   "cell_type": "code",
   "execution_count": null,
   "id": "5b10bd37-3960-4412-87c8-e42a77e00745",
   "metadata": {},
   "outputs": [],
   "source": [
    "dfy = dfy.groupby(\n",
    "    [\n",
    "        pd.Grouper(key='appointment_start', freq='d'),\n",
    "        'medical_specialty',\n",
    "        'clinic',\n",
    "    ],\n",
    "    as_index=False\n",
    ").agg(\n",
    "    {\n",
    "        'doctor': 'nunique',\n",
    "    }\n",
    ")\n"
   ]
  },
  {
   "cell_type": "code",
   "execution_count": null,
   "id": "84408d7a-c325-4968-9ba7-e790299fd1ff",
   "metadata": {},
   "outputs": [],
   "source": [
    "dfy = dfy.groupby(\n",
    "    [\n",
    "        'medical_specialty',\n",
    "        'clinic',\n",
    "    ],\n",
    "    as_index=False\n",
    ").agg(\n",
    "    {\n",
    "        'doctor': 'mean',\n",
    "    }\n",
    ")\n",
    "\n",
    "dfy"
   ]
  },
  {
   "cell_type": "markdown",
   "id": "bad74bf3-844b-46c2-9c9b-f4ee4f137654",
   "metadata": {
    "jp-MarkdownHeadingCollapsed": true
   },
   "source": [
    "---\n",
    "### No shows per specialty in 2023"
   ]
  },
  {
   "cell_type": "markdown",
   "id": "3532c892-4bb5-461b-b4cd-9e1aaa3fb799",
   "metadata": {
    "jp-MarkdownHeadingCollapsed": true
   },
   "source": [
    "###### \n",
    "###### Old calculation"
   ]
  },
  {
   "cell_type": "code",
   "execution_count": null,
   "id": "185a77a7-1911-4fe3-bd32-c5d194950271",
   "metadata": {},
   "outputs": [],
   "source": [
    "## Grouping data by clinic\n",
    "dfy = dfx.groupby(\n",
    "    [\n",
    "        'medical_specialty',\n",
    "        'appointment_status_simple',\n",
    "    ],\n",
    "    as_index=False\n",
    ").agg(\n",
    "    {\n",
    "        'appointment_id': 'count'\n",
    "    }\n",
    ")\n",
    "\n",
    "## Renaming aggregate column\n",
    "dfy.rename(columns={'appointment_id': 'count'}, inplace=True)"
   ]
  },
  {
   "cell_type": "code",
   "execution_count": null,
   "id": "af530db4-964c-4ed4-9ca5-06033aa317aa",
   "metadata": {},
   "outputs": [],
   "source": [
    "## Adding new column with proportions\n",
    "dfy[\"proportion\"] = dfy['count']/dfy.groupby([\"medical_specialty\"])[\"count\"].transform(\"sum\")"
   ]
  },
  {
   "cell_type": "code",
   "execution_count": null,
   "id": "843bfa74-71b4-472c-a0f2-10e55044a26d",
   "metadata": {},
   "outputs": [],
   "source": [
    "dfy.loc[dfy['appointment_status_simple'] == 'no_show', :].sort_values(by='proportion', ascending=False)"
   ]
  },
  {
   "cell_type": "code",
   "execution_count": null,
   "id": "8d1ffc8c-fd50-49ee-8745-69be547e4260",
   "metadata": {
    "scrolled": true
   },
   "outputs": [],
   "source": [
    "dfy"
   ]
  },
  {
   "cell_type": "code",
   "execution_count": null,
   "id": "851a5f86-5f46-41a3-b3ac-00857c6f751a",
   "metadata": {
    "scrolled": true
   },
   "outputs": [],
   "source": [
    "dfy"
   ]
  },
  {
   "cell_type": "markdown",
   "id": "e53fd1f4-ec3d-4bb6-8f5d-911d81fee7c9",
   "metadata": {
    "jp-MarkdownHeadingCollapsed": true
   },
   "source": [
    "---\n",
    "### How many of the no-shows are patients that were confirmed?"
   ]
  },
  {
   "cell_type": "code",
   "execution_count": null,
   "id": "9e89c624-e71d-40c2-894b-9b9a95ee51e4",
   "metadata": {},
   "outputs": [],
   "source": [
    "mr1 = dfy['appointment_status_simplified'] == 'no_show'\n",
    "mrs = mr1\n",
    "\n",
    "rc = [\n",
    "    'appointment_id',\n",
    "    'appointment_date',\n",
    "    'meta__confirmed_$date',\n",
    "]"
   ]
  },
  {
   "cell_type": "code",
   "execution_count": null,
   "id": "394f4a9d-1336-4815-9c2b-c7218b6c595f",
   "metadata": {
    "scrolled": true
   },
   "outputs": [],
   "source": [
    "dfy = dfx.loc[mrs, rc].copy()"
   ]
  },
  {
   "cell_type": "code",
   "execution_count": null,
   "id": "49ad0c57-873e-477a-80bc-34eedba05598",
   "metadata": {},
   "outputs": [],
   "source": [
    "dfy['meta__confirmed_$date'] = dfy['meta__confirmed_$date'].fillna('not_confirmed')"
   ]
  },
  {
   "cell_type": "code",
   "execution_count": null,
   "id": "db27f17b-5241-4cfe-b25f-acfea5d30d41",
   "metadata": {},
   "outputs": [],
   "source": [
    "dfy['meta__confirmed_$date'] = dfy['meta__confirmed_$date'].apply(lambda x: 'confirmed' if x != 'not_confirmed' else x)"
   ]
  },
  {
   "cell_type": "code",
   "execution_count": null,
   "id": "74a255df-f750-472a-8f45-688418ec71f1",
   "metadata": {},
   "outputs": [],
   "source": [
    "dfy = dfy.groupby(\n",
    "    [\n",
    "        pd.Grouper(key='appointment_date', freq='Y'),\n",
    "        'meta__confirmed_$date',\n",
    "    ]\n",
    ").agg(\n",
    "    'count'\n",
    ")\n",
    "\n",
    "dfy"
   ]
  },
  {
   "cell_type": "code",
   "execution_count": null,
   "id": "1fa129a1-9cd5-4c5e-ac9d-b5f6428bdaef",
   "metadata": {},
   "outputs": [],
   "source": [
    "## Adding new column with proportions per clinic\n",
    "dfy[\"proportion\"] = dfy['appointment_id']/dfy.groupby(['appointment_date'])[\"appointment_id\"].transform(\"sum\")"
   ]
  },
  {
   "cell_type": "code",
   "execution_count": null,
   "id": "afaaa524-57fe-40f9-aada-11236c41dc16",
   "metadata": {},
   "outputs": [],
   "source": [
    "dfy"
   ]
  },
  {
   "cell_type": "markdown",
   "id": "fb600b35-665d-4b27-a5b8-d6f3b45d4918",
   "metadata": {
    "jp-MarkdownHeadingCollapsed": true
   },
   "source": [
    "---\n",
    "### Appointments by channel"
   ]
  },
  {
   "cell_type": "code",
   "execution_count": null,
   "id": "4eca3904-1600-4bb7-929d-6b0135d7dc03",
   "metadata": {},
   "outputs": [],
   "source": [
    "mr1 = dfx['meta__created_$user'].notnull()\n",
    "mrs = mr1\n",
    "\n",
    "rc = [\n",
    "    'appointment_id',\n",
    "    'appointment_date',\n",
    "    'meta__created_$user',\n",
    "    'appointment_status_simplified',\n",
    "]"
   ]
  },
  {
   "cell_type": "code",
   "execution_count": null,
   "id": "6f9b97aa-282c-4001-b37e-96fd32be2d11",
   "metadata": {
    "scrolled": true
   },
   "outputs": [],
   "source": [
    "dfy = dfx.loc[mrs, rc].copy()"
   ]
  },
  {
   "cell_type": "code",
   "execution_count": null,
   "id": "e8f14485-7308-4f39-b1d3-ac859b95b02c",
   "metadata": {
    "scrolled": true
   },
   "outputs": [],
   "source": [
    "dfy['meta__created_$user'] = dfy['meta__created_$user'].apply(lambda x: 'online' if x == 'citas.online' else 'phone')"
   ]
  },
  {
   "cell_type": "code",
   "execution_count": null,
   "id": "28313d9e-65de-42ee-945b-3eb244948cb2",
   "metadata": {},
   "outputs": [],
   "source": [
    "dfy['meta__created_$user'].value_counts()"
   ]
  },
  {
   "cell_type": "code",
   "execution_count": null,
   "id": "772a13b5-37cd-4799-ad24-386188d98ae5",
   "metadata": {
    "scrolled": true
   },
   "outputs": [],
   "source": [
    "dfy[dfy['meta__created_$user'].str.contains('online')]"
   ]
  },
  {
   "cell_type": "code",
   "execution_count": null,
   "id": "3eac1903-656b-4bea-a175-9bd1bb64e79d",
   "metadata": {
    "scrolled": true
   },
   "outputs": [],
   "source": [
    "dfy['meta__created_$user'].unique()"
   ]
  },
  {
   "cell_type": "code",
   "execution_count": null,
   "id": "ddf4b2b5-e679-43d3-8e51-77f8f9785b63",
   "metadata": {},
   "outputs": [],
   "source": [
    "dfy[dfy['meta__created_$user'].str.contains('online')]['appointment_status_simplified'].value_counts()"
   ]
  },
  {
   "cell_type": "code",
   "execution_count": null,
   "id": "d7121647-865a-45df-b1e0-559d06fc8044",
   "metadata": {},
   "outputs": [],
   "source": []
  },
  {
   "cell_type": "code",
   "execution_count": null,
   "id": "b78d4adc-8469-45e4-9998-9e8ab751526f",
   "metadata": {},
   "outputs": [],
   "source": [
    "dfy['meta__created_$user'].info()"
   ]
  },
  {
   "cell_type": "code",
   "execution_count": null,
   "id": "aa270ef2-efdc-4be3-bbd1-c862cf61264e",
   "metadata": {},
   "outputs": [],
   "source": []
  },
  {
   "cell_type": "code",
   "execution_count": null,
   "id": "ca0dc5c9-8bf1-4c32-861c-e776c8837764",
   "metadata": {},
   "outputs": [],
   "source": [
    "dfx"
   ]
  },
  {
   "cell_type": "markdown",
   "id": "c9ee60d9-3dac-4799-a899-07bf6c2b702b",
   "metadata": {
    "jp-MarkdownHeadingCollapsed": true
   },
   "source": [
    "---\n",
    "### Specialties and lead time"
   ]
  },
  {
   "cell_type": "code",
   "execution_count": null,
   "id": "220e6829-dca1-4b13-88bb-f79cca5127d4",
   "metadata": {},
   "outputs": [],
   "source": [
    "## Params\n",
    "path = '../../pkg_dir/data/pickles/robs'\n",
    "name = 'dataset.pkl'\n",
    "\n",
    "\n",
    "## Reading extract object saved as pickle locally\n",
    "pkl_obj = path + \"/\" + name\n",
    "\n",
    "with open(pkl_obj, 'rb') as obj_content:\n",
    "    dfx = pickle.load(obj_content)"
   ]
  },
  {
   "cell_type": "code",
   "execution_count": null,
   "id": "c2d04344-0929-4ccc-8f8f-694a65226a87",
   "metadata": {},
   "outputs": [],
   "source": [
    "specialty = ['DERMATOLOGIA', 'GINECOLOGIA', 'OTORRINOLARINGOLOGIA', 'UROLOGIA', 'GASTROENTEROLOGIA', 'ENDOCRINOLOGIA']\n",
    "appt_status = ['cancel_patient', 'completed', 'no_show']"
   ]
  },
  {
   "cell_type": "code",
   "execution_count": null,
   "id": "29af63cd-f557-4e90-bba0-cbaf7c4a2e92",
   "metadata": {},
   "outputs": [],
   "source": [
    "dfx['appointment_status_simplified'].unique()"
   ]
  },
  {
   "cell_type": "code",
   "execution_count": null,
   "id": "a63398e5-531a-4413-88dd-9b8699f6f511",
   "metadata": {},
   "outputs": [],
   "source": [
    "mr1 = (dfx['creation_to_start_hrs'] > 0) & (dfx['creation_to_start_hrs'] < 12000)\n",
    "mr2 = dfx['medical_specialty'].isin(specialty)\n",
    "mr3 = dfx['appointment_status_simplified'].isin(appt_status)\n",
    "\n",
    "mrs = mr1 & mr2 & mr3\n",
    "\n",
    "rc = [\n",
    "    'appointment_id',\n",
    "    'medical_specialty',\n",
    "    'creation_to_start_hrs',\n",
    "    'appointment_status_simplified',\n",
    "]\n",
    "\n",
    "\n",
    "dfy = dfx.loc[mrs, rc].copy()"
   ]
  },
  {
   "cell_type": "code",
   "execution_count": null,
   "id": "ae4967e1-c6ed-42d1-ac30-c0c7984be6a8",
   "metadata": {},
   "outputs": [],
   "source": [
    "sns.boxplot(data=dfy, x=\"creation_to_start_hrs\", y=\"medical_specialty\")"
   ]
  },
  {
   "cell_type": "code",
   "execution_count": null,
   "id": "b15dc1fa-fe66-49be-8e06-728ae8eef9cf",
   "metadata": {},
   "outputs": [],
   "source": [
    "mr1 = (dfx['creation_to_start_hrs'] > 0) & (dfx['creation_to_start_hrs'] < 12000)\n",
    "mr2 = dfx['medical_specialty'].isin(specialty)\n",
    "mr3 = dfx['appointment_status_simplified'].isin(appt_status)\n",
    "\n",
    "mrs = mr1 & mr2 & mr3\n",
    "\n",
    "rc = [\n",
    "    'appointment_id',\n",
    "    'medical_specialty',\n",
    "    'creation_to_start_hrs',\n",
    "    'appointment_status_simplified',\n",
    "]\n",
    "\n",
    "\n",
    "dfy = dfx.loc[mrs, rc].copy()"
   ]
  },
  {
   "cell_type": "code",
   "execution_count": null,
   "id": "fba5747a-ba16-43bd-86f5-907147fe1e97",
   "metadata": {},
   "outputs": [],
   "source": [
    "sns.boxplot(data=dfy, x=\"creation_to_start_hrs\", y=\"medical_specialty\", hue='appointment_status_simplified')"
   ]
  },
  {
   "cell_type": "markdown",
   "id": "768b9191-e7f2-4d4b-9d06-a3c9e7da302e",
   "metadata": {},
   "source": [
    "---\n",
    "### How do appointments behave per time of day?"
   ]
  },
  {
   "cell_type": "markdown",
   "id": "8f782a9b-840d-4b1b-abec-4016d1f63703",
   "metadata": {
    "jp-MarkdownHeadingCollapsed": true
   },
   "source": [
    "##### \n",
    "##### All appointments"
   ]
  },
  {
   "cell_type": "code",
   "execution_count": null,
   "id": "96252ef9-656a-4d28-9035-5cf725b69b33",
   "metadata": {},
   "outputs": [],
   "source": [
    "mr1 = dfx['appointment_status_simplified'].isin(\n",
    "    [\n",
    "        'unused', \n",
    "        'completed', \n",
    "        'no_show', \n",
    "    ]\n",
    ")\n",
    "mr2 = dfx['appointment_date'].dt.weekday < 5 ## only weekdays\n",
    "mr3 = dfx['appointment_date'].dt.year == 2023 \n",
    "mrs = mr1 & mr2 & mr3\n",
    "\n",
    "rc = [\n",
    "    'appointment_id',\n",
    "    'appointment_date',\n",
    "    'appointment_start_time',\n",
    "    'appointment_status_simplified',\n",
    "]\n",
    "\n",
    "\n",
    "dfy = dfx.loc[mrs, rc].copy()"
   ]
  },
  {
   "cell_type": "code",
   "execution_count": null,
   "id": "1f00aa11-b805-4e21-b1b9-91df147bbb7a",
   "metadata": {},
   "outputs": [],
   "source": [
    "dfy['start_time'] = dfy['appointment_start_time'].str[:2].astype('float') + dfy['appointment_start_time'].str[-2:].astype('float')/60"
   ]
  },
  {
   "cell_type": "code",
   "execution_count": null,
   "id": "1b096c74-0053-4682-94f2-dcb2c178bfb7",
   "metadata": {},
   "outputs": [],
   "source": [
    "tr = 0.5\n",
    "bins = np.arange(0, 24 + tr, tr)\n",
    "dfy['st_bins'] = pd.cut(dfy['start_time'], bins)"
   ]
  },
  {
   "cell_type": "code",
   "execution_count": null,
   "id": "eef89c29-e0a0-4ec4-a9f1-76922de3591c",
   "metadata": {
    "scrolled": true
   },
   "outputs": [],
   "source": [
    "dfy.groupby(\n",
    "    [\n",
    "        # 'start_time',\n",
    "        'st_bins',\n",
    "    ],\n",
    "    as_index=False\n",
    ").agg(\n",
    "    {\n",
    "        'appointment_id': 'count',\n",
    "    }\n",
    ")"
   ]
  },
  {
   "cell_type": "code",
   "execution_count": null,
   "id": "5a30014f-3e07-4ce2-b0c9-d652cfb8da3b",
   "metadata": {},
   "outputs": [],
   "source": [
    "sns.histplot(\n",
    "    data=dfy, \n",
    "    x=\"start_time\",\n",
    "    bins=bins,\n",
    ")"
   ]
  },
  {
   "cell_type": "markdown",
   "id": "e32fa327-314b-4cb4-bc1c-1bb1c7044867",
   "metadata": {
    "jp-MarkdownHeadingCollapsed": true
   },
   "source": [
    "##### \n",
    "##### Separating by status"
   ]
  },
  {
   "cell_type": "code",
   "execution_count": null,
   "id": "2997c9a0-d574-4a31-a538-9eb7d79dfd83",
   "metadata": {},
   "outputs": [],
   "source": [
    "mr1 = dfx['appointment_status_simplified'].isin(\n",
    "    [\n",
    "        'unused', \n",
    "        'completed', \n",
    "        'no_show', \n",
    "    ]\n",
    ")\n",
    "mr2 = dfx['appointment_date'].dt.weekday < 5 ## only weekdays\n",
    "mr3 = dfx['appointment_date'].dt.year == 2023 ## only weekdays\n",
    "mrs = mr1 & mr2 & mr3\n",
    "\n",
    "rc = [\n",
    "    'appointment_id',\n",
    "    'appointment_date',\n",
    "    'appointment_start_time',\n",
    "    'appointment_status_simplified',\n",
    "]\n",
    "\n",
    "\n",
    "dfy = dfx.loc[mrs, rc].copy()"
   ]
  },
  {
   "cell_type": "code",
   "execution_count": null,
   "id": "f709aed7-f101-4e6b-a1e0-20395b216004",
   "metadata": {},
   "outputs": [],
   "source": [
    "dfy['start_time'] = dfy['appointment_start_time'].str[:2].astype('float') + dfy['appointment_start_time'].str[-2:].astype('float')/60"
   ]
  },
  {
   "cell_type": "code",
   "execution_count": null,
   "id": "cfe23001-dd69-43cb-964d-3146e3a672a1",
   "metadata": {},
   "outputs": [],
   "source": [
    "tr = 0.5\n",
    "bins = np.arange(0, 24 + tr, tr)\n",
    "dfy['st_bins'] = pd.cut(dfy['start_time'], bins)"
   ]
  },
  {
   "cell_type": "code",
   "execution_count": null,
   "id": "070ae901-e8ea-48a6-b128-782910cb42e4",
   "metadata": {
    "scrolled": true
   },
   "outputs": [],
   "source": [
    "dfy.groupby(\n",
    "    [\n",
    "        'appointment_status_simplified',\n",
    "        'st_bins',\n",
    "    ],\n",
    "    # as_index=False\n",
    ").agg(\n",
    "    {\n",
    "        'appointment_id': 'count',\n",
    "    }\n",
    ")"
   ]
  },
  {
   "cell_type": "code",
   "execution_count": null,
   "id": "464ab1fa-7ae9-43a3-9241-a5d37c75c129",
   "metadata": {},
   "outputs": [],
   "source": [
    "sns.histplot(\n",
    "    data=dfy, \n",
    "    x=\"start_time\",\n",
    "    bins=bins,\n",
    "    hue='appointment_status_simplified',\n",
    ")"
   ]
  },
  {
   "cell_type": "markdown",
   "id": "a7aeaf03-02ab-4d15-a622-2103f07a0ad2",
   "metadata": {
    "jp-MarkdownHeadingCollapsed": true
   },
   "source": [
    "##### \n",
    "##### Focusing on clinic"
   ]
  },
  {
   "cell_type": "code",
   "execution_count": null,
   "id": "bdac2f9a-51c7-4297-8361-92082122f0c9",
   "metadata": {},
   "outputs": [],
   "source": [
    "mr1 = dfx['appointment_status_simplified'].isin(\n",
    "    [\n",
    "        'unused', \n",
    "        'completed', \n",
    "        'no_show', \n",
    "    ]\n",
    ")\n",
    "mr2 = dfx['appointment_date'].dt.weekday < 5 ## only weekdays\n",
    "mr3 = dfx['appointment_date'].dt.year == 2023 ## only weekdays\n",
    "mr4 = dfx['clinic'] == 'BASILICA' \n",
    "mrs = mr1 & mr2 & mr3 & mr4\n",
    "\n",
    "rc = [\n",
    "    'appointment_id',\n",
    "    'appointment_date',\n",
    "    'appointment_start_time',\n",
    "    'appointment_status_simplified',\n",
    "]\n",
    "\n",
    "\n",
    "dfy = dfx.loc[mrs, rc].copy()"
   ]
  },
  {
   "cell_type": "code",
   "execution_count": null,
   "id": "cdaf8d86-88af-4b2d-84d2-e409aec6dddd",
   "metadata": {},
   "outputs": [],
   "source": [
    "dfy['start_time'] = dfy['appointment_start_time'].str[:2].astype('float') + dfy['appointment_start_time'].str[-2:].astype('float')/60"
   ]
  },
  {
   "cell_type": "code",
   "execution_count": null,
   "id": "a9678206-9aa9-4347-b5ff-86169eb36796",
   "metadata": {},
   "outputs": [],
   "source": [
    "tr = 1\n",
    "bins = np.arange(0, 24 + tr, tr)\n",
    "dfy['st_bins'] = pd.cut(dfy['start_time'], bins)"
   ]
  },
  {
   "cell_type": "code",
   "execution_count": null,
   "id": "92b70416-fe90-497e-8c38-b2246eb4119d",
   "metadata": {
    "scrolled": true
   },
   "outputs": [],
   "source": [
    "dfy.groupby(\n",
    "    [\n",
    "        'st_bins',\n",
    "    ],\n",
    "    as_index=False\n",
    ").agg(\n",
    "    {\n",
    "        'appointment_id': 'count',\n",
    "    }\n",
    ")"
   ]
  },
  {
   "cell_type": "code",
   "execution_count": null,
   "id": "e4a358f9-88ea-4fdc-9573-2e422391960f",
   "metadata": {},
   "outputs": [],
   "source": [
    "sns.histplot(\n",
    "    data=dfy, \n",
    "    x=\"start_time\",\n",
    "    bins=bins,\n",
    ")"
   ]
  },
  {
   "cell_type": "code",
   "execution_count": null,
   "id": "036041d5-7e61-48b0-9588-034d2fe21401",
   "metadata": {},
   "outputs": [],
   "source": [
    "sns.histplot(\n",
    "    data=dfy, \n",
    "    x=\"start_time\",\n",
    "    bins=bins,\n",
    "    hue='appointment_status_simplified',\n",
    "    # title='Clinic: Basilica',\n",
    ")"
   ]
  },
  {
   "cell_type": "markdown",
   "id": "f7f4b8a4-ba3e-4887-9fd1-0e629727e403",
   "metadata": {
    "jp-MarkdownHeadingCollapsed": true
   },
   "source": [
    "##### \n",
    "##### Focusing on clinic and specialty\n",
    "- `Any specialty` in `Any clinic`"
   ]
  },
  {
   "cell_type": "code",
   "execution_count": null,
   "id": "327a2859-63e8-4e4d-bcba-5cef38ec0c78",
   "metadata": {},
   "outputs": [],
   "source": [
    "## Params\n",
    "path = '../../pkg_dir/data/pickles/robs'\n",
    "name = 'dataset.pkl'\n",
    "\n",
    "\n",
    "## Reading extract object saved as pickle locally\n",
    "pkl_obj = path + \"/\" + name\n",
    "\n",
    "with open(pkl_obj, 'rb') as obj_content:\n",
    "    dfx = pickle.load(obj_content)"
   ]
  },
  {
   "cell_type": "code",
   "execution_count": null,
   "id": "86b707bd-cfce-4eb7-b32b-c57429403474",
   "metadata": {},
   "outputs": [],
   "source": [
    "dfx['appointment_start_hr'] = dfx['appointment_start'].dt.hour"
   ]
  },
  {
   "cell_type": "code",
   "execution_count": null,
   "id": "28f0d0cf-069f-4ffe-9cb8-ee3232dae172",
   "metadata": {},
   "outputs": [],
   "source": [
    "# specialty = 'DERMATOLOGIA'\n",
    "# specialty = 'GINECOLOGIA'\n",
    "# specialty = 'OTORRINOLARINGOLOGIA'\n",
    "specialty = 'UROLOGIA'"
   ]
  },
  {
   "cell_type": "code",
   "execution_count": null,
   "id": "39ef39bc-f532-45e0-9d5a-661859078b8a",
   "metadata": {},
   "outputs": [],
   "source": [
    "specialty = ['DERMATOLOGIA', 'GINECOLOGIA', 'OTORRINOLARINGOLOGIA', 'UROLOGIA', 'GASTROENTEROLOGIA', 'ENDOCRINOLOGIA']"
   ]
  },
  {
   "cell_type": "code",
   "execution_count": null,
   "id": "c209f2f8-aa00-454f-a2d1-53c4a5b43ce0",
   "metadata": {},
   "outputs": [],
   "source": [
    "mr1 = dfx['appointment_status_simplified'].isin(\n",
    "    [\n",
    "        'no_show', \n",
    "        'completed', \n",
    "        'unused', \n",
    "    ]\n",
    ")\n",
    "# mr2 = dfx['appointment_date'].dt.weekday < 5 ## only weekdays\n",
    "# mr3 = dfx['appointment_date'].dt.year == 2023 ## only weekdays\n",
    "# mr4 = dfx['clinic'] == 'BASILICA' \n",
    "# mr5 = dfx['medical_specialty'] == specialty\n",
    "mr5 = dfx['medical_specialty'].isin(specialty)\n",
    "\n",
    "# mrs = mr1 & mr2 & mr3 & mr4 & mr5\n",
    "# mrs = mr1 & mr2 & mr4 & mr5\n",
    "# mrs = mr1 & mr4 & mr5\n",
    "mrs = mr1 & mr5\n",
    "\n",
    "rc = [\n",
    "    'appointment_id',\n",
    "    'appointment_start',\n",
    "    'appointment_start_hr',\n",
    "    'appointment_status_simplified',\n",
    "]\n",
    "\n",
    "\n",
    "dfy = dfx.loc[mrs, rc].copy()"
   ]
  },
  {
   "cell_type": "code",
   "execution_count": null,
   "id": "afb3c833-a102-4921-bbfc-806eaf09d990",
   "metadata": {
    "scrolled": true
   },
   "outputs": [],
   "source": [
    "dfy = dfy.groupby(\n",
    "    [\n",
    "        'appointment_start_hr',\n",
    "        'appointment_status_simplified',\n",
    "    ],\n",
    "    as_index=False\n",
    ").agg(\n",
    "    {\n",
    "        'appointment_id': 'count',\n",
    "    }\n",
    ")\n",
    "\n",
    "# dfy"
   ]
  },
  {
   "cell_type": "code",
   "execution_count": null,
   "id": "bb3c79b9-b667-4552-9659-5110a6f080d9",
   "metadata": {},
   "outputs": [],
   "source": [
    "dfy = dfy.pivot(\n",
    "    index=['appointment_start_hr'], \n",
    "    columns=['appointment_status_simplified'], \n",
    "    values=['appointment_id'], \n",
    ").reset_index()\n",
    "\n",
    "dfy.columns = [\n",
    "    col[1] \n",
    "    if col[0] == 'appointment_id'\n",
    "    else col[0]\n",
    "    for col in dfy.columns\n",
    "]\n",
    "\n",
    "dfy.fillna(0, inplace=True)"
   ]
  },
  {
   "cell_type": "code",
   "execution_count": null,
   "id": "c7b1d5df-59f6-4a66-b1ac-b8740606701d",
   "metadata": {},
   "outputs": [],
   "source": [
    "dfy['total'] = dfy['completed'] + dfy['no_show'] + dfy['unused']\n",
    "dfy['total_used'] = dfy['completed'] + dfy['no_show']\n",
    "\n",
    "dfy['ns_ratio'] = dfy['no_show']/dfy['total_used']"
   ]
  },
  {
   "cell_type": "code",
   "execution_count": null,
   "id": "022f38c1-02ee-48b8-8016-cec7028f5816",
   "metadata": {},
   "outputs": [],
   "source": [
    "mr1 = dfy['ns_ratio'].notnull()\n",
    "mr2 = dfy['total_used'] > 100\n",
    "mrs = mr1 & mr2\n",
    "\n",
    "dfy = dfy.loc[mrs, :].copy()"
   ]
  },
  {
   "cell_type": "code",
   "execution_count": null,
   "id": "b61bb024-d283-4eab-90f5-4fff175fa602",
   "metadata": {},
   "outputs": [],
   "source": [
    "sns.barplot(\n",
    "    data=dfy, \n",
    "    x=\"appointment_start_hr\",\n",
    "    y=\"ns_ratio\",\n",
    ")"
   ]
  },
  {
   "cell_type": "markdown",
   "id": "1e4df4d0-3ed5-491d-94e2-c8062212494c",
   "metadata": {
    "jp-MarkdownHeadingCollapsed": true
   },
   "source": [
    "##### \n",
    "##### Focusing on clinic and specialty\n",
    "- `Gynecology` in Basilica"
   ]
  },
  {
   "cell_type": "code",
   "execution_count": null,
   "id": "bfaf0a07-30e6-49aa-9926-6668787af6b8",
   "metadata": {},
   "outputs": [],
   "source": [
    "## Params\n",
    "path = '../../pkg_dir/data/pickles/robs'\n",
    "name = 'dataset.pkl'\n",
    "\n",
    "\n",
    "## Reading extract object saved as pickle locally\n",
    "pkl_obj = path + \"/\" + name\n",
    "\n",
    "with open(pkl_obj, 'rb') as obj_content:\n",
    "    dfx = pickle.load(obj_content)"
   ]
  },
  {
   "cell_type": "code",
   "execution_count": null,
   "id": "89222e9f-d737-46ae-8790-939f9d99d88c",
   "metadata": {},
   "outputs": [],
   "source": [
    "dfx['appointment_start_hr'] = dfx['appointment_start'].dt.hour"
   ]
  },
  {
   "cell_type": "code",
   "execution_count": null,
   "id": "c77448a4-7ee9-419a-884e-cc3710fa5356",
   "metadata": {},
   "outputs": [],
   "source": [
    "mr1 = dfx['appointment_status_simplified'].isin(\n",
    "    [\n",
    "        'no_show', \n",
    "        'completed', \n",
    "        'unused', \n",
    "    ]\n",
    ")\n",
    "# mr2 = dfx['appointment_date'].dt.weekday < 5 ## only weekdays\n",
    "# mr3 = dfx['appointment_date'].dt.year == 2023 ## only weekdays\n",
    "mr4 = dfx['clinic'] == 'BASILICA' \n",
    "mr5 = dfx['medical_specialty'] == 'GINECOLOGIA'\n",
    "\n",
    "# mrs = mr1 & mr2 & mr3 & mr4 & mr5\n",
    "# mrs = mr1 & mr2 & mr4 & mr5\n",
    "mrs = mr1 & mr4 & mr5\n",
    "\n",
    "rc = [\n",
    "    'appointment_id',\n",
    "    'appointment_start',\n",
    "    'appointment_start_hr',\n",
    "    'appointment_status_simplified',\n",
    "]\n",
    "\n",
    "\n",
    "dfy = dfx.loc[mrs, rc].copy()"
   ]
  },
  {
   "cell_type": "code",
   "execution_count": null,
   "id": "66d444a7-4b6e-4439-aba8-3b7a5e64353f",
   "metadata": {
    "scrolled": true
   },
   "outputs": [],
   "source": [
    "dfy = dfy.groupby(\n",
    "    [\n",
    "        'appointment_start_hr',\n",
    "        'appointment_status_simplified',\n",
    "    ],\n",
    "    as_index=False\n",
    ").agg(\n",
    "    {\n",
    "        'appointment_id': 'count',\n",
    "    }\n",
    ")\n",
    "\n",
    "dfy"
   ]
  },
  {
   "cell_type": "code",
   "execution_count": null,
   "id": "11728df8-d5ae-46cc-a7f9-231949114710",
   "metadata": {},
   "outputs": [],
   "source": [
    "dfy = dfy.pivot(\n",
    "    index=['appointment_start_hr'], \n",
    "    columns=['appointment_status_simplified'], \n",
    "    values=['appointment_id'], \n",
    ").reset_index()\n",
    "\n",
    "dfy.columns = [\n",
    "    col[1] \n",
    "    if col[0] == 'appointment_id'\n",
    "    else col[0]\n",
    "    for col in dfy.columns\n",
    "]\n",
    "\n",
    "dfy.fillna(0, inplace=True)"
   ]
  },
  {
   "cell_type": "code",
   "execution_count": null,
   "id": "bb31fbf1-13a2-4888-96ae-7d2b3dc20f96",
   "metadata": {},
   "outputs": [],
   "source": [
    "dfy['total'] = dfy['completed'] + dfy['no_show'] + dfy['unused']\n",
    "dfy['total_used'] = dfy['completed'] + dfy['no_show']\n",
    "\n",
    "dfy['ns_ratio'] = dfy['no_show']/dfy['total_used']"
   ]
  },
  {
   "cell_type": "code",
   "execution_count": null,
   "id": "6992592d-f23f-4f5b-85a5-f50c5489c5c3",
   "metadata": {},
   "outputs": [],
   "source": [
    "sns.barplot(\n",
    "    data=dfy, \n",
    "    x=\"appointment_start_hr\",\n",
    "    y=\"ns_ratio\",\n",
    ")"
   ]
  },
  {
   "cell_type": "markdown",
   "id": "8b2b376c-1f1d-42da-8a34-e6043159634c",
   "metadata": {
    "jp-MarkdownHeadingCollapsed": true
   },
   "source": [
    "---\n",
    "### How do appointments behave per weekday?"
   ]
  },
  {
   "cell_type": "code",
   "execution_count": null,
   "id": "9c541b3c-bfec-4a10-b2d3-1dac853f8fd7",
   "metadata": {},
   "outputs": [],
   "source": [
    "## Params\n",
    "path = '../../pkg_dir/data/pickles/robs'\n",
    "name = 'dataset.pkl'\n",
    "\n",
    "\n",
    "## Reading extract object saved as pickle locally\n",
    "pkl_obj = path + \"/\" + name\n",
    "\n",
    "with open(pkl_obj, 'rb') as obj_content:\n",
    "    dfx = pickle.load(obj_content)"
   ]
  },
  {
   "cell_type": "code",
   "execution_count": null,
   "id": "0d883560-ca03-4deb-bc2e-656aad6ff8b8",
   "metadata": {},
   "outputs": [],
   "source": [
    "# specialty = 'DERMATOLOGIA'#, 'GINECOLOGIA', 'OTORRINOLARINGOLOGIA', 'UROLOGIA', 'GASTROENTEROLOGIA', 'ENDOCRINOLOGIA']\n",
    "specialty = 'GINECOLOGIA'#, 'OTORRINOLARINGOLOGIA', 'UROLOGIA', 'GASTROENTEROLOGIA', 'ENDOCRINOLOGIA']\n",
    "# specialty = ['DERMATOLOGIA', 'GINECOLOGIA', 'OTORRINOLARINGOLOGIA', 'UROLOGIA', 'GASTROENTEROLOGIA', 'ENDOCRINOLOGIA']"
   ]
  },
  {
   "cell_type": "code",
   "execution_count": null,
   "id": "e85da2ac-04f3-46f9-baf0-9986cfa2c6c1",
   "metadata": {},
   "outputs": [],
   "source": [
    "mr1 = dfx['appointment_status_simplified'].isin(\n",
    "    [\n",
    "        'unused', \n",
    "        'completed', \n",
    "        'no_show', \n",
    "    ]\n",
    ")\n",
    "# mr2 = dfx['appointment_start'].dt.year == 2023 ## only weekdays\n",
    "# mr2 = dfx['medical_specialty'].isin(specialty)\n",
    "mr2 = dfx['medical_specialty'] == specialty\n",
    "mrs = mr1 & mr2\n",
    "\n",
    "rc = [\n",
    "    'appointment_id',\n",
    "    'appointment_weekday',\n",
    "    'appointment_status_simplified',\n",
    "]\n",
    "\n",
    "\n",
    "dfy = dfx.loc[mrs, rc].copy()"
   ]
  },
  {
   "cell_type": "code",
   "execution_count": null,
   "id": "f374cb95-9774-4380-acda-004051dd53bb",
   "metadata": {
    "scrolled": true
   },
   "outputs": [],
   "source": [
    "dfy = dfy.groupby(\n",
    "    [\n",
    "        'appointment_weekday',\n",
    "        'appointment_status_simplified',\n",
    "    ],\n",
    "    as_index=False\n",
    ").agg(\n",
    "    {\n",
    "        'appointment_id': 'count',\n",
    "    }\n",
    ")"
   ]
  },
  {
   "cell_type": "code",
   "execution_count": null,
   "id": "afa2f7b0-fc0a-40e9-87d5-e4df56860bdb",
   "metadata": {},
   "outputs": [],
   "source": [
    "dfy = dfy.pivot(\n",
    "    index=['appointment_weekday'], \n",
    "    columns=['appointment_status_simplified'], \n",
    "    values=['appointment_id'], \n",
    ").reset_index()\n",
    "\n",
    "dfy.columns = [\n",
    "    col[1] \n",
    "    if col[0] == 'appointment_id'\n",
    "    else col[0]\n",
    "    for col in dfy.columns\n",
    "]"
   ]
  },
  {
   "cell_type": "code",
   "execution_count": null,
   "id": "cff7cb88-a6cf-40dc-a6be-9185d18b2ed8",
   "metadata": {},
   "outputs": [],
   "source": [
    "dfy['total_agenda'] = dfy['completed'] + dfy['no_show'] + dfy['unused']\n",
    "dfy['total_used'] = dfy['completed'] + dfy['no_show']\n",
    "\n",
    "dfy['ns_ratio'] = dfy['no_show']/dfy['total_used']\n",
    "dfy['occupation_ratio'] = 1 - dfy['unused']/dfy['total_agenda']"
   ]
  },
  {
   "cell_type": "code",
   "execution_count": null,
   "id": "094fc65a-c250-4722-834d-4a6d22f3e247",
   "metadata": {},
   "outputs": [],
   "source": [
    "sns.barplot(\n",
    "    data=dfy, \n",
    "    x=\"appointment_weekday\",\n",
    "    y=\"ns_ratio\",\n",
    ")"
   ]
  },
  {
   "cell_type": "markdown",
   "id": "8a07f335-3773-4aa5-b478-26686eb19863",
   "metadata": {
    "jp-MarkdownHeadingCollapsed": true
   },
   "source": [
    "---\n",
    "### What are the most popular times of day when appointments are scheduled"
   ]
  },
  {
   "cell_type": "markdown",
   "id": "418c8657-1902-4b12-a259-ec31973e0fd4",
   "metadata": {
    "jp-MarkdownHeadingCollapsed": true
   },
   "source": [
    "---\n",
    "### With how much time in advance are appointments confirmed?"
   ]
  },
  {
   "cell_type": "code",
   "execution_count": null,
   "id": "a8bf5b1c-422a-4e38-a8ec-cac0207b4ab9",
   "metadata": {},
   "outputs": [],
   "source": [
    "## Params\n",
    "path = '../../pkg_dir/data/pickles/robs'\n",
    "name = 'dataset.pkl'\n",
    "\n",
    "\n",
    "## Reading extract object saved as pickle locally\n",
    "pkl_obj = path + \"/\" + name\n",
    "\n",
    "with open(pkl_obj, 'rb') as obj_content:\n",
    "    dfx = pickle.load(obj_content)"
   ]
  },
  {
   "cell_type": "code",
   "execution_count": null,
   "id": "dd4ab500-68bb-4be1-ae20-8f91b48b4944",
   "metadata": {},
   "outputs": [],
   "source": [
    "mr1 = dfx['confirm_to_start_hrs'].notnull()\n",
    "mr2 = dfx['confirm_to_start_hrs'] <= 24*7\n",
    "mr3 = dfx['confirm_to_start_hrs'] >= 0\n",
    "mr4 = dfx['appointment_start'].dt.year == 2023\n",
    "mrs = mr1 & mr2 & mr3 & mr4\n",
    "\n",
    "rc = [\n",
    "    'appointment_id',\n",
    "    'appointment_start',\n",
    "    'confirm_to_start_hrs',\n",
    "    'appointment_status_simplified',\n",
    "]"
   ]
  },
  {
   "cell_type": "code",
   "execution_count": null,
   "id": "e0bae273-be51-435a-acbf-c70000562a5f",
   "metadata": {
    "scrolled": true
   },
   "outputs": [],
   "source": [
    "dfy = dfx.loc[mrs, rc].copy()"
   ]
  },
  {
   "cell_type": "code",
   "execution_count": null,
   "id": "59e60b56-923f-40fd-8039-54c00589fda2",
   "metadata": {},
   "outputs": [],
   "source": [
    "dfy['confirm_to_start_hrs'].plot(kind='hist', rwidth=0.8, bins=100)"
   ]
  },
  {
   "cell_type": "markdown",
   "id": "ec76a5d6-73ad-4450-9f4b-c9f6c51efada",
   "metadata": {
    "jp-MarkdownHeadingCollapsed": true
   },
   "source": [
    "---\n",
    "### Confirmation time and cancellations\n",
    "- When can we neglect cancellations as a label?"
   ]
  },
  {
   "cell_type": "code",
   "execution_count": null,
   "id": "d9ca4286-998b-4c51-9356-3ab4eb71f9ba",
   "metadata": {},
   "outputs": [],
   "source": [
    "## Params\n",
    "path = '../../pkg_dir/data/pickles/robs'\n",
    "name = 'dataset_v1.pkl'\n",
    "\n",
    "\n",
    "## Reading extract object saved as pickle locally\n",
    "pkl_obj = path + \"/\" + name\n",
    "\n",
    "with open(pkl_obj, 'rb') as obj_content:\n",
    "    dfx = pickle.load(obj_content)"
   ]
  },
  {
   "cell_type": "code",
   "execution_count": null,
   "id": "dca94074-3563-4308-b865-36bc040e4724",
   "metadata": {},
   "outputs": [],
   "source": [
    "mr1 = dfx['confirm_to_start_hrs'].notnull()\n",
    "mr2 = dfx['confirm_to_start_hrs'] <= 24\n",
    "mrs = mr1 & mr2\n",
    "\n",
    "rc = [\n",
    "    'appointment_id',\n",
    "    'appointment_start',\n",
    "    'confirm_to_start_hrs',\n",
    "    'appointment_status_simplified',\n",
    "]"
   ]
  },
  {
   "cell_type": "code",
   "execution_count": null,
   "id": "dc3d2836-ece9-49d9-9653-56761f8c3ec6",
   "metadata": {
    "scrolled": true
   },
   "outputs": [],
   "source": [
    "dfy = dfx.loc[mrs, rc].copy()"
   ]
  },
  {
   "cell_type": "code",
   "execution_count": null,
   "id": "45bf3ab6-cefe-4145-a4fb-814040ae3298",
   "metadata": {},
   "outputs": [],
   "source": [
    "dfy['confirm_to_start_hrs'].describe()"
   ]
  },
  {
   "cell_type": "code",
   "execution_count": null,
   "id": "b8ac7150-5a80-4dee-bd97-cfc9504e8e9c",
   "metadata": {
    "scrolled": true
   },
   "outputs": [],
   "source": [
    "dfy.groupby(\n",
    "    [\n",
    "        pd.Grouper(key='appointment_start', freq='Y'),\n",
    "        'appointment_status_simplified',\n",
    "    ],\n",
    ").agg(\n",
    "    {\n",
    "        'appointment_id': 'count',\n",
    "    }\n",
    ")"
   ]
  },
  {
   "cell_type": "code",
   "execution_count": null,
   "id": "fe6641c3-65d0-4293-af27-a8703bb511b4",
   "metadata": {},
   "outputs": [],
   "source": []
  },
  {
   "cell_type": "code",
   "execution_count": null,
   "id": "1120e641-5c1d-445b-908d-c0ac9ff860e2",
   "metadata": {},
   "outputs": [],
   "source": []
  },
  {
   "cell_type": "code",
   "execution_count": null,
   "id": "21c8b658-c2f6-4a8f-a81c-f070978d7f08",
   "metadata": {},
   "outputs": [],
   "source": []
  },
  {
   "cell_type": "markdown",
   "id": "fb3bb56c-d5b0-48f2-90e0-1598eed11175",
   "metadata": {
    "jp-MarkdownHeadingCollapsed": true
   },
   "source": [
    "---\n",
    "### What's the outcome of appointments that have a confirmation request message?"
   ]
  },
  {
   "cell_type": "markdown",
   "id": "a61ba649-229f-4274-97f6-8f2c9e870ddb",
   "metadata": {
    "jp-MarkdownHeadingCollapsed": true
   },
   "source": [
    "---\n",
    "### Patient recurrance"
   ]
  },
  {
   "cell_type": "markdown",
   "id": "24b01d87-007a-401e-8a10-1a17eb7d307c",
   "metadata": {
    "jp-MarkdownHeadingCollapsed": true
   },
   "source": [
    "##### Per speciality"
   ]
  },
  {
   "cell_type": "code",
   "execution_count": null,
   "id": "87059556-6c4e-4fdf-b628-44cc95c7df08",
   "metadata": {},
   "outputs": [],
   "source": [
    "## Params\n",
    "path = '../../pkg_dir/data/pickles/robs'\n",
    "name = 'dataset.pkl'\n",
    "\n",
    "\n",
    "## Reading extract object saved as pickle locally\n",
    "pkl_obj = path + \"/\" + name\n",
    "\n",
    "with open(pkl_obj, 'rb') as obj_content:\n",
    "    dfx = pickle.load(obj_content)"
   ]
  },
  {
   "cell_type": "code",
   "execution_count": null,
   "id": "9ab03349-7ade-44ce-9bbd-8d3632295644",
   "metadata": {},
   "outputs": [],
   "source": [
    "specialty = ['DERMATOLOGIA', 'GINECOLOGIA', 'OTORRINOLARINGOLOGIA', 'UROLOGIA', 'GASTROENTEROLOGIA', 'ENDOCRINOLOGIA']"
   ]
  },
  {
   "cell_type": "code",
   "execution_count": null,
   "id": "121757a9-2a3c-43fb-a52f-4d38b4d831cd",
   "metadata": {},
   "outputs": [],
   "source": [
    "mr1 = dfx['recurring_patient'].notnull()\n",
    "mr2 = dfx['medical_specialty'].isin(specialty)\n",
    "\n",
    "mrs = mr1 & mr2\n",
    "\n",
    "rc = [\n",
    "    'appointment_id',\n",
    "    'medical_specialty',\n",
    "    'recurring_patient',\n",
    "]\n",
    "\n",
    "\n",
    "dfy = dfx.loc[mrs, rc].copy()"
   ]
  },
  {
   "cell_type": "code",
   "execution_count": null,
   "id": "41c23c70-1ac4-41a3-aed4-2422a4e3088a",
   "metadata": {
    "scrolled": true
   },
   "outputs": [],
   "source": [
    "dfy = dfy.groupby(\n",
    "    [\n",
    "        'medical_specialty',\n",
    "        'recurring_patient',\n",
    "    ],\n",
    "    as_index=False\n",
    ").agg(\n",
    "    {\n",
    "        'appointment_id': 'count',\n",
    "    }\n",
    ")\n",
    "\n",
    "dfy['proportion'] = dfy['appointment_id']/dfy.groupby(['medical_specialty'])['appointment_id'].transform('sum')\n",
    "\n",
    "# dfy"
   ]
  },
  {
   "cell_type": "code",
   "execution_count": null,
   "id": "7e51f4f3-e618-4ae2-8175-5ba50a80ecb7",
   "metadata": {},
   "outputs": [],
   "source": [
    "# Medical specialties and their proportions of first-time and recurrent patients\n",
    "specialties = ['DERMATOLOGIA', 'GINECOLOGIA', 'OTORRINOLARINGOLOGIA', 'UROLOGIA', 'GASTROENTEROLOGIA', 'ENDOCRINOLOGIA']\n",
    "first_time_proportions = dfy.loc[dfy['recurring_patient'] == 'first', 'proportion']\n",
    "recurrent_proportions = dfy.loc[dfy['recurring_patient'] == 'recurrent', 'proportion']\n",
    "\n",
    "# Positions of each medical specialty\n",
    "ind = np.arange(len(specialties))\n",
    "\n",
    "# Width of the bars\n",
    "width = 0.5\n",
    "\n",
    "# Plotting the bars\n",
    "fig, ax = plt.subplots()\n",
    "bars_first_time = ax.bar(ind, first_time_proportions, width, label='First-time')\n",
    "bars_recurrent = ax.bar(ind, recurrent_proportions, width, bottom=first_time_proportions, label='Recurrent')\n",
    "\n",
    "# Adding labels, title, and custom x-axis tick labels, etc.\n",
    "ax.set_xlabel('Medical Specialty')\n",
    "ax.set_ylabel('Proportion')\n",
    "ax.set_title('Proportion of First-time and Recurrent Patients by Medical Specialty')\n",
    "ax.set_xticks(ind)\n",
    "ax.set_xticklabels(specialties, rotation=45, ha=\"right\")\n",
    "ax.legend()\n",
    "\n",
    "# Adding a legend\n",
    "ax.legend()\n",
    "\n",
    "plt.show()\n"
   ]
  },
  {
   "cell_type": "markdown",
   "id": "fb89e8bf-9058-4ede-86fa-a63bb8d9efeb",
   "metadata": {
    "jp-MarkdownHeadingCollapsed": true
   },
   "source": [
    "---\n",
    "### Patient recurrance affects no-shows?"
   ]
  },
  {
   "cell_type": "markdown",
   "id": "b14f2c14-8bce-43bc-a494-3788a2d233d4",
   "metadata": {
    "jp-MarkdownHeadingCollapsed": true
   },
   "source": [
    "##### V1 - no-shows vs completed"
   ]
  },
  {
   "cell_type": "code",
   "execution_count": null,
   "id": "d6975071-3722-4610-b631-ce675a83f132",
   "metadata": {},
   "outputs": [],
   "source": [
    "## Params\n",
    "path = '../../pkg_dir/data/pickles/robs'\n",
    "name = 'dataset_v1.pkl'\n",
    "\n",
    "\n",
    "## Reading extract object saved as pickle locally\n",
    "pkl_obj = path + \"/\" + name\n",
    "\n",
    "with open(pkl_obj, 'rb') as obj_content:\n",
    "    dfx = pickle.load(obj_content)"
   ]
  },
  {
   "cell_type": "code",
   "execution_count": null,
   "id": "eb11137b-5c00-4eab-8980-f0299a209c15",
   "metadata": {},
   "outputs": [],
   "source": [
    "mr1 = dfx['appointment_status_simplified'] != 'cancel'\n",
    "mrs = mr1\n",
    "\n",
    "rc = [\n",
    "    'appointment_id',\n",
    "    'recurring_patient',\n",
    "    'appointment_status_simplified',\n",
    "]"
   ]
  },
  {
   "cell_type": "code",
   "execution_count": null,
   "id": "c05cad87-836f-48ee-9ce3-8db62d43efa1",
   "metadata": {
    "scrolled": true
   },
   "outputs": [],
   "source": [
    "dfy = dfx.loc[mr1, rc].copy()"
   ]
  },
  {
   "cell_type": "code",
   "execution_count": null,
   "id": "efe78749-ece7-43ee-a237-cb196e1ea132",
   "metadata": {
    "scrolled": true
   },
   "outputs": [],
   "source": [
    "dfy = dfy.groupby(\n",
    "    [\n",
    "        # pd.Grouper(key='appointment_start', freq='Y'),\n",
    "        'recurring_patient',\n",
    "        'appointment_status_simplified',\n",
    "    ],\n",
    "    as_index=False\n",
    ").agg(\n",
    "    {\n",
    "        'appointment_id': 'count',\n",
    "    }\n",
    ")\n",
    "\n",
    "dfy[\"proportion\"] = dfy['appointment_id']/dfy.groupby(['recurring_patient'])[\"appointment_id\"].transform(\"sum\")\n",
    "dfy"
   ]
  },
  {
   "cell_type": "markdown",
   "id": "148d7254-0ae1-48a2-9bb7-d3befdaffeda",
   "metadata": {
    "jp-MarkdownHeadingCollapsed": true
   },
   "source": [
    "##### V5 - failed vs completed"
   ]
  },
  {
   "cell_type": "code",
   "execution_count": null,
   "id": "b9290334-7282-4dd4-b717-67e9aa0ffcf3",
   "metadata": {},
   "outputs": [],
   "source": [
    "## Params\n",
    "path = '../../pkg_dir/data/pickles/robs'\n",
    "name = 'dataset_v5.pkl'\n",
    "\n",
    "\n",
    "## Reading extract object saved as pickle locally\n",
    "pkl_obj = path + \"/\" + name\n",
    "\n",
    "with open(pkl_obj, 'rb') as obj_content:\n",
    "    dfx = pickle.load(obj_content)"
   ]
  },
  {
   "cell_type": "code",
   "execution_count": null,
   "id": "5162701d-bdff-40a4-8d17-93b19b9b71c4",
   "metadata": {},
   "outputs": [],
   "source": [
    "rc = [\n",
    "    'appointment_id',\n",
    "    'recurring_patient',\n",
    "    'appointment_status_simplified',\n",
    "]"
   ]
  },
  {
   "cell_type": "code",
   "execution_count": null,
   "id": "0572be9a-078b-462c-a2bd-9fd2aec06c1a",
   "metadata": {
    "scrolled": true
   },
   "outputs": [],
   "source": [
    "dfy = dfx.loc[:, rc].copy()"
   ]
  },
  {
   "cell_type": "code",
   "execution_count": null,
   "id": "77c48335-a2fe-459c-81f5-780e75c8c34c",
   "metadata": {
    "scrolled": true
   },
   "outputs": [],
   "source": [
    "dfy = dfy.groupby(\n",
    "    [\n",
    "        # pd.Grouper(key='appointment_start', freq='Y'),\n",
    "        'recurring_patient',\n",
    "        'appointment_status_simplified',\n",
    "    ],\n",
    "    as_index=False\n",
    ").agg(\n",
    "    {\n",
    "        'appointment_id': 'count',\n",
    "    }\n",
    ")\n",
    "\n",
    "dfy[\"proportion\"] = dfy['appointment_id']/dfy.groupby(['recurring_patient'])[\"appointment_id\"].transform(\"sum\")\n",
    "dfy"
   ]
  },
  {
   "cell_type": "markdown",
   "id": "735bc989-7756-4ada-bb2d-03627646c2f0",
   "metadata": {
    "jp-MarkdownHeadingCollapsed": true
   },
   "source": [
    "---\n",
    "### Age distribution"
   ]
  },
  {
   "cell_type": "markdown",
   "id": "07ccf545-92d5-42de-84a4-24b0f7ba814d",
   "metadata": {
    "jp-MarkdownHeadingCollapsed": true
   },
   "source": [
    "##### \n",
    "##### Focusing on clinic and specialty\n",
    "- `Any specialty` in `Any clinic`"
   ]
  },
  {
   "cell_type": "code",
   "execution_count": null,
   "id": "006979b4-f3bb-4984-a9c1-7d35998c91ec",
   "metadata": {},
   "outputs": [],
   "source": [
    "## Params\n",
    "path = '../../pkg_dir/data/pickles/robs'\n",
    "name = 'dataset.pkl'\n",
    "\n",
    "\n",
    "## Reading extract object saved as pickle locally\n",
    "pkl_obj = path + \"/\" + name\n",
    "\n",
    "with open(pkl_obj, 'rb') as obj_content:\n",
    "    dfx = pickle.load(obj_content)"
   ]
  },
  {
   "cell_type": "code",
   "execution_count": null,
   "id": "95317450-0e3a-4485-9bd4-002767dcf0df",
   "metadata": {},
   "outputs": [],
   "source": [
    "specialty = ['DERMATOLOGIA', 'GINECOLOGIA', 'OTORRINOLARINGOLOGIA', 'UROLOGIA', 'GASTROENTEROLOGIA', 'ENDOCRINOLOGIA']"
   ]
  },
  {
   "cell_type": "code",
   "execution_count": null,
   "id": "170de2ce-801d-4553-af38-4246e7eabb22",
   "metadata": {},
   "outputs": [],
   "source": [
    "mr1 = dfx['medical_specialty'].isin(specialty)\n",
    "mr2 = dfx['patient_age'].notnull()\n",
    "\n",
    "mrs = mr1 & mr2\n",
    "\n",
    "rc = [\n",
    "    'appointment_id',\n",
    "    'medical_specialty',\n",
    "    'patient_age',\n",
    "]\n",
    "\n",
    "\n",
    "dfy = dfx.loc[mrs, rc].copy()"
   ]
  },
  {
   "cell_type": "code",
   "execution_count": null,
   "id": "c713cc9b-5be9-4973-9ba1-96bf4d292681",
   "metadata": {},
   "outputs": [],
   "source": [
    "sns.boxplot(data=dfy, x=\"patient_age\", y=\"medical_specialty\")"
   ]
  },
  {
   "cell_type": "markdown",
   "id": "12e5154d-c3a0-4248-bddd-84b84ccf124b",
   "metadata": {},
   "source": [
    "---\n",
    "### How many of the cancellations by chatbot?"
   ]
  },
  {
   "cell_type": "markdown",
   "id": "dac12d16-8d6b-49cd-9e13-50b2cfb02456",
   "metadata": {
    "jp-MarkdownHeadingCollapsed": true
   },
   "source": [
    "---\n",
    "### Sex distribution"
   ]
  },
  {
   "cell_type": "code",
   "execution_count": 42,
   "id": "0e5087a5-86f5-4caa-b912-43a5900643d5",
   "metadata": {},
   "outputs": [],
   "source": [
    "## Params\n",
    "path = '../../pkg_dir/data/pickles/robs'\n",
    "name = 'dataset.pkl'\n",
    "\n",
    "\n",
    "## Reading extract object saved as pickle locally\n",
    "pkl_obj = path + \"/\" + name\n",
    "\n",
    "with open(pkl_obj, 'rb') as obj_content:\n",
    "    dfx = pickle.load(obj_content)"
   ]
  },
  {
   "cell_type": "code",
   "execution_count": 43,
   "id": "f18a22c6-4b18-4805-a21c-10202ed59da8",
   "metadata": {},
   "outputs": [],
   "source": [
    "specialty = ['DERMATOLOGIA', 'GINECOLOGIA', 'OTORRINOLARINGOLOGIA', 'UROLOGIA', 'GASTROENTEROLOGIA', 'ENDOCRINOLOGIA']"
   ]
  },
  {
   "cell_type": "code",
   "execution_count": 44,
   "id": "1ef0cbe3-8941-4054-9299-c81a3eb68fbd",
   "metadata": {},
   "outputs": [],
   "source": [
    "mr1 = dfx['patient_sex'].notnull()\n",
    "mr2 = dfx['medical_specialty'].isin(specialty)\n",
    "\n",
    "mrs = mr1 & mr2\n",
    "\n",
    "rc = [\n",
    "    'appointment_id',\n",
    "    'medical_specialty',\n",
    "    'patient_sex',\n",
    "]\n",
    "\n",
    "\n",
    "dfy = dfx.loc[mrs, rc].copy()"
   ]
  },
  {
   "cell_type": "code",
   "execution_count": null,
   "id": "f409d26c-57dd-4cd3-95b4-913b5d9d6674",
   "metadata": {
    "scrolled": true
   },
   "outputs": [],
   "source": [
    "dfy = dfy.groupby(\n",
    "    [\n",
    "        'medical_specialty',\n",
    "        'patient_sex',\n",
    "    ],\n",
    "    as_index=False\n",
    ").agg(\n",
    "    {\n",
    "        'appointment_id': 'count',\n",
    "    }\n",
    ")\n",
    "\n",
    "dfy['proportion'] = dfy['appointment_id']/dfy.groupby(['medical_specialty'])['appointment_id'].transform('sum')\n",
    "\n",
    "# dfy"
   ]
  },
  {
   "cell_type": "code",
   "execution_count": null,
   "id": "be66900c-27a5-4aa6-aea4-3ccf8bc4dc92",
   "metadata": {},
   "outputs": [],
   "source": [
    "# Medical specialties and their proportions of first-time and recurrent patients\n",
    "# specialties = ['DERMATOLOGIA', 'GINECOLOGIA', 'OTORRINOLARINGOLOGIA', 'UROLOGIA', 'GASTROENTEROLOGIA', 'ENDOCRINOLOGIA']\n",
    "specialties = dfy['medical_specialty'].unique()\n",
    "female_prop = dfy.loc[dfy['patient_sex'] == 'F', 'proportion']\n",
    "male_prop = dfy.loc[dfy['patient_sex'] == 'M', 'proportion']\n",
    "\n",
    "# Positions of each medical specialty\n",
    "ind = np.arange(len(specialties))\n",
    "\n",
    "# Width of the bars\n",
    "width = 0.5\n",
    "\n",
    "# Plotting the bars\n",
    "fig, ax = plt.subplots()\n",
    "bars_first_time = ax.bar(ind, female_prop, width, label='Female')\n",
    "bars_recurrent = ax.bar(ind, male_prop, width, bottom=female_prop, label='Male')\n",
    "\n",
    "# Adding labels, title, and custom x-axis tick labels, etc.\n",
    "ax.set_xlabel('Medical Specialty')\n",
    "ax.set_ylabel('Proportion')\n",
    "ax.set_title('Sex ditribution')\n",
    "ax.set_xticks(ind)\n",
    "ax.set_xticklabels(specialties, rotation=45, ha=\"right\")\n",
    "ax.legend()\n",
    "\n",
    "# Adding a legend\n",
    "ax.legend()\n",
    "\n",
    "plt.show()\n"
   ]
  },
  {
   "cell_type": "markdown",
   "id": "02959b8a-b5a8-47a9-8950-e89c584c81d7",
   "metadata": {},
   "source": [
    "---\n",
    "### Distribution of no shows throughout the day"
   ]
  },
  {
   "cell_type": "markdown",
   "id": "728d9071-62d5-4a0f-b7d7-ff024bf18689",
   "metadata": {},
   "source": [
    "##### Dermatology"
   ]
  },
  {
   "cell_type": "code",
   "execution_count": 148,
   "id": "000e8285-9f62-447d-953d-b94eae340387",
   "metadata": {},
   "outputs": [],
   "source": [
    "## Params\n",
    "path = '../../pkg_dir/data/pickles/robs'\n",
    "name = 'dataset.pkl'\n",
    "\n",
    "\n",
    "## Reading extract object saved as pickle locally\n",
    "pkl_obj = path + \"/\" + name\n",
    "\n",
    "with open(pkl_obj, 'rb') as obj_content:\n",
    "    dfx = pickle.load(obj_content)"
   ]
  },
  {
   "cell_type": "code",
   "execution_count": 149,
   "id": "792d321b-03a6-4afa-8d80-a0650df74b4d",
   "metadata": {},
   "outputs": [],
   "source": [
    "dfx['appointment_start_hr'] = dfx['appointment_start'].dt.hour\n",
    "# dfx['appointment_start_day'] = dfx['appointment_start'].dt.date"
   ]
  },
  {
   "cell_type": "code",
   "execution_count": 150,
   "id": "ce1c5955-b3ec-4d21-9d82-504312e954a7",
   "metadata": {},
   "outputs": [],
   "source": [
    "mr1 = dfx['medical_specialty'] == 'DERMATOLOGIA'\n",
    "mr2 = dfx['clinic'] == 'BASILICA'\n",
    "mr3 = dfx['appointment_status_simplified'] == 'no_show'\n",
    "\n",
    "mrs = mr1 & mr2 & mr3\n",
    "\n",
    "rc = [\n",
    "    'appointment_id',\n",
    "    'appointment_start',\n",
    "    'appointment_start_hr',\n",
    "]\n",
    "\n",
    "\n",
    "dfy = dfx.loc[mrs, rc].copy()"
   ]
  },
  {
   "cell_type": "code",
   "execution_count": 153,
   "id": "b9325e4b-f55d-40c6-824e-0e1f46bf5adc",
   "metadata": {
    "scrolled": true
   },
   "outputs": [],
   "source": [
    "dfy = dfy.groupby(\n",
    "    [\n",
    "        pd.Grouper(key='appointment_start', freq='d'),\n",
    "        'appointment_start_hr',\n",
    "    ],\n",
    "    as_index=False\n",
    ").agg(\n",
    "    {\n",
    "        'appointment_id': 'count',\n",
    "    }\n",
    ")\n"
   ]
  },
  {
   "cell_type": "code",
   "execution_count": 126,
   "id": "4106ac5a-ec52-45c9-b2ac-cf96a20b8b2a",
   "metadata": {},
   "outputs": [
    {
     "data": {
      "text/html": [
       "<div>\n",
       "<style scoped>\n",
       "    .dataframe tbody tr th:only-of-type {\n",
       "        vertical-align: middle;\n",
       "    }\n",
       "\n",
       "    .dataframe tbody tr th {\n",
       "        vertical-align: top;\n",
       "    }\n",
       "\n",
       "    .dataframe thead tr th {\n",
       "        text-align: left;\n",
       "    }\n",
       "</style>\n",
       "<table border=\"1\" class=\"dataframe\">\n",
       "  <thead>\n",
       "    <tr>\n",
       "      <th></th>\n",
       "      <th>appointment_start_hr</th>\n",
       "      <th colspan=\"2\" halign=\"left\">appointment_id</th>\n",
       "    </tr>\n",
       "    <tr>\n",
       "      <th></th>\n",
       "      <th></th>\n",
       "      <th>mean</th>\n",
       "      <th>sum</th>\n",
       "    </tr>\n",
       "  </thead>\n",
       "  <tbody>\n",
       "    <tr>\n",
       "      <th>0</th>\n",
       "      <td>7</td>\n",
       "      <td>1.060606</td>\n",
       "      <td>105</td>\n",
       "    </tr>\n",
       "    <tr>\n",
       "      <th>1</th>\n",
       "      <td>8</td>\n",
       "      <td>1.517060</td>\n",
       "      <td>578</td>\n",
       "    </tr>\n",
       "    <tr>\n",
       "      <th>2</th>\n",
       "      <td>9</td>\n",
       "      <td>1.453258</td>\n",
       "      <td>513</td>\n",
       "    </tr>\n",
       "    <tr>\n",
       "      <th>3</th>\n",
       "      <td>10</td>\n",
       "      <td>1.450276</td>\n",
       "      <td>525</td>\n",
       "    </tr>\n",
       "    <tr>\n",
       "      <th>4</th>\n",
       "      <td>11</td>\n",
       "      <td>1.454545</td>\n",
       "      <td>480</td>\n",
       "    </tr>\n",
       "    <tr>\n",
       "      <th>5</th>\n",
       "      <td>12</td>\n",
       "      <td>1.491279</td>\n",
       "      <td>513</td>\n",
       "    </tr>\n",
       "    <tr>\n",
       "      <th>6</th>\n",
       "      <td>13</td>\n",
       "      <td>1.531328</td>\n",
       "      <td>611</td>\n",
       "    </tr>\n",
       "    <tr>\n",
       "      <th>7</th>\n",
       "      <td>14</td>\n",
       "      <td>1.146552</td>\n",
       "      <td>133</td>\n",
       "    </tr>\n",
       "    <tr>\n",
       "      <th>8</th>\n",
       "      <td>15</td>\n",
       "      <td>1.237668</td>\n",
       "      <td>276</td>\n",
       "    </tr>\n",
       "    <tr>\n",
       "      <th>9</th>\n",
       "      <td>16</td>\n",
       "      <td>1.207547</td>\n",
       "      <td>256</td>\n",
       "    </tr>\n",
       "    <tr>\n",
       "      <th>10</th>\n",
       "      <td>17</td>\n",
       "      <td>1.250000</td>\n",
       "      <td>280</td>\n",
       "    </tr>\n",
       "    <tr>\n",
       "      <th>11</th>\n",
       "      <td>18</td>\n",
       "      <td>1.276995</td>\n",
       "      <td>272</td>\n",
       "    </tr>\n",
       "    <tr>\n",
       "      <th>12</th>\n",
       "      <td>19</td>\n",
       "      <td>1.263889</td>\n",
       "      <td>273</td>\n",
       "    </tr>\n",
       "  </tbody>\n",
       "</table>\n",
       "</div>"
      ],
      "text/plain": [
       "   appointment_start_hr appointment_id     \n",
       "                                  mean  sum\n",
       "0                     7       1.060606  105\n",
       "1                     8       1.517060  578\n",
       "2                     9       1.453258  513\n",
       "3                    10       1.450276  525\n",
       "4                    11       1.454545  480\n",
       "5                    12       1.491279  513\n",
       "6                    13       1.531328  611\n",
       "7                    14       1.146552  133\n",
       "8                    15       1.237668  276\n",
       "9                    16       1.207547  256\n",
       "10                   17       1.250000  280\n",
       "11                   18       1.276995  272\n",
       "12                   19       1.263889  273"
      ]
     },
     "execution_count": 126,
     "metadata": {},
     "output_type": "execute_result"
    }
   ],
   "source": [
    "dfy = dfy.groupby(\n",
    "    [\n",
    "        'appointment_start_hr',\n",
    "    ],\n",
    "    as_index=False\n",
    ").agg(\n",
    "    {\n",
    "        'appointment_id': ['mean', 'sum'],\n",
    "    }\n",
    ")\n",
    "\n",
    "dfy"
   ]
  },
  {
   "cell_type": "markdown",
   "id": "bdf426a2-7363-4899-a753-f2d1ab63a957",
   "metadata": {},
   "source": [
    "---\n",
    "### How many days of the year went by with a no-show"
   ]
  },
  {
   "cell_type": "code",
   "execution_count": 102,
   "id": "0e278f38-741d-4d46-ab56-397cb2bf6fd3",
   "metadata": {},
   "outputs": [],
   "source": [
    "## Params\n",
    "path = '../../pkg_dir/data/pickles/robs'\n",
    "name = 'dataset.pkl'\n",
    "\n",
    "\n",
    "## Reading extract object saved as pickle locally\n",
    "pkl_obj = path + \"/\" + name\n",
    "\n",
    "with open(pkl_obj, 'rb') as obj_content:\n",
    "    dfx = pickle.load(obj_content)"
   ]
  },
  {
   "cell_type": "code",
   "execution_count": 103,
   "id": "1dcf7ff7-799b-48f9-92a4-860b21ff0c42",
   "metadata": {},
   "outputs": [],
   "source": [
    "mr1 = dfx['medical_specialty'] == 'DERMATOLOGIA'\n",
    "mr2 = dfx['clinic'] == 'BASILICA'\n",
    "mr3 = dfx['appointment_status_simplified'].isin(['completed', 'no_show', 'unused'])\n",
    "\n",
    "mrs = mr1 & mr2 & mr3\n",
    "\n",
    "rc = [\n",
    "    'appointment_id',\n",
    "    'appointment_start',\n",
    "    'appointment_status_simplified',\n",
    "]\n",
    "\n",
    "\n",
    "dfy = dfx.loc[mrs, rc].copy()"
   ]
  },
  {
   "cell_type": "code",
   "execution_count": 104,
   "id": "69e5e554-36a5-4ea0-8598-3e6580262d3a",
   "metadata": {
    "scrolled": true
   },
   "outputs": [],
   "source": [
    "dfy = dfy.groupby(\n",
    "    [\n",
    "        pd.Grouper(key='appointment_start', freq='d'),\n",
    "        'appointment_status_simplified',\n",
    "    ],\n",
    "    as_index=False\n",
    ").agg(\n",
    "    {\n",
    "        'appointment_id': 'count',\n",
    "    }\n",
    ")\n"
   ]
  },
  {
   "cell_type": "code",
   "execution_count": 105,
   "id": "8f8eb41e-86fc-4f3b-aabe-3d8c596a2f94",
   "metadata": {},
   "outputs": [],
   "source": [
    "dfy = dfy.pivot(\n",
    "    index=['appointment_start'], \n",
    "    columns=['appointment_status_simplified'], \n",
    "    values=['appointment_id'], \n",
    ").reset_index()\n",
    "\n",
    "dfy.columns = [\n",
    "    col[1] \n",
    "    if col[0] == 'appointment_id'\n",
    "    else col[0]\n",
    "    for col in dfy.columns\n",
    "]\n",
    "\n",
    "dfy.fillna(0, inplace=True)"
   ]
  },
  {
   "cell_type": "code",
   "execution_count": 109,
   "id": "23286c23-153d-4a8e-b606-2a6f3f056cf9",
   "metadata": {},
   "outputs": [],
   "source": [
    "dfy['total'] = dfy['completed'] + dfy['no_show'] + dfy['unused']\n",
    "dfy['total_bool'] = dfy['total'].apply(lambda x: 1 if x > 0 else 0)\n",
    "dfy['no_show_bool'] = dfy['no_show'].apply(lambda x: 1 if x > 0 else 0)"
   ]
  },
  {
   "cell_type": "code",
   "execution_count": 111,
   "id": "869ceb61-ff29-4373-99fd-4a301e6fa112",
   "metadata": {},
   "outputs": [
    {
     "data": {
      "text/plain": [
       "no_show_bool\n",
       "1    0.990307\n",
       "0    0.009693\n",
       "Name: proportion, dtype: float64"
      ]
     },
     "execution_count": 111,
     "metadata": {},
     "output_type": "execute_result"
    }
   ],
   "source": [
    "dfy['no_show_bool'].value_counts(normalize=True)"
   ]
  },
  {
   "cell_type": "code",
   "execution_count": 112,
   "id": "e44075ad-ba8b-49d8-84a4-af8f12c21abb",
   "metadata": {
    "scrolled": true
   },
   "outputs": [
    {
     "data": {
      "text/html": [
       "<div>\n",
       "<style scoped>\n",
       "    .dataframe tbody tr th:only-of-type {\n",
       "        vertical-align: middle;\n",
       "    }\n",
       "\n",
       "    .dataframe tbody tr th {\n",
       "        vertical-align: top;\n",
       "    }\n",
       "\n",
       "    .dataframe thead th {\n",
       "        text-align: right;\n",
       "    }\n",
       "</style>\n",
       "<table border=\"1\" class=\"dataframe\">\n",
       "  <thead>\n",
       "    <tr style=\"text-align: right;\">\n",
       "      <th></th>\n",
       "      <th>appointment_start</th>\n",
       "      <th>total_bool</th>\n",
       "      <th>no_show_bool</th>\n",
       "    </tr>\n",
       "  </thead>\n",
       "  <tbody>\n",
       "    <tr>\n",
       "      <th>0</th>\n",
       "      <td>2022-12-31</td>\n",
       "      <td>304</td>\n",
       "      <td>301</td>\n",
       "    </tr>\n",
       "    <tr>\n",
       "      <th>1</th>\n",
       "      <td>2023-12-31</td>\n",
       "      <td>315</td>\n",
       "      <td>312</td>\n",
       "    </tr>\n",
       "  </tbody>\n",
       "</table>\n",
       "</div>"
      ],
      "text/plain": [
       "  appointment_start  total_bool  no_show_bool\n",
       "0        2022-12-31         304           301\n",
       "1        2023-12-31         315           312"
      ]
     },
     "execution_count": 112,
     "metadata": {},
     "output_type": "execute_result"
    }
   ],
   "source": [
    "dfy.groupby(\n",
    "    [\n",
    "        pd.Grouper(key='appointment_start', freq='Y'),\n",
    "    ],\n",
    "    as_index=False\n",
    ").agg(\n",
    "    {\n",
    "        'total_bool': 'sum',\n",
    "        'no_show_bool': 'sum',\n",
    "    }\n",
    ")\n"
   ]
  },
  {
   "cell_type": "code",
   "execution_count": null,
   "id": "ce39a2d8-bc70-4ec9-8707-d2bd0830afe8",
   "metadata": {},
   "outputs": [],
   "source": []
  },
  {
   "cell_type": "code",
   "execution_count": null,
   "id": "22884fb0-1766-4609-b766-fd5d047d1f54",
   "metadata": {},
   "outputs": [],
   "source": []
  },
  {
   "cell_type": "markdown",
   "id": "8f0552f9-de94-416e-a79e-a3c3bd0a68eb",
   "metadata": {},
   "source": [
    "---\n",
    "### xxx"
   ]
  },
  {
   "cell_type": "markdown",
   "id": "0cd321aa-a082-4834-b06a-77c6db1a803c",
   "metadata": {
    "jp-MarkdownHeadingCollapsed": true
   },
   "source": [
    "---\n",
    "---\n",
    "# Solving questions - cancelations"
   ]
  },
  {
   "cell_type": "code",
   "execution_count": null,
   "id": "cbdd542f-ab6e-47ad-be16-a2b738804299",
   "metadata": {},
   "outputs": [],
   "source": [
    "## Params\n",
    "path = '../../pkg_dir/data/pickles/robs'\n",
    "name = 'dataset.pkl'\n",
    "\n",
    "\n",
    "## Reading extract object saved as pickle locally\n",
    "pkl_obj = path + \"/\" + name\n",
    "\n",
    "with open(pkl_obj, 'rb') as obj_content:\n",
    "    dfx = pickle.load(obj_content)"
   ]
  },
  {
   "cell_type": "markdown",
   "id": "4a44cf6a-dec5-4d40-8d5f-200a6e53fd46",
   "metadata": {
    "jp-MarkdownHeadingCollapsed": true
   },
   "source": [
    "---\n",
    "### What is the cancellation rate\n",
    "- How many cancellations per employee are there in a day per number of used spots (no-show & completed)"
   ]
  },
  {
   "cell_type": "code",
   "execution_count": null,
   "id": "5bfd6600-7abf-4a6a-abbf-67e2f588d181",
   "metadata": {},
   "outputs": [],
   "source": [
    "# mr1 = dfx['appointment_status_simplified'].isin(['unused', 'completed', 'no_show'])\n",
    "mr1 = dfx['appointment_status_simplified'].isin(['completed', 'no_show'])\n",
    "mr2 = dfx['appointment_start'].dt.year == 2023\n",
    "mrs = mr1 & mr2\n",
    "\n",
    "rc = ['appointment_status_simplified', 'appointment_id']"
   ]
  },
  {
   "cell_type": "code",
   "execution_count": null,
   "id": "df7ee8a1-bbc8-4f32-9d6f-768f0c1f758a",
   "metadata": {},
   "outputs": [],
   "source": [
    "dfx.loc[mrs, 'appointment_status_simplified'].value_counts()"
   ]
  },
  {
   "cell_type": "code",
   "execution_count": null,
   "id": "8d751998-7755-49f2-9372-c7213b426f04",
   "metadata": {},
   "outputs": [],
   "source": [
    "dfx.loc[mrs, 'appointment_status_simplified'].value_counts(normalize=True)"
   ]
  },
  {
   "cell_type": "code",
   "execution_count": null,
   "id": "38e50d6e-6199-49fe-a30c-e67ba08a75a7",
   "metadata": {},
   "outputs": [],
   "source": [
    "#2022\n",
    "31176 / (31176 + 103480)"
   ]
  },
  {
   "cell_type": "code",
   "execution_count": null,
   "id": "6c8080e4-edb4-4aaa-bf8e-6b3aa3051aa2",
   "metadata": {},
   "outputs": [],
   "source": [
    "#2023\n",
    "25653 / (25653 + 138654)"
   ]
  },
  {
   "cell_type": "code",
   "execution_count": null,
   "id": "d7ddbb9f-2f81-422e-9063-c1fdd9a932ad",
   "metadata": {
    "scrolled": true
   },
   "outputs": [],
   "source": [
    "dfx"
   ]
  },
  {
   "cell_type": "code",
   "execution_count": null,
   "id": "b9951fa9-e402-476a-8e01-6df34bd62ca9",
   "metadata": {},
   "outputs": [],
   "source": []
  },
  {
   "cell_type": "markdown",
   "id": "8025d022-a710-4465-8964-7e188b3720a6",
   "metadata": {},
   "source": [
    "---\n",
    "---\n",
    "# Notes"
   ]
  },
  {
   "cell_type": "markdown",
   "id": "9832e587-f475-49f4-9a59-3c6967d8bd39",
   "metadata": {
    "jp-MarkdownHeadingCollapsed": true
   },
   "source": [
    "### Duplicated values"
   ]
  },
  {
   "cell_type": "code",
   "execution_count": null,
   "id": "fe3a6eeb-7c44-4e47-814d-bfe04e8e161e",
   "metadata": {
    "scrolled": true
   },
   "outputs": [],
   "source": [
    "dfx.loc[dfx[['appointment_id']].duplicated(keep=False), :].sort_values('appointment_id')"
   ]
  },
  {
   "cell_type": "markdown",
   "id": "2812bbba-29ed-493c-ba4a-609a077db3a7",
   "metadata": {
    "jp-MarkdownHeadingCollapsed": true
   },
   "source": [
    "### Executing custom query"
   ]
  },
  {
   "cell_type": "code",
   "execution_count": null,
   "id": "ca76408d-0e5d-47f5-8553-1d812ddaedae",
   "metadata": {},
   "outputs": [],
   "source": [
    "sql_string = \"\"\"\n",
    "SELECT cita.citaid as appointment_id\n",
    "\n",
    "FROM cita\n",
    "\n",
    "WHERE citafecha >= '2000-11-03'\n",
    "  AND citafecha <= '2021-01-01'\n",
    "\n",
    "ORDER BY\n",
    "    citafecha DESC\n",
    "\n",
    "LIMIT 10\n",
    "\n",
    ";\n",
    "\"\"\""
   ]
  },
  {
   "cell_type": "code",
   "execution_count": null,
   "id": "d6451fc8-c09d-4b42-9a45-a5ee9cdd8d2c",
   "metadata": {},
   "outputs": [],
   "source": [
    "dfx = sql_string_to_df(db_crds, sql_string)\n",
    "\n",
    "dfx.rename(\n",
    "    columns={\n",
    "        0: \"appointment_id\",\n",
    "    }, \n",
    "    inplace=True\n",
    ")"
   ]
  },
  {
   "cell_type": "markdown",
   "id": "4ba06b21-37fc-4a06-8c2b-7bfba813c2e9",
   "metadata": {
    "jp-MarkdownHeadingCollapsed": true
   },
   "source": [
    "### Number of total appointments"
   ]
  },
  {
   "cell_type": "code",
   "execution_count": null,
   "id": "5aab90a7-3cde-4468-86db-be8bf8be60f1",
   "metadata": {},
   "outputs": [],
   "source": [
    "mr1 = dfx['appointment_status_simplified'].isin(\n",
    "    [\n",
    "        'completed', \n",
    "    ]\n",
    ")\n",
    "# mr2 = dfx['appointment_date'].dt.weekday < 5 ## only weekdays\n",
    "mrs = mr1# & mr2\n",
    "\n",
    "rc = [\n",
    "    'appointment_id',\n",
    "    'appointment_date',\n",
    "    'clinic',\n",
    "    'doctor',\n",
    "    'medical_specialty',\n",
    "    'appointment_status_simplified',\n",
    "]"
   ]
  },
  {
   "cell_type": "code",
   "execution_count": null,
   "id": "1f87ff01-4647-460e-9cf3-663ab601796f",
   "metadata": {
    "scrolled": true
   },
   "outputs": [],
   "source": [
    "dfy = dfx.loc[mrs, rc].copy()"
   ]
  },
  {
   "cell_type": "code",
   "execution_count": null,
   "id": "0cdc9ac5-24b6-436e-b0b3-624499c51a57",
   "metadata": {
    "scrolled": true
   },
   "outputs": [],
   "source": [
    "dfy2 = dfy.groupby(\n",
    "    [\n",
    "        # pd.Grouper(key='appointment_date', freq='W'),\n",
    "        'appointment_date',\n",
    "        'clinic',\n",
    "    ],\n",
    "    as_index=False\n",
    ").agg(\n",
    "    {\n",
    "        'doctor': 'nunique'\n",
    "    }\n",
    ")\n",
    "\n",
    "dfy2[-25:]"
   ]
  },
  {
   "cell_type": "code",
   "execution_count": null,
   "id": "e3ba67f4-5e9b-497e-8261-f15b0e29b9c9",
   "metadata": {},
   "outputs": [],
   "source": [
    "dfy2.groupby(\n",
    "    [\n",
    "        pd.Grouper(key='appointment_date', freq='Y'),\n",
    "    ]\n",
    ").agg(\n",
    "    {\n",
    "        'appointment_status_simplified': 'mean'\n",
    "    }\n",
    ")"
   ]
  },
  {
   "cell_type": "code",
   "execution_count": null,
   "id": "b9643b4f-3aba-4d90-9d7b-69b379494dbd",
   "metadata": {},
   "outputs": [],
   "source": [
    "dfy = dfy.groupby(\n",
    "    [\n",
    "        'appointment_date',\n",
    "        'medical_specialty',\n",
    "        'appointment_status_simplified',\n",
    "    ],\n",
    "    as_index=False\n",
    ").agg(\n",
    "    {\n",
    "        'appointment_id': 'count',\n",
    "    }\n",
    ")\n",
    "\n",
    "dfy"
   ]
  },
  {
   "cell_type": "markdown",
   "id": "5bc037f4-72e6-4adf-94b6-bfa22ef896ef",
   "metadata": {},
   "source": [
    "### xxx"
   ]
  },
  {
   "cell_type": "markdown",
   "id": "cb20679a-0ba8-4b24-a9fe-59efd25110ac",
   "metadata": {},
   "source": [
    "---"
   ]
  },
  {
   "cell_type": "markdown",
   "id": "c64e3412-94ba-4d74-aa3a-f771441d83d9",
   "metadata": {},
   "source": [
    "---"
   ]
  }
 ],
 "metadata": {
  "kernelspec": {
   "display_name": "Python 3 (ipykernel)",
   "language": "python",
   "name": "python3"
  },
  "language_info": {
   "codemirror_mode": {
    "name": "ipython",
    "version": 3
   },
   "file_extension": ".py",
   "mimetype": "text/x-python",
   "name": "python",
   "nbconvert_exporter": "python",
   "pygments_lexer": "ipython3",
   "version": "3.9.1"
  }
 },
 "nbformat": 4,
 "nbformat_minor": 5
}
