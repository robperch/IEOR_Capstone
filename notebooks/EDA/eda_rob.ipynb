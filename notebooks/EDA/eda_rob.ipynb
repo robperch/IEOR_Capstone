{
 "cells": [
  {
   "cell_type": "markdown",
   "id": "b362e6fb-bbbb-4fe3-8093-ce5cb7011d38",
   "metadata": {},
   "source": [
    "# EDA | Problem exploration\n",
    "---\n",
    "---"
   ]
  },
  {
   "cell_type": "markdown",
   "id": "271b4d9f-7fb1-4277-869c-7e1f224c0214",
   "metadata": {},
   "source": [
    "# Imports"
   ]
  },
  {
   "cell_type": "markdown",
   "id": "64661518-3244-423d-9d0a-169f8cd5881a",
   "metadata": {},
   "source": [
    "#### Standard library imports"
   ]
  },
  {
   "cell_type": "code",
   "execution_count": 41,
   "id": "84e8892a-724d-4120-9271-2e6cfa8efff5",
   "metadata": {},
   "outputs": [],
   "source": [
    "import sys\n",
    "sys.path.append(\"../../\")"
   ]
  },
  {
   "cell_type": "markdown",
   "id": "eb79d938-3938-4b57-a6dd-67218b812f55",
   "metadata": {},
   "source": [
    "#### Third party imports"
   ]
  },
  {
   "cell_type": "code",
   "execution_count": 134,
   "id": "8779b474-7192-447e-949e-abc2ff159ba2",
   "metadata": {},
   "outputs": [],
   "source": [
    "import pandas as pd\n",
    "import seaborn as sns"
   ]
  },
  {
   "cell_type": "markdown",
   "id": "cacb339f-23dc-48ee-a599-b436d6dc7072",
   "metadata": {},
   "source": [
    "#### Local application imports"
   ]
  },
  {
   "cell_type": "code",
   "execution_count": 43,
   "id": "bee67dd7-757f-446b-8e4f-8b1099edf963",
   "metadata": {},
   "outputs": [
    {
     "name": "stdout",
     "output_type": "stream",
     "text": [
      "The autoreload extension is already loaded. To reload it, use:\n",
      "  %reload_ext autoreload\n"
     ]
    }
   ],
   "source": [
    "%load_ext autoreload\n",
    "%autoreload 2\n",
    "\n",
    "from pkg_dir.config import *\n",
    "from pkg_dir.src.utils import *\n",
    "from pkg_dir.src.functions import *\n",
    "from pkg_dir.src.parameters import *"
   ]
  },
  {
   "cell_type": "markdown",
   "id": "809f9334-3df5-425c-bf6b-8fba14fc922a",
   "metadata": {},
   "source": [
    "# Extracting data"
   ]
  },
  {
   "cell_type": "code",
   "execution_count": 92,
   "id": "1497b035-e9f8-4759-9dcd-45b9256749fc",
   "metadata": {
    "editable": true,
    "slideshow": {
     "slide_type": ""
    },
    "tags": []
   },
   "outputs": [],
   "source": [
    "## Function parameters\n",
    "db_crds = 'pc_db_prod'\n",
    "sql_files_path = '../../pkg_dir/sql/'\n",
    "sql_script = 'appointments.sql'\n",
    "sql_params = sql_params_appointments"
   ]
  },
  {
   "cell_type": "code",
   "execution_count": 93,
   "id": "565e4e0f-a627-47dc-9943-07549493da4b",
   "metadata": {
    "editable": true,
    "slideshow": {
     "slide_type": ""
    },
    "tags": []
   },
   "outputs": [],
   "source": [
    "dfx = sql_to_df(db_crds, sql_files_path, sql_script, sql_params)"
   ]
  },
  {
   "cell_type": "markdown",
   "id": "194cbb11-5bb2-4d20-be9d-c629b5040968",
   "metadata": {},
   "source": [
    "# Manipulating data"
   ]
  },
  {
   "cell_type": "code",
   "execution_count": 95,
   "id": "b152b32a-857b-4c04-b5be-ca188524a5f4",
   "metadata": {
    "editable": true,
    "slideshow": {
     "slide_type": ""
    },
    "tags": []
   },
   "outputs": [],
   "source": [
    "## Reference to simplify labels in appointment status\n",
    "values_map = {\n",
    "    \n",
    "    'COMPLETADA': 'completed',\n",
    "    'SALA_ESPERA': 'completed',\n",
    "    'CONSULTA': 'completed',\n",
    "    'CONFIRMADO_PAGO': 'completed',\n",
    "\n",
    "    'NO_PRESENTO': 'no_show',\n",
    "    'MENSAJE_DEJADO': 'no_show',\n",
    "    'NO_CONFIRMADO': 'no_show',\n",
    "    'CONFIRMADO': 'no_show',\n",
    "    'LLEGA_TARDE_ESPERA': 'no_show',\n",
    "    'REAGENDAR': 'no_show',\n",
    "    \n",
    "}"
   ]
  },
  {
   "cell_type": "code",
   "execution_count": 96,
   "id": "52574198-700e-49b0-9de8-61282efdffbd",
   "metadata": {},
   "outputs": [],
   "source": [
    "## Mapping values according to reference\n",
    "dfx['appointment_status_simple'] = dfx['appointment_status'].map(values_map).fillna(dfx['appointment_status'])"
   ]
  },
  {
   "cell_type": "markdown",
   "id": "6f383c7d-3e82-4d7d-918d-6ffaddc28611",
   "metadata": {},
   "source": [
    "# Solving questions"
   ]
  },
  {
   "cell_type": "markdown",
   "id": "4b019db3-5a01-4332-8a56-7142e80bad69",
   "metadata": {},
   "source": [
    "### What was the no-show rate in 2023?"
   ]
  },
  {
   "cell_type": "code",
   "execution_count": 97,
   "id": "ee410242-18d8-4205-9493-8aebb5bedfce",
   "metadata": {},
   "outputs": [
    {
     "data": {
      "text/plain": [
       "appointment_status_simple\n",
       "completed    138186\n",
       "no_show       25380\n",
       "Name: count, dtype: int64"
      ]
     },
     "execution_count": 97,
     "metadata": {},
     "output_type": "execute_result"
    }
   ],
   "source": [
    "dfx['appointment_status_simple'].value_counts()"
   ]
  },
  {
   "cell_type": "code",
   "execution_count": 98,
   "id": "383011f4-aef9-4841-a466-8edd241b8f12",
   "metadata": {
    "editable": true,
    "slideshow": {
     "slide_type": ""
    },
    "tags": []
   },
   "outputs": [
    {
     "data": {
      "text/plain": [
       "appointment_status_simple\n",
       "completed    0.844833\n",
       "no_show      0.155167\n",
       "Name: proportion, dtype: float64"
      ]
     },
     "execution_count": 98,
     "metadata": {},
     "output_type": "execute_result"
    }
   ],
   "source": [
    "dfx['appointment_status_simple'].value_counts(normalize=True)"
   ]
  },
  {
   "cell_type": "markdown",
   "id": "9ed1514f-fd3a-42f8-9f06-71852a7c3e7d",
   "metadata": {},
   "source": [
    "### No-show rate in 2023 segmented per clinic"
   ]
  },
  {
   "cell_type": "code",
   "execution_count": 158,
   "id": "6c69e2d4-94cc-4dde-af24-62376e28439c",
   "metadata": {},
   "outputs": [],
   "source": [
    "## Grouping data by clinic\n",
    "dfy = dfx.loc[:, ['appointment_id', 'appointment_status_simple', 'clinic']].groupby(\n",
    "    [\n",
    "        'clinic',\n",
    "        'appointment_status_simple',\n",
    "    ],\n",
    "    # as_index=False\n",
    ").agg(\n",
    "    {\n",
    "        'appointment_id': 'count'\n",
    "    }\n",
    ")\n",
    "\n",
    "## Renaming aggregate column\n",
    "dfy.rename(columns={'appointment_id': 'count'}, inplace=True)"
   ]
  },
  {
   "cell_type": "code",
   "execution_count": 159,
   "id": "1da55855-0775-45da-9b75-c4bed7658418",
   "metadata": {},
   "outputs": [],
   "source": [
    "## Adding new column with proportions per clinic\n",
    "dfy[\"proportion\"] = dfy['count']/dfy.groupby([\"clinic\"])[\"count\"].transform(\"sum\")"
   ]
  },
  {
   "cell_type": "code",
   "execution_count": 160,
   "id": "9370a79e-eb16-4585-9391-95b61d7b002e",
   "metadata": {},
   "outputs": [
    {
     "data": {
      "text/html": [
       "<div>\n",
       "<style scoped>\n",
       "    .dataframe tbody tr th:only-of-type {\n",
       "        vertical-align: middle;\n",
       "    }\n",
       "\n",
       "    .dataframe tbody tr th {\n",
       "        vertical-align: top;\n",
       "    }\n",
       "\n",
       "    .dataframe thead th {\n",
       "        text-align: right;\n",
       "    }\n",
       "</style>\n",
       "<table border=\"1\" class=\"dataframe\">\n",
       "  <thead>\n",
       "    <tr style=\"text-align: right;\">\n",
       "      <th></th>\n",
       "      <th></th>\n",
       "      <th>count</th>\n",
       "      <th>proportion</th>\n",
       "    </tr>\n",
       "    <tr>\n",
       "      <th>clinic</th>\n",
       "      <th>appointment_status_simple</th>\n",
       "      <th></th>\n",
       "      <th></th>\n",
       "    </tr>\n",
       "  </thead>\n",
       "  <tbody>\n",
       "    <tr>\n",
       "      <th rowspan=\"2\" valign=\"top\">BASILICA</th>\n",
       "      <th>completed</th>\n",
       "      <td>36186</td>\n",
       "      <td>0.821905</td>\n",
       "    </tr>\n",
       "    <tr>\n",
       "      <th>no_show</th>\n",
       "      <td>7841</td>\n",
       "      <td>0.178095</td>\n",
       "    </tr>\n",
       "    <tr>\n",
       "      <th rowspan=\"2\" valign=\"top\">COAPA</th>\n",
       "      <th>completed</th>\n",
       "      <td>31480</td>\n",
       "      <td>0.865929</td>\n",
       "    </tr>\n",
       "    <tr>\n",
       "      <th>no_show</th>\n",
       "      <td>4874</td>\n",
       "      <td>0.134071</td>\n",
       "    </tr>\n",
       "    <tr>\n",
       "      <th rowspan=\"2\" valign=\"top\">CUAJIMALPA</th>\n",
       "      <th>completed</th>\n",
       "      <td>12510</td>\n",
       "      <td>0.870200</td>\n",
       "    </tr>\n",
       "    <tr>\n",
       "      <th>no_show</th>\n",
       "      <td>1866</td>\n",
       "      <td>0.129800</td>\n",
       "    </tr>\n",
       "    <tr>\n",
       "      <th rowspan=\"2\" valign=\"top\">DEL VALLE</th>\n",
       "      <th>completed</th>\n",
       "      <td>5505</td>\n",
       "      <td>0.827820</td>\n",
       "    </tr>\n",
       "    <tr>\n",
       "      <th>no_show</th>\n",
       "      <td>1145</td>\n",
       "      <td>0.172180</td>\n",
       "    </tr>\n",
       "    <tr>\n",
       "      <th rowspan=\"2\" valign=\"top\">DOCTORES</th>\n",
       "      <th>completed</th>\n",
       "      <td>2170</td>\n",
       "      <td>0.826982</td>\n",
       "    </tr>\n",
       "    <tr>\n",
       "      <th>no_show</th>\n",
       "      <td>454</td>\n",
       "      <td>0.173018</td>\n",
       "    </tr>\n",
       "    <tr>\n",
       "      <th rowspan=\"2\" valign=\"top\">MARINA NACIONAL</th>\n",
       "      <th>completed</th>\n",
       "      <td>17939</td>\n",
       "      <td>0.845980</td>\n",
       "    </tr>\n",
       "    <tr>\n",
       "      <th>no_show</th>\n",
       "      <td>3266</td>\n",
       "      <td>0.154020</td>\n",
       "    </tr>\n",
       "    <tr>\n",
       "      <th rowspan=\"2\" valign=\"top\">MONTEVIDEO</th>\n",
       "      <th>completed</th>\n",
       "      <td>8182</td>\n",
       "      <td>0.867564</td>\n",
       "    </tr>\n",
       "    <tr>\n",
       "      <th>no_show</th>\n",
       "      <td>1249</td>\n",
       "      <td>0.132436</td>\n",
       "    </tr>\n",
       "    <tr>\n",
       "      <th rowspan=\"2\" valign=\"top\">TLALPAN</th>\n",
       "      <th>completed</th>\n",
       "      <td>24214</td>\n",
       "      <td>0.837884</td>\n",
       "    </tr>\n",
       "    <tr>\n",
       "      <th>no_show</th>\n",
       "      <td>4685</td>\n",
       "      <td>0.162116</td>\n",
       "    </tr>\n",
       "  </tbody>\n",
       "</table>\n",
       "</div>"
      ],
      "text/plain": [
       "                                           count  proportion\n",
       "clinic          appointment_status_simple                   \n",
       "BASILICA        completed                  36186    0.821905\n",
       "                no_show                     7841    0.178095\n",
       "COAPA           completed                  31480    0.865929\n",
       "                no_show                     4874    0.134071\n",
       "CUAJIMALPA      completed                  12510    0.870200\n",
       "                no_show                     1866    0.129800\n",
       "DEL VALLE       completed                   5505    0.827820\n",
       "                no_show                     1145    0.172180\n",
       "DOCTORES        completed                   2170    0.826982\n",
       "                no_show                      454    0.173018\n",
       "MARINA NACIONAL completed                  17939    0.845980\n",
       "                no_show                     3266    0.154020\n",
       "MONTEVIDEO      completed                   8182    0.867564\n",
       "                no_show                     1249    0.132436\n",
       "TLALPAN         completed                  24214    0.837884\n",
       "                no_show                     4685    0.162116"
      ]
     },
     "execution_count": 160,
     "metadata": {},
     "output_type": "execute_result"
    }
   ],
   "source": [
    "dfy"
   ]
  },
  {
   "cell_type": "code",
   "execution_count": 154,
   "id": "a914c046-e638-4b61-8e84-e5f0088bb419",
   "metadata": {},
   "outputs": [
    {
     "data": {
      "image/png": "[encoded data removed]",
      "text/plain": [
       "<Figure size 640x480 with 1 Axes>"
      ]
     },
     "metadata": {},
     "output_type": "display_data"
    }
   ],
   "source": [
    "plt = sns.barplot(\n",
    "    dfy, \n",
    "    x=\"clinic\", \n",
    "    y=\"count\", \n",
    "    hue=\"appointment_status_simple\", \n",
    "    )\n",
    "\n",
    "for item in plt.get_xticklabels():\n",
    "    item.set_rotation(45)"
   ]
  },
  {
   "cell_type": "markdown",
   "id": "9ec3ec3b-c900-4c78-b89e-d6294309dcc6",
   "metadata": {},
   "source": [
    "# Notes"
   ]
  },
  {
   "cell_type": "markdown",
   "id": "9832e587-f475-49f4-9a59-3c6967d8bd39",
   "metadata": {},
   "source": [
    "### Duplicated values"
   ]
  },
  {
   "cell_type": "code",
   "execution_count": 111,
   "id": "fe3a6eeb-7c44-4e47-814d-bfe04e8e161e",
   "metadata": {
    "scrolled": true
   },
   "outputs": [
    {
     "data": {
      "text/html": [
       "<div>\n",
       "<style scoped>\n",
       "    .dataframe tbody tr th:only-of-type {\n",
       "        vertical-align: middle;\n",
       "    }\n",
       "\n",
       "    .dataframe tbody tr th {\n",
       "        vertical-align: top;\n",
       "    }\n",
       "\n",
       "    .dataframe thead th {\n",
       "        text-align: right;\n",
       "    }\n",
       "</style>\n",
       "<table border=\"1\" class=\"dataframe\">\n",
       "  <thead>\n",
       "    <tr style=\"text-align: right;\">\n",
       "      <th></th>\n",
       "      <th>appointment_id</th>\n",
       "      <th>appointment_date</th>\n",
       "      <th>appointment_start_time</th>\n",
       "      <th>appointment_end_time</th>\n",
       "      <th>appointment_creation</th>\n",
       "      <th>appointment_status</th>\n",
       "      <th>doctor</th>\n",
       "      <th>medical_specialty</th>\n",
       "      <th>clinic</th>\n",
       "      <th>patient_id</th>\n",
       "      <th>patient_birth_date</th>\n",
       "      <th>appointment_status_simple</th>\n",
       "    </tr>\n",
       "  </thead>\n",
       "  <tbody>\n",
       "    <tr>\n",
       "      <th>123230</th>\n",
       "      <td>2021170937</td>\n",
       "      <td>2023-10-11</td>\n",
       "      <td>11:00</td>\n",
       "      <td>11:30</td>\n",
       "      <td>16/08/2021 10:19:03</td>\n",
       "      <td>MENSAJE_DEJADO</td>\n",
       "      <td>DRA KARLA NOEMI SALAZAR VILLEGAS</td>\n",
       "      <td>DERMATOLOGIA</td>\n",
       "      <td>BASILICA</td>\n",
       "      <td>94937</td>\n",
       "      <td>1999-02-03</td>\n",
       "      <td>no_show</td>\n",
       "    </tr>\n",
       "    <tr>\n",
       "      <th>113004</th>\n",
       "      <td>2021170937</td>\n",
       "      <td>2023-10-11</td>\n",
       "      <td>11:00</td>\n",
       "      <td>11:30</td>\n",
       "      <td>16/08/2021 10:19:03</td>\n",
       "      <td>MENSAJE_DEJADO</td>\n",
       "      <td>DRA KARLA NOEMI SALAZAR VILLEGAS</td>\n",
       "      <td>DERMATOLOGIA</td>\n",
       "      <td>BASILICA</td>\n",
       "      <td>94937</td>\n",
       "      <td>1999-02-03</td>\n",
       "      <td>no_show</td>\n",
       "    </tr>\n",
       "    <tr>\n",
       "      <th>14162</th>\n",
       "      <td>2023000300922</td>\n",
       "      <td>2023-07-31</td>\n",
       "      <td>19:30</td>\n",
       "      <td>20:00</td>\n",
       "      <td>30/07/2023 09:02:21</td>\n",
       "      <td>COMPLETADA</td>\n",
       "      <td>DRA SANDRA XOCHIQUETZAL  CRUZ ORDOÑEZ</td>\n",
       "      <td>UROLOGIA</td>\n",
       "      <td>BASILICA</td>\n",
       "      <td>165429</td>\n",
       "      <td>1969-01-06</td>\n",
       "      <td>completed</td>\n",
       "    </tr>\n",
       "    <tr>\n",
       "      <th>14038</th>\n",
       "      <td>2023000300922</td>\n",
       "      <td>2023-07-31</td>\n",
       "      <td>19:30</td>\n",
       "      <td>20:00</td>\n",
       "      <td>27/07/2023 10:16:46</td>\n",
       "      <td>COMPLETADA</td>\n",
       "      <td>DRA SANDRA XOCHIQUETZAL  CRUZ ORDOÑEZ</td>\n",
       "      <td>UROLOGIA</td>\n",
       "      <td>BASILICA</td>\n",
       "      <td>165429</td>\n",
       "      <td>1969-01-06</td>\n",
       "      <td>completed</td>\n",
       "    </tr>\n",
       "    <tr>\n",
       "      <th>141860</th>\n",
       "      <td>2023000300993</td>\n",
       "      <td>2023-09-18</td>\n",
       "      <td>16:30</td>\n",
       "      <td>17:00</td>\n",
       "      <td>16/09/2023 13:16:36</td>\n",
       "      <td>COMPLETADA</td>\n",
       "      <td>DRA SANDRA XOCHIQUETZAL  CRUZ ORDOÑEZ</td>\n",
       "      <td>UROLOGIA</td>\n",
       "      <td>BASILICA</td>\n",
       "      <td>255714</td>\n",
       "      <td>1997-06-27</td>\n",
       "      <td>completed</td>\n",
       "    </tr>\n",
       "    <tr>\n",
       "      <th>...</th>\n",
       "      <td>...</td>\n",
       "      <td>...</td>\n",
       "      <td>...</td>\n",
       "      <td>...</td>\n",
       "      <td>...</td>\n",
       "      <td>...</td>\n",
       "      <td>...</td>\n",
       "      <td>...</td>\n",
       "      <td>...</td>\n",
       "      <td>...</td>\n",
       "      <td>...</td>\n",
       "      <td>...</td>\n",
       "    </tr>\n",
       "    <tr>\n",
       "      <th>56492</th>\n",
       "      <td>2023138378</td>\n",
       "      <td>2023-12-22</td>\n",
       "      <td>08:30</td>\n",
       "      <td>09:00</td>\n",
       "      <td>21/12/2023 12:01:29</td>\n",
       "      <td>COMPLETADA</td>\n",
       "      <td>DR. Hector Javier Sotelo  Reyna</td>\n",
       "      <td>NEUMOLOGIA</td>\n",
       "      <td>BASILICA</td>\n",
       "      <td>282656</td>\n",
       "      <td>1990-03-08</td>\n",
       "      <td>completed</td>\n",
       "    </tr>\n",
       "    <tr>\n",
       "      <th>40371</th>\n",
       "      <td>2023144492</td>\n",
       "      <td>2023-12-22</td>\n",
       "      <td>12:00</td>\n",
       "      <td>12:30</td>\n",
       "      <td>17/12/2023 15:27:12</td>\n",
       "      <td>COMPLETADA</td>\n",
       "      <td>DR. DANIEL GEOVANI VASQUEZ LOPEZ</td>\n",
       "      <td>REUMATOLOGIA</td>\n",
       "      <td>BASILICA</td>\n",
       "      <td>243929</td>\n",
       "      <td>1960-03-17</td>\n",
       "      <td>completed</td>\n",
       "    </tr>\n",
       "    <tr>\n",
       "      <th>40518</th>\n",
       "      <td>2023144492</td>\n",
       "      <td>2023-12-22</td>\n",
       "      <td>12:00</td>\n",
       "      <td>12:30</td>\n",
       "      <td>21/12/2023 11:58:45</td>\n",
       "      <td>COMPLETADA</td>\n",
       "      <td>DR. DANIEL GEOVANI VASQUEZ LOPEZ</td>\n",
       "      <td>REUMATOLOGIA</td>\n",
       "      <td>BASILICA</td>\n",
       "      <td>243929</td>\n",
       "      <td>1960-03-17</td>\n",
       "      <td>completed</td>\n",
       "    </tr>\n",
       "    <tr>\n",
       "      <th>119738</th>\n",
       "      <td>2023144498</td>\n",
       "      <td>2023-12-22</td>\n",
       "      <td>11:00</td>\n",
       "      <td>11:30</td>\n",
       "      <td>21/12/2023 11:57:58</td>\n",
       "      <td>COMPLETADA</td>\n",
       "      <td>DR. DANIEL GEOVANI VASQUEZ LOPEZ</td>\n",
       "      <td>REUMATOLOGIA</td>\n",
       "      <td>BASILICA</td>\n",
       "      <td>282769</td>\n",
       "      <td>1967-11-18</td>\n",
       "      <td>completed</td>\n",
       "    </tr>\n",
       "    <tr>\n",
       "      <th>119703</th>\n",
       "      <td>2023144498</td>\n",
       "      <td>2023-12-22</td>\n",
       "      <td>11:00</td>\n",
       "      <td>11:30</td>\n",
       "      <td>19/12/2023 18:14:49</td>\n",
       "      <td>COMPLETADA</td>\n",
       "      <td>DR. DANIEL GEOVANI VASQUEZ LOPEZ</td>\n",
       "      <td>REUMATOLOGIA</td>\n",
       "      <td>BASILICA</td>\n",
       "      <td>282769</td>\n",
       "      <td>1967-11-18</td>\n",
       "      <td>completed</td>\n",
       "    </tr>\n",
       "  </tbody>\n",
       "</table>\n",
       "<p>392 rows × 12 columns</p>\n",
       "</div>"
      ],
      "text/plain": [
       "         appointment_id appointment_date appointment_start_time  \\\n",
       "123230  2021170937            2023-10-11                  11:00   \n",
       "113004  2021170937            2023-10-11                  11:00   \n",
       "14162   2023000300922         2023-07-31                  19:30   \n",
       "14038   2023000300922         2023-07-31                  19:30   \n",
       "141860  2023000300993         2023-09-18                  16:30   \n",
       "...                 ...              ...                    ...   \n",
       "56492   2023138378            2023-12-22                  08:30   \n",
       "40371   2023144492            2023-12-22                  12:00   \n",
       "40518   2023144492            2023-12-22                  12:00   \n",
       "119738  2023144498            2023-12-22                  11:00   \n",
       "119703  2023144498            2023-12-22                  11:00   \n",
       "\n",
       "       appointment_end_time appointment_creation appointment_status  \\\n",
       "123230                11:30  16/08/2021 10:19:03     MENSAJE_DEJADO   \n",
       "113004                11:30  16/08/2021 10:19:03     MENSAJE_DEJADO   \n",
       "14162                 20:00  30/07/2023 09:02:21         COMPLETADA   \n",
       "14038                 20:00  27/07/2023 10:16:46         COMPLETADA   \n",
       "141860                17:00  16/09/2023 13:16:36         COMPLETADA   \n",
       "...                     ...                  ...                ...   \n",
       "56492                 09:00  21/12/2023 12:01:29         COMPLETADA   \n",
       "40371                 12:30  17/12/2023 15:27:12         COMPLETADA   \n",
       "40518                 12:30  21/12/2023 11:58:45         COMPLETADA   \n",
       "119738                11:30  21/12/2023 11:57:58         COMPLETADA   \n",
       "119703                11:30  19/12/2023 18:14:49         COMPLETADA   \n",
       "\n",
       "                                       doctor medical_specialty    clinic  \\\n",
       "123230       DRA KARLA NOEMI SALAZAR VILLEGAS      DERMATOLOGIA  BASILICA   \n",
       "113004       DRA KARLA NOEMI SALAZAR VILLEGAS      DERMATOLOGIA  BASILICA   \n",
       "14162   DRA SANDRA XOCHIQUETZAL  CRUZ ORDOÑEZ          UROLOGIA  BASILICA   \n",
       "14038   DRA SANDRA XOCHIQUETZAL  CRUZ ORDOÑEZ          UROLOGIA  BASILICA   \n",
       "141860  DRA SANDRA XOCHIQUETZAL  CRUZ ORDOÑEZ          UROLOGIA  BASILICA   \n",
       "...                                       ...               ...       ...   \n",
       "56492         DR. Hector Javier Sotelo  Reyna        NEUMOLOGIA  BASILICA   \n",
       "40371        DR. DANIEL GEOVANI VASQUEZ LOPEZ      REUMATOLOGIA  BASILICA   \n",
       "40518        DR. DANIEL GEOVANI VASQUEZ LOPEZ      REUMATOLOGIA  BASILICA   \n",
       "119738       DR. DANIEL GEOVANI VASQUEZ LOPEZ      REUMATOLOGIA  BASILICA   \n",
       "119703       DR. DANIEL GEOVANI VASQUEZ LOPEZ      REUMATOLOGIA  BASILICA   \n",
       "\n",
       "        patient_id patient_birth_date appointment_status_simple  \n",
       "123230       94937         1999-02-03                   no_show  \n",
       "113004       94937         1999-02-03                   no_show  \n",
       "14162       165429         1969-01-06                 completed  \n",
       "14038       165429         1969-01-06                 completed  \n",
       "141860      255714         1997-06-27                 completed  \n",
       "...            ...                ...                       ...  \n",
       "56492       282656         1990-03-08                 completed  \n",
       "40371       243929         1960-03-17                 completed  \n",
       "40518       243929         1960-03-17                 completed  \n",
       "119738      282769         1967-11-18                 completed  \n",
       "119703      282769         1967-11-18                 completed  \n",
       "\n",
       "[392 rows x 12 columns]"
      ]
     },
     "execution_count": 111,
     "metadata": {},
     "output_type": "execute_result"
    }
   ],
   "source": [
    "dfx.loc[dfx[['appointment_id']].duplicated(keep=False), :].sort_values('appointment_id')"
   ]
  },
  {
   "cell_type": "markdown",
   "id": "cb20679a-0ba8-4b24-a9fe-59efd25110ac",
   "metadata": {},
   "source": [
    "---"
   ]
  },
  {
   "cell_type": "markdown",
   "id": "c64e3412-94ba-4d74-aa3a-f771441d83d9",
   "metadata": {},
   "source": [
    "---"
   ]
  }
 ],
 "metadata": {
  "kernelspec": {
   "display_name": "Python 3 (ipykernel)",
   "language": "python",
   "name": "python3"
  },
  "language_info": {
   "codemirror_mode": {
    "name": "ipython",
    "version": 3
   },
   "file_extension": ".py",
   "mimetype": "text/x-python",
   "name": "python",
   "nbconvert_exporter": "python",
   "pygments_lexer": "ipython3",
   "version": "3.9.1"
  }
 },
 "nbformat": 4,
 "nbformat_minor": 5
}
