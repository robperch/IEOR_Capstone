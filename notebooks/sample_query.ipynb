{
 "cells": [
  {
   "cell_type": "markdown",
   "id": "35c497e2-af13-42ed-8b2c-7d8a49219b01",
   "metadata": {},
   "source": [
    "# Sample notebook\n",
    "- Query database to get dataframe"
   ]
  },
  {
   "cell_type": "markdown",
   "id": "da37d8e3-73c3-4a1c-b7f1-dceb9c530a83",
   "metadata": {},
   "source": [
    "# Imports"
   ]
  },
  {
   "cell_type": "markdown",
   "id": "8d37d7ea-b706-4f9d-b319-1bd1ed069d58",
   "metadata": {},
   "source": [
    "#### Standard library imports"
   ]
  },
  {
   "cell_type": "code",
   "execution_count": 3,
   "id": "84e8892a-724d-4120-9271-2e6cfa8efff5",
   "metadata": {},
   "outputs": [],
   "source": [
    "import sys\n",
    "sys.path.append(\"../\")"
   ]
  },
  {
   "cell_type": "markdown",
   "id": "7348864b-bb50-4ca4-8e00-126e062729a0",
   "metadata": {},
   "source": [
    "#### Third party imports"
   ]
  },
  {
   "cell_type": "code",
   "execution_count": 1,
   "id": "8779b474-7192-447e-949e-abc2ff159ba2",
   "metadata": {},
   "outputs": [],
   "source": [
    "import pandas as pd"
   ]
  },
  {
   "cell_type": "markdown",
   "id": "83b0c51b-8dc2-44d4-a3e9-a9f699cc4f3d",
   "metadata": {},
   "source": [
    "#### Local application imports"
   ]
  },
  {
   "cell_type": "code",
   "execution_count": 12,
   "id": "bee67dd7-757f-446b-8e4f-8b1099edf963",
   "metadata": {},
   "outputs": [
    {
     "name": "stdout",
     "output_type": "stream",
     "text": [
      "The autoreload extension is already loaded. To reload it, use:\n",
      "  %reload_ext autoreload\n"
     ]
    }
   ],
   "source": [
    "%load_ext autoreload\n",
    "%autoreload 2\n",
    "\n",
    "from pkg_dir.config import *\n",
    "from pkg_dir.src.utils import *\n",
    "from pkg_dir.src.functions import *\n",
    "from pkg_dir.src.parameters import *"
   ]
  },
  {
   "cell_type": "markdown",
   "id": "19c617e9-bfb5-443a-bddf-df28cb895a35",
   "metadata": {},
   "source": [
    "# Query"
   ]
  },
  {
   "cell_type": "code",
   "execution_count": 30,
   "id": "4c1cbc71-5557-487a-82a1-bd172e9af976",
   "metadata": {},
   "outputs": [],
   "source": [
    "## Function parameters\n",
    "db_crds = 'pc_db_prod'\n",
    "sql_files_path = '../pkg_dir/sql/'\n",
    "sql_script = 'services_list.sql'\n",
    "sql_params = {\n",
    "    'params': {},\n",
    "    'colnames' : {}\n",
    "}"
   ]
  },
  {
   "cell_type": "code",
   "execution_count": 31,
   "id": "ed2eb8ed-aa4c-4d1e-b5df-88b2d6a1f1be",
   "metadata": {},
   "outputs": [
    {
     "data": {
      "text/html": [
       "<div>\n",
       "<style scoped>\n",
       "    .dataframe tbody tr th:only-of-type {\n",
       "        vertical-align: middle;\n",
       "    }\n",
       "\n",
       "    .dataframe tbody tr th {\n",
       "        vertical-align: top;\n",
       "    }\n",
       "\n",
       "    .dataframe thead th {\n",
       "        text-align: right;\n",
       "    }\n",
       "</style>\n",
       "<table border=\"1\" class=\"dataframe\">\n",
       "  <thead>\n",
       "    <tr style=\"text-align: right;\">\n",
       "      <th></th>\n",
       "      <th>0</th>\n",
       "      <th>1</th>\n",
       "      <th>2</th>\n",
       "      <th>3</th>\n",
       "      <th>4</th>\n",
       "    </tr>\n",
       "  </thead>\n",
       "  <tbody>\n",
       "    <tr>\n",
       "      <th>0</th>\n",
       "      <td>SERVICIOS</td>\n",
       "      <td>PROCEDIMIENTO</td>\n",
       "      <td>1265</td>\n",
       "      <td>23</td>\n",
       "      <td>ESCLEROTERAPIA POR SECION</td>\n",
       "    </tr>\n",
       "    <tr>\n",
       "      <th>1</th>\n",
       "      <td>LABORATORIOS</td>\n",
       "      <td>LABORATORIO</td>\n",
       "      <td>1266</td>\n",
       "      <td>15131</td>\n",
       "      <td>CULTIVO DE HONGOS EN PIEL</td>\n",
       "    </tr>\n",
       "    <tr>\n",
       "      <th>2</th>\n",
       "      <td>LABORATORIOS</td>\n",
       "      <td>REFERENCIA</td>\n",
       "      <td>1267</td>\n",
       "      <td>8008</td>\n",
       "      <td>RX DE CODO</td>\n",
       "    </tr>\n",
       "    <tr>\n",
       "      <th>3</th>\n",
       "      <td>LABORATORIOS</td>\n",
       "      <td>REFERENCIA</td>\n",
       "      <td>1268</td>\n",
       "      <td>8009</td>\n",
       "      <td>RX DE CODO BILATERAL</td>\n",
       "    </tr>\n",
       "    <tr>\n",
       "      <th>4</th>\n",
       "      <td>LABORATORIOS</td>\n",
       "      <td>REFERENCIA</td>\n",
       "      <td>1269</td>\n",
       "      <td>8039</td>\n",
       "      <td>RX DE COLUMNA LUMBOSACRA AP, LATERAL, OBLICUAS...</td>\n",
       "    </tr>\n",
       "    <tr>\n",
       "      <th>...</th>\n",
       "      <td>...</td>\n",
       "      <td>...</td>\n",
       "      <td>...</td>\n",
       "      <td>...</td>\n",
       "      <td>...</td>\n",
       "    </tr>\n",
       "    <tr>\n",
       "      <th>1239</th>\n",
       "      <td>LABORATORIOS</td>\n",
       "      <td>REFERENCIA</td>\n",
       "      <td>602</td>\n",
       "      <td>10029</td>\n",
       "      <td>TOMOGRAFIA A.C. DE TORAX / PULMON</td>\n",
       "    </tr>\n",
       "    <tr>\n",
       "      <th>1240</th>\n",
       "      <td>LABORATORIOS</td>\n",
       "      <td>REFERENCIA</td>\n",
       "      <td>603</td>\n",
       "      <td>10031</td>\n",
       "      <td>TOMOGRAFIA A.C. DE / COLUMNA LUMBAR</td>\n",
       "    </tr>\n",
       "    <tr>\n",
       "      <th>1241</th>\n",
       "      <td>LABORATORIOS</td>\n",
       "      <td>REFERENCIA</td>\n",
       "      <td>604</td>\n",
       "      <td>10185</td>\n",
       "      <td>TOMOGRAFIA A.C. ABDOMEN / COMPLETO SIMPLE</td>\n",
       "    </tr>\n",
       "    <tr>\n",
       "      <th>1242</th>\n",
       "      <td>LABORATORIOS</td>\n",
       "      <td>REFERENCIA</td>\n",
       "      <td>607</td>\n",
       "      <td>13008</td>\n",
       "      <td>RESONANCIA MAGNETICA DE COLUMNA DORSAL</td>\n",
       "    </tr>\n",
       "    <tr>\n",
       "      <th>1243</th>\n",
       "      <td>LABORATORIOS</td>\n",
       "      <td>LABORATORIO</td>\n",
       "      <td>625</td>\n",
       "      <td>25174</td>\n",
       "      <td>EXCLUSION DE PATERNIDAD PARA 2 PERSONAS</td>\n",
       "    </tr>\n",
       "  </tbody>\n",
       "</table>\n",
       "<p>1244 rows × 5 columns</p>\n",
       "</div>"
      ],
      "text/plain": [
       "                 0              1     2      3  \\\n",
       "0        SERVICIOS  PROCEDIMIENTO  1265     23   \n",
       "1     LABORATORIOS    LABORATORIO  1266  15131   \n",
       "2     LABORATORIOS     REFERENCIA  1267   8008   \n",
       "3     LABORATORIOS     REFERENCIA  1268   8009   \n",
       "4     LABORATORIOS     REFERENCIA  1269   8039   \n",
       "...            ...            ...   ...    ...   \n",
       "1239  LABORATORIOS     REFERENCIA   602  10029   \n",
       "1240  LABORATORIOS     REFERENCIA   603  10031   \n",
       "1241  LABORATORIOS     REFERENCIA   604  10185   \n",
       "1242  LABORATORIOS     REFERENCIA   607  13008   \n",
       "1243  LABORATORIOS    LABORATORIO   625  25174   \n",
       "\n",
       "                                                      4  \n",
       "0                            ESCLEROTERAPIA POR SECION   \n",
       "1                             CULTIVO DE HONGOS EN PIEL  \n",
       "2                                            RX DE CODO  \n",
       "3                                  RX DE CODO BILATERAL  \n",
       "4     RX DE COLUMNA LUMBOSACRA AP, LATERAL, OBLICUAS...  \n",
       "...                                                 ...  \n",
       "1239                  TOMOGRAFIA A.C. DE TORAX / PULMON  \n",
       "1240                TOMOGRAFIA A.C. DE / COLUMNA LUMBAR  \n",
       "1241          TOMOGRAFIA A.C. ABDOMEN / COMPLETO SIMPLE  \n",
       "1242             RESONANCIA MAGNETICA DE COLUMNA DORSAL  \n",
       "1243            EXCLUSION DE PATERNIDAD PARA 2 PERSONAS  \n",
       "\n",
       "[1244 rows x 5 columns]"
      ]
     },
     "execution_count": 31,
     "metadata": {},
     "output_type": "execute_result"
    }
   ],
   "source": [
    "sql_to_df(db_crds, sql_files_path, sql_script, sql_params)"
   ]
  },
  {
   "cell_type": "code",
   "execution_count": null,
   "id": "3d063ec4-d838-4dd0-a549-9a45ad3d6675",
   "metadata": {},
   "outputs": [],
   "source": []
  }
 ],
 "metadata": {
  "kernelspec": {
   "display_name": "Python 3 (ipykernel)",
   "language": "python",
   "name": "python3"
  },
  "language_info": {
   "codemirror_mode": {
    "name": "ipython",
    "version": 3
   },
   "file_extension": ".py",
   "mimetype": "text/x-python",
   "name": "python",
   "nbconvert_exporter": "python",
   "pygments_lexer": "ipython3",
   "version": "3.9.1"
  }
 },
 "nbformat": 4,
 "nbformat_minor": 5
}
